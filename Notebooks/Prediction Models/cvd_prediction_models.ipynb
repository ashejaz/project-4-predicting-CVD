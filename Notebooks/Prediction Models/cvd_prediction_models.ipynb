{
  "nbformat": 4,
  "nbformat_minor": 0,
  "metadata": {
    "colab": {
      "provenance": []
    },
    "kernelspec": {
      "name": "python3",
      "display_name": "Python 3"
    },
    "language_info": {
      "name": "python"
    }
  },
  "cells": [
    {
      "cell_type": "code",
      "execution_count": null,
      "metadata": {
        "id": "ZUt2FGw-SaBI"
      },
      "outputs": [],
      "source": [
        "# Import dependencies\n",
        "import pandas as pd\n",
        "import tensorflow as tf\n",
        "import numpy as np\n",
        "import seaborn as sns\n",
        "import matplotlib.pyplot as plt\n",
        "import plotly.graph_objs as go\n",
        "\n",
        "from sklearn.preprocessing import StandardScaler\n",
        "from sklearn.model_selection import train_test_split\n",
        "from imblearn.over_sampling import RandomOverSampler\n",
        "from sklearn.linear_model import LogisticRegression\n",
        "from sklearn.svm import SVC\n",
        "from sklearn.metrics import confusion_matrix, accuracy_score, classification_report\n",
        "from sklearn import tree\n",
        "from sklearn.tree import DecisionTreeClassifier\n",
        "from sklearn.ensemble import RandomForestClassifier\n",
        "from sklearn.model_selection import train_test_split, GridSearchCV\n",
        "from google.colab import files"
      ]
    },
    {
      "cell_type": "code",
      "source": [
        "# Read in the cardiovascular dataset from Google Sheets\n",
        "cvd_df = pd.read_csv(\"https://docs.google.com/spreadsheets/d/e/2PACX-1vSDchXr1EhgCSsxlxJ3lWPhh1kT5EJS3yv4DJ2YLeMIC3y4uq-Pp4EQknrs9zAiaI3ulne2Jyi6gR6G/pub?gid=602879552&single=true&output=csv\")\n",
        "cvd_df.head()"
      ],
      "metadata": {
        "colab": {
          "base_uri": "https://localhost:8080/",
          "height": 206
        },
        "id": "fkEDEOvoTOwN",
        "outputId": "84444c76-22c8-4659-cd79-05f0b19497b6"
      },
      "execution_count": null,
      "outputs": [
        {
          "output_type": "execute_result",
          "data": {
            "text/plain": [
              "  general_health                  checkup exercise heart_disease skin_cancer  \\\n",
              "0           Poor  Within the past 2 years       No            No          No   \n",
              "1      Very Good     Within the past year       No           Yes          No   \n",
              "2      Very Good     Within the past year      Yes            No          No   \n",
              "3           Poor     Within the past year      Yes           Yes          No   \n",
              "4           Good     Within the past year       No            No          No   \n",
              "\n",
              "  other_cancer depression diabetes arthritis     sex age_category  height_cm  \\\n",
              "0           No         No       No       Yes  Female        70-74        150   \n",
              "1           No         No      Yes        No  Female        70-74        165   \n",
              "2           No         No      Yes        No  Female        60-64        163   \n",
              "3           No         No      Yes        No    Male        75-79        180   \n",
              "4           No         No       No        No    Male          80+        191   \n",
              "\n",
              "   weight_kg    bmi smoking_history  alcohol_consumption  fruit_consumption  \\\n",
              "0      32.66  14.54             Yes                    0                 30   \n",
              "1      77.11  28.29              No                    0                 30   \n",
              "2      88.45  33.47              No                    4                 12   \n",
              "3      93.44  28.73              No                    0                 30   \n",
              "4      88.45  24.37             Yes                    0                  8   \n",
              "\n",
              "   green_vegetables_consumption  friedpotato_consumption  \n",
              "0                            16                       12  \n",
              "1                             0                        4  \n",
              "2                             3                       16  \n",
              "3                            30                        8  \n",
              "4                             4                        0  "
            ],
            "text/html": [
              "\n",
              "  <div id=\"df-4b4e5775-f417-4c31-9fbb-386d4a53a1df\" class=\"colab-df-container\">\n",
              "    <div>\n",
              "<style scoped>\n",
              "    .dataframe tbody tr th:only-of-type {\n",
              "        vertical-align: middle;\n",
              "    }\n",
              "\n",
              "    .dataframe tbody tr th {\n",
              "        vertical-align: top;\n",
              "    }\n",
              "\n",
              "    .dataframe thead th {\n",
              "        text-align: right;\n",
              "    }\n",
              "</style>\n",
              "<table border=\"1\" class=\"dataframe\">\n",
              "  <thead>\n",
              "    <tr style=\"text-align: right;\">\n",
              "      <th></th>\n",
              "      <th>general_health</th>\n",
              "      <th>checkup</th>\n",
              "      <th>exercise</th>\n",
              "      <th>heart_disease</th>\n",
              "      <th>skin_cancer</th>\n",
              "      <th>other_cancer</th>\n",
              "      <th>depression</th>\n",
              "      <th>diabetes</th>\n",
              "      <th>arthritis</th>\n",
              "      <th>sex</th>\n",
              "      <th>age_category</th>\n",
              "      <th>height_cm</th>\n",
              "      <th>weight_kg</th>\n",
              "      <th>bmi</th>\n",
              "      <th>smoking_history</th>\n",
              "      <th>alcohol_consumption</th>\n",
              "      <th>fruit_consumption</th>\n",
              "      <th>green_vegetables_consumption</th>\n",
              "      <th>friedpotato_consumption</th>\n",
              "    </tr>\n",
              "  </thead>\n",
              "  <tbody>\n",
              "    <tr>\n",
              "      <th>0</th>\n",
              "      <td>Poor</td>\n",
              "      <td>Within the past 2 years</td>\n",
              "      <td>No</td>\n",
              "      <td>No</td>\n",
              "      <td>No</td>\n",
              "      <td>No</td>\n",
              "      <td>No</td>\n",
              "      <td>No</td>\n",
              "      <td>Yes</td>\n",
              "      <td>Female</td>\n",
              "      <td>70-74</td>\n",
              "      <td>150</td>\n",
              "      <td>32.66</td>\n",
              "      <td>14.54</td>\n",
              "      <td>Yes</td>\n",
              "      <td>0</td>\n",
              "      <td>30</td>\n",
              "      <td>16</td>\n",
              "      <td>12</td>\n",
              "    </tr>\n",
              "    <tr>\n",
              "      <th>1</th>\n",
              "      <td>Very Good</td>\n",
              "      <td>Within the past year</td>\n",
              "      <td>No</td>\n",
              "      <td>Yes</td>\n",
              "      <td>No</td>\n",
              "      <td>No</td>\n",
              "      <td>No</td>\n",
              "      <td>Yes</td>\n",
              "      <td>No</td>\n",
              "      <td>Female</td>\n",
              "      <td>70-74</td>\n",
              "      <td>165</td>\n",
              "      <td>77.11</td>\n",
              "      <td>28.29</td>\n",
              "      <td>No</td>\n",
              "      <td>0</td>\n",
              "      <td>30</td>\n",
              "      <td>0</td>\n",
              "      <td>4</td>\n",
              "    </tr>\n",
              "    <tr>\n",
              "      <th>2</th>\n",
              "      <td>Very Good</td>\n",
              "      <td>Within the past year</td>\n",
              "      <td>Yes</td>\n",
              "      <td>No</td>\n",
              "      <td>No</td>\n",
              "      <td>No</td>\n",
              "      <td>No</td>\n",
              "      <td>Yes</td>\n",
              "      <td>No</td>\n",
              "      <td>Female</td>\n",
              "      <td>60-64</td>\n",
              "      <td>163</td>\n",
              "      <td>88.45</td>\n",
              "      <td>33.47</td>\n",
              "      <td>No</td>\n",
              "      <td>4</td>\n",
              "      <td>12</td>\n",
              "      <td>3</td>\n",
              "      <td>16</td>\n",
              "    </tr>\n",
              "    <tr>\n",
              "      <th>3</th>\n",
              "      <td>Poor</td>\n",
              "      <td>Within the past year</td>\n",
              "      <td>Yes</td>\n",
              "      <td>Yes</td>\n",
              "      <td>No</td>\n",
              "      <td>No</td>\n",
              "      <td>No</td>\n",
              "      <td>Yes</td>\n",
              "      <td>No</td>\n",
              "      <td>Male</td>\n",
              "      <td>75-79</td>\n",
              "      <td>180</td>\n",
              "      <td>93.44</td>\n",
              "      <td>28.73</td>\n",
              "      <td>No</td>\n",
              "      <td>0</td>\n",
              "      <td>30</td>\n",
              "      <td>30</td>\n",
              "      <td>8</td>\n",
              "    </tr>\n",
              "    <tr>\n",
              "      <th>4</th>\n",
              "      <td>Good</td>\n",
              "      <td>Within the past year</td>\n",
              "      <td>No</td>\n",
              "      <td>No</td>\n",
              "      <td>No</td>\n",
              "      <td>No</td>\n",
              "      <td>No</td>\n",
              "      <td>No</td>\n",
              "      <td>No</td>\n",
              "      <td>Male</td>\n",
              "      <td>80+</td>\n",
              "      <td>191</td>\n",
              "      <td>88.45</td>\n",
              "      <td>24.37</td>\n",
              "      <td>Yes</td>\n",
              "      <td>0</td>\n",
              "      <td>8</td>\n",
              "      <td>4</td>\n",
              "      <td>0</td>\n",
              "    </tr>\n",
              "  </tbody>\n",
              "</table>\n",
              "</div>\n",
              "    <div class=\"colab-df-buttons\">\n",
              "\n",
              "  <div class=\"colab-df-container\">\n",
              "    <button class=\"colab-df-convert\" onclick=\"convertToInteractive('df-4b4e5775-f417-4c31-9fbb-386d4a53a1df')\"\n",
              "            title=\"Convert this dataframe to an interactive table.\"\n",
              "            style=\"display:none;\">\n",
              "\n",
              "  <svg xmlns=\"http://www.w3.org/2000/svg\" height=\"24px\" viewBox=\"0 -960 960 960\">\n",
              "    <path d=\"M120-120v-720h720v720H120Zm60-500h600v-160H180v160Zm220 220h160v-160H400v160Zm0 220h160v-160H400v160ZM180-400h160v-160H180v160Zm440 0h160v-160H620v160ZM180-180h160v-160H180v160Zm440 0h160v-160H620v160Z\"/>\n",
              "  </svg>\n",
              "    </button>\n",
              "\n",
              "  <style>\n",
              "    .colab-df-container {\n",
              "      display:flex;\n",
              "      gap: 12px;\n",
              "    }\n",
              "\n",
              "    .colab-df-convert {\n",
              "      background-color: #E8F0FE;\n",
              "      border: none;\n",
              "      border-radius: 50%;\n",
              "      cursor: pointer;\n",
              "      display: none;\n",
              "      fill: #1967D2;\n",
              "      height: 32px;\n",
              "      padding: 0 0 0 0;\n",
              "      width: 32px;\n",
              "    }\n",
              "\n",
              "    .colab-df-convert:hover {\n",
              "      background-color: #E2EBFA;\n",
              "      box-shadow: 0px 1px 2px rgba(60, 64, 67, 0.3), 0px 1px 3px 1px rgba(60, 64, 67, 0.15);\n",
              "      fill: #174EA6;\n",
              "    }\n",
              "\n",
              "    .colab-df-buttons div {\n",
              "      margin-bottom: 4px;\n",
              "    }\n",
              "\n",
              "    [theme=dark] .colab-df-convert {\n",
              "      background-color: #3B4455;\n",
              "      fill: #D2E3FC;\n",
              "    }\n",
              "\n",
              "    [theme=dark] .colab-df-convert:hover {\n",
              "      background-color: #434B5C;\n",
              "      box-shadow: 0px 1px 3px 1px rgba(0, 0, 0, 0.15);\n",
              "      filter: drop-shadow(0px 1px 2px rgba(0, 0, 0, 0.3));\n",
              "      fill: #FFFFFF;\n",
              "    }\n",
              "  </style>\n",
              "\n",
              "    <script>\n",
              "      const buttonEl =\n",
              "        document.querySelector('#df-4b4e5775-f417-4c31-9fbb-386d4a53a1df button.colab-df-convert');\n",
              "      buttonEl.style.display =\n",
              "        google.colab.kernel.accessAllowed ? 'block' : 'none';\n",
              "\n",
              "      async function convertToInteractive(key) {\n",
              "        const element = document.querySelector('#df-4b4e5775-f417-4c31-9fbb-386d4a53a1df');\n",
              "        const dataTable =\n",
              "          await google.colab.kernel.invokeFunction('convertToInteractive',\n",
              "                                                    [key], {});\n",
              "        if (!dataTable) return;\n",
              "\n",
              "        const docLinkHtml = 'Like what you see? Visit the ' +\n",
              "          '<a target=\"_blank\" href=https://colab.research.google.com/notebooks/data_table.ipynb>data table notebook</a>'\n",
              "          + ' to learn more about interactive tables.';\n",
              "        element.innerHTML = '';\n",
              "        dataTable['output_type'] = 'display_data';\n",
              "        await google.colab.output.renderOutput(dataTable, element);\n",
              "        const docLink = document.createElement('div');\n",
              "        docLink.innerHTML = docLinkHtml;\n",
              "        element.appendChild(docLink);\n",
              "      }\n",
              "    </script>\n",
              "  </div>\n",
              "\n",
              "\n",
              "<div id=\"df-95a63cde-8bf5-4dc2-83d3-6ac403955ebf\">\n",
              "  <button class=\"colab-df-quickchart\" onclick=\"quickchart('df-95a63cde-8bf5-4dc2-83d3-6ac403955ebf')\"\n",
              "            title=\"Suggest charts.\"\n",
              "            style=\"display:none;\">\n",
              "\n",
              "<svg xmlns=\"http://www.w3.org/2000/svg\" height=\"24px\"viewBox=\"0 0 24 24\"\n",
              "     width=\"24px\">\n",
              "    <g>\n",
              "        <path d=\"M19 3H5c-1.1 0-2 .9-2 2v14c0 1.1.9 2 2 2h14c1.1 0 2-.9 2-2V5c0-1.1-.9-2-2-2zM9 17H7v-7h2v7zm4 0h-2V7h2v10zm4 0h-2v-4h2v4z\"/>\n",
              "    </g>\n",
              "</svg>\n",
              "  </button>\n",
              "\n",
              "<style>\n",
              "  .colab-df-quickchart {\n",
              "      --bg-color: #E8F0FE;\n",
              "      --fill-color: #1967D2;\n",
              "      --hover-bg-color: #E2EBFA;\n",
              "      --hover-fill-color: #174EA6;\n",
              "      --disabled-fill-color: #AAA;\n",
              "      --disabled-bg-color: #DDD;\n",
              "  }\n",
              "\n",
              "  [theme=dark] .colab-df-quickchart {\n",
              "      --bg-color: #3B4455;\n",
              "      --fill-color: #D2E3FC;\n",
              "      --hover-bg-color: #434B5C;\n",
              "      --hover-fill-color: #FFFFFF;\n",
              "      --disabled-bg-color: #3B4455;\n",
              "      --disabled-fill-color: #666;\n",
              "  }\n",
              "\n",
              "  .colab-df-quickchart {\n",
              "    background-color: var(--bg-color);\n",
              "    border: none;\n",
              "    border-radius: 50%;\n",
              "    cursor: pointer;\n",
              "    display: none;\n",
              "    fill: var(--fill-color);\n",
              "    height: 32px;\n",
              "    padding: 0;\n",
              "    width: 32px;\n",
              "  }\n",
              "\n",
              "  .colab-df-quickchart:hover {\n",
              "    background-color: var(--hover-bg-color);\n",
              "    box-shadow: 0 1px 2px rgba(60, 64, 67, 0.3), 0 1px 3px 1px rgba(60, 64, 67, 0.15);\n",
              "    fill: var(--button-hover-fill-color);\n",
              "  }\n",
              "\n",
              "  .colab-df-quickchart-complete:disabled,\n",
              "  .colab-df-quickchart-complete:disabled:hover {\n",
              "    background-color: var(--disabled-bg-color);\n",
              "    fill: var(--disabled-fill-color);\n",
              "    box-shadow: none;\n",
              "  }\n",
              "\n",
              "  .colab-df-spinner {\n",
              "    border: 2px solid var(--fill-color);\n",
              "    border-color: transparent;\n",
              "    border-bottom-color: var(--fill-color);\n",
              "    animation:\n",
              "      spin 1s steps(1) infinite;\n",
              "  }\n",
              "\n",
              "  @keyframes spin {\n",
              "    0% {\n",
              "      border-color: transparent;\n",
              "      border-bottom-color: var(--fill-color);\n",
              "      border-left-color: var(--fill-color);\n",
              "    }\n",
              "    20% {\n",
              "      border-color: transparent;\n",
              "      border-left-color: var(--fill-color);\n",
              "      border-top-color: var(--fill-color);\n",
              "    }\n",
              "    30% {\n",
              "      border-color: transparent;\n",
              "      border-left-color: var(--fill-color);\n",
              "      border-top-color: var(--fill-color);\n",
              "      border-right-color: var(--fill-color);\n",
              "    }\n",
              "    40% {\n",
              "      border-color: transparent;\n",
              "      border-right-color: var(--fill-color);\n",
              "      border-top-color: var(--fill-color);\n",
              "    }\n",
              "    60% {\n",
              "      border-color: transparent;\n",
              "      border-right-color: var(--fill-color);\n",
              "    }\n",
              "    80% {\n",
              "      border-color: transparent;\n",
              "      border-right-color: var(--fill-color);\n",
              "      border-bottom-color: var(--fill-color);\n",
              "    }\n",
              "    90% {\n",
              "      border-color: transparent;\n",
              "      border-bottom-color: var(--fill-color);\n",
              "    }\n",
              "  }\n",
              "</style>\n",
              "\n",
              "  <script>\n",
              "    async function quickchart(key) {\n",
              "      const quickchartButtonEl =\n",
              "        document.querySelector('#' + key + ' button');\n",
              "      quickchartButtonEl.disabled = true;  // To prevent multiple clicks.\n",
              "      quickchartButtonEl.classList.add('colab-df-spinner');\n",
              "      try {\n",
              "        const charts = await google.colab.kernel.invokeFunction(\n",
              "            'suggestCharts', [key], {});\n",
              "      } catch (error) {\n",
              "        console.error('Error during call to suggestCharts:', error);\n",
              "      }\n",
              "      quickchartButtonEl.classList.remove('colab-df-spinner');\n",
              "      quickchartButtonEl.classList.add('colab-df-quickchart-complete');\n",
              "    }\n",
              "    (() => {\n",
              "      let quickchartButtonEl =\n",
              "        document.querySelector('#df-95a63cde-8bf5-4dc2-83d3-6ac403955ebf button');\n",
              "      quickchartButtonEl.style.display =\n",
              "        google.colab.kernel.accessAllowed ? 'block' : 'none';\n",
              "    })();\n",
              "  </script>\n",
              "</div>\n",
              "    </div>\n",
              "  </div>\n"
            ]
          },
          "metadata": {},
          "execution_count": 2
        }
      ]
    },
    {
      "cell_type": "markdown",
      "source": [
        "# Data Preprocessing"
      ],
      "metadata": {
        "id": "8J64hMxKt11h"
      }
    },
    {
      "cell_type": "code",
      "source": [
        "# Check datatypes\n",
        "cvd_df.dtypes"
      ],
      "metadata": {
        "colab": {
          "base_uri": "https://localhost:8080/"
        },
        "id": "JGyO61YpTSB4",
        "outputId": "bcf0f73a-4996-49cf-aaa0-ba8815cb680b"
      },
      "execution_count": null,
      "outputs": [
        {
          "output_type": "execute_result",
          "data": {
            "text/plain": [
              "general_health                   object\n",
              "checkup                          object\n",
              "exercise                         object\n",
              "heart_disease                    object\n",
              "skin_cancer                      object\n",
              "other_cancer                     object\n",
              "depression                       object\n",
              "diabetes                         object\n",
              "arthritis                        object\n",
              "sex                              object\n",
              "age_category                     object\n",
              "height_cm                         int64\n",
              "weight_kg                       float64\n",
              "bmi                             float64\n",
              "smoking_history                  object\n",
              "alcohol_consumption               int64\n",
              "fruit_consumption                 int64\n",
              "green_vegetables_consumption      int64\n",
              "friedpotato_consumption           int64\n",
              "dtype: object"
            ]
          },
          "metadata": {},
          "execution_count": 3
        }
      ]
    },
    {
      "cell_type": "code",
      "source": [
        "# Define categorical columns for encoding and numeric columns for scaling\n",
        "categorical_cols = cvd_df.dtypes[cvd_df.dtypes == 'object'].index.tolist()\n",
        "\n",
        "numeric_cols = cvd_df.select_dtypes(include=['int64', 'float64']).columns.tolist()"
      ],
      "metadata": {
        "id": "0lwivK_tTqeE"
      },
      "execution_count": null,
      "outputs": []
    },
    {
      "cell_type": "code",
      "source": [
        "# Check value counts of target variable\n",
        "cvd_df['heart_disease'].value_counts()"
      ],
      "metadata": {
        "colab": {
          "base_uri": "https://localhost:8080/"
        },
        "id": "MVoMqfmUT8Hc",
        "outputId": "b14d702f-2267-44f2-9aac-ec946d509e12"
      },
      "execution_count": null,
      "outputs": [
        {
          "output_type": "execute_result",
          "data": {
            "text/plain": [
              "No     275231\n",
              "Yes     24081\n",
              "Name: heart_disease, dtype: int64"
            ]
          },
          "metadata": {},
          "execution_count": 5
        }
      ]
    },
    {
      "cell_type": "markdown",
      "source": [
        "The proportion of positive instances of heart disease ('Yes') to negative instances ('No') is heavily imbalanced. Initial testing revealed that this would result in a model that can accurately predict if a patient does not have heart diease, but is not able to accurately predict if a person does have disease. For this reason, we have decided to cut down the majority class, in this instance the 'No' category, to make the classes more balanced.\n",
        "\n",
        "We have chosen to remove all datapoints that lay outside of 1 standard deviation from the mean of the data."
      ],
      "metadata": {
        "id": "XsbjDw2huYRL"
      }
    },
    {
      "cell_type": "code",
      "source": [
        "# Calculate mean and standard deviation for numeric columns\n",
        "means = cvd_df[numeric_cols].mean()\n",
        "stds = cvd_df[numeric_cols].std()\n",
        "\n",
        "# Define the number of standard deviations for the threshold\n",
        "threshold_std = 1\n",
        "\n",
        "# Identify outliers for numeric columns based on standard deviations\n",
        "outliers = ((cvd_df[numeric_cols] - means).abs() > threshold_std * stds).any(axis=1)\n",
        "\n",
        "# Filter rows where 'heart_disease' is 'No' and not an outlier\n",
        "filtered_rows = (~outliers) | (cvd_df['heart_disease'] == 'Yes')\n",
        "\n",
        "# Create the filtered DataFrame\n",
        "cvd_df_filtered = cvd_df[filtered_rows]"
      ],
      "metadata": {
        "id": "nrv0K_FUUU1X"
      },
      "execution_count": null,
      "outputs": []
    },
    {
      "cell_type": "code",
      "source": [
        "# Re-check value counts of target variable\n",
        "cvd_df_filtered['heart_disease'].value_counts()"
      ],
      "metadata": {
        "colab": {
          "base_uri": "https://localhost:8080/"
        },
        "id": "fWNAU7RjUadN",
        "outputId": "bd7ef8cd-d23a-46a1-80b5-2ac7195e1151"
      },
      "execution_count": null,
      "outputs": [
        {
          "output_type": "execute_result",
          "data": {
            "text/plain": [
              "No     55566\n",
              "Yes    24081\n",
              "Name: heart_disease, dtype: int64"
            ]
          },
          "metadata": {},
          "execution_count": 7
        }
      ]
    },
    {
      "cell_type": "markdown",
      "source": [
        "The classes in the target variable are now significantly closer to being balanced than previously."
      ],
      "metadata": {
        "id": "8kxzGRJ2ylJm"
      }
    },
    {
      "cell_type": "code",
      "source": [
        "# Encode categorical columns using get_dummies\n",
        "encoded_df = pd.get_dummies(cvd_df_filtered, columns=categorical_cols, drop_first=False)\n",
        "encoded_df.head()"
      ],
      "metadata": {
        "colab": {
          "base_uri": "https://localhost:8080/",
          "height": 273
        },
        "id": "q434TobRUh07",
        "outputId": "7859ced7-0ad2-4d1c-a194-abbeeafde797"
      },
      "execution_count": null,
      "outputs": [
        {
          "output_type": "execute_result",
          "data": {
            "text/plain": [
              "   height_cm  weight_kg    bmi  alcohol_consumption  fruit_consumption  \\\n",
              "1        165      77.11  28.29                    0                 30   \n",
              "3        180      93.44  28.73                    0                 30   \n",
              "6        175      69.85  22.74                    0                 16   \n",
              "8        163      72.57  27.46                    0                 12   \n",
              "9        163      91.63  34.67                    0                 12   \n",
              "\n",
              "   green_vegetables_consumption  friedpotato_consumption  \\\n",
              "1                             0                        4   \n",
              "3                            30                        8   \n",
              "6                             8                        0   \n",
              "8                            12                        4   \n",
              "9                            12                        1   \n",
              "\n",
              "   general_health_Excellent  general_health_Fair  general_health_Good  ...  \\\n",
              "1                         0                    0                    0  ...   \n",
              "3                         0                    0                    0  ...   \n",
              "6                         0                    1                    0  ...   \n",
              "8                         0                    1                    0  ...   \n",
              "9                         0                    1                    0  ...   \n",
              "\n",
              "   age_category_45-49  age_category_50-54  age_category_55-59  \\\n",
              "1                   0                   0                   0   \n",
              "3                   0                   0                   0   \n",
              "6                   0                   0                   0   \n",
              "8                   0                   0                   0   \n",
              "9                   0                   0                   0   \n",
              "\n",
              "   age_category_60-64  age_category_65-69  age_category_70-74  \\\n",
              "1                   0                   0                   1   \n",
              "3                   0                   0                   0   \n",
              "6                   1                   0                   0   \n",
              "8                   0                   1                   0   \n",
              "9                   0                   0                   1   \n",
              "\n",
              "   age_category_75-79  age_category_80+  smoking_history_No  \\\n",
              "1                   0                 0                   1   \n",
              "3                   1                 0                   1   \n",
              "6                   0                 0                   0   \n",
              "8                   0                 0                   0   \n",
              "9                   0                 0                   1   \n",
              "\n",
              "   smoking_history_Yes  \n",
              "1                    0  \n",
              "3                    0  \n",
              "6                    1  \n",
              "8                    1  \n",
              "9                    0  \n",
              "\n",
              "[5 rows x 48 columns]"
            ],
            "text/html": [
              "\n",
              "  <div id=\"df-915a6347-d7f2-4734-9a5e-44aaabca8e51\" class=\"colab-df-container\">\n",
              "    <div>\n",
              "<style scoped>\n",
              "    .dataframe tbody tr th:only-of-type {\n",
              "        vertical-align: middle;\n",
              "    }\n",
              "\n",
              "    .dataframe tbody tr th {\n",
              "        vertical-align: top;\n",
              "    }\n",
              "\n",
              "    .dataframe thead th {\n",
              "        text-align: right;\n",
              "    }\n",
              "</style>\n",
              "<table border=\"1\" class=\"dataframe\">\n",
              "  <thead>\n",
              "    <tr style=\"text-align: right;\">\n",
              "      <th></th>\n",
              "      <th>height_cm</th>\n",
              "      <th>weight_kg</th>\n",
              "      <th>bmi</th>\n",
              "      <th>alcohol_consumption</th>\n",
              "      <th>fruit_consumption</th>\n",
              "      <th>green_vegetables_consumption</th>\n",
              "      <th>friedpotato_consumption</th>\n",
              "      <th>general_health_Excellent</th>\n",
              "      <th>general_health_Fair</th>\n",
              "      <th>general_health_Good</th>\n",
              "      <th>...</th>\n",
              "      <th>age_category_45-49</th>\n",
              "      <th>age_category_50-54</th>\n",
              "      <th>age_category_55-59</th>\n",
              "      <th>age_category_60-64</th>\n",
              "      <th>age_category_65-69</th>\n",
              "      <th>age_category_70-74</th>\n",
              "      <th>age_category_75-79</th>\n",
              "      <th>age_category_80+</th>\n",
              "      <th>smoking_history_No</th>\n",
              "      <th>smoking_history_Yes</th>\n",
              "    </tr>\n",
              "  </thead>\n",
              "  <tbody>\n",
              "    <tr>\n",
              "      <th>1</th>\n",
              "      <td>165</td>\n",
              "      <td>77.11</td>\n",
              "      <td>28.29</td>\n",
              "      <td>0</td>\n",
              "      <td>30</td>\n",
              "      <td>0</td>\n",
              "      <td>4</td>\n",
              "      <td>0</td>\n",
              "      <td>0</td>\n",
              "      <td>0</td>\n",
              "      <td>...</td>\n",
              "      <td>0</td>\n",
              "      <td>0</td>\n",
              "      <td>0</td>\n",
              "      <td>0</td>\n",
              "      <td>0</td>\n",
              "      <td>1</td>\n",
              "      <td>0</td>\n",
              "      <td>0</td>\n",
              "      <td>1</td>\n",
              "      <td>0</td>\n",
              "    </tr>\n",
              "    <tr>\n",
              "      <th>3</th>\n",
              "      <td>180</td>\n",
              "      <td>93.44</td>\n",
              "      <td>28.73</td>\n",
              "      <td>0</td>\n",
              "      <td>30</td>\n",
              "      <td>30</td>\n",
              "      <td>8</td>\n",
              "      <td>0</td>\n",
              "      <td>0</td>\n",
              "      <td>0</td>\n",
              "      <td>...</td>\n",
              "      <td>0</td>\n",
              "      <td>0</td>\n",
              "      <td>0</td>\n",
              "      <td>0</td>\n",
              "      <td>0</td>\n",
              "      <td>0</td>\n",
              "      <td>1</td>\n",
              "      <td>0</td>\n",
              "      <td>1</td>\n",
              "      <td>0</td>\n",
              "    </tr>\n",
              "    <tr>\n",
              "      <th>6</th>\n",
              "      <td>175</td>\n",
              "      <td>69.85</td>\n",
              "      <td>22.74</td>\n",
              "      <td>0</td>\n",
              "      <td>16</td>\n",
              "      <td>8</td>\n",
              "      <td>0</td>\n",
              "      <td>0</td>\n",
              "      <td>1</td>\n",
              "      <td>0</td>\n",
              "      <td>...</td>\n",
              "      <td>0</td>\n",
              "      <td>0</td>\n",
              "      <td>0</td>\n",
              "      <td>1</td>\n",
              "      <td>0</td>\n",
              "      <td>0</td>\n",
              "      <td>0</td>\n",
              "      <td>0</td>\n",
              "      <td>0</td>\n",
              "      <td>1</td>\n",
              "    </tr>\n",
              "    <tr>\n",
              "      <th>8</th>\n",
              "      <td>163</td>\n",
              "      <td>72.57</td>\n",
              "      <td>27.46</td>\n",
              "      <td>0</td>\n",
              "      <td>12</td>\n",
              "      <td>12</td>\n",
              "      <td>4</td>\n",
              "      <td>0</td>\n",
              "      <td>1</td>\n",
              "      <td>0</td>\n",
              "      <td>...</td>\n",
              "      <td>0</td>\n",
              "      <td>0</td>\n",
              "      <td>0</td>\n",
              "      <td>0</td>\n",
              "      <td>1</td>\n",
              "      <td>0</td>\n",
              "      <td>0</td>\n",
              "      <td>0</td>\n",
              "      <td>0</td>\n",
              "      <td>1</td>\n",
              "    </tr>\n",
              "    <tr>\n",
              "      <th>9</th>\n",
              "      <td>163</td>\n",
              "      <td>91.63</td>\n",
              "      <td>34.67</td>\n",
              "      <td>0</td>\n",
              "      <td>12</td>\n",
              "      <td>12</td>\n",
              "      <td>1</td>\n",
              "      <td>0</td>\n",
              "      <td>1</td>\n",
              "      <td>0</td>\n",
              "      <td>...</td>\n",
              "      <td>0</td>\n",
              "      <td>0</td>\n",
              "      <td>0</td>\n",
              "      <td>0</td>\n",
              "      <td>0</td>\n",
              "      <td>1</td>\n",
              "      <td>0</td>\n",
              "      <td>0</td>\n",
              "      <td>1</td>\n",
              "      <td>0</td>\n",
              "    </tr>\n",
              "  </tbody>\n",
              "</table>\n",
              "<p>5 rows × 48 columns</p>\n",
              "</div>\n",
              "    <div class=\"colab-df-buttons\">\n",
              "\n",
              "  <div class=\"colab-df-container\">\n",
              "    <button class=\"colab-df-convert\" onclick=\"convertToInteractive('df-915a6347-d7f2-4734-9a5e-44aaabca8e51')\"\n",
              "            title=\"Convert this dataframe to an interactive table.\"\n",
              "            style=\"display:none;\">\n",
              "\n",
              "  <svg xmlns=\"http://www.w3.org/2000/svg\" height=\"24px\" viewBox=\"0 -960 960 960\">\n",
              "    <path d=\"M120-120v-720h720v720H120Zm60-500h600v-160H180v160Zm220 220h160v-160H400v160Zm0 220h160v-160H400v160ZM180-400h160v-160H180v160Zm440 0h160v-160H620v160ZM180-180h160v-160H180v160Zm440 0h160v-160H620v160Z\"/>\n",
              "  </svg>\n",
              "    </button>\n",
              "\n",
              "  <style>\n",
              "    .colab-df-container {\n",
              "      display:flex;\n",
              "      gap: 12px;\n",
              "    }\n",
              "\n",
              "    .colab-df-convert {\n",
              "      background-color: #E8F0FE;\n",
              "      border: none;\n",
              "      border-radius: 50%;\n",
              "      cursor: pointer;\n",
              "      display: none;\n",
              "      fill: #1967D2;\n",
              "      height: 32px;\n",
              "      padding: 0 0 0 0;\n",
              "      width: 32px;\n",
              "    }\n",
              "\n",
              "    .colab-df-convert:hover {\n",
              "      background-color: #E2EBFA;\n",
              "      box-shadow: 0px 1px 2px rgba(60, 64, 67, 0.3), 0px 1px 3px 1px rgba(60, 64, 67, 0.15);\n",
              "      fill: #174EA6;\n",
              "    }\n",
              "\n",
              "    .colab-df-buttons div {\n",
              "      margin-bottom: 4px;\n",
              "    }\n",
              "\n",
              "    [theme=dark] .colab-df-convert {\n",
              "      background-color: #3B4455;\n",
              "      fill: #D2E3FC;\n",
              "    }\n",
              "\n",
              "    [theme=dark] .colab-df-convert:hover {\n",
              "      background-color: #434B5C;\n",
              "      box-shadow: 0px 1px 3px 1px rgba(0, 0, 0, 0.15);\n",
              "      filter: drop-shadow(0px 1px 2px rgba(0, 0, 0, 0.3));\n",
              "      fill: #FFFFFF;\n",
              "    }\n",
              "  </style>\n",
              "\n",
              "    <script>\n",
              "      const buttonEl =\n",
              "        document.querySelector('#df-915a6347-d7f2-4734-9a5e-44aaabca8e51 button.colab-df-convert');\n",
              "      buttonEl.style.display =\n",
              "        google.colab.kernel.accessAllowed ? 'block' : 'none';\n",
              "\n",
              "      async function convertToInteractive(key) {\n",
              "        const element = document.querySelector('#df-915a6347-d7f2-4734-9a5e-44aaabca8e51');\n",
              "        const dataTable =\n",
              "          await google.colab.kernel.invokeFunction('convertToInteractive',\n",
              "                                                    [key], {});\n",
              "        if (!dataTable) return;\n",
              "\n",
              "        const docLinkHtml = 'Like what you see? Visit the ' +\n",
              "          '<a target=\"_blank\" href=https://colab.research.google.com/notebooks/data_table.ipynb>data table notebook</a>'\n",
              "          + ' to learn more about interactive tables.';\n",
              "        element.innerHTML = '';\n",
              "        dataTable['output_type'] = 'display_data';\n",
              "        await google.colab.output.renderOutput(dataTable, element);\n",
              "        const docLink = document.createElement('div');\n",
              "        docLink.innerHTML = docLinkHtml;\n",
              "        element.appendChild(docLink);\n",
              "      }\n",
              "    </script>\n",
              "  </div>\n",
              "\n",
              "\n",
              "<div id=\"df-315e05b8-e373-4df1-98cd-18419ab2ec6b\">\n",
              "  <button class=\"colab-df-quickchart\" onclick=\"quickchart('df-315e05b8-e373-4df1-98cd-18419ab2ec6b')\"\n",
              "            title=\"Suggest charts.\"\n",
              "            style=\"display:none;\">\n",
              "\n",
              "<svg xmlns=\"http://www.w3.org/2000/svg\" height=\"24px\"viewBox=\"0 0 24 24\"\n",
              "     width=\"24px\">\n",
              "    <g>\n",
              "        <path d=\"M19 3H5c-1.1 0-2 .9-2 2v14c0 1.1.9 2 2 2h14c1.1 0 2-.9 2-2V5c0-1.1-.9-2-2-2zM9 17H7v-7h2v7zm4 0h-2V7h2v10zm4 0h-2v-4h2v4z\"/>\n",
              "    </g>\n",
              "</svg>\n",
              "  </button>\n",
              "\n",
              "<style>\n",
              "  .colab-df-quickchart {\n",
              "      --bg-color: #E8F0FE;\n",
              "      --fill-color: #1967D2;\n",
              "      --hover-bg-color: #E2EBFA;\n",
              "      --hover-fill-color: #174EA6;\n",
              "      --disabled-fill-color: #AAA;\n",
              "      --disabled-bg-color: #DDD;\n",
              "  }\n",
              "\n",
              "  [theme=dark] .colab-df-quickchart {\n",
              "      --bg-color: #3B4455;\n",
              "      --fill-color: #D2E3FC;\n",
              "      --hover-bg-color: #434B5C;\n",
              "      --hover-fill-color: #FFFFFF;\n",
              "      --disabled-bg-color: #3B4455;\n",
              "      --disabled-fill-color: #666;\n",
              "  }\n",
              "\n",
              "  .colab-df-quickchart {\n",
              "    background-color: var(--bg-color);\n",
              "    border: none;\n",
              "    border-radius: 50%;\n",
              "    cursor: pointer;\n",
              "    display: none;\n",
              "    fill: var(--fill-color);\n",
              "    height: 32px;\n",
              "    padding: 0;\n",
              "    width: 32px;\n",
              "  }\n",
              "\n",
              "  .colab-df-quickchart:hover {\n",
              "    background-color: var(--hover-bg-color);\n",
              "    box-shadow: 0 1px 2px rgba(60, 64, 67, 0.3), 0 1px 3px 1px rgba(60, 64, 67, 0.15);\n",
              "    fill: var(--button-hover-fill-color);\n",
              "  }\n",
              "\n",
              "  .colab-df-quickchart-complete:disabled,\n",
              "  .colab-df-quickchart-complete:disabled:hover {\n",
              "    background-color: var(--disabled-bg-color);\n",
              "    fill: var(--disabled-fill-color);\n",
              "    box-shadow: none;\n",
              "  }\n",
              "\n",
              "  .colab-df-spinner {\n",
              "    border: 2px solid var(--fill-color);\n",
              "    border-color: transparent;\n",
              "    border-bottom-color: var(--fill-color);\n",
              "    animation:\n",
              "      spin 1s steps(1) infinite;\n",
              "  }\n",
              "\n",
              "  @keyframes spin {\n",
              "    0% {\n",
              "      border-color: transparent;\n",
              "      border-bottom-color: var(--fill-color);\n",
              "      border-left-color: var(--fill-color);\n",
              "    }\n",
              "    20% {\n",
              "      border-color: transparent;\n",
              "      border-left-color: var(--fill-color);\n",
              "      border-top-color: var(--fill-color);\n",
              "    }\n",
              "    30% {\n",
              "      border-color: transparent;\n",
              "      border-left-color: var(--fill-color);\n",
              "      border-top-color: var(--fill-color);\n",
              "      border-right-color: var(--fill-color);\n",
              "    }\n",
              "    40% {\n",
              "      border-color: transparent;\n",
              "      border-right-color: var(--fill-color);\n",
              "      border-top-color: var(--fill-color);\n",
              "    }\n",
              "    60% {\n",
              "      border-color: transparent;\n",
              "      border-right-color: var(--fill-color);\n",
              "    }\n",
              "    80% {\n",
              "      border-color: transparent;\n",
              "      border-right-color: var(--fill-color);\n",
              "      border-bottom-color: var(--fill-color);\n",
              "    }\n",
              "    90% {\n",
              "      border-color: transparent;\n",
              "      border-bottom-color: var(--fill-color);\n",
              "    }\n",
              "  }\n",
              "</style>\n",
              "\n",
              "  <script>\n",
              "    async function quickchart(key) {\n",
              "      const quickchartButtonEl =\n",
              "        document.querySelector('#' + key + ' button');\n",
              "      quickchartButtonEl.disabled = true;  // To prevent multiple clicks.\n",
              "      quickchartButtonEl.classList.add('colab-df-spinner');\n",
              "      try {\n",
              "        const charts = await google.colab.kernel.invokeFunction(\n",
              "            'suggestCharts', [key], {});\n",
              "      } catch (error) {\n",
              "        console.error('Error during call to suggestCharts:', error);\n",
              "      }\n",
              "      quickchartButtonEl.classList.remove('colab-df-spinner');\n",
              "      quickchartButtonEl.classList.add('colab-df-quickchart-complete');\n",
              "    }\n",
              "    (() => {\n",
              "      let quickchartButtonEl =\n",
              "        document.querySelector('#df-315e05b8-e373-4df1-98cd-18419ab2ec6b button');\n",
              "      quickchartButtonEl.style.display =\n",
              "        google.colab.kernel.accessAllowed ? 'block' : 'none';\n",
              "    })();\n",
              "  </script>\n",
              "</div>\n",
              "    </div>\n",
              "  </div>\n"
            ]
          },
          "metadata": {},
          "execution_count": 8
        }
      ]
    },
    {
      "cell_type": "code",
      "source": [
        "# Scale numerical columns using StandardScaler\n",
        "scaler = StandardScaler()\n",
        "encoded_df[numeric_cols] = scaler.fit_transform(encoded_df[numeric_cols])\n",
        "encoded_df.head()"
      ],
      "metadata": {
        "colab": {
          "base_uri": "https://localhost:8080/",
          "height": 273
        },
        "id": "qURZcC_9XPOE",
        "outputId": "98edd1e2-4326-41a2-b7d0-afddf562f612"
      },
      "execution_count": null,
      "outputs": [
        {
          "output_type": "execute_result",
          "data": {
            "text/plain": [
              "   height_cm  weight_kg       bmi  alcohol_consumption  fruit_consumption  \\\n",
              "1  -0.832260  -0.393566 -0.000590            -0.556508           0.413674   \n",
              "3   1.184427   0.704890  0.095604            -0.556508           0.413674   \n",
              "6   0.512198  -0.881918 -1.213951            -0.556508          -0.472114   \n",
              "8  -1.101152  -0.698954 -0.182048            -0.556508          -0.725196   \n",
              "9  -1.101152   0.583139  1.394228            -0.556508          -0.725196   \n",
              "\n",
              "   green_vegetables_consumption  friedpotato_consumption  \\\n",
              "1                     -1.250370                -0.166917   \n",
              "3                      1.515171                 0.547281   \n",
              "6                     -0.512893                -0.881115   \n",
              "8                     -0.144154                -0.166917   \n",
              "9                     -0.144154                -0.702566   \n",
              "\n",
              "   general_health_Excellent  general_health_Fair  general_health_Good  ...  \\\n",
              "1                         0                    0                    0  ...   \n",
              "3                         0                    0                    0  ...   \n",
              "6                         0                    1                    0  ...   \n",
              "8                         0                    1                    0  ...   \n",
              "9                         0                    1                    0  ...   \n",
              "\n",
              "   age_category_45-49  age_category_50-54  age_category_55-59  \\\n",
              "1                   0                   0                   0   \n",
              "3                   0                   0                   0   \n",
              "6                   0                   0                   0   \n",
              "8                   0                   0                   0   \n",
              "9                   0                   0                   0   \n",
              "\n",
              "   age_category_60-64  age_category_65-69  age_category_70-74  \\\n",
              "1                   0                   0                   1   \n",
              "3                   0                   0                   0   \n",
              "6                   1                   0                   0   \n",
              "8                   0                   1                   0   \n",
              "9                   0                   0                   1   \n",
              "\n",
              "   age_category_75-79  age_category_80+  smoking_history_No  \\\n",
              "1                   0                 0                   1   \n",
              "3                   1                 0                   1   \n",
              "6                   0                 0                   0   \n",
              "8                   0                 0                   0   \n",
              "9                   0                 0                   1   \n",
              "\n",
              "   smoking_history_Yes  \n",
              "1                    0  \n",
              "3                    0  \n",
              "6                    1  \n",
              "8                    1  \n",
              "9                    0  \n",
              "\n",
              "[5 rows x 48 columns]"
            ],
            "text/html": [
              "\n",
              "  <div id=\"df-5c26b046-e207-46e0-af51-bebeac2bbfa7\" class=\"colab-df-container\">\n",
              "    <div>\n",
              "<style scoped>\n",
              "    .dataframe tbody tr th:only-of-type {\n",
              "        vertical-align: middle;\n",
              "    }\n",
              "\n",
              "    .dataframe tbody tr th {\n",
              "        vertical-align: top;\n",
              "    }\n",
              "\n",
              "    .dataframe thead th {\n",
              "        text-align: right;\n",
              "    }\n",
              "</style>\n",
              "<table border=\"1\" class=\"dataframe\">\n",
              "  <thead>\n",
              "    <tr style=\"text-align: right;\">\n",
              "      <th></th>\n",
              "      <th>height_cm</th>\n",
              "      <th>weight_kg</th>\n",
              "      <th>bmi</th>\n",
              "      <th>alcohol_consumption</th>\n",
              "      <th>fruit_consumption</th>\n",
              "      <th>green_vegetables_consumption</th>\n",
              "      <th>friedpotato_consumption</th>\n",
              "      <th>general_health_Excellent</th>\n",
              "      <th>general_health_Fair</th>\n",
              "      <th>general_health_Good</th>\n",
              "      <th>...</th>\n",
              "      <th>age_category_45-49</th>\n",
              "      <th>age_category_50-54</th>\n",
              "      <th>age_category_55-59</th>\n",
              "      <th>age_category_60-64</th>\n",
              "      <th>age_category_65-69</th>\n",
              "      <th>age_category_70-74</th>\n",
              "      <th>age_category_75-79</th>\n",
              "      <th>age_category_80+</th>\n",
              "      <th>smoking_history_No</th>\n",
              "      <th>smoking_history_Yes</th>\n",
              "    </tr>\n",
              "  </thead>\n",
              "  <tbody>\n",
              "    <tr>\n",
              "      <th>1</th>\n",
              "      <td>-0.832260</td>\n",
              "      <td>-0.393566</td>\n",
              "      <td>-0.000590</td>\n",
              "      <td>-0.556508</td>\n",
              "      <td>0.413674</td>\n",
              "      <td>-1.250370</td>\n",
              "      <td>-0.166917</td>\n",
              "      <td>0</td>\n",
              "      <td>0</td>\n",
              "      <td>0</td>\n",
              "      <td>...</td>\n",
              "      <td>0</td>\n",
              "      <td>0</td>\n",
              "      <td>0</td>\n",
              "      <td>0</td>\n",
              "      <td>0</td>\n",
              "      <td>1</td>\n",
              "      <td>0</td>\n",
              "      <td>0</td>\n",
              "      <td>1</td>\n",
              "      <td>0</td>\n",
              "    </tr>\n",
              "    <tr>\n",
              "      <th>3</th>\n",
              "      <td>1.184427</td>\n",
              "      <td>0.704890</td>\n",
              "      <td>0.095604</td>\n",
              "      <td>-0.556508</td>\n",
              "      <td>0.413674</td>\n",
              "      <td>1.515171</td>\n",
              "      <td>0.547281</td>\n",
              "      <td>0</td>\n",
              "      <td>0</td>\n",
              "      <td>0</td>\n",
              "      <td>...</td>\n",
              "      <td>0</td>\n",
              "      <td>0</td>\n",
              "      <td>0</td>\n",
              "      <td>0</td>\n",
              "      <td>0</td>\n",
              "      <td>0</td>\n",
              "      <td>1</td>\n",
              "      <td>0</td>\n",
              "      <td>1</td>\n",
              "      <td>0</td>\n",
              "    </tr>\n",
              "    <tr>\n",
              "      <th>6</th>\n",
              "      <td>0.512198</td>\n",
              "      <td>-0.881918</td>\n",
              "      <td>-1.213951</td>\n",
              "      <td>-0.556508</td>\n",
              "      <td>-0.472114</td>\n",
              "      <td>-0.512893</td>\n",
              "      <td>-0.881115</td>\n",
              "      <td>0</td>\n",
              "      <td>1</td>\n",
              "      <td>0</td>\n",
              "      <td>...</td>\n",
              "      <td>0</td>\n",
              "      <td>0</td>\n",
              "      <td>0</td>\n",
              "      <td>1</td>\n",
              "      <td>0</td>\n",
              "      <td>0</td>\n",
              "      <td>0</td>\n",
              "      <td>0</td>\n",
              "      <td>0</td>\n",
              "      <td>1</td>\n",
              "    </tr>\n",
              "    <tr>\n",
              "      <th>8</th>\n",
              "      <td>-1.101152</td>\n",
              "      <td>-0.698954</td>\n",
              "      <td>-0.182048</td>\n",
              "      <td>-0.556508</td>\n",
              "      <td>-0.725196</td>\n",
              "      <td>-0.144154</td>\n",
              "      <td>-0.166917</td>\n",
              "      <td>0</td>\n",
              "      <td>1</td>\n",
              "      <td>0</td>\n",
              "      <td>...</td>\n",
              "      <td>0</td>\n",
              "      <td>0</td>\n",
              "      <td>0</td>\n",
              "      <td>0</td>\n",
              "      <td>1</td>\n",
              "      <td>0</td>\n",
              "      <td>0</td>\n",
              "      <td>0</td>\n",
              "      <td>0</td>\n",
              "      <td>1</td>\n",
              "    </tr>\n",
              "    <tr>\n",
              "      <th>9</th>\n",
              "      <td>-1.101152</td>\n",
              "      <td>0.583139</td>\n",
              "      <td>1.394228</td>\n",
              "      <td>-0.556508</td>\n",
              "      <td>-0.725196</td>\n",
              "      <td>-0.144154</td>\n",
              "      <td>-0.702566</td>\n",
              "      <td>0</td>\n",
              "      <td>1</td>\n",
              "      <td>0</td>\n",
              "      <td>...</td>\n",
              "      <td>0</td>\n",
              "      <td>0</td>\n",
              "      <td>0</td>\n",
              "      <td>0</td>\n",
              "      <td>0</td>\n",
              "      <td>1</td>\n",
              "      <td>0</td>\n",
              "      <td>0</td>\n",
              "      <td>1</td>\n",
              "      <td>0</td>\n",
              "    </tr>\n",
              "  </tbody>\n",
              "</table>\n",
              "<p>5 rows × 48 columns</p>\n",
              "</div>\n",
              "    <div class=\"colab-df-buttons\">\n",
              "\n",
              "  <div class=\"colab-df-container\">\n",
              "    <button class=\"colab-df-convert\" onclick=\"convertToInteractive('df-5c26b046-e207-46e0-af51-bebeac2bbfa7')\"\n",
              "            title=\"Convert this dataframe to an interactive table.\"\n",
              "            style=\"display:none;\">\n",
              "\n",
              "  <svg xmlns=\"http://www.w3.org/2000/svg\" height=\"24px\" viewBox=\"0 -960 960 960\">\n",
              "    <path d=\"M120-120v-720h720v720H120Zm60-500h600v-160H180v160Zm220 220h160v-160H400v160Zm0 220h160v-160H400v160ZM180-400h160v-160H180v160Zm440 0h160v-160H620v160ZM180-180h160v-160H180v160Zm440 0h160v-160H620v160Z\"/>\n",
              "  </svg>\n",
              "    </button>\n",
              "\n",
              "  <style>\n",
              "    .colab-df-container {\n",
              "      display:flex;\n",
              "      gap: 12px;\n",
              "    }\n",
              "\n",
              "    .colab-df-convert {\n",
              "      background-color: #E8F0FE;\n",
              "      border: none;\n",
              "      border-radius: 50%;\n",
              "      cursor: pointer;\n",
              "      display: none;\n",
              "      fill: #1967D2;\n",
              "      height: 32px;\n",
              "      padding: 0 0 0 0;\n",
              "      width: 32px;\n",
              "    }\n",
              "\n",
              "    .colab-df-convert:hover {\n",
              "      background-color: #E2EBFA;\n",
              "      box-shadow: 0px 1px 2px rgba(60, 64, 67, 0.3), 0px 1px 3px 1px rgba(60, 64, 67, 0.15);\n",
              "      fill: #174EA6;\n",
              "    }\n",
              "\n",
              "    .colab-df-buttons div {\n",
              "      margin-bottom: 4px;\n",
              "    }\n",
              "\n",
              "    [theme=dark] .colab-df-convert {\n",
              "      background-color: #3B4455;\n",
              "      fill: #D2E3FC;\n",
              "    }\n",
              "\n",
              "    [theme=dark] .colab-df-convert:hover {\n",
              "      background-color: #434B5C;\n",
              "      box-shadow: 0px 1px 3px 1px rgba(0, 0, 0, 0.15);\n",
              "      filter: drop-shadow(0px 1px 2px rgba(0, 0, 0, 0.3));\n",
              "      fill: #FFFFFF;\n",
              "    }\n",
              "  </style>\n",
              "\n",
              "    <script>\n",
              "      const buttonEl =\n",
              "        document.querySelector('#df-5c26b046-e207-46e0-af51-bebeac2bbfa7 button.colab-df-convert');\n",
              "      buttonEl.style.display =\n",
              "        google.colab.kernel.accessAllowed ? 'block' : 'none';\n",
              "\n",
              "      async function convertToInteractive(key) {\n",
              "        const element = document.querySelector('#df-5c26b046-e207-46e0-af51-bebeac2bbfa7');\n",
              "        const dataTable =\n",
              "          await google.colab.kernel.invokeFunction('convertToInteractive',\n",
              "                                                    [key], {});\n",
              "        if (!dataTable) return;\n",
              "\n",
              "        const docLinkHtml = 'Like what you see? Visit the ' +\n",
              "          '<a target=\"_blank\" href=https://colab.research.google.com/notebooks/data_table.ipynb>data table notebook</a>'\n",
              "          + ' to learn more about interactive tables.';\n",
              "        element.innerHTML = '';\n",
              "        dataTable['output_type'] = 'display_data';\n",
              "        await google.colab.output.renderOutput(dataTable, element);\n",
              "        const docLink = document.createElement('div');\n",
              "        docLink.innerHTML = docLinkHtml;\n",
              "        element.appendChild(docLink);\n",
              "      }\n",
              "    </script>\n",
              "  </div>\n",
              "\n",
              "\n",
              "<div id=\"df-bb9b1646-8265-4523-abab-da60ca9dd699\">\n",
              "  <button class=\"colab-df-quickchart\" onclick=\"quickchart('df-bb9b1646-8265-4523-abab-da60ca9dd699')\"\n",
              "            title=\"Suggest charts.\"\n",
              "            style=\"display:none;\">\n",
              "\n",
              "<svg xmlns=\"http://www.w3.org/2000/svg\" height=\"24px\"viewBox=\"0 0 24 24\"\n",
              "     width=\"24px\">\n",
              "    <g>\n",
              "        <path d=\"M19 3H5c-1.1 0-2 .9-2 2v14c0 1.1.9 2 2 2h14c1.1 0 2-.9 2-2V5c0-1.1-.9-2-2-2zM9 17H7v-7h2v7zm4 0h-2V7h2v10zm4 0h-2v-4h2v4z\"/>\n",
              "    </g>\n",
              "</svg>\n",
              "  </button>\n",
              "\n",
              "<style>\n",
              "  .colab-df-quickchart {\n",
              "      --bg-color: #E8F0FE;\n",
              "      --fill-color: #1967D2;\n",
              "      --hover-bg-color: #E2EBFA;\n",
              "      --hover-fill-color: #174EA6;\n",
              "      --disabled-fill-color: #AAA;\n",
              "      --disabled-bg-color: #DDD;\n",
              "  }\n",
              "\n",
              "  [theme=dark] .colab-df-quickchart {\n",
              "      --bg-color: #3B4455;\n",
              "      --fill-color: #D2E3FC;\n",
              "      --hover-bg-color: #434B5C;\n",
              "      --hover-fill-color: #FFFFFF;\n",
              "      --disabled-bg-color: #3B4455;\n",
              "      --disabled-fill-color: #666;\n",
              "  }\n",
              "\n",
              "  .colab-df-quickchart {\n",
              "    background-color: var(--bg-color);\n",
              "    border: none;\n",
              "    border-radius: 50%;\n",
              "    cursor: pointer;\n",
              "    display: none;\n",
              "    fill: var(--fill-color);\n",
              "    height: 32px;\n",
              "    padding: 0;\n",
              "    width: 32px;\n",
              "  }\n",
              "\n",
              "  .colab-df-quickchart:hover {\n",
              "    background-color: var(--hover-bg-color);\n",
              "    box-shadow: 0 1px 2px rgba(60, 64, 67, 0.3), 0 1px 3px 1px rgba(60, 64, 67, 0.15);\n",
              "    fill: var(--button-hover-fill-color);\n",
              "  }\n",
              "\n",
              "  .colab-df-quickchart-complete:disabled,\n",
              "  .colab-df-quickchart-complete:disabled:hover {\n",
              "    background-color: var(--disabled-bg-color);\n",
              "    fill: var(--disabled-fill-color);\n",
              "    box-shadow: none;\n",
              "  }\n",
              "\n",
              "  .colab-df-spinner {\n",
              "    border: 2px solid var(--fill-color);\n",
              "    border-color: transparent;\n",
              "    border-bottom-color: var(--fill-color);\n",
              "    animation:\n",
              "      spin 1s steps(1) infinite;\n",
              "  }\n",
              "\n",
              "  @keyframes spin {\n",
              "    0% {\n",
              "      border-color: transparent;\n",
              "      border-bottom-color: var(--fill-color);\n",
              "      border-left-color: var(--fill-color);\n",
              "    }\n",
              "    20% {\n",
              "      border-color: transparent;\n",
              "      border-left-color: var(--fill-color);\n",
              "      border-top-color: var(--fill-color);\n",
              "    }\n",
              "    30% {\n",
              "      border-color: transparent;\n",
              "      border-left-color: var(--fill-color);\n",
              "      border-top-color: var(--fill-color);\n",
              "      border-right-color: var(--fill-color);\n",
              "    }\n",
              "    40% {\n",
              "      border-color: transparent;\n",
              "      border-right-color: var(--fill-color);\n",
              "      border-top-color: var(--fill-color);\n",
              "    }\n",
              "    60% {\n",
              "      border-color: transparent;\n",
              "      border-right-color: var(--fill-color);\n",
              "    }\n",
              "    80% {\n",
              "      border-color: transparent;\n",
              "      border-right-color: var(--fill-color);\n",
              "      border-bottom-color: var(--fill-color);\n",
              "    }\n",
              "    90% {\n",
              "      border-color: transparent;\n",
              "      border-bottom-color: var(--fill-color);\n",
              "    }\n",
              "  }\n",
              "</style>\n",
              "\n",
              "  <script>\n",
              "    async function quickchart(key) {\n",
              "      const quickchartButtonEl =\n",
              "        document.querySelector('#' + key + ' button');\n",
              "      quickchartButtonEl.disabled = true;  // To prevent multiple clicks.\n",
              "      quickchartButtonEl.classList.add('colab-df-spinner');\n",
              "      try {\n",
              "        const charts = await google.colab.kernel.invokeFunction(\n",
              "            'suggestCharts', [key], {});\n",
              "      } catch (error) {\n",
              "        console.error('Error during call to suggestCharts:', error);\n",
              "      }\n",
              "      quickchartButtonEl.classList.remove('colab-df-spinner');\n",
              "      quickchartButtonEl.classList.add('colab-df-quickchart-complete');\n",
              "    }\n",
              "    (() => {\n",
              "      let quickchartButtonEl =\n",
              "        document.querySelector('#df-bb9b1646-8265-4523-abab-da60ca9dd699 button');\n",
              "      quickchartButtonEl.style.display =\n",
              "        google.colab.kernel.accessAllowed ? 'block' : 'none';\n",
              "    })();\n",
              "  </script>\n",
              "</div>\n",
              "    </div>\n",
              "  </div>\n"
            ]
          },
          "metadata": {},
          "execution_count": 9
        }
      ]
    },
    {
      "cell_type": "code",
      "source": [
        "# Assign the target variable 'heart_disease' to y\n",
        "y = encoded_df['heart_disease_Yes']\n",
        "\n",
        "# Assign the remaining columns (features) to X\n",
        "X = encoded_df.drop(columns=['heart_disease_Yes', 'heart_disease_No'])"
      ],
      "metadata": {
        "id": "96JqGf3EXXJa"
      },
      "execution_count": null,
      "outputs": []
    },
    {
      "cell_type": "code",
      "source": [
        "# Split the preprocessed data into a training and testing dataset\n",
        "X_train, X_test, y_train, y_test = train_test_split(X, y, random_state=78)"
      ],
      "metadata": {
        "id": "QKQuV7fvXaxi"
      },
      "execution_count": null,
      "outputs": []
    },
    {
      "cell_type": "code",
      "source": [
        "# Checking the value counts of the y variable\n",
        "y_train.value_counts()"
      ],
      "metadata": {
        "colab": {
          "base_uri": "https://localhost:8080/"
        },
        "id": "VdL-3N8CXfnU",
        "outputId": "725401c4-adb2-4d03-c7e5-27aacfb64477"
      },
      "execution_count": null,
      "outputs": [
        {
          "output_type": "execute_result",
          "data": {
            "text/plain": [
              "0    41653\n",
              "1    18082\n",
              "Name: heart_disease_Yes, dtype: int64"
            ]
          },
          "metadata": {},
          "execution_count": 12
        }
      ]
    },
    {
      "cell_type": "code",
      "source": [
        "# Fit a random over sampler model to the training data to balance out the classes fully\n",
        "ROS = RandomOverSampler(random_state=78)\n",
        "X_train_resampled, y_train_resampled = ROS.fit_resample(X_train, y_train)"
      ],
      "metadata": {
        "id": "VW13AIKtXivZ"
      },
      "execution_count": null,
      "outputs": []
    },
    {
      "cell_type": "code",
      "source": [
        "# Re-check the value counts to ensure oversampling has worked\n",
        "y_train_resampled.value_counts()"
      ],
      "metadata": {
        "colab": {
          "base_uri": "https://localhost:8080/"
        },
        "id": "go8WgNHXXt7D",
        "outputId": "03936e23-8bcb-4f8d-b7d1-449b59063a6f"
      },
      "execution_count": null,
      "outputs": [
        {
          "output_type": "execute_result",
          "data": {
            "text/plain": [
              "1    41653\n",
              "0    41653\n",
              "Name: heart_disease_Yes, dtype: int64"
            ]
          },
          "metadata": {},
          "execution_count": 14
        }
      ]
    },
    {
      "cell_type": "markdown",
      "source": [
        "# Model 1: Logistic Regression\n",
        "\n"
      ],
      "metadata": {
        "id": "wGWCAxmOzx87"
      }
    },
    {
      "cell_type": "markdown",
      "source": [
        "Logistic regression is a statistical method for binary classification. Instead of fitting a straight line or hyperplane, the logistic regression model uses the logistic function to squeeze the output of a linear equation between 0 and 1.\n",
        "\n",
        "The solver used to optimize the parameters of the logistic regression model was 'saga' which os better suited for datasets with a large number of features."
      ],
      "metadata": {
        "id": "eWLiC6MYKsaD"
      }
    },
    {
      "cell_type": "code",
      "source": [
        "# Create a Logistic Regression Model\n",
        "lr_model = LogisticRegression(solver='saga', random_state=78)\n",
        "lr_model"
      ],
      "metadata": {
        "id": "fuFyi7ycKzhy",
        "colab": {
          "base_uri": "https://localhost:8080/",
          "height": 75
        },
        "outputId": "baf1398b-2731-454a-fdb4-480d84ae1e36"
      },
      "execution_count": null,
      "outputs": [
        {
          "output_type": "execute_result",
          "data": {
            "text/plain": [
              "LogisticRegression(random_state=78, solver='saga')"
            ],
            "text/html": [
              "<style>#sk-container-id-1 {color: black;background-color: white;}#sk-container-id-1 pre{padding: 0;}#sk-container-id-1 div.sk-toggleable {background-color: white;}#sk-container-id-1 label.sk-toggleable__label {cursor: pointer;display: block;width: 100%;margin-bottom: 0;padding: 0.3em;box-sizing: border-box;text-align: center;}#sk-container-id-1 label.sk-toggleable__label-arrow:before {content: \"▸\";float: left;margin-right: 0.25em;color: #696969;}#sk-container-id-1 label.sk-toggleable__label-arrow:hover:before {color: black;}#sk-container-id-1 div.sk-estimator:hover label.sk-toggleable__label-arrow:before {color: black;}#sk-container-id-1 div.sk-toggleable__content {max-height: 0;max-width: 0;overflow: hidden;text-align: left;background-color: #f0f8ff;}#sk-container-id-1 div.sk-toggleable__content pre {margin: 0.2em;color: black;border-radius: 0.25em;background-color: #f0f8ff;}#sk-container-id-1 input.sk-toggleable__control:checked~div.sk-toggleable__content {max-height: 200px;max-width: 100%;overflow: auto;}#sk-container-id-1 input.sk-toggleable__control:checked~label.sk-toggleable__label-arrow:before {content: \"▾\";}#sk-container-id-1 div.sk-estimator input.sk-toggleable__control:checked~label.sk-toggleable__label {background-color: #d4ebff;}#sk-container-id-1 div.sk-label input.sk-toggleable__control:checked~label.sk-toggleable__label {background-color: #d4ebff;}#sk-container-id-1 input.sk-hidden--visually {border: 0;clip: rect(1px 1px 1px 1px);clip: rect(1px, 1px, 1px, 1px);height: 1px;margin: -1px;overflow: hidden;padding: 0;position: absolute;width: 1px;}#sk-container-id-1 div.sk-estimator {font-family: monospace;background-color: #f0f8ff;border: 1px dotted black;border-radius: 0.25em;box-sizing: border-box;margin-bottom: 0.5em;}#sk-container-id-1 div.sk-estimator:hover {background-color: #d4ebff;}#sk-container-id-1 div.sk-parallel-item::after {content: \"\";width: 100%;border-bottom: 1px solid gray;flex-grow: 1;}#sk-container-id-1 div.sk-label:hover label.sk-toggleable__label {background-color: #d4ebff;}#sk-container-id-1 div.sk-serial::before {content: \"\";position: absolute;border-left: 1px solid gray;box-sizing: border-box;top: 0;bottom: 0;left: 50%;z-index: 0;}#sk-container-id-1 div.sk-serial {display: flex;flex-direction: column;align-items: center;background-color: white;padding-right: 0.2em;padding-left: 0.2em;position: relative;}#sk-container-id-1 div.sk-item {position: relative;z-index: 1;}#sk-container-id-1 div.sk-parallel {display: flex;align-items: stretch;justify-content: center;background-color: white;position: relative;}#sk-container-id-1 div.sk-item::before, #sk-container-id-1 div.sk-parallel-item::before {content: \"\";position: absolute;border-left: 1px solid gray;box-sizing: border-box;top: 0;bottom: 0;left: 50%;z-index: -1;}#sk-container-id-1 div.sk-parallel-item {display: flex;flex-direction: column;z-index: 1;position: relative;background-color: white;}#sk-container-id-1 div.sk-parallel-item:first-child::after {align-self: flex-end;width: 50%;}#sk-container-id-1 div.sk-parallel-item:last-child::after {align-self: flex-start;width: 50%;}#sk-container-id-1 div.sk-parallel-item:only-child::after {width: 0;}#sk-container-id-1 div.sk-dashed-wrapped {border: 1px dashed gray;margin: 0 0.4em 0.5em 0.4em;box-sizing: border-box;padding-bottom: 0.4em;background-color: white;}#sk-container-id-1 div.sk-label label {font-family: monospace;font-weight: bold;display: inline-block;line-height: 1.2em;}#sk-container-id-1 div.sk-label-container {text-align: center;}#sk-container-id-1 div.sk-container {/* jupyter's `normalize.less` sets `[hidden] { display: none; }` but bootstrap.min.css set `[hidden] { display: none !important; }` so we also need the `!important` here to be able to override the default hidden behavior on the sphinx rendered scikit-learn.org. See: https://github.com/scikit-learn/scikit-learn/issues/21755 */display: inline-block !important;position: relative;}#sk-container-id-1 div.sk-text-repr-fallback {display: none;}</style><div id=\"sk-container-id-1\" class=\"sk-top-container\"><div class=\"sk-text-repr-fallback\"><pre>LogisticRegression(random_state=78, solver=&#x27;saga&#x27;)</pre><b>In a Jupyter environment, please rerun this cell to show the HTML representation or trust the notebook. <br />On GitHub, the HTML representation is unable to render, please try loading this page with nbviewer.org.</b></div><div class=\"sk-container\" hidden><div class=\"sk-item\"><div class=\"sk-estimator sk-toggleable\"><input class=\"sk-toggleable__control sk-hidden--visually\" id=\"sk-estimator-id-1\" type=\"checkbox\" checked><label for=\"sk-estimator-id-1\" class=\"sk-toggleable__label sk-toggleable__label-arrow\">LogisticRegression</label><div class=\"sk-toggleable__content\"><pre>LogisticRegression(random_state=78, solver=&#x27;saga&#x27;)</pre></div></div></div></div></div>"
            ]
          },
          "metadata": {},
          "execution_count": 15
        }
      ]
    },
    {
      "cell_type": "code",
      "source": [
        "# Train the data\n",
        "lr_model.fit(X_train, y_train)"
      ],
      "metadata": {
        "id": "qtGEJgf2LAvZ",
        "colab": {
          "base_uri": "https://localhost:8080/",
          "height": 75
        },
        "outputId": "eff49a6c-5aef-4a92-ad47-14ae6acf6379"
      },
      "execution_count": null,
      "outputs": [
        {
          "output_type": "execute_result",
          "data": {
            "text/plain": [
              "LogisticRegression(random_state=78, solver='saga')"
            ],
            "text/html": [
              "<style>#sk-container-id-2 {color: black;background-color: white;}#sk-container-id-2 pre{padding: 0;}#sk-container-id-2 div.sk-toggleable {background-color: white;}#sk-container-id-2 label.sk-toggleable__label {cursor: pointer;display: block;width: 100%;margin-bottom: 0;padding: 0.3em;box-sizing: border-box;text-align: center;}#sk-container-id-2 label.sk-toggleable__label-arrow:before {content: \"▸\";float: left;margin-right: 0.25em;color: #696969;}#sk-container-id-2 label.sk-toggleable__label-arrow:hover:before {color: black;}#sk-container-id-2 div.sk-estimator:hover label.sk-toggleable__label-arrow:before {color: black;}#sk-container-id-2 div.sk-toggleable__content {max-height: 0;max-width: 0;overflow: hidden;text-align: left;background-color: #f0f8ff;}#sk-container-id-2 div.sk-toggleable__content pre {margin: 0.2em;color: black;border-radius: 0.25em;background-color: #f0f8ff;}#sk-container-id-2 input.sk-toggleable__control:checked~div.sk-toggleable__content {max-height: 200px;max-width: 100%;overflow: auto;}#sk-container-id-2 input.sk-toggleable__control:checked~label.sk-toggleable__label-arrow:before {content: \"▾\";}#sk-container-id-2 div.sk-estimator input.sk-toggleable__control:checked~label.sk-toggleable__label {background-color: #d4ebff;}#sk-container-id-2 div.sk-label input.sk-toggleable__control:checked~label.sk-toggleable__label {background-color: #d4ebff;}#sk-container-id-2 input.sk-hidden--visually {border: 0;clip: rect(1px 1px 1px 1px);clip: rect(1px, 1px, 1px, 1px);height: 1px;margin: -1px;overflow: hidden;padding: 0;position: absolute;width: 1px;}#sk-container-id-2 div.sk-estimator {font-family: monospace;background-color: #f0f8ff;border: 1px dotted black;border-radius: 0.25em;box-sizing: border-box;margin-bottom: 0.5em;}#sk-container-id-2 div.sk-estimator:hover {background-color: #d4ebff;}#sk-container-id-2 div.sk-parallel-item::after {content: \"\";width: 100%;border-bottom: 1px solid gray;flex-grow: 1;}#sk-container-id-2 div.sk-label:hover label.sk-toggleable__label {background-color: #d4ebff;}#sk-container-id-2 div.sk-serial::before {content: \"\";position: absolute;border-left: 1px solid gray;box-sizing: border-box;top: 0;bottom: 0;left: 50%;z-index: 0;}#sk-container-id-2 div.sk-serial {display: flex;flex-direction: column;align-items: center;background-color: white;padding-right: 0.2em;padding-left: 0.2em;position: relative;}#sk-container-id-2 div.sk-item {position: relative;z-index: 1;}#sk-container-id-2 div.sk-parallel {display: flex;align-items: stretch;justify-content: center;background-color: white;position: relative;}#sk-container-id-2 div.sk-item::before, #sk-container-id-2 div.sk-parallel-item::before {content: \"\";position: absolute;border-left: 1px solid gray;box-sizing: border-box;top: 0;bottom: 0;left: 50%;z-index: -1;}#sk-container-id-2 div.sk-parallel-item {display: flex;flex-direction: column;z-index: 1;position: relative;background-color: white;}#sk-container-id-2 div.sk-parallel-item:first-child::after {align-self: flex-end;width: 50%;}#sk-container-id-2 div.sk-parallel-item:last-child::after {align-self: flex-start;width: 50%;}#sk-container-id-2 div.sk-parallel-item:only-child::after {width: 0;}#sk-container-id-2 div.sk-dashed-wrapped {border: 1px dashed gray;margin: 0 0.4em 0.5em 0.4em;box-sizing: border-box;padding-bottom: 0.4em;background-color: white;}#sk-container-id-2 div.sk-label label {font-family: monospace;font-weight: bold;display: inline-block;line-height: 1.2em;}#sk-container-id-2 div.sk-label-container {text-align: center;}#sk-container-id-2 div.sk-container {/* jupyter's `normalize.less` sets `[hidden] { display: none; }` but bootstrap.min.css set `[hidden] { display: none !important; }` so we also need the `!important` here to be able to override the default hidden behavior on the sphinx rendered scikit-learn.org. See: https://github.com/scikit-learn/scikit-learn/issues/21755 */display: inline-block !important;position: relative;}#sk-container-id-2 div.sk-text-repr-fallback {display: none;}</style><div id=\"sk-container-id-2\" class=\"sk-top-container\"><div class=\"sk-text-repr-fallback\"><pre>LogisticRegression(random_state=78, solver=&#x27;saga&#x27;)</pre><b>In a Jupyter environment, please rerun this cell to show the HTML representation or trust the notebook. <br />On GitHub, the HTML representation is unable to render, please try loading this page with nbviewer.org.</b></div><div class=\"sk-container\" hidden><div class=\"sk-item\"><div class=\"sk-estimator sk-toggleable\"><input class=\"sk-toggleable__control sk-hidden--visually\" id=\"sk-estimator-id-2\" type=\"checkbox\" checked><label for=\"sk-estimator-id-2\" class=\"sk-toggleable__label sk-toggleable__label-arrow\">LogisticRegression</label><div class=\"sk-toggleable__content\"><pre>LogisticRegression(random_state=78, solver=&#x27;saga&#x27;)</pre></div></div></div></div></div>"
            ]
          },
          "metadata": {},
          "execution_count": 16
        }
      ]
    },
    {
      "cell_type": "code",
      "source": [
        "# Score the model\n",
        "print(f\"Training Data Score: {lr_model.score(X_train, y_train)}\")\n",
        "print(f\"Testing Data Score: {lr_model.score(X_test, y_test)}\")"
      ],
      "metadata": {
        "id": "nYCRYkoyLM0e",
        "colab": {
          "base_uri": "https://localhost:8080/"
        },
        "outputId": "1c00335a-0931-4207-f807-f72a0a122acd"
      },
      "execution_count": null,
      "outputs": [
        {
          "output_type": "stream",
          "name": "stdout",
          "text": [
            "Training Data Score: 0.8134594458859965\n",
            "Testing Data Score: 0.8164925672961029\n"
          ]
        }
      ]
    },
    {
      "cell_type": "code",
      "source": [
        "predictions = lr_model.predict(X_test)\n",
        "results = pd.DataFrame({\"Prediction\": predictions, \"Actual\": y_test}).reset_index(drop=True)\n",
        "results"
      ],
      "metadata": {
        "id": "jl4waj_fLPDX",
        "colab": {
          "base_uri": "https://localhost:8080/",
          "height": 424
        },
        "outputId": "cb6fb9e0-89c5-4a30-ac45-65e7a75045ed"
      },
      "execution_count": null,
      "outputs": [
        {
          "output_type": "execute_result",
          "data": {
            "text/plain": [
              "       Prediction  Actual\n",
              "0               0       0\n",
              "1               0       0\n",
              "2               0       0\n",
              "3               1       1\n",
              "4               0       0\n",
              "...           ...     ...\n",
              "19907           0       0\n",
              "19908           1       1\n",
              "19909           1       1\n",
              "19910           0       0\n",
              "19911           0       0\n",
              "\n",
              "[19912 rows x 2 columns]"
            ],
            "text/html": [
              "\n",
              "  <div id=\"df-3d95b243-62ab-4d1d-be55-0893979881a1\" class=\"colab-df-container\">\n",
              "    <div>\n",
              "<style scoped>\n",
              "    .dataframe tbody tr th:only-of-type {\n",
              "        vertical-align: middle;\n",
              "    }\n",
              "\n",
              "    .dataframe tbody tr th {\n",
              "        vertical-align: top;\n",
              "    }\n",
              "\n",
              "    .dataframe thead th {\n",
              "        text-align: right;\n",
              "    }\n",
              "</style>\n",
              "<table border=\"1\" class=\"dataframe\">\n",
              "  <thead>\n",
              "    <tr style=\"text-align: right;\">\n",
              "      <th></th>\n",
              "      <th>Prediction</th>\n",
              "      <th>Actual</th>\n",
              "    </tr>\n",
              "  </thead>\n",
              "  <tbody>\n",
              "    <tr>\n",
              "      <th>0</th>\n",
              "      <td>0</td>\n",
              "      <td>0</td>\n",
              "    </tr>\n",
              "    <tr>\n",
              "      <th>1</th>\n",
              "      <td>0</td>\n",
              "      <td>0</td>\n",
              "    </tr>\n",
              "    <tr>\n",
              "      <th>2</th>\n",
              "      <td>0</td>\n",
              "      <td>0</td>\n",
              "    </tr>\n",
              "    <tr>\n",
              "      <th>3</th>\n",
              "      <td>1</td>\n",
              "      <td>1</td>\n",
              "    </tr>\n",
              "    <tr>\n",
              "      <th>4</th>\n",
              "      <td>0</td>\n",
              "      <td>0</td>\n",
              "    </tr>\n",
              "    <tr>\n",
              "      <th>...</th>\n",
              "      <td>...</td>\n",
              "      <td>...</td>\n",
              "    </tr>\n",
              "    <tr>\n",
              "      <th>19907</th>\n",
              "      <td>0</td>\n",
              "      <td>0</td>\n",
              "    </tr>\n",
              "    <tr>\n",
              "      <th>19908</th>\n",
              "      <td>1</td>\n",
              "      <td>1</td>\n",
              "    </tr>\n",
              "    <tr>\n",
              "      <th>19909</th>\n",
              "      <td>1</td>\n",
              "      <td>1</td>\n",
              "    </tr>\n",
              "    <tr>\n",
              "      <th>19910</th>\n",
              "      <td>0</td>\n",
              "      <td>0</td>\n",
              "    </tr>\n",
              "    <tr>\n",
              "      <th>19911</th>\n",
              "      <td>0</td>\n",
              "      <td>0</td>\n",
              "    </tr>\n",
              "  </tbody>\n",
              "</table>\n",
              "<p>19912 rows × 2 columns</p>\n",
              "</div>\n",
              "    <div class=\"colab-df-buttons\">\n",
              "\n",
              "  <div class=\"colab-df-container\">\n",
              "    <button class=\"colab-df-convert\" onclick=\"convertToInteractive('df-3d95b243-62ab-4d1d-be55-0893979881a1')\"\n",
              "            title=\"Convert this dataframe to an interactive table.\"\n",
              "            style=\"display:none;\">\n",
              "\n",
              "  <svg xmlns=\"http://www.w3.org/2000/svg\" height=\"24px\" viewBox=\"0 -960 960 960\">\n",
              "    <path d=\"M120-120v-720h720v720H120Zm60-500h600v-160H180v160Zm220 220h160v-160H400v160Zm0 220h160v-160H400v160ZM180-400h160v-160H180v160Zm440 0h160v-160H620v160ZM180-180h160v-160H180v160Zm440 0h160v-160H620v160Z\"/>\n",
              "  </svg>\n",
              "    </button>\n",
              "\n",
              "  <style>\n",
              "    .colab-df-container {\n",
              "      display:flex;\n",
              "      gap: 12px;\n",
              "    }\n",
              "\n",
              "    .colab-df-convert {\n",
              "      background-color: #E8F0FE;\n",
              "      border: none;\n",
              "      border-radius: 50%;\n",
              "      cursor: pointer;\n",
              "      display: none;\n",
              "      fill: #1967D2;\n",
              "      height: 32px;\n",
              "      padding: 0 0 0 0;\n",
              "      width: 32px;\n",
              "    }\n",
              "\n",
              "    .colab-df-convert:hover {\n",
              "      background-color: #E2EBFA;\n",
              "      box-shadow: 0px 1px 2px rgba(60, 64, 67, 0.3), 0px 1px 3px 1px rgba(60, 64, 67, 0.15);\n",
              "      fill: #174EA6;\n",
              "    }\n",
              "\n",
              "    .colab-df-buttons div {\n",
              "      margin-bottom: 4px;\n",
              "    }\n",
              "\n",
              "    [theme=dark] .colab-df-convert {\n",
              "      background-color: #3B4455;\n",
              "      fill: #D2E3FC;\n",
              "    }\n",
              "\n",
              "    [theme=dark] .colab-df-convert:hover {\n",
              "      background-color: #434B5C;\n",
              "      box-shadow: 0px 1px 3px 1px rgba(0, 0, 0, 0.15);\n",
              "      filter: drop-shadow(0px 1px 2px rgba(0, 0, 0, 0.3));\n",
              "      fill: #FFFFFF;\n",
              "    }\n",
              "  </style>\n",
              "\n",
              "    <script>\n",
              "      const buttonEl =\n",
              "        document.querySelector('#df-3d95b243-62ab-4d1d-be55-0893979881a1 button.colab-df-convert');\n",
              "      buttonEl.style.display =\n",
              "        google.colab.kernel.accessAllowed ? 'block' : 'none';\n",
              "\n",
              "      async function convertToInteractive(key) {\n",
              "        const element = document.querySelector('#df-3d95b243-62ab-4d1d-be55-0893979881a1');\n",
              "        const dataTable =\n",
              "          await google.colab.kernel.invokeFunction('convertToInteractive',\n",
              "                                                    [key], {});\n",
              "        if (!dataTable) return;\n",
              "\n",
              "        const docLinkHtml = 'Like what you see? Visit the ' +\n",
              "          '<a target=\"_blank\" href=https://colab.research.google.com/notebooks/data_table.ipynb>data table notebook</a>'\n",
              "          + ' to learn more about interactive tables.';\n",
              "        element.innerHTML = '';\n",
              "        dataTable['output_type'] = 'display_data';\n",
              "        await google.colab.output.renderOutput(dataTable, element);\n",
              "        const docLink = document.createElement('div');\n",
              "        docLink.innerHTML = docLinkHtml;\n",
              "        element.appendChild(docLink);\n",
              "      }\n",
              "    </script>\n",
              "  </div>\n",
              "\n",
              "\n",
              "<div id=\"df-c6c669d3-0c84-4801-a3d7-715476b243cf\">\n",
              "  <button class=\"colab-df-quickchart\" onclick=\"quickchart('df-c6c669d3-0c84-4801-a3d7-715476b243cf')\"\n",
              "            title=\"Suggest charts.\"\n",
              "            style=\"display:none;\">\n",
              "\n",
              "<svg xmlns=\"http://www.w3.org/2000/svg\" height=\"24px\"viewBox=\"0 0 24 24\"\n",
              "     width=\"24px\">\n",
              "    <g>\n",
              "        <path d=\"M19 3H5c-1.1 0-2 .9-2 2v14c0 1.1.9 2 2 2h14c1.1 0 2-.9 2-2V5c0-1.1-.9-2-2-2zM9 17H7v-7h2v7zm4 0h-2V7h2v10zm4 0h-2v-4h2v4z\"/>\n",
              "    </g>\n",
              "</svg>\n",
              "  </button>\n",
              "\n",
              "<style>\n",
              "  .colab-df-quickchart {\n",
              "      --bg-color: #E8F0FE;\n",
              "      --fill-color: #1967D2;\n",
              "      --hover-bg-color: #E2EBFA;\n",
              "      --hover-fill-color: #174EA6;\n",
              "      --disabled-fill-color: #AAA;\n",
              "      --disabled-bg-color: #DDD;\n",
              "  }\n",
              "\n",
              "  [theme=dark] .colab-df-quickchart {\n",
              "      --bg-color: #3B4455;\n",
              "      --fill-color: #D2E3FC;\n",
              "      --hover-bg-color: #434B5C;\n",
              "      --hover-fill-color: #FFFFFF;\n",
              "      --disabled-bg-color: #3B4455;\n",
              "      --disabled-fill-color: #666;\n",
              "  }\n",
              "\n",
              "  .colab-df-quickchart {\n",
              "    background-color: var(--bg-color);\n",
              "    border: none;\n",
              "    border-radius: 50%;\n",
              "    cursor: pointer;\n",
              "    display: none;\n",
              "    fill: var(--fill-color);\n",
              "    height: 32px;\n",
              "    padding: 0;\n",
              "    width: 32px;\n",
              "  }\n",
              "\n",
              "  .colab-df-quickchart:hover {\n",
              "    background-color: var(--hover-bg-color);\n",
              "    box-shadow: 0 1px 2px rgba(60, 64, 67, 0.3), 0 1px 3px 1px rgba(60, 64, 67, 0.15);\n",
              "    fill: var(--button-hover-fill-color);\n",
              "  }\n",
              "\n",
              "  .colab-df-quickchart-complete:disabled,\n",
              "  .colab-df-quickchart-complete:disabled:hover {\n",
              "    background-color: var(--disabled-bg-color);\n",
              "    fill: var(--disabled-fill-color);\n",
              "    box-shadow: none;\n",
              "  }\n",
              "\n",
              "  .colab-df-spinner {\n",
              "    border: 2px solid var(--fill-color);\n",
              "    border-color: transparent;\n",
              "    border-bottom-color: var(--fill-color);\n",
              "    animation:\n",
              "      spin 1s steps(1) infinite;\n",
              "  }\n",
              "\n",
              "  @keyframes spin {\n",
              "    0% {\n",
              "      border-color: transparent;\n",
              "      border-bottom-color: var(--fill-color);\n",
              "      border-left-color: var(--fill-color);\n",
              "    }\n",
              "    20% {\n",
              "      border-color: transparent;\n",
              "      border-left-color: var(--fill-color);\n",
              "      border-top-color: var(--fill-color);\n",
              "    }\n",
              "    30% {\n",
              "      border-color: transparent;\n",
              "      border-left-color: var(--fill-color);\n",
              "      border-top-color: var(--fill-color);\n",
              "      border-right-color: var(--fill-color);\n",
              "    }\n",
              "    40% {\n",
              "      border-color: transparent;\n",
              "      border-right-color: var(--fill-color);\n",
              "      border-top-color: var(--fill-color);\n",
              "    }\n",
              "    60% {\n",
              "      border-color: transparent;\n",
              "      border-right-color: var(--fill-color);\n",
              "    }\n",
              "    80% {\n",
              "      border-color: transparent;\n",
              "      border-right-color: var(--fill-color);\n",
              "      border-bottom-color: var(--fill-color);\n",
              "    }\n",
              "    90% {\n",
              "      border-color: transparent;\n",
              "      border-bottom-color: var(--fill-color);\n",
              "    }\n",
              "  }\n",
              "</style>\n",
              "\n",
              "  <script>\n",
              "    async function quickchart(key) {\n",
              "      const quickchartButtonEl =\n",
              "        document.querySelector('#' + key + ' button');\n",
              "      quickchartButtonEl.disabled = true;  // To prevent multiple clicks.\n",
              "      quickchartButtonEl.classList.add('colab-df-spinner');\n",
              "      try {\n",
              "        const charts = await google.colab.kernel.invokeFunction(\n",
              "            'suggestCharts', [key], {});\n",
              "      } catch (error) {\n",
              "        console.error('Error during call to suggestCharts:', error);\n",
              "      }\n",
              "      quickchartButtonEl.classList.remove('colab-df-spinner');\n",
              "      quickchartButtonEl.classList.add('colab-df-quickchart-complete');\n",
              "    }\n",
              "    (() => {\n",
              "      let quickchartButtonEl =\n",
              "        document.querySelector('#df-c6c669d3-0c84-4801-a3d7-715476b243cf button');\n",
              "      quickchartButtonEl.style.display =\n",
              "        google.colab.kernel.accessAllowed ? 'block' : 'none';\n",
              "    })();\n",
              "  </script>\n",
              "</div>\n",
              "    </div>\n",
              "  </div>\n"
            ]
          },
          "metadata": {},
          "execution_count": 18
        }
      ]
    },
    {
      "cell_type": "code",
      "source": [
        "# Display the accuracy score for the test dataset.\n",
        "accuracy_score(y_test, predictions)"
      ],
      "metadata": {
        "id": "XjowLZYGMADO",
        "colab": {
          "base_uri": "https://localhost:8080/"
        },
        "outputId": "b8559456-e864-4e9a-8f75-af2636fcc258"
      },
      "execution_count": null,
      "outputs": [
        {
          "output_type": "execute_result",
          "data": {
            "text/plain": [
              "0.8164925672961029"
            ]
          },
          "metadata": {},
          "execution_count": 19
        }
      ]
    },
    {
      "cell_type": "code",
      "source": [
        "# Display Confusion Matrix\n",
        "confusion_matrix(y_test, predictions)"
      ],
      "metadata": {
        "id": "yoEaq2QqMD9t",
        "colab": {
          "base_uri": "https://localhost:8080/"
        },
        "outputId": "8c075665-fee7-4014-9b88-cfa6e9334b12"
      },
      "execution_count": null,
      "outputs": [
        {
          "output_type": "execute_result",
          "data": {
            "text/plain": [
              "array([[12596,  1317],\n",
              "       [ 2337,  3662]])"
            ]
          },
          "metadata": {},
          "execution_count": 20
        }
      ]
    },
    {
      "cell_type": "code",
      "source": [
        "# Classifictaion Report\n",
        "target_names = [\"no heart disease\", \"has heart disease\"]\n",
        "print(classification_report(y_test, predictions, target_names=target_names))"
      ],
      "metadata": {
        "id": "xtk4tSNjMGXF",
        "colab": {
          "base_uri": "https://localhost:8080/"
        },
        "outputId": "5cfbad93-202e-4843-b95a-99a7a9f5658e"
      },
      "execution_count": null,
      "outputs": [
        {
          "output_type": "stream",
          "name": "stdout",
          "text": [
            "                   precision    recall  f1-score   support\n",
            "\n",
            " no heart disease       0.84      0.91      0.87     13913\n",
            "has heart disease       0.74      0.61      0.67      5999\n",
            "\n",
            "         accuracy                           0.82     19912\n",
            "        macro avg       0.79      0.76      0.77     19912\n",
            "     weighted avg       0.81      0.82      0.81     19912\n",
            "\n"
          ]
        }
      ]
    },
    {
      "cell_type": "code",
      "source": [
        "#define the predictor variable and the response variable\n",
        "x = encoded_df['heart_disease_Yes']\n",
        "y = encoded_df['heart_disease_No']\n",
        "\n",
        "#plot logistic regression curve\n",
        "sns.regplot(x=x, y=y, data=encoded_df, logistic=True, ci=None, scatter_kws={'color': 'gray'}, line_kws={'color': 'yellow'})"
      ],
      "metadata": {
        "id": "V-1sRzzCMh4J",
        "colab": {
          "base_uri": "https://localhost:8080/",
          "height": 954
        },
        "outputId": "430772ef-18ae-4d69-fbb6-b3826c6b7649"
      },
      "execution_count": null,
      "outputs": [
        {
          "output_type": "stream",
          "name": "stderr",
          "text": [
            "/usr/local/lib/python3.10/dist-packages/statsmodels/genmod/generalized_linear_model.py:1257: PerfectSeparationWarning: Perfect separation or prediction detected, parameter may not be identified\n",
            "  warnings.warn(msg, category=PerfectSeparationWarning)\n",
            "/usr/local/lib/python3.10/dist-packages/statsmodels/genmod/generalized_linear_model.py:1257: PerfectSeparationWarning: Perfect separation or prediction detected, parameter may not be identified\n",
            "  warnings.warn(msg, category=PerfectSeparationWarning)\n",
            "/usr/local/lib/python3.10/dist-packages/statsmodels/genmod/generalized_linear_model.py:1257: PerfectSeparationWarning: Perfect separation or prediction detected, parameter may not be identified\n",
            "  warnings.warn(msg, category=PerfectSeparationWarning)\n",
            "/usr/local/lib/python3.10/dist-packages/statsmodels/genmod/generalized_linear_model.py:1257: PerfectSeparationWarning: Perfect separation or prediction detected, parameter may not be identified\n",
            "  warnings.warn(msg, category=PerfectSeparationWarning)\n",
            "/usr/local/lib/python3.10/dist-packages/statsmodels/genmod/generalized_linear_model.py:1257: PerfectSeparationWarning: Perfect separation or prediction detected, parameter may not be identified\n",
            "  warnings.warn(msg, category=PerfectSeparationWarning)\n",
            "/usr/local/lib/python3.10/dist-packages/statsmodels/genmod/generalized_linear_model.py:1257: PerfectSeparationWarning: Perfect separation or prediction detected, parameter may not be identified\n",
            "  warnings.warn(msg, category=PerfectSeparationWarning)\n",
            "/usr/local/lib/python3.10/dist-packages/statsmodels/genmod/generalized_linear_model.py:1257: PerfectSeparationWarning: Perfect separation or prediction detected, parameter may not be identified\n",
            "  warnings.warn(msg, category=PerfectSeparationWarning)\n",
            "/usr/local/lib/python3.10/dist-packages/statsmodels/genmod/generalized_linear_model.py:1257: PerfectSeparationWarning: Perfect separation or prediction detected, parameter may not be identified\n",
            "  warnings.warn(msg, category=PerfectSeparationWarning)\n",
            "/usr/local/lib/python3.10/dist-packages/statsmodels/genmod/generalized_linear_model.py:1257: PerfectSeparationWarning: Perfect separation or prediction detected, parameter may not be identified\n",
            "  warnings.warn(msg, category=PerfectSeparationWarning)\n",
            "/usr/local/lib/python3.10/dist-packages/statsmodels/genmod/generalized_linear_model.py:1257: PerfectSeparationWarning: Perfect separation or prediction detected, parameter may not be identified\n",
            "  warnings.warn(msg, category=PerfectSeparationWarning)\n",
            "/usr/local/lib/python3.10/dist-packages/statsmodels/genmod/generalized_linear_model.py:1257: PerfectSeparationWarning: Perfect separation or prediction detected, parameter may not be identified\n",
            "  warnings.warn(msg, category=PerfectSeparationWarning)\n",
            "/usr/local/lib/python3.10/dist-packages/statsmodels/genmod/generalized_linear_model.py:1257: PerfectSeparationWarning: Perfect separation or prediction detected, parameter may not be identified\n",
            "  warnings.warn(msg, category=PerfectSeparationWarning)\n",
            "/usr/local/lib/python3.10/dist-packages/statsmodels/genmod/generalized_linear_model.py:1257: PerfectSeparationWarning: Perfect separation or prediction detected, parameter may not be identified\n",
            "  warnings.warn(msg, category=PerfectSeparationWarning)\n",
            "/usr/local/lib/python3.10/dist-packages/statsmodels/genmod/generalized_linear_model.py:1257: PerfectSeparationWarning: Perfect separation or prediction detected, parameter may not be identified\n",
            "  warnings.warn(msg, category=PerfectSeparationWarning)\n"
          ]
        },
        {
          "output_type": "execute_result",
          "data": {
            "text/plain": [
              "<Axes: xlabel='heart_disease_Yes', ylabel='heart_disease_No'>"
            ]
          },
          "metadata": {},
          "execution_count": 22
        },
        {
          "output_type": "display_data",
          "data": {
            "text/plain": [
              "<Figure size 640x480 with 1 Axes>"
            ],
            "image/png": "[encoded data removed]"
          },
          "metadata": {}
        }
      ]
    },
    {
      "cell_type": "markdown",
      "source": [
        "# Model 2: Support Vector Machine"
      ],
      "metadata": {
        "id": "8mrRZirKz3ZY"
      }
    },
    {
      "cell_type": "markdown",
      "source": [
        "Support Vector Machine (SVM) algorithms are renound for being accurate but they can be difficult to design. In comparison with logisitic regression, SVG's are appropriate for large datasets and will be more accurate as they can employ a non-linear approach.\n",
        "\n",
        "The below model will use SVM's for classification and will separate classes of the datapoints into a multi-dimentional space where each respective cluster will be separated by a hyperplane."
      ],
      "metadata": {
        "id": "MJfHJc12klQ6"
      }
    },
    {
      "cell_type": "code",
      "source": [
        "# Initialise model and fit to the training data\n",
        "svm_model = SVC(kernel='linear')\n",
        "svm_model.fit(X_train_resampled, y_train_resampled)"
      ],
      "metadata": {
        "colab": {
          "base_uri": "https://localhost:8080/",
          "height": 75
        },
        "id": "wlYmm11gknV1",
        "outputId": "4f331a73-498d-4556-b783-e28882ad28fb"
      },
      "execution_count": null,
      "outputs": [
        {
          "output_type": "execute_result",
          "data": {
            "text/plain": [
              "SVC(kernel='linear')"
            ],
            "text/html": [
              "<style>#sk-container-id-3 {color: black;background-color: white;}#sk-container-id-3 pre{padding: 0;}#sk-container-id-3 div.sk-toggleable {background-color: white;}#sk-container-id-3 label.sk-toggleable__label {cursor: pointer;display: block;width: 100%;margin-bottom: 0;padding: 0.3em;box-sizing: border-box;text-align: center;}#sk-container-id-3 label.sk-toggleable__label-arrow:before {content: \"▸\";float: left;margin-right: 0.25em;color: #696969;}#sk-container-id-3 label.sk-toggleable__label-arrow:hover:before {color: black;}#sk-container-id-3 div.sk-estimator:hover label.sk-toggleable__label-arrow:before {color: black;}#sk-container-id-3 div.sk-toggleable__content {max-height: 0;max-width: 0;overflow: hidden;text-align: left;background-color: #f0f8ff;}#sk-container-id-3 div.sk-toggleable__content pre {margin: 0.2em;color: black;border-radius: 0.25em;background-color: #f0f8ff;}#sk-container-id-3 input.sk-toggleable__control:checked~div.sk-toggleable__content {max-height: 200px;max-width: 100%;overflow: auto;}#sk-container-id-3 input.sk-toggleable__control:checked~label.sk-toggleable__label-arrow:before {content: \"▾\";}#sk-container-id-3 div.sk-estimator input.sk-toggleable__control:checked~label.sk-toggleable__label {background-color: #d4ebff;}#sk-container-id-3 div.sk-label input.sk-toggleable__control:checked~label.sk-toggleable__label {background-color: #d4ebff;}#sk-container-id-3 input.sk-hidden--visually {border: 0;clip: rect(1px 1px 1px 1px);clip: rect(1px, 1px, 1px, 1px);height: 1px;margin: -1px;overflow: hidden;padding: 0;position: absolute;width: 1px;}#sk-container-id-3 div.sk-estimator {font-family: monospace;background-color: #f0f8ff;border: 1px dotted black;border-radius: 0.25em;box-sizing: border-box;margin-bottom: 0.5em;}#sk-container-id-3 div.sk-estimator:hover {background-color: #d4ebff;}#sk-container-id-3 div.sk-parallel-item::after {content: \"\";width: 100%;border-bottom: 1px solid gray;flex-grow: 1;}#sk-container-id-3 div.sk-label:hover label.sk-toggleable__label {background-color: #d4ebff;}#sk-container-id-3 div.sk-serial::before {content: \"\";position: absolute;border-left: 1px solid gray;box-sizing: border-box;top: 0;bottom: 0;left: 50%;z-index: 0;}#sk-container-id-3 div.sk-serial {display: flex;flex-direction: column;align-items: center;background-color: white;padding-right: 0.2em;padding-left: 0.2em;position: relative;}#sk-container-id-3 div.sk-item {position: relative;z-index: 1;}#sk-container-id-3 div.sk-parallel {display: flex;align-items: stretch;justify-content: center;background-color: white;position: relative;}#sk-container-id-3 div.sk-item::before, #sk-container-id-3 div.sk-parallel-item::before {content: \"\";position: absolute;border-left: 1px solid gray;box-sizing: border-box;top: 0;bottom: 0;left: 50%;z-index: -1;}#sk-container-id-3 div.sk-parallel-item {display: flex;flex-direction: column;z-index: 1;position: relative;background-color: white;}#sk-container-id-3 div.sk-parallel-item:first-child::after {align-self: flex-end;width: 50%;}#sk-container-id-3 div.sk-parallel-item:last-child::after {align-self: flex-start;width: 50%;}#sk-container-id-3 div.sk-parallel-item:only-child::after {width: 0;}#sk-container-id-3 div.sk-dashed-wrapped {border: 1px dashed gray;margin: 0 0.4em 0.5em 0.4em;box-sizing: border-box;padding-bottom: 0.4em;background-color: white;}#sk-container-id-3 div.sk-label label {font-family: monospace;font-weight: bold;display: inline-block;line-height: 1.2em;}#sk-container-id-3 div.sk-label-container {text-align: center;}#sk-container-id-3 div.sk-container {/* jupyter's `normalize.less` sets `[hidden] { display: none; }` but bootstrap.min.css set `[hidden] { display: none !important; }` so we also need the `!important` here to be able to override the default hidden behavior on the sphinx rendered scikit-learn.org. See: https://github.com/scikit-learn/scikit-learn/issues/21755 */display: inline-block !important;position: relative;}#sk-container-id-3 div.sk-text-repr-fallback {display: none;}</style><div id=\"sk-container-id-3\" class=\"sk-top-container\"><div class=\"sk-text-repr-fallback\"><pre>SVC(kernel=&#x27;linear&#x27;)</pre><b>In a Jupyter environment, please rerun this cell to show the HTML representation or trust the notebook. <br />On GitHub, the HTML representation is unable to render, please try loading this page with nbviewer.org.</b></div><div class=\"sk-container\" hidden><div class=\"sk-item\"><div class=\"sk-estimator sk-toggleable\"><input class=\"sk-toggleable__control sk-hidden--visually\" id=\"sk-estimator-id-3\" type=\"checkbox\" checked><label for=\"sk-estimator-id-3\" class=\"sk-toggleable__label sk-toggleable__label-arrow\">SVC</label><div class=\"sk-toggleable__content\"><pre>SVC(kernel=&#x27;linear&#x27;)</pre></div></div></div></div></div>"
            ]
          },
          "metadata": {},
          "execution_count": 23
        }
      ]
    },
    {
      "cell_type": "code",
      "source": [
        "# Validate with the test data\n",
        "svm_model.score(X_test, y_test)"
      ],
      "metadata": {
        "colab": {
          "base_uri": "https://localhost:8080/"
        },
        "id": "ss8jrG0Zk9A1",
        "outputId": "002b36c4-8beb-443c-eede-00d6538f3527"
      },
      "execution_count": null,
      "outputs": [
        {
          "output_type": "execute_result",
          "data": {
            "text/plain": [
              "0.7871132985134592"
            ]
          },
          "metadata": {},
          "execution_count": 24
        }
      ]
    },
    {
      "cell_type": "markdown",
      "source": [
        "In the validation step, a small subset of the labeled data was used to test how well the model is able to predict labels. The above outcome suggests that the SVM model is able to correctly predict 78.71% (2.d.p) of all individuals in the test dataset (15,672 out of 19,912 individuals). This is a positive outcome. However, as human health is a highly sensitive topic with great importance, for this model to become respected, an accuracy of 99% or above would be ideal.\n",
        "\n",
        "The 4,239 indivudals in the test dataset who would have been informed incorrectly would either not recieve the medication and life style change they need or would be unecessarily making these changes.\n",
        "\n",
        "It should be noted that accuracy can be very suceptible to imbalanced classes. If the initial dataset brought into this script was trained against without taking a representitive sample and then oversampling the minority class, it would have been really easy for the model to only care about people without a cardiovascular disease because they would have had the biggest impact on accuracy. However, we also care about the people with a heart disease which highlights the importance of the step taken during preprocessing."
      ],
      "metadata": {
        "id": "WOf5UVrilBhU"
      }
    },
    {
      "cell_type": "code",
      "source": [
        "# Save model's predicitons for the test data\n",
        "training_predictions = svm_model.predict(X_test)\n",
        "\n",
        "# Create a confusion matrix\n",
        "training_matrix = confusion_matrix(y_test, training_predictions)\n",
        "\n",
        "pd.DataFrame(training_matrix, index=[\"Actual 0\", \"Actual 1\"], columns=[\"Predicted 0\", \"Predicted 1\"])"
      ],
      "metadata": {
        "colab": {
          "base_uri": "https://localhost:8080/",
          "height": 112
        },
        "id": "wt0zhvRWlEuk",
        "outputId": "5796283f-b4cb-487b-fe69-b1bf86a5b089"
      },
      "execution_count": null,
      "outputs": [
        {
          "output_type": "execute_result",
          "data": {
            "text/plain": [
              "          Predicted 0  Predicted 1\n",
              "Actual 0        10845         3068\n",
              "Actual 1         1171         4828"
            ],
            "text/html": [
              "\n",
              "  <div id=\"df-d153d03c-7613-4621-94ae-b80456585e6a\" class=\"colab-df-container\">\n",
              "    <div>\n",
              "<style scoped>\n",
              "    .dataframe tbody tr th:only-of-type {\n",
              "        vertical-align: middle;\n",
              "    }\n",
              "\n",
              "    .dataframe tbody tr th {\n",
              "        vertical-align: top;\n",
              "    }\n",
              "\n",
              "    .dataframe thead th {\n",
              "        text-align: right;\n",
              "    }\n",
              "</style>\n",
              "<table border=\"1\" class=\"dataframe\">\n",
              "  <thead>\n",
              "    <tr style=\"text-align: right;\">\n",
              "      <th></th>\n",
              "      <th>Predicted 0</th>\n",
              "      <th>Predicted 1</th>\n",
              "    </tr>\n",
              "  </thead>\n",
              "  <tbody>\n",
              "    <tr>\n",
              "      <th>Actual 0</th>\n",
              "      <td>10845</td>\n",
              "      <td>3068</td>\n",
              "    </tr>\n",
              "    <tr>\n",
              "      <th>Actual 1</th>\n",
              "      <td>1171</td>\n",
              "      <td>4828</td>\n",
              "    </tr>\n",
              "  </tbody>\n",
              "</table>\n",
              "</div>\n",
              "    <div class=\"colab-df-buttons\">\n",
              "\n",
              "  <div class=\"colab-df-container\">\n",
              "    <button class=\"colab-df-convert\" onclick=\"convertToInteractive('df-d153d03c-7613-4621-94ae-b80456585e6a')\"\n",
              "            title=\"Convert this dataframe to an interactive table.\"\n",
              "            style=\"display:none;\">\n",
              "\n",
              "  <svg xmlns=\"http://www.w3.org/2000/svg\" height=\"24px\" viewBox=\"0 -960 960 960\">\n",
              "    <path d=\"M120-120v-720h720v720H120Zm60-500h600v-160H180v160Zm220 220h160v-160H400v160Zm0 220h160v-160H400v160ZM180-400h160v-160H180v160Zm440 0h160v-160H620v160ZM180-180h160v-160H180v160Zm440 0h160v-160H620v160Z\"/>\n",
              "  </svg>\n",
              "    </button>\n",
              "\n",
              "  <style>\n",
              "    .colab-df-container {\n",
              "      display:flex;\n",
              "      gap: 12px;\n",
              "    }\n",
              "\n",
              "    .colab-df-convert {\n",
              "      background-color: #E8F0FE;\n",
              "      border: none;\n",
              "      border-radius: 50%;\n",
              "      cursor: pointer;\n",
              "      display: none;\n",
              "      fill: #1967D2;\n",
              "      height: 32px;\n",
              "      padding: 0 0 0 0;\n",
              "      width: 32px;\n",
              "    }\n",
              "\n",
              "    .colab-df-convert:hover {\n",
              "      background-color: #E2EBFA;\n",
              "      box-shadow: 0px 1px 2px rgba(60, 64, 67, 0.3), 0px 1px 3px 1px rgba(60, 64, 67, 0.15);\n",
              "      fill: #174EA6;\n",
              "    }\n",
              "\n",
              "    .colab-df-buttons div {\n",
              "      margin-bottom: 4px;\n",
              "    }\n",
              "\n",
              "    [theme=dark] .colab-df-convert {\n",
              "      background-color: #3B4455;\n",
              "      fill: #D2E3FC;\n",
              "    }\n",
              "\n",
              "    [theme=dark] .colab-df-convert:hover {\n",
              "      background-color: #434B5C;\n",
              "      box-shadow: 0px 1px 3px 1px rgba(0, 0, 0, 0.15);\n",
              "      filter: drop-shadow(0px 1px 2px rgba(0, 0, 0, 0.3));\n",
              "      fill: #FFFFFF;\n",
              "    }\n",
              "  </style>\n",
              "\n",
              "    <script>\n",
              "      const buttonEl =\n",
              "        document.querySelector('#df-d153d03c-7613-4621-94ae-b80456585e6a button.colab-df-convert');\n",
              "      buttonEl.style.display =\n",
              "        google.colab.kernel.accessAllowed ? 'block' : 'none';\n",
              "\n",
              "      async function convertToInteractive(key) {\n",
              "        const element = document.querySelector('#df-d153d03c-7613-4621-94ae-b80456585e6a');\n",
              "        const dataTable =\n",
              "          await google.colab.kernel.invokeFunction('convertToInteractive',\n",
              "                                                    [key], {});\n",
              "        if (!dataTable) return;\n",
              "\n",
              "        const docLinkHtml = 'Like what you see? Visit the ' +\n",
              "          '<a target=\"_blank\" href=https://colab.research.google.com/notebooks/data_table.ipynb>data table notebook</a>'\n",
              "          + ' to learn more about interactive tables.';\n",
              "        element.innerHTML = '';\n",
              "        dataTable['output_type'] = 'display_data';\n",
              "        await google.colab.output.renderOutput(dataTable, element);\n",
              "        const docLink = document.createElement('div');\n",
              "        docLink.innerHTML = docLinkHtml;\n",
              "        element.appendChild(docLink);\n",
              "      }\n",
              "    </script>\n",
              "  </div>\n",
              "\n",
              "\n",
              "<div id=\"df-3d3287ea-1ebd-40e4-bb2f-d7a34cba0be3\">\n",
              "  <button class=\"colab-df-quickchart\" onclick=\"quickchart('df-3d3287ea-1ebd-40e4-bb2f-d7a34cba0be3')\"\n",
              "            title=\"Suggest charts.\"\n",
              "            style=\"display:none;\">\n",
              "\n",
              "<svg xmlns=\"http://www.w3.org/2000/svg\" height=\"24px\"viewBox=\"0 0 24 24\"\n",
              "     width=\"24px\">\n",
              "    <g>\n",
              "        <path d=\"M19 3H5c-1.1 0-2 .9-2 2v14c0 1.1.9 2 2 2h14c1.1 0 2-.9 2-2V5c0-1.1-.9-2-2-2zM9 17H7v-7h2v7zm4 0h-2V7h2v10zm4 0h-2v-4h2v4z\"/>\n",
              "    </g>\n",
              "</svg>\n",
              "  </button>\n",
              "\n",
              "<style>\n",
              "  .colab-df-quickchart {\n",
              "      --bg-color: #E8F0FE;\n",
              "      --fill-color: #1967D2;\n",
              "      --hover-bg-color: #E2EBFA;\n",
              "      --hover-fill-color: #174EA6;\n",
              "      --disabled-fill-color: #AAA;\n",
              "      --disabled-bg-color: #DDD;\n",
              "  }\n",
              "\n",
              "  [theme=dark] .colab-df-quickchart {\n",
              "      --bg-color: #3B4455;\n",
              "      --fill-color: #D2E3FC;\n",
              "      --hover-bg-color: #434B5C;\n",
              "      --hover-fill-color: #FFFFFF;\n",
              "      --disabled-bg-color: #3B4455;\n",
              "      --disabled-fill-color: #666;\n",
              "  }\n",
              "\n",
              "  .colab-df-quickchart {\n",
              "    background-color: var(--bg-color);\n",
              "    border: none;\n",
              "    border-radius: 50%;\n",
              "    cursor: pointer;\n",
              "    display: none;\n",
              "    fill: var(--fill-color);\n",
              "    height: 32px;\n",
              "    padding: 0;\n",
              "    width: 32px;\n",
              "  }\n",
              "\n",
              "  .colab-df-quickchart:hover {\n",
              "    background-color: var(--hover-bg-color);\n",
              "    box-shadow: 0 1px 2px rgba(60, 64, 67, 0.3), 0 1px 3px 1px rgba(60, 64, 67, 0.15);\n",
              "    fill: var(--button-hover-fill-color);\n",
              "  }\n",
              "\n",
              "  .colab-df-quickchart-complete:disabled,\n",
              "  .colab-df-quickchart-complete:disabled:hover {\n",
              "    background-color: var(--disabled-bg-color);\n",
              "    fill: var(--disabled-fill-color);\n",
              "    box-shadow: none;\n",
              "  }\n",
              "\n",
              "  .colab-df-spinner {\n",
              "    border: 2px solid var(--fill-color);\n",
              "    border-color: transparent;\n",
              "    border-bottom-color: var(--fill-color);\n",
              "    animation:\n",
              "      spin 1s steps(1) infinite;\n",
              "  }\n",
              "\n",
              "  @keyframes spin {\n",
              "    0% {\n",
              "      border-color: transparent;\n",
              "      border-bottom-color: var(--fill-color);\n",
              "      border-left-color: var(--fill-color);\n",
              "    }\n",
              "    20% {\n",
              "      border-color: transparent;\n",
              "      border-left-color: var(--fill-color);\n",
              "      border-top-color: var(--fill-color);\n",
              "    }\n",
              "    30% {\n",
              "      border-color: transparent;\n",
              "      border-left-color: var(--fill-color);\n",
              "      border-top-color: var(--fill-color);\n",
              "      border-right-color: var(--fill-color);\n",
              "    }\n",
              "    40% {\n",
              "      border-color: transparent;\n",
              "      border-right-color: var(--fill-color);\n",
              "      border-top-color: var(--fill-color);\n",
              "    }\n",
              "    60% {\n",
              "      border-color: transparent;\n",
              "      border-right-color: var(--fill-color);\n",
              "    }\n",
              "    80% {\n",
              "      border-color: transparent;\n",
              "      border-right-color: var(--fill-color);\n",
              "      border-bottom-color: var(--fill-color);\n",
              "    }\n",
              "    90% {\n",
              "      border-color: transparent;\n",
              "      border-bottom-color: var(--fill-color);\n",
              "    }\n",
              "  }\n",
              "</style>\n",
              "\n",
              "  <script>\n",
              "    async function quickchart(key) {\n",
              "      const quickchartButtonEl =\n",
              "        document.querySelector('#' + key + ' button');\n",
              "      quickchartButtonEl.disabled = true;  // To prevent multiple clicks.\n",
              "      quickchartButtonEl.classList.add('colab-df-spinner');\n",
              "      try {\n",
              "        const charts = await google.colab.kernel.invokeFunction(\n",
              "            'suggestCharts', [key], {});\n",
              "      } catch (error) {\n",
              "        console.error('Error during call to suggestCharts:', error);\n",
              "      }\n",
              "      quickchartButtonEl.classList.remove('colab-df-spinner');\n",
              "      quickchartButtonEl.classList.add('colab-df-quickchart-complete');\n",
              "    }\n",
              "    (() => {\n",
              "      let quickchartButtonEl =\n",
              "        document.querySelector('#df-3d3287ea-1ebd-40e4-bb2f-d7a34cba0be3 button');\n",
              "      quickchartButtonEl.style.display =\n",
              "        google.colab.kernel.accessAllowed ? 'block' : 'none';\n",
              "    })();\n",
              "  </script>\n",
              "</div>\n",
              "    </div>\n",
              "  </div>\n"
            ]
          },
          "metadata": {},
          "execution_count": 25
        }
      ]
    },
    {
      "cell_type": "markdown",
      "source": [
        "The findings from the above confusion matrix are very insightful, it has informed that our SVM model has:\n",
        "*   Correctly predicted 10,845 individuals who did not have heart disease.\n",
        "*   Correctly predicted 4,828 individuals who did have heart disease.\n",
        "\n",
        "However, what is of more value to be aware of is:\n",
        "*   1,171 individuals who actually had heart disease were predicted as not having one by this model.\n",
        "*   3,068 individuals who did not actually have heart disease were predicted as having one by this model.\n",
        "\n",
        "The model seems to be more likely to predict someone who does not have heart disease as having one than the contary."
      ],
      "metadata": {
        "id": "26R2my7slHgF"
      }
    },
    {
      "cell_type": "code",
      "source": [
        "# Target prediciton categories\n",
        "target_names = [\"No Heart Disease\", \"Heart Disease\"]\n",
        "\n",
        "# Print a classification report\n",
        "print(classification_report(y_test, training_predictions,\n",
        "                            target_names=target_names))"
      ],
      "metadata": {
        "colab": {
          "base_uri": "https://localhost:8080/"
        },
        "id": "kX4fEEErlKT9",
        "outputId": "ef49817e-ac4f-472b-be96-eafca3f60b3f"
      },
      "execution_count": null,
      "outputs": [
        {
          "output_type": "stream",
          "name": "stdout",
          "text": [
            "                  precision    recall  f1-score   support\n",
            "\n",
            "No Heart Disease       0.90      0.78      0.84     13913\n",
            "   Heart Disease       0.61      0.80      0.69      5999\n",
            "\n",
            "        accuracy                           0.79     19912\n",
            "       macro avg       0.76      0.79      0.77     19912\n",
            "    weighted avg       0.81      0.79      0.79     19912\n",
            "\n"
          ]
        }
      ]
    },
    {
      "cell_type": "markdown",
      "source": [
        "Precision represents the ratio of correctly predicted positive observaions to the total predicted positive observations:\n",
        "* The precision was 90% for No Heart Disease, suggesting that there is a low false positive rate\n",
        "* The precision was 61% for Heart Disease, suggesting that the false positive rate was higher for those with a heart disease\n",
        "\n",
        "Recall represents the ratio of positive obervations to all predicted observations of that class:\n",
        "* The recall was 78% for No Heart Disease, suggesting that there is a low false negative rate for those without a heart disease\n",
        "* The recall was 80% for Heart Disease, suggesting that the false negative rate was slightly lower for those with a heart disease\n",
        "\n",
        "Considering the average of the precision and recall, the overall model has a f1 score of 79% which shows the model is fairly good at avoiding false negatives and positives but there is room for improvement before this model would be worthy to deal with such a sensitive topic due to the repercussions of these false positives and negatives which are still present."
      ],
      "metadata": {
        "id": "arYPRxM-lQ5t"
      }
    },
    {
      "cell_type": "markdown",
      "source": [
        "# Model 3: Decision Tree"
      ],
      "metadata": {
        "id": "6ncF6uW9z_sj"
      }
    },
    {
      "cell_type": "markdown",
      "source": [
        "**The Decision Tree Classifie**r is a machine learning algorithm that creates a tree-like structure to make decisions based on **input features.** Each node in the tree represents a decision point based on a specific feature and a threshold value. The tree branches out into two or more child nodes based on the feature values, creating a hierarchical structure. The leaf nodes of the tree represent the predicted class labels.\n",
        "\n",
        "It is known **simplicity and interpretability** and it is used for both classification and regression tasks.\n",
        "\n",
        "**Model Creation**: In the code below, a Decision Tree Classifier is created with random_state=42. The random_state parameter ensures that the model's behavior remains consistent across runs for reproducibility."
      ],
      "metadata": {
        "id": "UcgTZ4taYx-V"
      }
    },
    {
      "cell_type": "code",
      "source": [
        "# Creating Decision Tree Classifier\n",
        "dt_model = DecisionTreeClassifier(random_state=42)"
      ],
      "metadata": {
        "id": "5lbwoRfr0szl"
      },
      "execution_count": null,
      "outputs": []
    },
    {
      "cell_type": "markdown",
      "source": [
        "**Model Training**: The model is trained using the training data (X_train_resampled and y_train_resampled) with the fit method. During training, the Decision Tree algorithm learns to make decisions by selecting the best features and thresholds that result in the most accurate predictions on the training data."
      ],
      "metadata": {
        "id": "uKFeRN8IZZXI"
      }
    },
    {
      "cell_type": "code",
      "source": [
        "# Fit the model to the training data\n",
        "dt_model.fit(X_train_resampled, y_train_resampled)"
      ],
      "metadata": {
        "colab": {
          "base_uri": "https://localhost:8080/",
          "height": 75
        },
        "id": "0fRrwKBtNEYF",
        "outputId": "a25a7eed-6381-4b29-cfbc-4a3891a7d1f0"
      },
      "execution_count": null,
      "outputs": [
        {
          "output_type": "execute_result",
          "data": {
            "text/plain": [
              "DecisionTreeClassifier(random_state=42)"
            ],
            "text/html": [
              "<style>#sk-container-id-4 {color: black;background-color: white;}#sk-container-id-4 pre{padding: 0;}#sk-container-id-4 div.sk-toggleable {background-color: white;}#sk-container-id-4 label.sk-toggleable__label {cursor: pointer;display: block;width: 100%;margin-bottom: 0;padding: 0.3em;box-sizing: border-box;text-align: center;}#sk-container-id-4 label.sk-toggleable__label-arrow:before {content: \"▸\";float: left;margin-right: 0.25em;color: #696969;}#sk-container-id-4 label.sk-toggleable__label-arrow:hover:before {color: black;}#sk-container-id-4 div.sk-estimator:hover label.sk-toggleable__label-arrow:before {color: black;}#sk-container-id-4 div.sk-toggleable__content {max-height: 0;max-width: 0;overflow: hidden;text-align: left;background-color: #f0f8ff;}#sk-container-id-4 div.sk-toggleable__content pre {margin: 0.2em;color: black;border-radius: 0.25em;background-color: #f0f8ff;}#sk-container-id-4 input.sk-toggleable__control:checked~div.sk-toggleable__content {max-height: 200px;max-width: 100%;overflow: auto;}#sk-container-id-4 input.sk-toggleable__control:checked~label.sk-toggleable__label-arrow:before {content: \"▾\";}#sk-container-id-4 div.sk-estimator input.sk-toggleable__control:checked~label.sk-toggleable__label {background-color: #d4ebff;}#sk-container-id-4 div.sk-label input.sk-toggleable__control:checked~label.sk-toggleable__label {background-color: #d4ebff;}#sk-container-id-4 input.sk-hidden--visually {border: 0;clip: rect(1px 1px 1px 1px);clip: rect(1px, 1px, 1px, 1px);height: 1px;margin: -1px;overflow: hidden;padding: 0;position: absolute;width: 1px;}#sk-container-id-4 div.sk-estimator {font-family: monospace;background-color: #f0f8ff;border: 1px dotted black;border-radius: 0.25em;box-sizing: border-box;margin-bottom: 0.5em;}#sk-container-id-4 div.sk-estimator:hover {background-color: #d4ebff;}#sk-container-id-4 div.sk-parallel-item::after {content: \"\";width: 100%;border-bottom: 1px solid gray;flex-grow: 1;}#sk-container-id-4 div.sk-label:hover label.sk-toggleable__label {background-color: #d4ebff;}#sk-container-id-4 div.sk-serial::before {content: \"\";position: absolute;border-left: 1px solid gray;box-sizing: border-box;top: 0;bottom: 0;left: 50%;z-index: 0;}#sk-container-id-4 div.sk-serial {display: flex;flex-direction: column;align-items: center;background-color: white;padding-right: 0.2em;padding-left: 0.2em;position: relative;}#sk-container-id-4 div.sk-item {position: relative;z-index: 1;}#sk-container-id-4 div.sk-parallel {display: flex;align-items: stretch;justify-content: center;background-color: white;position: relative;}#sk-container-id-4 div.sk-item::before, #sk-container-id-4 div.sk-parallel-item::before {content: \"\";position: absolute;border-left: 1px solid gray;box-sizing: border-box;top: 0;bottom: 0;left: 50%;z-index: -1;}#sk-container-id-4 div.sk-parallel-item {display: flex;flex-direction: column;z-index: 1;position: relative;background-color: white;}#sk-container-id-4 div.sk-parallel-item:first-child::after {align-self: flex-end;width: 50%;}#sk-container-id-4 div.sk-parallel-item:last-child::after {align-self: flex-start;width: 50%;}#sk-container-id-4 div.sk-parallel-item:only-child::after {width: 0;}#sk-container-id-4 div.sk-dashed-wrapped {border: 1px dashed gray;margin: 0 0.4em 0.5em 0.4em;box-sizing: border-box;padding-bottom: 0.4em;background-color: white;}#sk-container-id-4 div.sk-label label {font-family: monospace;font-weight: bold;display: inline-block;line-height: 1.2em;}#sk-container-id-4 div.sk-label-container {text-align: center;}#sk-container-id-4 div.sk-container {/* jupyter's `normalize.less` sets `[hidden] { display: none; }` but bootstrap.min.css set `[hidden] { display: none !important; }` so we also need the `!important` here to be able to override the default hidden behavior on the sphinx rendered scikit-learn.org. See: https://github.com/scikit-learn/scikit-learn/issues/21755 */display: inline-block !important;position: relative;}#sk-container-id-4 div.sk-text-repr-fallback {display: none;}</style><div id=\"sk-container-id-4\" class=\"sk-top-container\"><div class=\"sk-text-repr-fallback\"><pre>DecisionTreeClassifier(random_state=42)</pre><b>In a Jupyter environment, please rerun this cell to show the HTML representation or trust the notebook. <br />On GitHub, the HTML representation is unable to render, please try loading this page with nbviewer.org.</b></div><div class=\"sk-container\" hidden><div class=\"sk-item\"><div class=\"sk-estimator sk-toggleable\"><input class=\"sk-toggleable__control sk-hidden--visually\" id=\"sk-estimator-id-4\" type=\"checkbox\" checked><label for=\"sk-estimator-id-4\" class=\"sk-toggleable__label sk-toggleable__label-arrow\">DecisionTreeClassifier</label><div class=\"sk-toggleable__content\"><pre>DecisionTreeClassifier(random_state=42)</pre></div></div></div></div></div>"
            ]
          },
          "metadata": {},
          "execution_count": 28
        }
      ]
    },
    {
      "cell_type": "markdown",
      "source": [
        "**Making Predictions**: After training, the model is used to make predictions on the test dataset (X_test) with the predict method. The predicted labels are stored in the y_pred variable"
      ],
      "metadata": {
        "id": "p9xMMsQQZiIU"
      }
    },
    {
      "cell_type": "code",
      "source": [
        "# Predicting on the test data\n",
        "y_pred = dt_model.predict(X_test)"
      ],
      "metadata": {
        "id": "LPoSi6EGNG9d"
      },
      "execution_count": null,
      "outputs": []
    },
    {
      "cell_type": "markdown",
      "source": [
        "**Model Evaluation**:\n",
        "\n",
        "**Accuracy:**\n",
        "The accuracy_score function calculates accuracy, which is the proportion of correctly predicted samples in the test dataset. It's a commonly used metric for binary and multiclass classification tasks.\n",
        "\n",
        "**Confusion Matrix:**\n",
        "The confusion matrix, generated by the confusion_matrix function, provides a detailed view of the model's performance.\n",
        "It consists of four components:\n",
        "True Positives (TP): The number of correctly predicted positive samples.\n",
        "True Negatives (TN): The number of correctly predicted negative samples.\n",
        "False Positives (FP): The number of negative"
      ],
      "metadata": {
        "id": "tQe5a_OQaPwx"
      }
    },
    {
      "cell_type": "code",
      "source": [
        "# Evaluate the model\n",
        "accuracy = accuracy_score(y_test, y_pred)\n",
        "conf_matrix = confusion_matrix(y_test, y_pred)\n",
        "class_report = classification_report(y_test, y_pred)"
      ],
      "metadata": {
        "id": "V6WMzk8VNK10"
      },
      "execution_count": null,
      "outputs": []
    },
    {
      "cell_type": "markdown",
      "source": [
        "**Results Printing**: The code then prints out the evaluation results, including accuracy, the confusion matrix, and the classification report.\n",
        "\n",
        "*Classification Accuracy*: 0.8935 (approximately 89.35%)\n",
        "\n",
        "This is the overall accuracy of the model, which represents the proportion of correctly predicted samples in the test dataset. In this case, it means that approximately 89.35% of the test samples were correctly classified by the model.\n",
        "\n",
        "*The confusion matrix* provides a detailed breakdown of the model's predictions:\n",
        "True Positives (TP): 5016 cases were correctly predicted as positive.\n",
        "True Negatives (TN): 12776 cases were correctly predicted as negative.\n",
        "False Positives (FP): 1137 cases were incorrectly predicted as positive (Type I error).\n",
        "False Negatives (FN): 983 cases were incorrectly predicted as negative (Type II error).\n",
        "\n",
        "*Precision (for class 0 and class 1):* Precision measures the proportion of true positive predictions out of all positive predictions. For class 0, it is approximately 0.93, and for class 1, it is approximately 0.82. This indicates that when the model predicts class 0, it is correct about 93% of the time, and when it predicts class 1, it is correct about 82% of the time.\n",
        "\n",
        "*Recall (for class 0 and class 1):* Recall, also known as sensitivity, measures the proportion of true positive predictions out of all actual positives. For class 0, it is approximately 0.92, and for class 1, it is approximately 0.84. This indicates that the model correctly identifies about 92% of the actual class 0 samples and about 84% of the actual class 1 samples.\n",
        "\n",
        "F1-Score (for class 0 and class 1): The F1-score is the harmonic mean of precision and recall. It provides a balance between precision and recall. For class 0, it is approximately 0.92, and for class 1, it is approximately 0.83. Higher F1-scores indicate better performance in terms of both precision and recall.\n",
        "\n",
        "Support (for class 0 and class 1): Support indicates the number of true instances for each class in the test dataset. There are 13,913 instances of class 0 and 5,999 instances of class 1 in the test data.\n",
        "\n",
        "Macro Average: The macro average takes the average of precision, recall, and F1-score across all classes. In this case, it's approximately 0.87, indicating the overall performance across both classes.\n",
        "\n",
        "Weighted Average: The weighted average considers the support (number of instances) for each class when calculating the average. It provides a more accurate representation of performance, considering class imbalances. In this case, it's approximately 0.89, reflecting the overall weighted performance across both classes."
      ],
      "metadata": {
        "id": "gSPzPUgPaVw5"
      }
    },
    {
      "cell_type": "code",
      "source": [
        "# Print the results\n",
        "print(\"Accuracy:\", accuracy)\n",
        "print(\"Confusion Matrix:\\n\", conf_matrix)\n",
        "print(\"Classification Report:\\n\", class_report)"
      ],
      "metadata": {
        "colab": {
          "base_uri": "https://localhost:8080/"
        },
        "id": "R74qUB_4NNhr",
        "outputId": "7d879832-025e-4ab6-a327-e451e41a0296"
      },
      "execution_count": null,
      "outputs": [
        {
          "output_type": "stream",
          "name": "stdout",
          "text": [
            "Accuracy: 0.8935315387705905\n",
            "Confusion Matrix:\n",
            " [[12776  1137]\n",
            " [  983  5016]]\n",
            "Classification Report:\n",
            "               precision    recall  f1-score   support\n",
            "\n",
            "           0       0.93      0.92      0.92     13913\n",
            "           1       0.82      0.84      0.83      5999\n",
            "\n",
            "    accuracy                           0.89     19912\n",
            "   macro avg       0.87      0.88      0.87     19912\n",
            "weighted avg       0.89      0.89      0.89     19912\n",
            "\n"
          ]
        }
      ]
    },
    {
      "cell_type": "markdown",
      "source": [
        "# Model 4: Random Forest"
      ],
      "metadata": {
        "id": "ypnnFN5Y0gcO"
      }
    },
    {
      "cell_type": "markdown",
      "source": [
        "**A Random Forest** is an ensemble learning method, which means it combines the predictions of multiple individual models to make more accurate predictions collectively. In this case, those individual models are decision trees.\n",
        "\n",
        "\n",
        "The following hyperparameters were used:\n",
        "\n",
        "*n_estimators=100*: This specifies the number of decision trees (estimators) in the ensemble. In this case, 100 decision trees are used.\n",
        "\n",
        "*random_state=42*: The random state is set for reproducibility."
      ],
      "metadata": {
        "id": "1CciHwqQab8P"
      }
    },
    {
      "cell_type": "code",
      "source": [
        "# Create a Random Forest Classifier\n",
        "rf_model = RandomForestClassifier(n_estimators=100, random_state=42)"
      ],
      "metadata": {
        "id": "COAWr2oz0tUB"
      },
      "execution_count": null,
      "outputs": []
    },
    {
      "cell_type": "markdown",
      "source": [
        "The Random Forest model (rf) is trained on the training data using the fit method."
      ],
      "metadata": {
        "id": "Z6kRVtcOalNU"
      }
    },
    {
      "cell_type": "code",
      "source": [
        "# Fit the model to the training data\n",
        "rf_model.fit(X_train_resampled, y_train_resampled)"
      ],
      "metadata": {
        "colab": {
          "base_uri": "https://localhost:8080/",
          "height": 75
        },
        "id": "kX2y18goNSxv",
        "outputId": "03f12c7e-e0f1-43a3-8790-1e42262dc736"
      },
      "execution_count": null,
      "outputs": [
        {
          "output_type": "execute_result",
          "data": {
            "text/plain": [
              "RandomForestClassifier(random_state=42)"
            ],
            "text/html": [
              "<style>#sk-container-id-5 {color: black;background-color: white;}#sk-container-id-5 pre{padding: 0;}#sk-container-id-5 div.sk-toggleable {background-color: white;}#sk-container-id-5 label.sk-toggleable__label {cursor: pointer;display: block;width: 100%;margin-bottom: 0;padding: 0.3em;box-sizing: border-box;text-align: center;}#sk-container-id-5 label.sk-toggleable__label-arrow:before {content: \"▸\";float: left;margin-right: 0.25em;color: #696969;}#sk-container-id-5 label.sk-toggleable__label-arrow:hover:before {color: black;}#sk-container-id-5 div.sk-estimator:hover label.sk-toggleable__label-arrow:before {color: black;}#sk-container-id-5 div.sk-toggleable__content {max-height: 0;max-width: 0;overflow: hidden;text-align: left;background-color: #f0f8ff;}#sk-container-id-5 div.sk-toggleable__content pre {margin: 0.2em;color: black;border-radius: 0.25em;background-color: #f0f8ff;}#sk-container-id-5 input.sk-toggleable__control:checked~div.sk-toggleable__content {max-height: 200px;max-width: 100%;overflow: auto;}#sk-container-id-5 input.sk-toggleable__control:checked~label.sk-toggleable__label-arrow:before {content: \"▾\";}#sk-container-id-5 div.sk-estimator input.sk-toggleable__control:checked~label.sk-toggleable__label {background-color: #d4ebff;}#sk-container-id-5 div.sk-label input.sk-toggleable__control:checked~label.sk-toggleable__label {background-color: #d4ebff;}#sk-container-id-5 input.sk-hidden--visually {border: 0;clip: rect(1px 1px 1px 1px);clip: rect(1px, 1px, 1px, 1px);height: 1px;margin: -1px;overflow: hidden;padding: 0;position: absolute;width: 1px;}#sk-container-id-5 div.sk-estimator {font-family: monospace;background-color: #f0f8ff;border: 1px dotted black;border-radius: 0.25em;box-sizing: border-box;margin-bottom: 0.5em;}#sk-container-id-5 div.sk-estimator:hover {background-color: #d4ebff;}#sk-container-id-5 div.sk-parallel-item::after {content: \"\";width: 100%;border-bottom: 1px solid gray;flex-grow: 1;}#sk-container-id-5 div.sk-label:hover label.sk-toggleable__label {background-color: #d4ebff;}#sk-container-id-5 div.sk-serial::before {content: \"\";position: absolute;border-left: 1px solid gray;box-sizing: border-box;top: 0;bottom: 0;left: 50%;z-index: 0;}#sk-container-id-5 div.sk-serial {display: flex;flex-direction: column;align-items: center;background-color: white;padding-right: 0.2em;padding-left: 0.2em;position: relative;}#sk-container-id-5 div.sk-item {position: relative;z-index: 1;}#sk-container-id-5 div.sk-parallel {display: flex;align-items: stretch;justify-content: center;background-color: white;position: relative;}#sk-container-id-5 div.sk-item::before, #sk-container-id-5 div.sk-parallel-item::before {content: \"\";position: absolute;border-left: 1px solid gray;box-sizing: border-box;top: 0;bottom: 0;left: 50%;z-index: -1;}#sk-container-id-5 div.sk-parallel-item {display: flex;flex-direction: column;z-index: 1;position: relative;background-color: white;}#sk-container-id-5 div.sk-parallel-item:first-child::after {align-self: flex-end;width: 50%;}#sk-container-id-5 div.sk-parallel-item:last-child::after {align-self: flex-start;width: 50%;}#sk-container-id-5 div.sk-parallel-item:only-child::after {width: 0;}#sk-container-id-5 div.sk-dashed-wrapped {border: 1px dashed gray;margin: 0 0.4em 0.5em 0.4em;box-sizing: border-box;padding-bottom: 0.4em;background-color: white;}#sk-container-id-5 div.sk-label label {font-family: monospace;font-weight: bold;display: inline-block;line-height: 1.2em;}#sk-container-id-5 div.sk-label-container {text-align: center;}#sk-container-id-5 div.sk-container {/* jupyter's `normalize.less` sets `[hidden] { display: none; }` but bootstrap.min.css set `[hidden] { display: none !important; }` so we also need the `!important` here to be able to override the default hidden behavior on the sphinx rendered scikit-learn.org. See: https://github.com/scikit-learn/scikit-learn/issues/21755 */display: inline-block !important;position: relative;}#sk-container-id-5 div.sk-text-repr-fallback {display: none;}</style><div id=\"sk-container-id-5\" class=\"sk-top-container\"><div class=\"sk-text-repr-fallback\"><pre>RandomForestClassifier(random_state=42)</pre><b>In a Jupyter environment, please rerun this cell to show the HTML representation or trust the notebook. <br />On GitHub, the HTML representation is unable to render, please try loading this page with nbviewer.org.</b></div><div class=\"sk-container\" hidden><div class=\"sk-item\"><div class=\"sk-estimator sk-toggleable\"><input class=\"sk-toggleable__control sk-hidden--visually\" id=\"sk-estimator-id-5\" type=\"checkbox\" checked><label for=\"sk-estimator-id-5\" class=\"sk-toggleable__label sk-toggleable__label-arrow\">RandomForestClassifier</label><div class=\"sk-toggleable__content\"><pre>RandomForestClassifier(random_state=42)</pre></div></div></div></div></div>"
            ]
          },
          "metadata": {},
          "execution_count": 33
        }
      ]
    },
    {
      "cell_type": "markdown",
      "source": [
        "Predictions are made on the test data using the predict method, and the predicted labels are stored in y_pred."
      ],
      "metadata": {
        "id": "kKCWKxppapnd"
      }
    },
    {
      "cell_type": "code",
      "source": [
        "# Predicting on the test data\n",
        "y_pred = rf_model.predict(X_test)"
      ],
      "metadata": {
        "id": "5cQvHyHSNU2E"
      },
      "execution_count": null,
      "outputs": []
    },
    {
      "cell_type": "markdown",
      "source": [
        "**Classification Report**: The Random Forest Classifier achieved an accuracy of approximately 92.80%, which indicates that about 92.80% of the test samples were correctly classified.\n",
        "\n",
        "The confusion matrix shows that the model correctly predicted 13,557 instances of class 0 (True Negatives) and 4,922 instances of class 1 (True Positives).\n",
        "It had 356 False Positives (predicting class 1 when it was actually class 0) and 1,077 False Negatives (predicting class 0 when it was actually class 1).\n",
        "\n",
        "For class 0 (no heart disease), the model achieved a precision of 0.93 and recall of 0.97. This means it correctly predicted 93% of the instances as class 0 out of all instances it predicted as class 0, and it captured 97% of the actual class 0 instances.\n",
        "For class 1 (heart disease), the model achieved a precision of 0.93 and recall of 0.82, indicating that it correctly predicted 93% of the instances as class 1 out of all instances it predicted as class 1, and it captured 82% of the actual class 1 instances.\n",
        "Additional Information:\n",
        "\n",
        "The macro average F1-score is approximately 0.91, indicating strong overall performance across both classes.\n",
        "The weighted average F1-score is approximately 0.93, reflecting the overall weighted performance across both classes, considering class imbalances."
      ],
      "metadata": {
        "id": "2ggt-2ZeawBp"
      }
    },
    {
      "cell_type": "code",
      "source": [
        "# Evaluate the Random Forest model\n",
        "accuracy = accuracy_score(y_test, y_pred)\n",
        "conf_matrix = confusion_matrix(y_test, y_pred)\n",
        "class_report = classification_report(y_test, y_pred)"
      ],
      "metadata": {
        "id": "k-Vn4hXYNYpZ"
      },
      "execution_count": null,
      "outputs": []
    },
    {
      "cell_type": "code",
      "source": [
        "# Print the results\n",
        "print(\"Accuracy:\", accuracy)\n",
        "print(\"Confusion Matrix:\\n\", conf_matrix)\n",
        "print(\"Classification Report:\\n\", class_report)"
      ],
      "metadata": {
        "colab": {
          "base_uri": "https://localhost:8080/"
        },
        "id": "7eypR-VDNaAz",
        "outputId": "e1b11199-b35d-4215-ab2f-b7223edb6c81"
      },
      "execution_count": null,
      "outputs": [
        {
          "output_type": "stream",
          "name": "stdout",
          "text": [
            "Accuracy: 0.9280333467255926\n",
            "Confusion Matrix:\n",
            " [[13557   356]\n",
            " [ 1077  4922]]\n",
            "Classification Report:\n",
            "               precision    recall  f1-score   support\n",
            "\n",
            "           0       0.93      0.97      0.95     13913\n",
            "           1       0.93      0.82      0.87      5999\n",
            "\n",
            "    accuracy                           0.93     19912\n",
            "   macro avg       0.93      0.90      0.91     19912\n",
            "weighted avg       0.93      0.93      0.93     19912\n",
            "\n"
          ]
        }
      ]
    },
    {
      "cell_type": "markdown",
      "source": [
        "The Random Forest Classifier for **feature importance** provides a method to assess the significance of each feature (ie. general heath and several food consumptions) in predicting the target variable (in this case, the presence of cardiovascular disease) based on the ensemble of decision trees.\n"
      ],
      "metadata": {
        "id": "0ubc4WZJa25e"
      }
    },
    {
      "cell_type": "code",
      "source": [
        "# Calculate feature importance\n",
        "feature_importance = rf_model.feature_importances_"
      ],
      "metadata": {
        "id": "GfVA-QYENcdw"
      },
      "execution_count": null,
      "outputs": []
    },
    {
      "cell_type": "code",
      "source": [
        "# Create a DataFrame to associate feature names with their importance scores\n",
        "importance_df = pd.DataFrame({'Feature': X.columns, 'Importance': feature_importance})"
      ],
      "metadata": {
        "id": "1ktZve0LNqq1"
      },
      "execution_count": null,
      "outputs": []
    },
    {
      "cell_type": "code",
      "source": [
        "# Sort the features by importance\n",
        "importance_df = importance_df.sort_values(by='Importance', ascending=False)"
      ],
      "metadata": {
        "id": "VpGgEANRNsge"
      },
      "execution_count": null,
      "outputs": []
    },
    {
      "cell_type": "code",
      "source": [
        "# Print or visualize the feature importance\n",
        "print(importance_df)"
      ],
      "metadata": {
        "colab": {
          "base_uri": "https://localhost:8080/"
        },
        "id": "UjmF82P4NuRm",
        "outputId": "ed1d1f5c-828d-4af6-f454-6ca9ddbec783"
      },
      "execution_count": null,
      "outputs": [
        {
          "output_type": "stream",
          "name": "stdout",
          "text": [
            "                            Feature  Importance\n",
            "0                         height_cm    0.168849\n",
            "4                 fruit_consumption    0.155208\n",
            "2                               bmi    0.103543\n",
            "1                         weight_kg    0.102074\n",
            "3               alcohol_consumption    0.069646\n",
            "6           friedpotato_consumption    0.058505\n",
            "5      green_vegetables_consumption    0.054695\n",
            "27                     arthritis_No    0.020196\n",
            "26                     diabetes_Yes    0.020141\n",
            "43                 age_category_80+    0.019500\n",
            "25                      diabetes_No    0.018765\n",
            "8               general_health_Fair    0.018438\n",
            "28                    arthritis_Yes    0.013832\n",
            "10              general_health_Poor    0.012223\n",
            "11         general_health_Very Good    0.011168\n",
            "7          general_health_Excellent    0.010467\n",
            "29                       sex_Female    0.010109\n",
            "30                         sex_Male    0.009722\n",
            "42               age_category_75-79    0.009370\n",
            "44               smoking_history_No    0.009234\n",
            "41               age_category_70-74    0.007997\n",
            "45              smoking_history_Yes    0.007992\n",
            "9               general_health_Good    0.006928\n",
            "17                      exercise_No    0.006832\n",
            "16     checkup_Within the past year    0.006192\n",
            "18                     exercise_Yes    0.006027\n",
            "40               age_category_65-69    0.005747\n",
            "22                 other_cancer_Yes    0.005329\n",
            "21                  other_cancer_No    0.005035\n",
            "24                   depression_Yes    0.004765\n",
            "19                   skin_cancer_No    0.004736\n",
            "20                  skin_cancer_Yes    0.004728\n",
            "39               age_category_60-64    0.004723\n",
            "23                    depression_No    0.004699\n",
            "38               age_category_55-59    0.004106\n",
            "37               age_category_50-54    0.003179\n",
            "14  checkup_Within the past 2 years    0.002550\n",
            "36               age_category_45-49    0.002373\n",
            "35               age_category_40-44    0.002163\n",
            "34               age_category_35-39    0.001891\n",
            "33               age_category_30-34    0.001426\n",
            "31               age_category_18-24    0.001284\n",
            "15  checkup_Within the past 5 years    0.001272\n",
            "32               age_category_25-29    0.001206\n",
            "12      checkup_5 or more years ago    0.000929\n",
            "13                    checkup_Never    0.000205\n"
          ]
        }
      ]
    },
    {
      "cell_type": "markdown",
      "source": [
        "The top three important features for predicting cardiovascular disease (CVD) are identified as height, fruit consumption, and BMI (Body Mass Index).\n",
        "\n"
      ],
      "metadata": {
        "id": "5XRNEu8RbCmx"
      }
    },
    {
      "cell_type": "code",
      "source": [
        "# Display only the top N most important features\n",
        "top_n = 10\n",
        "top_importance_df = importance_df.head(top_n)"
      ],
      "metadata": {
        "id": "hNR8OzlYNxIF"
      },
      "execution_count": null,
      "outputs": []
    },
    {
      "cell_type": "code",
      "source": [
        "# Plot the feature importance\n",
        "y_pos = range(len(top_importance_df))\n",
        "plt.figure(figsize=(10, 6))\n",
        "plt.barh(y_pos, top_importance_df['Importance'])\n",
        "plt.yticks(y_pos, top_importance_df['Feature'])\n",
        "plt.xlabel('Feature Importance')\n",
        "plt.title('Top {} Random Forest Feature Importance'.format(top_n))\n",
        "plt.gca().invert_yaxis()\n",
        "plt.tight_layout()\n",
        "plt.show()"
      ],
      "metadata": {
        "colab": {
          "base_uri": "https://localhost:8080/",
          "height": 607
        },
        "id": "KnAudMldNzGF",
        "outputId": "cd8e6176-2106-4472-b6ca-aeb7bef60036"
      },
      "execution_count": null,
      "outputs": [
        {
          "output_type": "display_data",
          "data": {
            "text/plain": [
              "<Figure size 1000x600 with 1 Axes>"
            ],
            "image/png": "[encoded data removed]"
          },
          "metadata": {}
        }
      ]
    },
    {
      "cell_type": "markdown",
      "source": [
        "While the feature importance analysis provides valuable insights, several important considerations highlight the need for further investigation:\n",
        "\n",
        "1. Correlation vs. Causation: **Feature importance does not establish causation.** While height, fruit consumption, and BMI may be important predictors, they may not be the direct causes of CVD.\n",
        "\n",
        "2. Domain Expertise: Medical and domain experts should validate the findings. They can provide insights into the biological and clinical relevance of these features and their relationships with CVD.\n",
        "\n",
        "3. Data Quality: The results are based on the quality and representativeness of the dataset.\n",
        "\n"
      ],
      "metadata": {
        "id": "EMce3Q8LbLVK"
      }
    },
    {
      "cell_type": "markdown",
      "source": [
        "# Model 5: Neural Network"
      ],
      "metadata": {
        "id": "QliTLSqQ0lYl"
      }
    },
    {
      "cell_type": "code",
      "source": [
        "# Define the model - deep neural net, i.e., the number of input features and hidden nodes for each layer.\n",
        "number_input_features = X_train_resampled.shape[1]\n",
        "hidden_nodes_layer1 =  64\n",
        "hidden_nodes_layer2 = 64\n",
        "\n",
        "nn_model = tf.keras.models.Sequential()\n",
        "\n",
        "# First hidden layer\n",
        "nn_model.add(\n",
        "    tf.keras.layers.Dense(units=hidden_nodes_layer1, input_dim=number_input_features, activation=\"relu\")\n",
        ")\n",
        "\n",
        "# Second hidden layer\n",
        "nn_model.add(tf.keras.layers.Dense(units=hidden_nodes_layer2, activation=\"relu\"))\n",
        "\n",
        "# Output layer\n",
        "nn_model.add(tf.keras.layers.Dense(units=1, activation=\"sigmoid\"))\n",
        "\n",
        "# Check the structure of the model\n",
        "nn_model.summary()"
      ],
      "metadata": {
        "colab": {
          "base_uri": "https://localhost:8080/"
        },
        "id": "pi9_VrSAOBMC",
        "outputId": "03648059-e490-47ab-a1c1-dafc79b2cea1"
      },
      "execution_count": null,
      "outputs": [
        {
          "output_type": "stream",
          "name": "stdout",
          "text": [
            "Model: \"sequential\"\n",
            "_________________________________________________________________\n",
            " Layer (type)                Output Shape              Param #   \n",
            "=================================================================\n",
            " dense (Dense)               (None, 64)                3008      \n",
            "                                                                 \n",
            " dense_1 (Dense)             (None, 64)                4160      \n",
            "                                                                 \n",
            " dense_2 (Dense)             (None, 1)                 65        \n",
            "                                                                 \n",
            "=================================================================\n",
            "Total params: 7233 (28.25 KB)\n",
            "Trainable params: 7233 (28.25 KB)\n",
            "Non-trainable params: 0 (0.00 Byte)\n",
            "_________________________________________________________________\n"
          ]
        }
      ]
    },
    {
      "cell_type": "code",
      "source": [
        "# Compile the model\n",
        "nn_model.compile(loss=\"binary_crossentropy\", optimizer=\"adam\", metrics=[\"accuracy\"])"
      ],
      "metadata": {
        "id": "JnHfagH0OBCt"
      },
      "execution_count": null,
      "outputs": []
    },
    {
      "cell_type": "code",
      "source": [
        "# Train the model\n",
        "fit_model = nn_model.fit(X_train_resampled, y_train_resampled, epochs=100, validation_data=(X_test, y_test))"
      ],
      "metadata": {
        "colab": {
          "base_uri": "https://localhost:8080/"
        },
        "id": "VV-zKawIOA40",
        "outputId": "e59c66df-7514-4057-fda1-5078b33f5fc2"
      },
      "execution_count": null,
      "outputs": [
        {
          "output_type": "stream",
          "name": "stdout",
          "text": [
            "Epoch 1/100\n",
            "2604/2604 [==============================] - 9s 3ms/step - loss: 0.3079 - accuracy: 0.8594 - val_loss: 0.2551 - val_accuracy: 0.8902\n",
            "Epoch 2/100\n",
            "2604/2604 [==============================] - 11s 4ms/step - loss: 0.2726 - accuracy: 0.8732 - val_loss: 0.2388 - val_accuracy: 0.8969\n",
            "Epoch 3/100\n",
            "2604/2604 [==============================] - 6s 2ms/step - loss: 0.2567 - accuracy: 0.8819 - val_loss: 0.2383 - val_accuracy: 0.9041\n",
            "Epoch 4/100\n",
            "2604/2604 [==============================] - 7s 3ms/step - loss: 0.2443 - accuracy: 0.8871 - val_loss: 0.2568 - val_accuracy: 0.8803\n",
            "Epoch 5/100\n",
            "2604/2604 [==============================] - 6s 2ms/step - loss: 0.2361 - accuracy: 0.8905 - val_loss: 0.2257 - val_accuracy: 0.9070\n",
            "Epoch 6/100\n",
            "2604/2604 [==============================] - 7s 3ms/step - loss: 0.2312 - accuracy: 0.8919 - val_loss: 0.2265 - val_accuracy: 0.9062\n",
            "Epoch 7/100\n",
            "2604/2604 [==============================] - 6s 2ms/step - loss: 0.2260 - accuracy: 0.8951 - val_loss: 0.2136 - val_accuracy: 0.9128\n",
            "Epoch 8/100\n",
            "2604/2604 [==============================] - 7s 3ms/step - loss: 0.2217 - accuracy: 0.8968 - val_loss: 0.2239 - val_accuracy: 0.9062\n",
            "Epoch 9/100\n",
            "2604/2604 [==============================] - 6s 2ms/step - loss: 0.2182 - accuracy: 0.8990 - val_loss: 0.2253 - val_accuracy: 0.9033\n",
            "Epoch 10/100\n",
            "2604/2604 [==============================] - 7s 3ms/step - loss: 0.2150 - accuracy: 0.9003 - val_loss: 0.2285 - val_accuracy: 0.9011\n",
            "Epoch 11/100\n",
            "2604/2604 [==============================] - 6s 2ms/step - loss: 0.2119 - accuracy: 0.9017 - val_loss: 0.2323 - val_accuracy: 0.8965\n",
            "Epoch 12/100\n",
            "2604/2604 [==============================] - 7s 3ms/step - loss: 0.2082 - accuracy: 0.9032 - val_loss: 0.2318 - val_accuracy: 0.8990\n",
            "Epoch 13/100\n",
            "2604/2604 [==============================] - 6s 2ms/step - loss: 0.2049 - accuracy: 0.9054 - val_loss: 0.2395 - val_accuracy: 0.8940\n",
            "Epoch 14/100\n",
            "2604/2604 [==============================] - 7s 3ms/step - loss: 0.2026 - accuracy: 0.9056 - val_loss: 0.2504 - val_accuracy: 0.8908\n",
            "Epoch 15/100\n",
            "2604/2604 [==============================] - 6s 2ms/step - loss: 0.1991 - accuracy: 0.9080 - val_loss: 0.2346 - val_accuracy: 0.8981\n",
            "Epoch 16/100\n",
            "2604/2604 [==============================] - 7s 3ms/step - loss: 0.1964 - accuracy: 0.9099 - val_loss: 0.2441 - val_accuracy: 0.8983\n",
            "Epoch 17/100\n",
            "2604/2604 [==============================] - 6s 2ms/step - loss: 0.1940 - accuracy: 0.9111 - val_loss: 0.2450 - val_accuracy: 0.8953\n",
            "Epoch 18/100\n",
            "2604/2604 [==============================] - 7s 3ms/step - loss: 0.1914 - accuracy: 0.9123 - val_loss: 0.2334 - val_accuracy: 0.9007\n",
            "Epoch 19/100\n",
            "2604/2604 [==============================] - 6s 2ms/step - loss: 0.1884 - accuracy: 0.9135 - val_loss: 0.2443 - val_accuracy: 0.8965\n",
            "Epoch 20/100\n",
            "2604/2604 [==============================] - 7s 3ms/step - loss: 0.1861 - accuracy: 0.9144 - val_loss: 0.2370 - val_accuracy: 0.9016\n",
            "Epoch 21/100\n",
            "2604/2604 [==============================] - 6s 2ms/step - loss: 0.1841 - accuracy: 0.9151 - val_loss: 0.2546 - val_accuracy: 0.8897\n",
            "Epoch 22/100\n",
            "2604/2604 [==============================] - 7s 3ms/step - loss: 0.1817 - accuracy: 0.9169 - val_loss: 0.2394 - val_accuracy: 0.9004\n",
            "Epoch 23/100\n",
            "2604/2604 [==============================] - 6s 2ms/step - loss: 0.1787 - accuracy: 0.9182 - val_loss: 0.2558 - val_accuracy: 0.8923\n",
            "Epoch 24/100\n",
            "2604/2604 [==============================] - 7s 3ms/step - loss: 0.1764 - accuracy: 0.9196 - val_loss: 0.2521 - val_accuracy: 0.8935\n",
            "Epoch 25/100\n",
            "2604/2604 [==============================] - 6s 2ms/step - loss: 0.1746 - accuracy: 0.9205 - val_loss: 0.2567 - val_accuracy: 0.8958\n",
            "Epoch 26/100\n",
            "2604/2604 [==============================] - 7s 3ms/step - loss: 0.1719 - accuracy: 0.9220 - val_loss: 0.2589 - val_accuracy: 0.8951\n",
            "Epoch 27/100\n",
            "2604/2604 [==============================] - 6s 2ms/step - loss: 0.1700 - accuracy: 0.9226 - val_loss: 0.2608 - val_accuracy: 0.8944\n",
            "Epoch 28/100\n",
            "2604/2604 [==============================] - 6s 2ms/step - loss: 0.1681 - accuracy: 0.9241 - val_loss: 0.2550 - val_accuracy: 0.9008\n",
            "Epoch 29/100\n",
            "2604/2604 [==============================] - 6s 2ms/step - loss: 0.1663 - accuracy: 0.9252 - val_loss: 0.2662 - val_accuracy: 0.8945\n",
            "Epoch 30/100\n",
            "2604/2604 [==============================] - 6s 2ms/step - loss: 0.1642 - accuracy: 0.9262 - val_loss: 0.2651 - val_accuracy: 0.8944\n",
            "Epoch 31/100\n",
            "2604/2604 [==============================] - 6s 2ms/step - loss: 0.1626 - accuracy: 0.9260 - val_loss: 0.2701 - val_accuracy: 0.8916\n",
            "Epoch 32/100\n",
            "2604/2604 [==============================] - 6s 2ms/step - loss: 0.1608 - accuracy: 0.9274 - val_loss: 0.2718 - val_accuracy: 0.8968\n",
            "Epoch 33/100\n",
            "2604/2604 [==============================] - 6s 2ms/step - loss: 0.1600 - accuracy: 0.9285 - val_loss: 0.2804 - val_accuracy: 0.8933\n",
            "Epoch 34/100\n",
            "2604/2604 [==============================] - 6s 2ms/step - loss: 0.1573 - accuracy: 0.9292 - val_loss: 0.2765 - val_accuracy: 0.8951\n",
            "Epoch 35/100\n",
            "2604/2604 [==============================] - 7s 3ms/step - loss: 0.1564 - accuracy: 0.9305 - val_loss: 0.2915 - val_accuracy: 0.8895\n",
            "Epoch 36/100\n",
            "2604/2604 [==============================] - 6s 2ms/step - loss: 0.1543 - accuracy: 0.9315 - val_loss: 0.2825 - val_accuracy: 0.8900\n",
            "Epoch 37/100\n",
            "2604/2604 [==============================] - 7s 3ms/step - loss: 0.1532 - accuracy: 0.9316 - val_loss: 0.2930 - val_accuracy: 0.8879\n",
            "Epoch 38/100\n",
            "2604/2604 [==============================] - 6s 2ms/step - loss: 0.1517 - accuracy: 0.9319 - val_loss: 0.3007 - val_accuracy: 0.8917\n",
            "Epoch 39/100\n",
            "2604/2604 [==============================] - 7s 2ms/step - loss: 0.1502 - accuracy: 0.9335 - val_loss: 0.2938 - val_accuracy: 0.8889\n",
            "Epoch 40/100\n",
            "2604/2604 [==============================] - 7s 3ms/step - loss: 0.1484 - accuracy: 0.9343 - val_loss: 0.3086 - val_accuracy: 0.8834\n",
            "Epoch 41/100\n",
            "2604/2604 [==============================] - 6s 2ms/step - loss: 0.1470 - accuracy: 0.9352 - val_loss: 0.2972 - val_accuracy: 0.8942\n",
            "Epoch 42/100\n",
            "2604/2604 [==============================] - 6s 2ms/step - loss: 0.1475 - accuracy: 0.9346 - val_loss: 0.2923 - val_accuracy: 0.8931\n",
            "Epoch 43/100\n",
            "2604/2604 [==============================] - 7s 3ms/step - loss: 0.1451 - accuracy: 0.9355 - val_loss: 0.2977 - val_accuracy: 0.8971\n",
            "Epoch 44/100\n",
            "2604/2604 [==============================] - 6s 2ms/step - loss: 0.1437 - accuracy: 0.9365 - val_loss: 0.3028 - val_accuracy: 0.8921\n",
            "Epoch 45/100\n",
            "2604/2604 [==============================] - 7s 3ms/step - loss: 0.1428 - accuracy: 0.9375 - val_loss: 0.3129 - val_accuracy: 0.8894\n",
            "Epoch 46/100\n",
            "2604/2604 [==============================] - 6s 2ms/step - loss: 0.1419 - accuracy: 0.9373 - val_loss: 0.3037 - val_accuracy: 0.8982\n",
            "Epoch 47/100\n",
            "2604/2604 [==============================] - 7s 3ms/step - loss: 0.1399 - accuracy: 0.9377 - val_loss: 0.3131 - val_accuracy: 0.8929\n",
            "Epoch 48/100\n",
            "2604/2604 [==============================] - 6s 2ms/step - loss: 0.1391 - accuracy: 0.9394 - val_loss: 0.3177 - val_accuracy: 0.8921\n",
            "Epoch 49/100\n",
            "2604/2604 [==============================] - 7s 3ms/step - loss: 0.1383 - accuracy: 0.9390 - val_loss: 0.3306 - val_accuracy: 0.8826\n",
            "Epoch 50/100\n",
            "2604/2604 [==============================] - 6s 2ms/step - loss: 0.1376 - accuracy: 0.9396 - val_loss: 0.3289 - val_accuracy: 0.8859\n",
            "Epoch 51/100\n",
            "2604/2604 [==============================] - 6s 2ms/step - loss: 0.1365 - accuracy: 0.9398 - val_loss: 0.3367 - val_accuracy: 0.8873\n",
            "Epoch 52/100\n",
            "2604/2604 [==============================] - 6s 2ms/step - loss: 0.1359 - accuracy: 0.9408 - val_loss: 0.3203 - val_accuracy: 0.8946\n",
            "Epoch 53/100\n",
            "2604/2604 [==============================] - 6s 2ms/step - loss: 0.1350 - accuracy: 0.9408 - val_loss: 0.3233 - val_accuracy: 0.8960\n",
            "Epoch 54/100\n",
            "2604/2604 [==============================] - 6s 2ms/step - loss: 0.1339 - accuracy: 0.9419 - val_loss: 0.3469 - val_accuracy: 0.8864\n",
            "Epoch 55/100\n",
            "2604/2604 [==============================] - 6s 2ms/step - loss: 0.1336 - accuracy: 0.9413 - val_loss: 0.3496 - val_accuracy: 0.8844\n",
            "Epoch 56/100\n",
            "2604/2604 [==============================] - 6s 2ms/step - loss: 0.1322 - accuracy: 0.9432 - val_loss: 0.3450 - val_accuracy: 0.8898\n",
            "Epoch 57/100\n",
            "2604/2604 [==============================] - 7s 3ms/step - loss: 0.1316 - accuracy: 0.9423 - val_loss: 0.3411 - val_accuracy: 0.8919\n",
            "Epoch 58/100\n",
            "2604/2604 [==============================] - 6s 2ms/step - loss: 0.1306 - accuracy: 0.9435 - val_loss: 0.3540 - val_accuracy: 0.8868\n",
            "Epoch 59/100\n",
            "2604/2604 [==============================] - 6s 2ms/step - loss: 0.1304 - accuracy: 0.9431 - val_loss: 0.3542 - val_accuracy: 0.8870\n",
            "Epoch 60/100\n",
            "2604/2604 [==============================] - 6s 2ms/step - loss: 0.1289 - accuracy: 0.9438 - val_loss: 0.3597 - val_accuracy: 0.8835\n",
            "Epoch 61/100\n",
            "2604/2604 [==============================] - 7s 3ms/step - loss: 0.1285 - accuracy: 0.9437 - val_loss: 0.3579 - val_accuracy: 0.8873\n",
            "Epoch 62/100\n",
            "2604/2604 [==============================] - 6s 2ms/step - loss: 0.1277 - accuracy: 0.9447 - val_loss: 0.3834 - val_accuracy: 0.8773\n",
            "Epoch 63/100\n",
            "2604/2604 [==============================] - 7s 3ms/step - loss: 0.1266 - accuracy: 0.9452 - val_loss: 0.3572 - val_accuracy: 0.8972\n",
            "Epoch 64/100\n",
            "2604/2604 [==============================] - 6s 2ms/step - loss: 0.1261 - accuracy: 0.9457 - val_loss: 0.3647 - val_accuracy: 0.8855\n",
            "Epoch 65/100\n",
            "2604/2604 [==============================] - 7s 3ms/step - loss: 0.1262 - accuracy: 0.9450 - val_loss: 0.3752 - val_accuracy: 0.8875\n",
            "Epoch 66/100\n",
            "2604/2604 [==============================] - 6s 2ms/step - loss: 0.1256 - accuracy: 0.9449 - val_loss: 0.3894 - val_accuracy: 0.8783\n",
            "Epoch 67/100\n",
            "2604/2604 [==============================] - 7s 3ms/step - loss: 0.1235 - accuracy: 0.9463 - val_loss: 0.3673 - val_accuracy: 0.8903\n",
            "Epoch 68/100\n",
            "2604/2604 [==============================] - 6s 2ms/step - loss: 0.1242 - accuracy: 0.9459 - val_loss: 0.3729 - val_accuracy: 0.8890\n",
            "Epoch 69/100\n",
            "2604/2604 [==============================] - 7s 3ms/step - loss: 0.1231 - accuracy: 0.9473 - val_loss: 0.3766 - val_accuracy: 0.8921\n",
            "Epoch 70/100\n",
            "2604/2604 [==============================] - 6s 2ms/step - loss: 0.1226 - accuracy: 0.9474 - val_loss: 0.3887 - val_accuracy: 0.8862\n",
            "Epoch 71/100\n",
            "2604/2604 [==============================] - 7s 3ms/step - loss: 0.1226 - accuracy: 0.9467 - val_loss: 0.3775 - val_accuracy: 0.8923\n",
            "Epoch 72/100\n",
            "2604/2604 [==============================] - 6s 2ms/step - loss: 0.1216 - accuracy: 0.9477 - val_loss: 0.3939 - val_accuracy: 0.8810\n",
            "Epoch 73/100\n",
            "2604/2604 [==============================] - 7s 3ms/step - loss: 0.1204 - accuracy: 0.9479 - val_loss: 0.3843 - val_accuracy: 0.8853\n",
            "Epoch 74/100\n",
            "2604/2604 [==============================] - 6s 2ms/step - loss: 0.1210 - accuracy: 0.9481 - val_loss: 0.3899 - val_accuracy: 0.8834\n",
            "Epoch 75/100\n",
            "2604/2604 [==============================] - 6s 2ms/step - loss: 0.1197 - accuracy: 0.9484 - val_loss: 0.3856 - val_accuracy: 0.8885\n",
            "Epoch 76/100\n",
            "2604/2604 [==============================] - 6s 2ms/step - loss: 0.1195 - accuracy: 0.9486 - val_loss: 0.4006 - val_accuracy: 0.8805\n",
            "Epoch 77/100\n",
            "2604/2604 [==============================] - 7s 3ms/step - loss: 0.1184 - accuracy: 0.9492 - val_loss: 0.3954 - val_accuracy: 0.8882\n",
            "Epoch 78/100\n",
            "2604/2604 [==============================] - 6s 2ms/step - loss: 0.1193 - accuracy: 0.9491 - val_loss: 0.3959 - val_accuracy: 0.8877\n",
            "Epoch 79/100\n",
            "2604/2604 [==============================] - 6s 2ms/step - loss: 0.1178 - accuracy: 0.9493 - val_loss: 0.3973 - val_accuracy: 0.8864\n",
            "Epoch 80/100\n",
            "2604/2604 [==============================] - 6s 2ms/step - loss: 0.1183 - accuracy: 0.9493 - val_loss: 0.4049 - val_accuracy: 0.8857\n",
            "Epoch 81/100\n",
            "2604/2604 [==============================] - 7s 3ms/step - loss: 0.1165 - accuracy: 0.9509 - val_loss: 0.4035 - val_accuracy: 0.8938\n",
            "Epoch 82/100\n",
            "2604/2604 [==============================] - 6s 2ms/step - loss: 0.1170 - accuracy: 0.9502 - val_loss: 0.3998 - val_accuracy: 0.8901\n",
            "Epoch 83/100\n",
            "2604/2604 [==============================] - 7s 3ms/step - loss: 0.1165 - accuracy: 0.9508 - val_loss: 0.4208 - val_accuracy: 0.8886\n",
            "Epoch 84/100\n",
            "2604/2604 [==============================] - 6s 2ms/step - loss: 0.1156 - accuracy: 0.9505 - val_loss: 0.4147 - val_accuracy: 0.8861\n",
            "Epoch 85/100\n",
            "2604/2604 [==============================] - 7s 3ms/step - loss: 0.1163 - accuracy: 0.9507 - val_loss: 0.4216 - val_accuracy: 0.8867\n",
            "Epoch 86/100\n",
            "2604/2604 [==============================] - 6s 2ms/step - loss: 0.1154 - accuracy: 0.9511 - val_loss: 0.4379 - val_accuracy: 0.8816\n",
            "Epoch 87/100\n",
            "2604/2604 [==============================] - 7s 3ms/step - loss: 0.1145 - accuracy: 0.9513 - val_loss: 0.4320 - val_accuracy: 0.8875\n",
            "Epoch 88/100\n",
            "2604/2604 [==============================] - 6s 2ms/step - loss: 0.1143 - accuracy: 0.9514 - val_loss: 0.4324 - val_accuracy: 0.8800\n",
            "Epoch 89/100\n",
            "2604/2604 [==============================] - 7s 3ms/step - loss: 0.1133 - accuracy: 0.9509 - val_loss: 0.4358 - val_accuracy: 0.8816\n",
            "Epoch 90/100\n",
            "2604/2604 [==============================] - 6s 2ms/step - loss: 0.1138 - accuracy: 0.9513 - val_loss: 0.4284 - val_accuracy: 0.8798\n",
            "Epoch 91/100\n",
            "2604/2604 [==============================] - 7s 3ms/step - loss: 0.1122 - accuracy: 0.9525 - val_loss: 0.4400 - val_accuracy: 0.8803\n",
            "Epoch 92/100\n",
            "2604/2604 [==============================] - 6s 2ms/step - loss: 0.1129 - accuracy: 0.9526 - val_loss: 0.4415 - val_accuracy: 0.8877\n",
            "Epoch 93/100\n",
            "2604/2604 [==============================] - 7s 3ms/step - loss: 0.1115 - accuracy: 0.9522 - val_loss: 0.4530 - val_accuracy: 0.8756\n",
            "Epoch 94/100\n",
            "2604/2604 [==============================] - 6s 2ms/step - loss: 0.1118 - accuracy: 0.9521 - val_loss: 0.4392 - val_accuracy: 0.8876\n",
            "Epoch 95/100\n",
            "2604/2604 [==============================] - 7s 3ms/step - loss: 0.1119 - accuracy: 0.9524 - val_loss: 0.4541 - val_accuracy: 0.8754\n",
            "Epoch 96/100\n",
            "2604/2604 [==============================] - 6s 2ms/step - loss: 0.1113 - accuracy: 0.9526 - val_loss: 0.4537 - val_accuracy: 0.8871\n",
            "Epoch 97/100\n",
            "2604/2604 [==============================] - 7s 3ms/step - loss: 0.1101 - accuracy: 0.9529 - val_loss: 0.4611 - val_accuracy: 0.8844\n",
            "Epoch 98/100\n",
            "2604/2604 [==============================] - 6s 2ms/step - loss: 0.1104 - accuracy: 0.9531 - val_loss: 0.4511 - val_accuracy: 0.8822\n",
            "Epoch 99/100\n",
            "2604/2604 [==============================] - 7s 3ms/step - loss: 0.1096 - accuracy: 0.9535 - val_loss: 0.4569 - val_accuracy: 0.8874\n",
            "Epoch 100/100\n",
            "2604/2604 [==============================] - 6s 2ms/step - loss: 0.1099 - accuracy: 0.9529 - val_loss: 0.4548 - val_accuracy: 0.8780\n"
          ]
        }
      ]
    },
    {
      "cell_type": "code",
      "source": [
        "# Evaluate the model using the test data\n",
        "model_loss, model_accuracy = nn_model.evaluate(X_test, y_test, verbose=2)\n",
        "print(f\"Loss: {model_loss}, Accuracy: {model_accuracy}\")"
      ],
      "metadata": {
        "colab": {
          "base_uri": "https://localhost:8080/"
        },
        "id": "IKQBtJI1OArY",
        "outputId": "0bed09bc-2dec-4793-c868-d5cf4371419f"
      },
      "execution_count": null,
      "outputs": [
        {
          "output_type": "stream",
          "name": "stdout",
          "text": [
            "623/623 - 1s - loss: 0.4548 - accuracy: 0.8780 - 731ms/epoch - 1ms/step\n",
            "Loss: 0.45480450987815857, Accuracy: 0.8780132532119751\n"
          ]
        }
      ]
    },
    {
      "cell_type": "markdown",
      "source": [
        "As the number of epochs increases, the training accuracy increases and the training loss decreases indicating that the model is learning well on the training data. However, after around 20 epochs we see that the validation accuracy plateaus and starts to decrease, and the validation loss appears to increase. This suggests that the model is overfitting and though it performs well on the training data, it may struggle on unseen data."
      ],
      "metadata": {
        "id": "rWGMFj3MOPQX"
      }
    },
    {
      "cell_type": "code",
      "source": [
        "# Make predictions using the trained model\n",
        "# Setting threshold of 0.5 since our model utilises sigmoid activation on a binary classification problem\n",
        "y_pred = (nn_model.predict(X_test) > 0.5).astype(np.int32)\n",
        "\n",
        "# Print the classification report\n",
        "print(classification_report(y_test, y_pred))"
      ],
      "metadata": {
        "colab": {
          "base_uri": "https://localhost:8080/"
        },
        "id": "M9XBVqDcOLG8",
        "outputId": "fb8b56d1-7092-45ef-8ec1-eed97211a02a"
      },
      "execution_count": null,
      "outputs": [
        {
          "output_type": "stream",
          "name": "stdout",
          "text": [
            "623/623 [==============================] - 1s 1ms/step\n",
            "              precision    recall  f1-score   support\n",
            "\n",
            "           0       0.92      0.90      0.91     13913\n",
            "           1       0.78      0.83      0.80      5999\n",
            "\n",
            "    accuracy                           0.88     19912\n",
            "   macro avg       0.85      0.86      0.86     19912\n",
            "weighted avg       0.88      0.88      0.88     19912\n",
            "\n"
          ]
        }
      ]
    },
    {
      "cell_type": "code",
      "source": [
        "# Download h5 file\n",
        "nn_model.save('cvd_nn_model1.h5')\n",
        "files.download(\"cvd_nn_model1.h5\")"
      ],
      "metadata": {
        "colab": {
          "base_uri": "https://localhost:8080/",
          "height": 52
        },
        "id": "V46qt6l6OK6G",
        "outputId": "ebc910de-1731-4958-f38e-14aa92c414c9"
      },
      "execution_count": null,
      "outputs": [
        {
          "output_type": "stream",
          "name": "stderr",
          "text": [
            "/usr/local/lib/python3.10/dist-packages/keras/src/engine/training.py:3000: UserWarning: You are saving your model as an HDF5 file via `model.save()`. This file format is considered legacy. We recommend using instead the native Keras format, e.g. `model.save('my_model.keras')`.\n",
            "  saving_api.save_model(\n"
          ]
        },
        {
          "output_type": "display_data",
          "data": {
            "text/plain": [
              "<IPython.core.display.Javascript object>"
            ],
            "application/javascript": [
              "\n",
              "    async function download(id, filename, size) {\n",
              "      if (!google.colab.kernel.accessAllowed) {\n",
              "        return;\n",
              "      }\n",
              "      const div = document.createElement('div');\n",
              "      const label = document.createElement('label');\n",
              "      label.textContent = `Downloading \"${filename}\": `;\n",
              "      div.appendChild(label);\n",
              "      const progress = document.createElement('progress');\n",
              "      progress.max = size;\n",
              "      div.appendChild(progress);\n",
              "      document.body.appendChild(div);\n",
              "\n",
              "      const buffers = [];\n",
              "      let downloaded = 0;\n",
              "\n",
              "      const channel = await google.colab.kernel.comms.open(id);\n",
              "      // Send a message to notify the kernel that we're ready.\n",
              "      channel.send({})\n",
              "\n",
              "      for await (const message of channel.messages) {\n",
              "        // Send a message to notify the kernel that we're ready.\n",
              "        channel.send({})\n",
              "        if (message.buffers) {\n",
              "          for (const buffer of message.buffers) {\n",
              "            buffers.push(buffer);\n",
              "            downloaded += buffer.byteLength;\n",
              "            progress.value = downloaded;\n",
              "          }\n",
              "        }\n",
              "      }\n",
              "      const blob = new Blob(buffers, {type: 'application/binary'});\n",
              "      const a = document.createElement('a');\n",
              "      a.href = window.URL.createObjectURL(blob);\n",
              "      a.download = filename;\n",
              "      div.appendChild(a);\n",
              "      a.click();\n",
              "      div.remove();\n",
              "    }\n",
              "  "
            ]
          },
          "metadata": {}
        },
        {
          "output_type": "display_data",
          "data": {
            "text/plain": [
              "<IPython.core.display.Javascript object>"
            ],
            "application/javascript": [
              "download(\"download_5834d383-1214-49fb-a835-71306138db6c\", \"cvd_nn_model1.h5\", 118928)"
            ]
          },
          "metadata": {}
        }
      ]
    },
    {
      "cell_type": "markdown",
      "source": [
        "# Model Comparison"
      ],
      "metadata": {
        "id": "g4TT-DVb6vGU"
      }
    },
    {
      "cell_type": "code",
      "source": [
        "# Store each prediction model's accuracy and precision scores in a dictionary\n",
        "scores = {\n",
        "   'Model': ['Random Forests', 'Decision Tree', 'Neural Network', 'Logistic Regression', 'SVM'],\n",
        "   'Accuracy': [0.93, 0.89, 0.88, 0.82, 0.79],\n",
        "   'Precision': [0.93, 0.89, 0.88, 0.81, 0.81]\n",
        "}\n",
        "\n",
        "# Convert dicitonary to a DataFrame\n",
        "comparison_df = pd.DataFrame(scores)\n",
        "\n",
        "# Define colors codes for the bars\n",
        "colors = ['#FF6961', '#DEA5A4']\n",
        "\n",
        "# Create a grouped bar chart with Accuracy and Precision\n",
        "fig = go.Figure(data=[\n",
        "                      go.Bar(name='Accuracy', x=comparison_df['Model'], y=comparison_df['Accuracy'], marker_color=colors[0]),\n",
        "                      go.Bar(name='Precision', x=comparison_df['Model'], y=comparison_df['Precision'], marker_color=colors[1])\n",
        "                    ])\n",
        "\n",
        "# Chart layout\n",
        "fig.update_layout(\n",
        "                  barmode='group',\n",
        "                  title=dict(text='Machine Learning Model Performance Comparison', font=dict(color='black')),\n",
        "                  xaxis=dict(tickfont=dict(color='black')),\n",
        "                  yaxis=dict(tickfont=dict(color='black')),\n",
        "                  xaxis_title=dict(text='Model', font=dict(color='black')),\n",
        "                  yaxis_title=dict(text='Score', font=dict(color='black')),\n",
        "                  legend=dict(font=dict(color='black')),\n",
        "                  template='simple_white',\n",
        "                  )\n",
        "\n",
        "# Add interactivity for toggling between Accuracy, Precision, and both\n",
        "fig.update_layout(\n",
        "                  updatemenus=[\n",
        "                               {\n",
        "                                'buttons': [\n",
        "                                            {\n",
        "                                             'label': 'Accuracy and Precision',\n",
        "                                             'method': 'update',\n",
        "                                             'args': [{'visible': [True, True]}, {'title': 'Both Accuracy and Precision'}]\n",
        "                                            },\n",
        "                                            {\n",
        "                                             'label': 'Accuracy',\n",
        "                                             'method': 'update',\n",
        "                                             'args': [{'visible': [True, False]}, {'title': 'Accuracy Comparison'}]\n",
        "                                            },\n",
        "                                            {\n",
        "                                            'label': 'Precision',\n",
        "                                            'method': 'update',\n",
        "                                            'args': [{'visible': [False, True]}, {'title': 'Precision Comparison'}]\n",
        "                                            },\n",
        "                                          ],\n",
        "                             'direction': 'down',\n",
        "                             'showactive': True,\n",
        "                             }\n",
        "                            ]\n",
        "                )\n",
        "\n",
        "# Show the chart\n",
        "fig.show()"
      ],
      "metadata": {
        "colab": {
          "base_uri": "https://localhost:8080/",
          "height": 542
        },
        "id": "qPAFuucDjOPu",
        "outputId": "b7f3ec7b-47d2-4767-d017-0bb722f52bd8"
      },
      "execution_count": null,
      "outputs": [
        {
          "output_type": "display_data",
          "data": {
            "text/html": [
              "<html>\n",
              "<head><meta charset=\"utf-8\" /></head>\n",
              "<body>\n",
              "    <div>            <script src=\"https://cdnjs.cloudflare.com/ajax/libs/mathjax/2.7.5/MathJax.js?config=TeX-AMS-MML_SVG\"></script><script type=\"text/javascript\">if (window.MathJax && window.MathJax.Hub && window.MathJax.Hub.Config) {window.MathJax.Hub.Config({SVG: {font: \"STIX-Web\"}});}</script>                <script type=\"text/javascript\">window.PlotlyConfig = {MathJaxConfig: 'local'};</script>\n",
              "        <script charset=\"utf-8\" src=\"https://cdn.plot.ly/plotly-2.24.1.min.js\"></script>                <div id=\"e32fd79a-2336-443b-8664-d9d8d7c23054\" class=\"plotly-graph-div\" style=\"height:525px; width:100%;\"></div>            <script type=\"text/javascript\">                                    window.PLOTLYENV=window.PLOTLYENV || {};                                    if (document.getElementById(\"e32fd79a-2336-443b-8664-d9d8d7c23054\")) {                    Plotly.newPlot(                        \"e32fd79a-2336-443b-8664-d9d8d7c23054\",                        [{\"marker\":{\"color\":\"#FF6961\"},\"name\":\"Accuracy\",\"x\":[\"Random Forests\",\"Decision Tree\",\"Neural Network\",\"Logistic Regression\",\"SVM\"],\"y\":[0.93,0.89,0.88,0.82,0.79],\"type\":\"bar\"},{\"marker\":{\"color\":\"#DEA5A4\"},\"name\":\"Precision\",\"x\":[\"Random Forests\",\"Decision Tree\",\"Neural Network\",\"Logistic Regression\",\"SVM\"],\"y\":[0.93,0.89,0.88,0.81,0.81],\"type\":\"bar\"}],                        {\"template\":{\"data\":{\"barpolar\":[{\"marker\":{\"line\":{\"color\":\"white\",\"width\":0.5},\"pattern\":{\"fillmode\":\"overlay\",\"size\":10,\"solidity\":0.2}},\"type\":\"barpolar\"}],\"bar\":[{\"error_x\":{\"color\":\"rgb(36,36,36)\"},\"error_y\":{\"color\":\"rgb(36,36,36)\"},\"marker\":{\"line\":{\"color\":\"white\",\"width\":0.5},\"pattern\":{\"fillmode\":\"overlay\",\"size\":10,\"solidity\":0.2}},\"type\":\"bar\"}],\"carpet\":[{\"aaxis\":{\"endlinecolor\":\"rgb(36,36,36)\",\"gridcolor\":\"white\",\"linecolor\":\"white\",\"minorgridcolor\":\"white\",\"startlinecolor\":\"rgb(36,36,36)\"},\"baxis\":{\"endlinecolor\":\"rgb(36,36,36)\",\"gridcolor\":\"white\",\"linecolor\":\"white\",\"minorgridcolor\":\"white\",\"startlinecolor\":\"rgb(36,36,36)\"},\"type\":\"carpet\"}],\"choropleth\":[{\"colorbar\":{\"outlinewidth\":1,\"tickcolor\":\"rgb(36,36,36)\",\"ticks\":\"outside\"},\"type\":\"choropleth\"}],\"contourcarpet\":[{\"colorbar\":{\"outlinewidth\":1,\"tickcolor\":\"rgb(36,36,36)\",\"ticks\":\"outside\"},\"type\":\"contourcarpet\"}],\"contour\":[{\"colorbar\":{\"outlinewidth\":1,\"tickcolor\":\"rgb(36,36,36)\",\"ticks\":\"outside\"},\"colorscale\":[[0.0,\"#440154\"],[0.1111111111111111,\"#482878\"],[0.2222222222222222,\"#3e4989\"],[0.3333333333333333,\"#31688e\"],[0.4444444444444444,\"#26828e\"],[0.5555555555555556,\"#1f9e89\"],[0.6666666666666666,\"#35b779\"],[0.7777777777777778,\"#6ece58\"],[0.8888888888888888,\"#b5de2b\"],[1.0,\"#fde725\"]],\"type\":\"contour\"}],\"heatmapgl\":[{\"colorbar\":{\"outlinewidth\":1,\"tickcolor\":\"rgb(36,36,36)\",\"ticks\":\"outside\"},\"colorscale\":[[0.0,\"#440154\"],[0.1111111111111111,\"#482878\"],[0.2222222222222222,\"#3e4989\"],[0.3333333333333333,\"#31688e\"],[0.4444444444444444,\"#26828e\"],[0.5555555555555556,\"#1f9e89\"],[0.6666666666666666,\"#35b779\"],[0.7777777777777778,\"#6ece58\"],[0.8888888888888888,\"#b5de2b\"],[1.0,\"#fde725\"]],\"type\":\"heatmapgl\"}],\"heatmap\":[{\"colorbar\":{\"outlinewidth\":1,\"tickcolor\":\"rgb(36,36,36)\",\"ticks\":\"outside\"},\"colorscale\":[[0.0,\"#440154\"],[0.1111111111111111,\"#482878\"],[0.2222222222222222,\"#3e4989\"],[0.3333333333333333,\"#31688e\"],[0.4444444444444444,\"#26828e\"],[0.5555555555555556,\"#1f9e89\"],[0.6666666666666666,\"#35b779\"],[0.7777777777777778,\"#6ece58\"],[0.8888888888888888,\"#b5de2b\"],[1.0,\"#fde725\"]],\"type\":\"heatmap\"}],\"histogram2dcontour\":[{\"colorbar\":{\"outlinewidth\":1,\"tickcolor\":\"rgb(36,36,36)\",\"ticks\":\"outside\"},\"colorscale\":[[0.0,\"#440154\"],[0.1111111111111111,\"#482878\"],[0.2222222222222222,\"#3e4989\"],[0.3333333333333333,\"#31688e\"],[0.4444444444444444,\"#26828e\"],[0.5555555555555556,\"#1f9e89\"],[0.6666666666666666,\"#35b779\"],[0.7777777777777778,\"#6ece58\"],[0.8888888888888888,\"#b5de2b\"],[1.0,\"#fde725\"]],\"type\":\"histogram2dcontour\"}],\"histogram2d\":[{\"colorbar\":{\"outlinewidth\":1,\"tickcolor\":\"rgb(36,36,36)\",\"ticks\":\"outside\"},\"colorscale\":[[0.0,\"#440154\"],[0.1111111111111111,\"#482878\"],[0.2222222222222222,\"#3e4989\"],[0.3333333333333333,\"#31688e\"],[0.4444444444444444,\"#26828e\"],[0.5555555555555556,\"#1f9e89\"],[0.6666666666666666,\"#35b779\"],[0.7777777777777778,\"#6ece58\"],[0.8888888888888888,\"#b5de2b\"],[1.0,\"#fde725\"]],\"type\":\"histogram2d\"}],\"histogram\":[{\"marker\":{\"line\":{\"color\":\"white\",\"width\":0.6}},\"type\":\"histogram\"}],\"mesh3d\":[{\"colorbar\":{\"outlinewidth\":1,\"tickcolor\":\"rgb(36,36,36)\",\"ticks\":\"outside\"},\"type\":\"mesh3d\"}],\"parcoords\":[{\"line\":{\"colorbar\":{\"outlinewidth\":1,\"tickcolor\":\"rgb(36,36,36)\",\"ticks\":\"outside\"}},\"type\":\"parcoords\"}],\"pie\":[{\"automargin\":true,\"type\":\"pie\"}],\"scatter3d\":[{\"line\":{\"colorbar\":{\"outlinewidth\":1,\"tickcolor\":\"rgb(36,36,36)\",\"ticks\":\"outside\"}},\"marker\":{\"colorbar\":{\"outlinewidth\":1,\"tickcolor\":\"rgb(36,36,36)\",\"ticks\":\"outside\"}},\"type\":\"scatter3d\"}],\"scattercarpet\":[{\"marker\":{\"colorbar\":{\"outlinewidth\":1,\"tickcolor\":\"rgb(36,36,36)\",\"ticks\":\"outside\"}},\"type\":\"scattercarpet\"}],\"scattergeo\":[{\"marker\":{\"colorbar\":{\"outlinewidth\":1,\"tickcolor\":\"rgb(36,36,36)\",\"ticks\":\"outside\"}},\"type\":\"scattergeo\"}],\"scattergl\":[{\"marker\":{\"colorbar\":{\"outlinewidth\":1,\"tickcolor\":\"rgb(36,36,36)\",\"ticks\":\"outside\"}},\"type\":\"scattergl\"}],\"scattermapbox\":[{\"marker\":{\"colorbar\":{\"outlinewidth\":1,\"tickcolor\":\"rgb(36,36,36)\",\"ticks\":\"outside\"}},\"type\":\"scattermapbox\"}],\"scatterpolargl\":[{\"marker\":{\"colorbar\":{\"outlinewidth\":1,\"tickcolor\":\"rgb(36,36,36)\",\"ticks\":\"outside\"}},\"type\":\"scatterpolargl\"}],\"scatterpolar\":[{\"marker\":{\"colorbar\":{\"outlinewidth\":1,\"tickcolor\":\"rgb(36,36,36)\",\"ticks\":\"outside\"}},\"type\":\"scatterpolar\"}],\"scatter\":[{\"fillpattern\":{\"fillmode\":\"overlay\",\"size\":10,\"solidity\":0.2},\"type\":\"scatter\"}],\"scatterternary\":[{\"marker\":{\"colorbar\":{\"outlinewidth\":1,\"tickcolor\":\"rgb(36,36,36)\",\"ticks\":\"outside\"}},\"type\":\"scatterternary\"}],\"surface\":[{\"colorbar\":{\"outlinewidth\":1,\"tickcolor\":\"rgb(36,36,36)\",\"ticks\":\"outside\"},\"colorscale\":[[0.0,\"#440154\"],[0.1111111111111111,\"#482878\"],[0.2222222222222222,\"#3e4989\"],[0.3333333333333333,\"#31688e\"],[0.4444444444444444,\"#26828e\"],[0.5555555555555556,\"#1f9e89\"],[0.6666666666666666,\"#35b779\"],[0.7777777777777778,\"#6ece58\"],[0.8888888888888888,\"#b5de2b\"],[1.0,\"#fde725\"]],\"type\":\"surface\"}],\"table\":[{\"cells\":{\"fill\":{\"color\":\"rgb(237,237,237)\"},\"line\":{\"color\":\"white\"}},\"header\":{\"fill\":{\"color\":\"rgb(217,217,217)\"},\"line\":{\"color\":\"white\"}},\"type\":\"table\"}]},\"layout\":{\"annotationdefaults\":{\"arrowhead\":0,\"arrowwidth\":1},\"autotypenumbers\":\"strict\",\"coloraxis\":{\"colorbar\":{\"outlinewidth\":1,\"tickcolor\":\"rgb(36,36,36)\",\"ticks\":\"outside\"}},\"colorscale\":{\"diverging\":[[0.0,\"rgb(103,0,31)\"],[0.1,\"rgb(178,24,43)\"],[0.2,\"rgb(214,96,77)\"],[0.3,\"rgb(244,165,130)\"],[0.4,\"rgb(253,219,199)\"],[0.5,\"rgb(247,247,247)\"],[0.6,\"rgb(209,229,240)\"],[0.7,\"rgb(146,197,222)\"],[0.8,\"rgb(67,147,195)\"],[0.9,\"rgb(33,102,172)\"],[1.0,\"rgb(5,48,97)\"]],\"sequential\":[[0.0,\"#440154\"],[0.1111111111111111,\"#482878\"],[0.2222222222222222,\"#3e4989\"],[0.3333333333333333,\"#31688e\"],[0.4444444444444444,\"#26828e\"],[0.5555555555555556,\"#1f9e89\"],[0.6666666666666666,\"#35b779\"],[0.7777777777777778,\"#6ece58\"],[0.8888888888888888,\"#b5de2b\"],[1.0,\"#fde725\"]],\"sequentialminus\":[[0.0,\"#440154\"],[0.1111111111111111,\"#482878\"],[0.2222222222222222,\"#3e4989\"],[0.3333333333333333,\"#31688e\"],[0.4444444444444444,\"#26828e\"],[0.5555555555555556,\"#1f9e89\"],[0.6666666666666666,\"#35b779\"],[0.7777777777777778,\"#6ece58\"],[0.8888888888888888,\"#b5de2b\"],[1.0,\"#fde725\"]]},\"colorway\":[\"#1F77B4\",\"#FF7F0E\",\"#2CA02C\",\"#D62728\",\"#9467BD\",\"#8C564B\",\"#E377C2\",\"#7F7F7F\",\"#BCBD22\",\"#17BECF\"],\"font\":{\"color\":\"rgb(36,36,36)\"},\"geo\":{\"bgcolor\":\"white\",\"lakecolor\":\"white\",\"landcolor\":\"white\",\"showlakes\":true,\"showland\":true,\"subunitcolor\":\"white\"},\"hoverlabel\":{\"align\":\"left\"},\"hovermode\":\"closest\",\"mapbox\":{\"style\":\"light\"},\"paper_bgcolor\":\"white\",\"plot_bgcolor\":\"white\",\"polar\":{\"angularaxis\":{\"gridcolor\":\"rgb(232,232,232)\",\"linecolor\":\"rgb(36,36,36)\",\"showgrid\":false,\"showline\":true,\"ticks\":\"outside\"},\"bgcolor\":\"white\",\"radialaxis\":{\"gridcolor\":\"rgb(232,232,232)\",\"linecolor\":\"rgb(36,36,36)\",\"showgrid\":false,\"showline\":true,\"ticks\":\"outside\"}},\"scene\":{\"xaxis\":{\"backgroundcolor\":\"white\",\"gridcolor\":\"rgb(232,232,232)\",\"gridwidth\":2,\"linecolor\":\"rgb(36,36,36)\",\"showbackground\":true,\"showgrid\":false,\"showline\":true,\"ticks\":\"outside\",\"zeroline\":false,\"zerolinecolor\":\"rgb(36,36,36)\"},\"yaxis\":{\"backgroundcolor\":\"white\",\"gridcolor\":\"rgb(232,232,232)\",\"gridwidth\":2,\"linecolor\":\"rgb(36,36,36)\",\"showbackground\":true,\"showgrid\":false,\"showline\":true,\"ticks\":\"outside\",\"zeroline\":false,\"zerolinecolor\":\"rgb(36,36,36)\"},\"zaxis\":{\"backgroundcolor\":\"white\",\"gridcolor\":\"rgb(232,232,232)\",\"gridwidth\":2,\"linecolor\":\"rgb(36,36,36)\",\"showbackground\":true,\"showgrid\":false,\"showline\":true,\"ticks\":\"outside\",\"zeroline\":false,\"zerolinecolor\":\"rgb(36,36,36)\"}},\"shapedefaults\":{\"fillcolor\":\"black\",\"line\":{\"width\":0},\"opacity\":0.3},\"ternary\":{\"aaxis\":{\"gridcolor\":\"rgb(232,232,232)\",\"linecolor\":\"rgb(36,36,36)\",\"showgrid\":false,\"showline\":true,\"ticks\":\"outside\"},\"baxis\":{\"gridcolor\":\"rgb(232,232,232)\",\"linecolor\":\"rgb(36,36,36)\",\"showgrid\":false,\"showline\":true,\"ticks\":\"outside\"},\"bgcolor\":\"white\",\"caxis\":{\"gridcolor\":\"rgb(232,232,232)\",\"linecolor\":\"rgb(36,36,36)\",\"showgrid\":false,\"showline\":true,\"ticks\":\"outside\"}},\"title\":{\"x\":0.05},\"xaxis\":{\"automargin\":true,\"gridcolor\":\"rgb(232,232,232)\",\"linecolor\":\"rgb(36,36,36)\",\"showgrid\":false,\"showline\":true,\"ticks\":\"outside\",\"title\":{\"standoff\":15},\"zeroline\":false,\"zerolinecolor\":\"rgb(36,36,36)\"},\"yaxis\":{\"automargin\":true,\"gridcolor\":\"rgb(232,232,232)\",\"linecolor\":\"rgb(36,36,36)\",\"showgrid\":false,\"showline\":true,\"ticks\":\"outside\",\"title\":{\"standoff\":15},\"zeroline\":false,\"zerolinecolor\":\"rgb(36,36,36)\"}}},\"title\":{\"font\":{\"color\":\"black\"},\"text\":\"Machine Learning Model Performance Comparison\"},\"xaxis\":{\"tickfont\":{\"color\":\"black\"},\"title\":{\"font\":{\"color\":\"black\"},\"text\":\"Model\"}},\"yaxis\":{\"tickfont\":{\"color\":\"black\"},\"title\":{\"font\":{\"color\":\"black\"},\"text\":\"Score\"}},\"legend\":{\"font\":{\"color\":\"black\"}},\"barmode\":\"group\",\"updatemenus\":[{\"buttons\":[{\"args\":[{\"visible\":[true,true]},{\"title\":\"Both Accuracy and Precision\"}],\"label\":\"Accuracy and Precision\",\"method\":\"update\"},{\"args\":[{\"visible\":[true,false]},{\"title\":\"Accuracy Comparison\"}],\"label\":\"Accuracy\",\"method\":\"update\"},{\"args\":[{\"visible\":[false,true]},{\"title\":\"Precision Comparison\"}],\"label\":\"Precision\",\"method\":\"update\"}],\"direction\":\"down\",\"showactive\":true}]},                        {\"responsive\": true}                    ).then(function(){\n",
              "                            \n",
              "var gd = document.getElementById('e32fd79a-2336-443b-8664-d9d8d7c23054');\n",
              "var x = new MutationObserver(function (mutations, observer) {{\n",
              "        var display = window.getComputedStyle(gd).display;\n",
              "        if (!display || display === 'none') {{\n",
              "            console.log([gd, 'removed!']);\n",
              "            Plotly.purge(gd);\n",
              "            observer.disconnect();\n",
              "        }}\n",
              "}});\n",
              "\n",
              "// Listen for the removal of the full notebook cells\n",
              "var notebookContainer = gd.closest('#notebook-container');\n",
              "if (notebookContainer) {{\n",
              "    x.observe(notebookContainer, {childList: true});\n",
              "}}\n",
              "\n",
              "// Listen for the clearing of the current output cell\n",
              "var outputEl = gd.closest('.output');\n",
              "if (outputEl) {{\n",
              "    x.observe(outputEl, {childList: true});\n",
              "}}\n",
              "\n",
              "                        })                };                            </script>        </div>\n",
              "</body>\n",
              "</html>"
            ]
          },
          "metadata": {}
        }
      ]
    }
  ]
}