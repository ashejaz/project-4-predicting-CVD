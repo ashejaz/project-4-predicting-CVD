{
  "cells": [
    {
      "cell_type": "code",
      "execution_count": 1,
      "metadata": {
        "id": "ZUt2FGw-SaBI"
      },
      "outputs": [],
      "source": [
        "# Import dependencies\n",
        "import pandas as pd\n",
        "import tensorflow as tf\n",
        "\n",
        "from sklearn.preprocessing import StandardScaler\n",
        "from sklearn.model_selection import train_test_split\n",
        "from imblearn.over_sampling import RandomOverSampler\n",
        "from sklearn.linear_model import LogisticRegression\n",
        "from sklearn.svm import SVC\n",
        "from sklearn.metrics import confusion_matrix, accuracy_score, classification_report\n",
        "from sklearn import tree\n",
        "from sklearn.ensemble import RandomForestClassifier"
      ]
    },
    {
      "cell_type": "code",
      "execution_count": 2,
      "metadata": {
        "colab": {
          "base_uri": "https://localhost:8080/",
          "height": 400
        },
        "id": "fkEDEOvoTOwN",
        "outputId": "bdbad7d0-4309-4870-a717-38bd145755fc"
      },
      "outputs": [
        {
          "output_type": "execute_result",
          "data": {
            "text/plain": [
              "  general_health                  checkup exercise heart_disease skin_cancer  \\\n",
              "0           Poor  Within the past 2 years       No            No          No   \n",
              "1      Very Good     Within the past year       No           Yes          No   \n",
              "2      Very Good     Within the past year      Yes            No          No   \n",
              "3           Poor     Within the past year      Yes           Yes          No   \n",
              "4           Good     Within the past year       No            No          No   \n",
              "\n",
              "  other_cancer depression diabetes arthritis     sex age_category  height_cm  \\\n",
              "0           No         No       No       Yes  Female        70-74        150   \n",
              "1           No         No      Yes        No  Female        70-74        165   \n",
              "2           No         No      Yes        No  Female        60-64        163   \n",
              "3           No         No      Yes        No    Male        75-79        180   \n",
              "4           No         No       No        No    Male          80+        191   \n",
              "\n",
              "   weight_kg    bmi smoking_history  alcohol_consumption  fruit_consumption  \\\n",
              "0      32.66  14.54             Yes                    0                 30   \n",
              "1      77.11  28.29              No                    0                 30   \n",
              "2      88.45  33.47              No                    4                 12   \n",
              "3      93.44  28.73              No                    0                 30   \n",
              "4      88.45  24.37             Yes                    0                  8   \n",
              "\n",
              "   green_vegetables_consumption  friedpotato_consumption  \n",
              "0                            16                       12  \n",
              "1                             0                        4  \n",
              "2                             3                       16  \n",
              "3                            30                        8  \n",
              "4                             4                        0  "
            ],
            "text/html": [
              "\n",
              "  <div id=\"df-96ceb18a-5375-40a0-8afe-b22949f4c6d8\" class=\"colab-df-container\">\n",
              "    <div>\n",
              "<style scoped>\n",
              "    .dataframe tbody tr th:only-of-type {\n",
              "        vertical-align: middle;\n",
              "    }\n",
              "\n",
              "    .dataframe tbody tr th {\n",
              "        vertical-align: top;\n",
              "    }\n",
              "\n",
              "    .dataframe thead th {\n",
              "        text-align: right;\n",
              "    }\n",
              "</style>\n",
              "<table border=\"1\" class=\"dataframe\">\n",
              "  <thead>\n",
              "    <tr style=\"text-align: right;\">\n",
              "      <th></th>\n",
              "      <th>general_health</th>\n",
              "      <th>checkup</th>\n",
              "      <th>exercise</th>\n",
              "      <th>heart_disease</th>\n",
              "      <th>skin_cancer</th>\n",
              "      <th>other_cancer</th>\n",
              "      <th>depression</th>\n",
              "      <th>diabetes</th>\n",
              "      <th>arthritis</th>\n",
              "      <th>sex</th>\n",
              "      <th>age_category</th>\n",
              "      <th>height_cm</th>\n",
              "      <th>weight_kg</th>\n",
              "      <th>bmi</th>\n",
              "      <th>smoking_history</th>\n",
              "      <th>alcohol_consumption</th>\n",
              "      <th>fruit_consumption</th>\n",
              "      <th>green_vegetables_consumption</th>\n",
              "      <th>friedpotato_consumption</th>\n",
              "    </tr>\n",
              "  </thead>\n",
              "  <tbody>\n",
              "    <tr>\n",
              "      <th>0</th>\n",
              "      <td>Poor</td>\n",
              "      <td>Within the past 2 years</td>\n",
              "      <td>No</td>\n",
              "      <td>No</td>\n",
              "      <td>No</td>\n",
              "      <td>No</td>\n",
              "      <td>No</td>\n",
              "      <td>No</td>\n",
              "      <td>Yes</td>\n",
              "      <td>Female</td>\n",
              "      <td>70-74</td>\n",
              "      <td>150</td>\n",
              "      <td>32.66</td>\n",
              "      <td>14.54</td>\n",
              "      <td>Yes</td>\n",
              "      <td>0</td>\n",
              "      <td>30</td>\n",
              "      <td>16</td>\n",
              "      <td>12</td>\n",
              "    </tr>\n",
              "    <tr>\n",
              "      <th>1</th>\n",
              "      <td>Very Good</td>\n",
              "      <td>Within the past year</td>\n",
              "      <td>No</td>\n",
              "      <td>Yes</td>\n",
              "      <td>No</td>\n",
              "      <td>No</td>\n",
              "      <td>No</td>\n",
              "      <td>Yes</td>\n",
              "      <td>No</td>\n",
              "      <td>Female</td>\n",
              "      <td>70-74</td>\n",
              "      <td>165</td>\n",
              "      <td>77.11</td>\n",
              "      <td>28.29</td>\n",
              "      <td>No</td>\n",
              "      <td>0</td>\n",
              "      <td>30</td>\n",
              "      <td>0</td>\n",
              "      <td>4</td>\n",
              "    </tr>\n",
              "    <tr>\n",
              "      <th>2</th>\n",
              "      <td>Very Good</td>\n",
              "      <td>Within the past year</td>\n",
              "      <td>Yes</td>\n",
              "      <td>No</td>\n",
              "      <td>No</td>\n",
              "      <td>No</td>\n",
              "      <td>No</td>\n",
              "      <td>Yes</td>\n",
              "      <td>No</td>\n",
              "      <td>Female</td>\n",
              "      <td>60-64</td>\n",
              "      <td>163</td>\n",
              "      <td>88.45</td>\n",
              "      <td>33.47</td>\n",
              "      <td>No</td>\n",
              "      <td>4</td>\n",
              "      <td>12</td>\n",
              "      <td>3</td>\n",
              "      <td>16</td>\n",
              "    </tr>\n",
              "    <tr>\n",
              "      <th>3</th>\n",
              "      <td>Poor</td>\n",
              "      <td>Within the past year</td>\n",
              "      <td>Yes</td>\n",
              "      <td>Yes</td>\n",
              "      <td>No</td>\n",
              "      <td>No</td>\n",
              "      <td>No</td>\n",
              "      <td>Yes</td>\n",
              "      <td>No</td>\n",
              "      <td>Male</td>\n",
              "      <td>75-79</td>\n",
              "      <td>180</td>\n",
              "      <td>93.44</td>\n",
              "      <td>28.73</td>\n",
              "      <td>No</td>\n",
              "      <td>0</td>\n",
              "      <td>30</td>\n",
              "      <td>30</td>\n",
              "      <td>8</td>\n",
              "    </tr>\n",
              "    <tr>\n",
              "      <th>4</th>\n",
              "      <td>Good</td>\n",
              "      <td>Within the past year</td>\n",
              "      <td>No</td>\n",
              "      <td>No</td>\n",
              "      <td>No</td>\n",
              "      <td>No</td>\n",
              "      <td>No</td>\n",
              "      <td>No</td>\n",
              "      <td>No</td>\n",
              "      <td>Male</td>\n",
              "      <td>80+</td>\n",
              "      <td>191</td>\n",
              "      <td>88.45</td>\n",
              "      <td>24.37</td>\n",
              "      <td>Yes</td>\n",
              "      <td>0</td>\n",
              "      <td>8</td>\n",
              "      <td>4</td>\n",
              "      <td>0</td>\n",
              "    </tr>\n",
              "  </tbody>\n",
              "</table>\n",
              "</div>\n",
              "    <div class=\"colab-df-buttons\">\n",
              "\n",
              "  <div class=\"colab-df-container\">\n",
              "    <button class=\"colab-df-convert\" onclick=\"convertToInteractive('df-96ceb18a-5375-40a0-8afe-b22949f4c6d8')\"\n",
              "            title=\"Convert this dataframe to an interactive table.\"\n",
              "            style=\"display:none;\">\n",
              "\n",
              "  <svg xmlns=\"http://www.w3.org/2000/svg\" height=\"24px\" viewBox=\"0 -960 960 960\">\n",
              "    <path d=\"M120-120v-720h720v720H120Zm60-500h600v-160H180v160Zm220 220h160v-160H400v160Zm0 220h160v-160H400v160ZM180-400h160v-160H180v160Zm440 0h160v-160H620v160ZM180-180h160v-160H180v160Zm440 0h160v-160H620v160Z\"/>\n",
              "  </svg>\n",
              "    </button>\n",
              "\n",
              "  <style>\n",
              "    .colab-df-container {\n",
              "      display:flex;\n",
              "      gap: 12px;\n",
              "    }\n",
              "\n",
              "    .colab-df-convert {\n",
              "      background-color: #E8F0FE;\n",
              "      border: none;\n",
              "      border-radius: 50%;\n",
              "      cursor: pointer;\n",
              "      display: none;\n",
              "      fill: #1967D2;\n",
              "      height: 32px;\n",
              "      padding: 0 0 0 0;\n",
              "      width: 32px;\n",
              "    }\n",
              "\n",
              "    .colab-df-convert:hover {\n",
              "      background-color: #E2EBFA;\n",
              "      box-shadow: 0px 1px 2px rgba(60, 64, 67, 0.3), 0px 1px 3px 1px rgba(60, 64, 67, 0.15);\n",
              "      fill: #174EA6;\n",
              "    }\n",
              "\n",
              "    .colab-df-buttons div {\n",
              "      margin-bottom: 4px;\n",
              "    }\n",
              "\n",
              "    [theme=dark] .colab-df-convert {\n",
              "      background-color: #3B4455;\n",
              "      fill: #D2E3FC;\n",
              "    }\n",
              "\n",
              "    [theme=dark] .colab-df-convert:hover {\n",
              "      background-color: #434B5C;\n",
              "      box-shadow: 0px 1px 3px 1px rgba(0, 0, 0, 0.15);\n",
              "      filter: drop-shadow(0px 1px 2px rgba(0, 0, 0, 0.3));\n",
              "      fill: #FFFFFF;\n",
              "    }\n",
              "  </style>\n",
              "\n",
              "    <script>\n",
              "      const buttonEl =\n",
              "        document.querySelector('#df-96ceb18a-5375-40a0-8afe-b22949f4c6d8 button.colab-df-convert');\n",
              "      buttonEl.style.display =\n",
              "        google.colab.kernel.accessAllowed ? 'block' : 'none';\n",
              "\n",
              "      async function convertToInteractive(key) {\n",
              "        const element = document.querySelector('#df-96ceb18a-5375-40a0-8afe-b22949f4c6d8');\n",
              "        const dataTable =\n",
              "          await google.colab.kernel.invokeFunction('convertToInteractive',\n",
              "                                                    [key], {});\n",
              "        if (!dataTable) return;\n",
              "\n",
              "        const docLinkHtml = 'Like what you see? Visit the ' +\n",
              "          '<a target=\"_blank\" href=https://colab.research.google.com/notebooks/data_table.ipynb>data table notebook</a>'\n",
              "          + ' to learn more about interactive tables.';\n",
              "        element.innerHTML = '';\n",
              "        dataTable['output_type'] = 'display_data';\n",
              "        await google.colab.output.renderOutput(dataTable, element);\n",
              "        const docLink = document.createElement('div');\n",
              "        docLink.innerHTML = docLinkHtml;\n",
              "        element.appendChild(docLink);\n",
              "      }\n",
              "    </script>\n",
              "  </div>\n",
              "\n",
              "\n",
              "<div id=\"df-4fdcf699-98c8-412f-8ac3-d1a7c24800ef\">\n",
              "  <button class=\"colab-df-quickchart\" onclick=\"quickchart('df-4fdcf699-98c8-412f-8ac3-d1a7c24800ef')\"\n",
              "            title=\"Suggest charts.\"\n",
              "            style=\"display:none;\">\n",
              "\n",
              "<svg xmlns=\"http://www.w3.org/2000/svg\" height=\"24px\"viewBox=\"0 0 24 24\"\n",
              "     width=\"24px\">\n",
              "    <g>\n",
              "        <path d=\"M19 3H5c-1.1 0-2 .9-2 2v14c0 1.1.9 2 2 2h14c1.1 0 2-.9 2-2V5c0-1.1-.9-2-2-2zM9 17H7v-7h2v7zm4 0h-2V7h2v10zm4 0h-2v-4h2v4z\"/>\n",
              "    </g>\n",
              "</svg>\n",
              "  </button>\n",
              "\n",
              "<style>\n",
              "  .colab-df-quickchart {\n",
              "      --bg-color: #E8F0FE;\n",
              "      --fill-color: #1967D2;\n",
              "      --hover-bg-color: #E2EBFA;\n",
              "      --hover-fill-color: #174EA6;\n",
              "      --disabled-fill-color: #AAA;\n",
              "      --disabled-bg-color: #DDD;\n",
              "  }\n",
              "\n",
              "  [theme=dark] .colab-df-quickchart {\n",
              "      --bg-color: #3B4455;\n",
              "      --fill-color: #D2E3FC;\n",
              "      --hover-bg-color: #434B5C;\n",
              "      --hover-fill-color: #FFFFFF;\n",
              "      --disabled-bg-color: #3B4455;\n",
              "      --disabled-fill-color: #666;\n",
              "  }\n",
              "\n",
              "  .colab-df-quickchart {\n",
              "    background-color: var(--bg-color);\n",
              "    border: none;\n",
              "    border-radius: 50%;\n",
              "    cursor: pointer;\n",
              "    display: none;\n",
              "    fill: var(--fill-color);\n",
              "    height: 32px;\n",
              "    padding: 0;\n",
              "    width: 32px;\n",
              "  }\n",
              "\n",
              "  .colab-df-quickchart:hover {\n",
              "    background-color: var(--hover-bg-color);\n",
              "    box-shadow: 0 1px 2px rgba(60, 64, 67, 0.3), 0 1px 3px 1px rgba(60, 64, 67, 0.15);\n",
              "    fill: var(--button-hover-fill-color);\n",
              "  }\n",
              "\n",
              "  .colab-df-quickchart-complete:disabled,\n",
              "  .colab-df-quickchart-complete:disabled:hover {\n",
              "    background-color: var(--disabled-bg-color);\n",
              "    fill: var(--disabled-fill-color);\n",
              "    box-shadow: none;\n",
              "  }\n",
              "\n",
              "  .colab-df-spinner {\n",
              "    border: 2px solid var(--fill-color);\n",
              "    border-color: transparent;\n",
              "    border-bottom-color: var(--fill-color);\n",
              "    animation:\n",
              "      spin 1s steps(1) infinite;\n",
              "  }\n",
              "\n",
              "  @keyframes spin {\n",
              "    0% {\n",
              "      border-color: transparent;\n",
              "      border-bottom-color: var(--fill-color);\n",
              "      border-left-color: var(--fill-color);\n",
              "    }\n",
              "    20% {\n",
              "      border-color: transparent;\n",
              "      border-left-color: var(--fill-color);\n",
              "      border-top-color: var(--fill-color);\n",
              "    }\n",
              "    30% {\n",
              "      border-color: transparent;\n",
              "      border-left-color: var(--fill-color);\n",
              "      border-top-color: var(--fill-color);\n",
              "      border-right-color: var(--fill-color);\n",
              "    }\n",
              "    40% {\n",
              "      border-color: transparent;\n",
              "      border-right-color: var(--fill-color);\n",
              "      border-top-color: var(--fill-color);\n",
              "    }\n",
              "    60% {\n",
              "      border-color: transparent;\n",
              "      border-right-color: var(--fill-color);\n",
              "    }\n",
              "    80% {\n",
              "      border-color: transparent;\n",
              "      border-right-color: var(--fill-color);\n",
              "      border-bottom-color: var(--fill-color);\n",
              "    }\n",
              "    90% {\n",
              "      border-color: transparent;\n",
              "      border-bottom-color: var(--fill-color);\n",
              "    }\n",
              "  }\n",
              "</style>\n",
              "\n",
              "  <script>\n",
              "    async function quickchart(key) {\n",
              "      const quickchartButtonEl =\n",
              "        document.querySelector('#' + key + ' button');\n",
              "      quickchartButtonEl.disabled = true;  // To prevent multiple clicks.\n",
              "      quickchartButtonEl.classList.add('colab-df-spinner');\n",
              "      try {\n",
              "        const charts = await google.colab.kernel.invokeFunction(\n",
              "            'suggestCharts', [key], {});\n",
              "      } catch (error) {\n",
              "        console.error('Error during call to suggestCharts:', error);\n",
              "      }\n",
              "      quickchartButtonEl.classList.remove('colab-df-spinner');\n",
              "      quickchartButtonEl.classList.add('colab-df-quickchart-complete');\n",
              "    }\n",
              "    (() => {\n",
              "      let quickchartButtonEl =\n",
              "        document.querySelector('#df-4fdcf699-98c8-412f-8ac3-d1a7c24800ef button');\n",
              "      quickchartButtonEl.style.display =\n",
              "        google.colab.kernel.accessAllowed ? 'block' : 'none';\n",
              "    })();\n",
              "  </script>\n",
              "</div>\n",
              "    </div>\n",
              "  </div>\n"
            ]
          },
          "metadata": {},
          "execution_count": 2
        }
      ],
      "source": [
        "# Read in the cardiovascular dataset from Google Sheets\n",
        "cvd_df = pd.read_csv(\"https://docs.google.com/spreadsheets/d/e/2PACX-1vSDchXr1EhgCSsxlxJ3lWPhh1kT5EJS3yv4DJ2YLeMIC3y4uq-Pp4EQknrs9zAiaI3ulne2Jyi6gR6G/pub?gid=602879552&single=true&output=csv\")\n",
        "cvd_df.head()"
      ]
    },
    {
      "cell_type": "markdown",
      "metadata": {
        "id": "8J64hMxKt11h"
      },
      "source": [
        "# Data Preprocessing"
      ]
    },
    {
      "cell_type": "code",
      "execution_count": 3,
      "metadata": {
        "colab": {
          "base_uri": "https://localhost:8080/"
        },
        "id": "JGyO61YpTSB4",
        "outputId": "54a66b57-552d-4731-ba98-aac780f4833f"
      },
      "outputs": [
        {
          "output_type": "execute_result",
          "data": {
            "text/plain": [
              "general_health                   object\n",
              "checkup                          object\n",
              "exercise                         object\n",
              "heart_disease                    object\n",
              "skin_cancer                      object\n",
              "other_cancer                     object\n",
              "depression                       object\n",
              "diabetes                         object\n",
              "arthritis                        object\n",
              "sex                              object\n",
              "age_category                     object\n",
              "height_cm                         int64\n",
              "weight_kg                       float64\n",
              "bmi                             float64\n",
              "smoking_history                  object\n",
              "alcohol_consumption               int64\n",
              "fruit_consumption                 int64\n",
              "green_vegetables_consumption      int64\n",
              "friedpotato_consumption           int64\n",
              "dtype: object"
            ]
          },
          "metadata": {},
          "execution_count": 3
        }
      ],
      "source": [
        "# Check datatypes\n",
        "cvd_df.dtypes"
      ]
    },
    {
      "cell_type": "code",
      "execution_count": 4,
      "metadata": {
        "id": "0lwivK_tTqeE"
      },
      "outputs": [],
      "source": [
        "# Define categorical columns for encoding and numeric columns for scaling\n",
        "categorical_cols = cvd_df.dtypes[cvd_df.dtypes == 'object'].index.tolist()\n",
        "\n",
        "numeric_cols = cvd_df.select_dtypes(include=['int64', 'float64']).columns.tolist()"
      ]
    },
    {
      "cell_type": "code",
      "execution_count": 5,
      "metadata": {
        "colab": {
          "base_uri": "https://localhost:8080/"
        },
        "id": "MVoMqfmUT8Hc",
        "outputId": "4e0614b2-0c5f-4ad8-f95d-53bda1661212"
      },
      "outputs": [
        {
          "output_type": "execute_result",
          "data": {
            "text/plain": [
              "No     275231\n",
              "Yes     24081\n",
              "Name: heart_disease, dtype: int64"
            ]
          },
          "metadata": {},
          "execution_count": 5
        }
      ],
      "source": [
        "# Check value counts of target variable\n",
        "cvd_df['heart_disease'].value_counts()"
      ]
    },
    {
      "cell_type": "markdown",
      "metadata": {
        "id": "XsbjDw2huYRL"
      },
      "source": [
        "The proportion of positive instances of heart disease ('Yes') to negative instances ('No') is heavily imbalanced. Initial testing revealed that this would result in a model that can accurately predict if a patient does not have heart diease, but is not able to accurately predict if a person does have disease. For this reason, we have decided to cut down the majority class, in this instance the 'No' category, to make the classes more balanced.\n",
        "\n",
        "We have chosen to remove all datapoints that lay outside of 1 standard deviation from the mean of the data."
      ]
    },
    {
      "cell_type": "code",
      "execution_count": 6,
      "metadata": {
        "id": "nrv0K_FUUU1X"
      },
      "outputs": [],
      "source": [
        "# Calculate mean and standard deviation for numeric columns\n",
        "means = cvd_df[numeric_cols].mean()\n",
        "stds = cvd_df[numeric_cols].std()\n",
        "\n",
        "# Define the number of standard deviations for the threshold\n",
        "threshold_std = 1\n",
        "\n",
        "# Identify outliers for numeric columns based on standard deviations\n",
        "outliers = ((cvd_df[numeric_cols] - means).abs() > threshold_std * stds).any(axis=1)\n",
        "\n",
        "# Filter rows where 'heart_disease' is 'No' and not an outlier\n",
        "filtered_rows = (~outliers) | (cvd_df['heart_disease'] == 'Yes')\n",
        "\n",
        "# Create the filtered DataFrame\n",
        "cvd_df_filtered = cvd_df[filtered_rows]"
      ]
    },
    {
      "cell_type": "code",
      "execution_count": 7,
      "metadata": {
        "colab": {
          "base_uri": "https://localhost:8080/"
        },
        "id": "fWNAU7RjUadN",
        "outputId": "6b7948b8-1503-4f29-a17b-6e8893546e73"
      },
      "outputs": [
        {
          "output_type": "execute_result",
          "data": {
            "text/plain": [
              "No     55566\n",
              "Yes    24081\n",
              "Name: heart_disease, dtype: int64"
            ]
          },
          "metadata": {},
          "execution_count": 7
        }
      ],
      "source": [
        "# Re-check value counts of target variable\n",
        "cvd_df_filtered['heart_disease'].value_counts()"
      ]
    },
    {
      "cell_type": "markdown",
      "metadata": {
        "id": "8kxzGRJ2ylJm"
      },
      "source": [
        "The classes in the target variable are now significantly closer to being balanced than previously."
      ]
    },
    {
      "cell_type": "code",
      "execution_count": 8,
      "metadata": {
        "colab": {
          "base_uri": "https://localhost:8080/",
          "height": 273
        },
        "id": "q434TobRUh07",
        "outputId": "4fc399c2-ff28-4296-c5e8-eb03bd951117"
      },
      "outputs": [
        {
          "output_type": "execute_result",
          "data": {
            "text/plain": [
              "   height_cm  weight_kg    bmi  alcohol_consumption  fruit_consumption  \\\n",
              "1        165      77.11  28.29                    0                 30   \n",
              "3        180      93.44  28.73                    0                 30   \n",
              "6        175      69.85  22.74                    0                 16   \n",
              "8        163      72.57  27.46                    0                 12   \n",
              "9        163      91.63  34.67                    0                 12   \n",
              "\n",
              "   green_vegetables_consumption  friedpotato_consumption  \\\n",
              "1                             0                        4   \n",
              "3                            30                        8   \n",
              "6                             8                        0   \n",
              "8                            12                        4   \n",
              "9                            12                        1   \n",
              "\n",
              "   general_health_Excellent  general_health_Fair  general_health_Good  ...  \\\n",
              "1                         0                    0                    0  ...   \n",
              "3                         0                    0                    0  ...   \n",
              "6                         0                    1                    0  ...   \n",
              "8                         0                    1                    0  ...   \n",
              "9                         0                    1                    0  ...   \n",
              "\n",
              "   age_category_45-49  age_category_50-54  age_category_55-59  \\\n",
              "1                   0                   0                   0   \n",
              "3                   0                   0                   0   \n",
              "6                   0                   0                   0   \n",
              "8                   0                   0                   0   \n",
              "9                   0                   0                   0   \n",
              "\n",
              "   age_category_60-64  age_category_65-69  age_category_70-74  \\\n",
              "1                   0                   0                   1   \n",
              "3                   0                   0                   0   \n",
              "6                   1                   0                   0   \n",
              "8                   0                   1                   0   \n",
              "9                   0                   0                   1   \n",
              "\n",
              "   age_category_75-79  age_category_80+  smoking_history_No  \\\n",
              "1                   0                 0                   1   \n",
              "3                   1                 0                   1   \n",
              "6                   0                 0                   0   \n",
              "8                   0                 0                   0   \n",
              "9                   0                 0                   1   \n",
              "\n",
              "   smoking_history_Yes  \n",
              "1                    0  \n",
              "3                    0  \n",
              "6                    1  \n",
              "8                    1  \n",
              "9                    0  \n",
              "\n",
              "[5 rows x 48 columns]"
            ],
            "text/html": [
              "\n",
              "  <div id=\"df-cc5eddc6-3ea1-4d2f-b5c3-7968700bb462\" class=\"colab-df-container\">\n",
              "    <div>\n",
              "<style scoped>\n",
              "    .dataframe tbody tr th:only-of-type {\n",
              "        vertical-align: middle;\n",
              "    }\n",
              "\n",
              "    .dataframe tbody tr th {\n",
              "        vertical-align: top;\n",
              "    }\n",
              "\n",
              "    .dataframe thead th {\n",
              "        text-align: right;\n",
              "    }\n",
              "</style>\n",
              "<table border=\"1\" class=\"dataframe\">\n",
              "  <thead>\n",
              "    <tr style=\"text-align: right;\">\n",
              "      <th></th>\n",
              "      <th>height_cm</th>\n",
              "      <th>weight_kg</th>\n",
              "      <th>bmi</th>\n",
              "      <th>alcohol_consumption</th>\n",
              "      <th>fruit_consumption</th>\n",
              "      <th>green_vegetables_consumption</th>\n",
              "      <th>friedpotato_consumption</th>\n",
              "      <th>general_health_Excellent</th>\n",
              "      <th>general_health_Fair</th>\n",
              "      <th>general_health_Good</th>\n",
              "      <th>...</th>\n",
              "      <th>age_category_45-49</th>\n",
              "      <th>age_category_50-54</th>\n",
              "      <th>age_category_55-59</th>\n",
              "      <th>age_category_60-64</th>\n",
              "      <th>age_category_65-69</th>\n",
              "      <th>age_category_70-74</th>\n",
              "      <th>age_category_75-79</th>\n",
              "      <th>age_category_80+</th>\n",
              "      <th>smoking_history_No</th>\n",
              "      <th>smoking_history_Yes</th>\n",
              "    </tr>\n",
              "  </thead>\n",
              "  <tbody>\n",
              "    <tr>\n",
              "      <th>1</th>\n",
              "      <td>165</td>\n",
              "      <td>77.11</td>\n",
              "      <td>28.29</td>\n",
              "      <td>0</td>\n",
              "      <td>30</td>\n",
              "      <td>0</td>\n",
              "      <td>4</td>\n",
              "      <td>0</td>\n",
              "      <td>0</td>\n",
              "      <td>0</td>\n",
              "      <td>...</td>\n",
              "      <td>0</td>\n",
              "      <td>0</td>\n",
              "      <td>0</td>\n",
              "      <td>0</td>\n",
              "      <td>0</td>\n",
              "      <td>1</td>\n",
              "      <td>0</td>\n",
              "      <td>0</td>\n",
              "      <td>1</td>\n",
              "      <td>0</td>\n",
              "    </tr>\n",
              "    <tr>\n",
              "      <th>3</th>\n",
              "      <td>180</td>\n",
              "      <td>93.44</td>\n",
              "      <td>28.73</td>\n",
              "      <td>0</td>\n",
              "      <td>30</td>\n",
              "      <td>30</td>\n",
              "      <td>8</td>\n",
              "      <td>0</td>\n",
              "      <td>0</td>\n",
              "      <td>0</td>\n",
              "      <td>...</td>\n",
              "      <td>0</td>\n",
              "      <td>0</td>\n",
              "      <td>0</td>\n",
              "      <td>0</td>\n",
              "      <td>0</td>\n",
              "      <td>0</td>\n",
              "      <td>1</td>\n",
              "      <td>0</td>\n",
              "      <td>1</td>\n",
              "      <td>0</td>\n",
              "    </tr>\n",
              "    <tr>\n",
              "      <th>6</th>\n",
              "      <td>175</td>\n",
              "      <td>69.85</td>\n",
              "      <td>22.74</td>\n",
              "      <td>0</td>\n",
              "      <td>16</td>\n",
              "      <td>8</td>\n",
              "      <td>0</td>\n",
              "      <td>0</td>\n",
              "      <td>1</td>\n",
              "      <td>0</td>\n",
              "      <td>...</td>\n",
              "      <td>0</td>\n",
              "      <td>0</td>\n",
              "      <td>0</td>\n",
              "      <td>1</td>\n",
              "      <td>0</td>\n",
              "      <td>0</td>\n",
              "      <td>0</td>\n",
              "      <td>0</td>\n",
              "      <td>0</td>\n",
              "      <td>1</td>\n",
              "    </tr>\n",
              "    <tr>\n",
              "      <th>8</th>\n",
              "      <td>163</td>\n",
              "      <td>72.57</td>\n",
              "      <td>27.46</td>\n",
              "      <td>0</td>\n",
              "      <td>12</td>\n",
              "      <td>12</td>\n",
              "      <td>4</td>\n",
              "      <td>0</td>\n",
              "      <td>1</td>\n",
              "      <td>0</td>\n",
              "      <td>...</td>\n",
              "      <td>0</td>\n",
              "      <td>0</td>\n",
              "      <td>0</td>\n",
              "      <td>0</td>\n",
              "      <td>1</td>\n",
              "      <td>0</td>\n",
              "      <td>0</td>\n",
              "      <td>0</td>\n",
              "      <td>0</td>\n",
              "      <td>1</td>\n",
              "    </tr>\n",
              "    <tr>\n",
              "      <th>9</th>\n",
              "      <td>163</td>\n",
              "      <td>91.63</td>\n",
              "      <td>34.67</td>\n",
              "      <td>0</td>\n",
              "      <td>12</td>\n",
              "      <td>12</td>\n",
              "      <td>1</td>\n",
              "      <td>0</td>\n",
              "      <td>1</td>\n",
              "      <td>0</td>\n",
              "      <td>...</td>\n",
              "      <td>0</td>\n",
              "      <td>0</td>\n",
              "      <td>0</td>\n",
              "      <td>0</td>\n",
              "      <td>0</td>\n",
              "      <td>1</td>\n",
              "      <td>0</td>\n",
              "      <td>0</td>\n",
              "      <td>1</td>\n",
              "      <td>0</td>\n",
              "    </tr>\n",
              "  </tbody>\n",
              "</table>\n",
              "<p>5 rows × 48 columns</p>\n",
              "</div>\n",
              "    <div class=\"colab-df-buttons\">\n",
              "\n",
              "  <div class=\"colab-df-container\">\n",
              "    <button class=\"colab-df-convert\" onclick=\"convertToInteractive('df-cc5eddc6-3ea1-4d2f-b5c3-7968700bb462')\"\n",
              "            title=\"Convert this dataframe to an interactive table.\"\n",
              "            style=\"display:none;\">\n",
              "\n",
              "  <svg xmlns=\"http://www.w3.org/2000/svg\" height=\"24px\" viewBox=\"0 -960 960 960\">\n",
              "    <path d=\"M120-120v-720h720v720H120Zm60-500h600v-160H180v160Zm220 220h160v-160H400v160Zm0 220h160v-160H400v160ZM180-400h160v-160H180v160Zm440 0h160v-160H620v160ZM180-180h160v-160H180v160Zm440 0h160v-160H620v160Z\"/>\n",
              "  </svg>\n",
              "    </button>\n",
              "\n",
              "  <style>\n",
              "    .colab-df-container {\n",
              "      display:flex;\n",
              "      gap: 12px;\n",
              "    }\n",
              "\n",
              "    .colab-df-convert {\n",
              "      background-color: #E8F0FE;\n",
              "      border: none;\n",
              "      border-radius: 50%;\n",
              "      cursor: pointer;\n",
              "      display: none;\n",
              "      fill: #1967D2;\n",
              "      height: 32px;\n",
              "      padding: 0 0 0 0;\n",
              "      width: 32px;\n",
              "    }\n",
              "\n",
              "    .colab-df-convert:hover {\n",
              "      background-color: #E2EBFA;\n",
              "      box-shadow: 0px 1px 2px rgba(60, 64, 67, 0.3), 0px 1px 3px 1px rgba(60, 64, 67, 0.15);\n",
              "      fill: #174EA6;\n",
              "    }\n",
              "\n",
              "    .colab-df-buttons div {\n",
              "      margin-bottom: 4px;\n",
              "    }\n",
              "\n",
              "    [theme=dark] .colab-df-convert {\n",
              "      background-color: #3B4455;\n",
              "      fill: #D2E3FC;\n",
              "    }\n",
              "\n",
              "    [theme=dark] .colab-df-convert:hover {\n",
              "      background-color: #434B5C;\n",
              "      box-shadow: 0px 1px 3px 1px rgba(0, 0, 0, 0.15);\n",
              "      filter: drop-shadow(0px 1px 2px rgba(0, 0, 0, 0.3));\n",
              "      fill: #FFFFFF;\n",
              "    }\n",
              "  </style>\n",
              "\n",
              "    <script>\n",
              "      const buttonEl =\n",
              "        document.querySelector('#df-cc5eddc6-3ea1-4d2f-b5c3-7968700bb462 button.colab-df-convert');\n",
              "      buttonEl.style.display =\n",
              "        google.colab.kernel.accessAllowed ? 'block' : 'none';\n",
              "\n",
              "      async function convertToInteractive(key) {\n",
              "        const element = document.querySelector('#df-cc5eddc6-3ea1-4d2f-b5c3-7968700bb462');\n",
              "        const dataTable =\n",
              "          await google.colab.kernel.invokeFunction('convertToInteractive',\n",
              "                                                    [key], {});\n",
              "        if (!dataTable) return;\n",
              "\n",
              "        const docLinkHtml = 'Like what you see? Visit the ' +\n",
              "          '<a target=\"_blank\" href=https://colab.research.google.com/notebooks/data_table.ipynb>data table notebook</a>'\n",
              "          + ' to learn more about interactive tables.';\n",
              "        element.innerHTML = '';\n",
              "        dataTable['output_type'] = 'display_data';\n",
              "        await google.colab.output.renderOutput(dataTable, element);\n",
              "        const docLink = document.createElement('div');\n",
              "        docLink.innerHTML = docLinkHtml;\n",
              "        element.appendChild(docLink);\n",
              "      }\n",
              "    </script>\n",
              "  </div>\n",
              "\n",
              "\n",
              "<div id=\"df-402a3bec-41bf-44ff-b316-621284e7e95b\">\n",
              "  <button class=\"colab-df-quickchart\" onclick=\"quickchart('df-402a3bec-41bf-44ff-b316-621284e7e95b')\"\n",
              "            title=\"Suggest charts.\"\n",
              "            style=\"display:none;\">\n",
              "\n",
              "<svg xmlns=\"http://www.w3.org/2000/svg\" height=\"24px\"viewBox=\"0 0 24 24\"\n",
              "     width=\"24px\">\n",
              "    <g>\n",
              "        <path d=\"M19 3H5c-1.1 0-2 .9-2 2v14c0 1.1.9 2 2 2h14c1.1 0 2-.9 2-2V5c0-1.1-.9-2-2-2zM9 17H7v-7h2v7zm4 0h-2V7h2v10zm4 0h-2v-4h2v4z\"/>\n",
              "    </g>\n",
              "</svg>\n",
              "  </button>\n",
              "\n",
              "<style>\n",
              "  .colab-df-quickchart {\n",
              "      --bg-color: #E8F0FE;\n",
              "      --fill-color: #1967D2;\n",
              "      --hover-bg-color: #E2EBFA;\n",
              "      --hover-fill-color: #174EA6;\n",
              "      --disabled-fill-color: #AAA;\n",
              "      --disabled-bg-color: #DDD;\n",
              "  }\n",
              "\n",
              "  [theme=dark] .colab-df-quickchart {\n",
              "      --bg-color: #3B4455;\n",
              "      --fill-color: #D2E3FC;\n",
              "      --hover-bg-color: #434B5C;\n",
              "      --hover-fill-color: #FFFFFF;\n",
              "      --disabled-bg-color: #3B4455;\n",
              "      --disabled-fill-color: #666;\n",
              "  }\n",
              "\n",
              "  .colab-df-quickchart {\n",
              "    background-color: var(--bg-color);\n",
              "    border: none;\n",
              "    border-radius: 50%;\n",
              "    cursor: pointer;\n",
              "    display: none;\n",
              "    fill: var(--fill-color);\n",
              "    height: 32px;\n",
              "    padding: 0;\n",
              "    width: 32px;\n",
              "  }\n",
              "\n",
              "  .colab-df-quickchart:hover {\n",
              "    background-color: var(--hover-bg-color);\n",
              "    box-shadow: 0 1px 2px rgba(60, 64, 67, 0.3), 0 1px 3px 1px rgba(60, 64, 67, 0.15);\n",
              "    fill: var(--button-hover-fill-color);\n",
              "  }\n",
              "\n",
              "  .colab-df-quickchart-complete:disabled,\n",
              "  .colab-df-quickchart-complete:disabled:hover {\n",
              "    background-color: var(--disabled-bg-color);\n",
              "    fill: var(--disabled-fill-color);\n",
              "    box-shadow: none;\n",
              "  }\n",
              "\n",
              "  .colab-df-spinner {\n",
              "    border: 2px solid var(--fill-color);\n",
              "    border-color: transparent;\n",
              "    border-bottom-color: var(--fill-color);\n",
              "    animation:\n",
              "      spin 1s steps(1) infinite;\n",
              "  }\n",
              "\n",
              "  @keyframes spin {\n",
              "    0% {\n",
              "      border-color: transparent;\n",
              "      border-bottom-color: var(--fill-color);\n",
              "      border-left-color: var(--fill-color);\n",
              "    }\n",
              "    20% {\n",
              "      border-color: transparent;\n",
              "      border-left-color: var(--fill-color);\n",
              "      border-top-color: var(--fill-color);\n",
              "    }\n",
              "    30% {\n",
              "      border-color: transparent;\n",
              "      border-left-color: var(--fill-color);\n",
              "      border-top-color: var(--fill-color);\n",
              "      border-right-color: var(--fill-color);\n",
              "    }\n",
              "    40% {\n",
              "      border-color: transparent;\n",
              "      border-right-color: var(--fill-color);\n",
              "      border-top-color: var(--fill-color);\n",
              "    }\n",
              "    60% {\n",
              "      border-color: transparent;\n",
              "      border-right-color: var(--fill-color);\n",
              "    }\n",
              "    80% {\n",
              "      border-color: transparent;\n",
              "      border-right-color: var(--fill-color);\n",
              "      border-bottom-color: var(--fill-color);\n",
              "    }\n",
              "    90% {\n",
              "      border-color: transparent;\n",
              "      border-bottom-color: var(--fill-color);\n",
              "    }\n",
              "  }\n",
              "</style>\n",
              "\n",
              "  <script>\n",
              "    async function quickchart(key) {\n",
              "      const quickchartButtonEl =\n",
              "        document.querySelector('#' + key + ' button');\n",
              "      quickchartButtonEl.disabled = true;  // To prevent multiple clicks.\n",
              "      quickchartButtonEl.classList.add('colab-df-spinner');\n",
              "      try {\n",
              "        const charts = await google.colab.kernel.invokeFunction(\n",
              "            'suggestCharts', [key], {});\n",
              "      } catch (error) {\n",
              "        console.error('Error during call to suggestCharts:', error);\n",
              "      }\n",
              "      quickchartButtonEl.classList.remove('colab-df-spinner');\n",
              "      quickchartButtonEl.classList.add('colab-df-quickchart-complete');\n",
              "    }\n",
              "    (() => {\n",
              "      let quickchartButtonEl =\n",
              "        document.querySelector('#df-402a3bec-41bf-44ff-b316-621284e7e95b button');\n",
              "      quickchartButtonEl.style.display =\n",
              "        google.colab.kernel.accessAllowed ? 'block' : 'none';\n",
              "    })();\n",
              "  </script>\n",
              "</div>\n",
              "    </div>\n",
              "  </div>\n"
            ]
          },
          "metadata": {},
          "execution_count": 8
        }
      ],
      "source": [
        "# Encode categorical columns using get_dummies\n",
        "encoded_df = pd.get_dummies(cvd_df_filtered, columns=categorical_cols, drop_first=False)\n",
        "encoded_df.head()"
      ]
    },
    {
      "cell_type": "code",
      "execution_count": 9,
      "metadata": {
        "colab": {
          "base_uri": "https://localhost:8080/",
          "height": 273
        },
        "id": "qURZcC_9XPOE",
        "outputId": "484b016b-b9b2-4648-ea59-3d57a99fe15a"
      },
      "outputs": [
        {
          "output_type": "execute_result",
          "data": {
            "text/plain": [
              "   height_cm  weight_kg       bmi  alcohol_consumption  fruit_consumption  \\\n",
              "1  -0.832260  -0.393566 -0.000590            -0.556508           0.413674   \n",
              "3   1.184427   0.704890  0.095604            -0.556508           0.413674   \n",
              "6   0.512198  -0.881918 -1.213951            -0.556508          -0.472114   \n",
              "8  -1.101152  -0.698954 -0.182048            -0.556508          -0.725196   \n",
              "9  -1.101152   0.583139  1.394228            -0.556508          -0.725196   \n",
              "\n",
              "   green_vegetables_consumption  friedpotato_consumption  \\\n",
              "1                     -1.250370                -0.166917   \n",
              "3                      1.515171                 0.547281   \n",
              "6                     -0.512893                -0.881115   \n",
              "8                     -0.144154                -0.166917   \n",
              "9                     -0.144154                -0.702566   \n",
              "\n",
              "   general_health_Excellent  general_health_Fair  general_health_Good  ...  \\\n",
              "1                         0                    0                    0  ...   \n",
              "3                         0                    0                    0  ...   \n",
              "6                         0                    1                    0  ...   \n",
              "8                         0                    1                    0  ...   \n",
              "9                         0                    1                    0  ...   \n",
              "\n",
              "   age_category_45-49  age_category_50-54  age_category_55-59  \\\n",
              "1                   0                   0                   0   \n",
              "3                   0                   0                   0   \n",
              "6                   0                   0                   0   \n",
              "8                   0                   0                   0   \n",
              "9                   0                   0                   0   \n",
              "\n",
              "   age_category_60-64  age_category_65-69  age_category_70-74  \\\n",
              "1                   0                   0                   1   \n",
              "3                   0                   0                   0   \n",
              "6                   1                   0                   0   \n",
              "8                   0                   1                   0   \n",
              "9                   0                   0                   1   \n",
              "\n",
              "   age_category_75-79  age_category_80+  smoking_history_No  \\\n",
              "1                   0                 0                   1   \n",
              "3                   1                 0                   1   \n",
              "6                   0                 0                   0   \n",
              "8                   0                 0                   0   \n",
              "9                   0                 0                   1   \n",
              "\n",
              "   smoking_history_Yes  \n",
              "1                    0  \n",
              "3                    0  \n",
              "6                    1  \n",
              "8                    1  \n",
              "9                    0  \n",
              "\n",
              "[5 rows x 48 columns]"
            ],
            "text/html": [
              "\n",
              "  <div id=\"df-b437b494-4ba6-4388-ae95-272e4abe8a54\" class=\"colab-df-container\">\n",
              "    <div>\n",
              "<style scoped>\n",
              "    .dataframe tbody tr th:only-of-type {\n",
              "        vertical-align: middle;\n",
              "    }\n",
              "\n",
              "    .dataframe tbody tr th {\n",
              "        vertical-align: top;\n",
              "    }\n",
              "\n",
              "    .dataframe thead th {\n",
              "        text-align: right;\n",
              "    }\n",
              "</style>\n",
              "<table border=\"1\" class=\"dataframe\">\n",
              "  <thead>\n",
              "    <tr style=\"text-align: right;\">\n",
              "      <th></th>\n",
              "      <th>height_cm</th>\n",
              "      <th>weight_kg</th>\n",
              "      <th>bmi</th>\n",
              "      <th>alcohol_consumption</th>\n",
              "      <th>fruit_consumption</th>\n",
              "      <th>green_vegetables_consumption</th>\n",
              "      <th>friedpotato_consumption</th>\n",
              "      <th>general_health_Excellent</th>\n",
              "      <th>general_health_Fair</th>\n",
              "      <th>general_health_Good</th>\n",
              "      <th>...</th>\n",
              "      <th>age_category_45-49</th>\n",
              "      <th>age_category_50-54</th>\n",
              "      <th>age_category_55-59</th>\n",
              "      <th>age_category_60-64</th>\n",
              "      <th>age_category_65-69</th>\n",
              "      <th>age_category_70-74</th>\n",
              "      <th>age_category_75-79</th>\n",
              "      <th>age_category_80+</th>\n",
              "      <th>smoking_history_No</th>\n",
              "      <th>smoking_history_Yes</th>\n",
              "    </tr>\n",
              "  </thead>\n",
              "  <tbody>\n",
              "    <tr>\n",
              "      <th>1</th>\n",
              "      <td>-0.832260</td>\n",
              "      <td>-0.393566</td>\n",
              "      <td>-0.000590</td>\n",
              "      <td>-0.556508</td>\n",
              "      <td>0.413674</td>\n",
              "      <td>-1.250370</td>\n",
              "      <td>-0.166917</td>\n",
              "      <td>0</td>\n",
              "      <td>0</td>\n",
              "      <td>0</td>\n",
              "      <td>...</td>\n",
              "      <td>0</td>\n",
              "      <td>0</td>\n",
              "      <td>0</td>\n",
              "      <td>0</td>\n",
              "      <td>0</td>\n",
              "      <td>1</td>\n",
              "      <td>0</td>\n",
              "      <td>0</td>\n",
              "      <td>1</td>\n",
              "      <td>0</td>\n",
              "    </tr>\n",
              "    <tr>\n",
              "      <th>3</th>\n",
              "      <td>1.184427</td>\n",
              "      <td>0.704890</td>\n",
              "      <td>0.095604</td>\n",
              "      <td>-0.556508</td>\n",
              "      <td>0.413674</td>\n",
              "      <td>1.515171</td>\n",
              "      <td>0.547281</td>\n",
              "      <td>0</td>\n",
              "      <td>0</td>\n",
              "      <td>0</td>\n",
              "      <td>...</td>\n",
              "      <td>0</td>\n",
              "      <td>0</td>\n",
              "      <td>0</td>\n",
              "      <td>0</td>\n",
              "      <td>0</td>\n",
              "      <td>0</td>\n",
              "      <td>1</td>\n",
              "      <td>0</td>\n",
              "      <td>1</td>\n",
              "      <td>0</td>\n",
              "    </tr>\n",
              "    <tr>\n",
              "      <th>6</th>\n",
              "      <td>0.512198</td>\n",
              "      <td>-0.881918</td>\n",
              "      <td>-1.213951</td>\n",
              "      <td>-0.556508</td>\n",
              "      <td>-0.472114</td>\n",
              "      <td>-0.512893</td>\n",
              "      <td>-0.881115</td>\n",
              "      <td>0</td>\n",
              "      <td>1</td>\n",
              "      <td>0</td>\n",
              "      <td>...</td>\n",
              "      <td>0</td>\n",
              "      <td>0</td>\n",
              "      <td>0</td>\n",
              "      <td>1</td>\n",
              "      <td>0</td>\n",
              "      <td>0</td>\n",
              "      <td>0</td>\n",
              "      <td>0</td>\n",
              "      <td>0</td>\n",
              "      <td>1</td>\n",
              "    </tr>\n",
              "    <tr>\n",
              "      <th>8</th>\n",
              "      <td>-1.101152</td>\n",
              "      <td>-0.698954</td>\n",
              "      <td>-0.182048</td>\n",
              "      <td>-0.556508</td>\n",
              "      <td>-0.725196</td>\n",
              "      <td>-0.144154</td>\n",
              "      <td>-0.166917</td>\n",
              "      <td>0</td>\n",
              "      <td>1</td>\n",
              "      <td>0</td>\n",
              "      <td>...</td>\n",
              "      <td>0</td>\n",
              "      <td>0</td>\n",
              "      <td>0</td>\n",
              "      <td>0</td>\n",
              "      <td>1</td>\n",
              "      <td>0</td>\n",
              "      <td>0</td>\n",
              "      <td>0</td>\n",
              "      <td>0</td>\n",
              "      <td>1</td>\n",
              "    </tr>\n",
              "    <tr>\n",
              "      <th>9</th>\n",
              "      <td>-1.101152</td>\n",
              "      <td>0.583139</td>\n",
              "      <td>1.394228</td>\n",
              "      <td>-0.556508</td>\n",
              "      <td>-0.725196</td>\n",
              "      <td>-0.144154</td>\n",
              "      <td>-0.702566</td>\n",
              "      <td>0</td>\n",
              "      <td>1</td>\n",
              "      <td>0</td>\n",
              "      <td>...</td>\n",
              "      <td>0</td>\n",
              "      <td>0</td>\n",
              "      <td>0</td>\n",
              "      <td>0</td>\n",
              "      <td>0</td>\n",
              "      <td>1</td>\n",
              "      <td>0</td>\n",
              "      <td>0</td>\n",
              "      <td>1</td>\n",
              "      <td>0</td>\n",
              "    </tr>\n",
              "  </tbody>\n",
              "</table>\n",
              "<p>5 rows × 48 columns</p>\n",
              "</div>\n",
              "    <div class=\"colab-df-buttons\">\n",
              "\n",
              "  <div class=\"colab-df-container\">\n",
              "    <button class=\"colab-df-convert\" onclick=\"convertToInteractive('df-b437b494-4ba6-4388-ae95-272e4abe8a54')\"\n",
              "            title=\"Convert this dataframe to an interactive table.\"\n",
              "            style=\"display:none;\">\n",
              "\n",
              "  <svg xmlns=\"http://www.w3.org/2000/svg\" height=\"24px\" viewBox=\"0 -960 960 960\">\n",
              "    <path d=\"M120-120v-720h720v720H120Zm60-500h600v-160H180v160Zm220 220h160v-160H400v160Zm0 220h160v-160H400v160ZM180-400h160v-160H180v160Zm440 0h160v-160H620v160ZM180-180h160v-160H180v160Zm440 0h160v-160H620v160Z\"/>\n",
              "  </svg>\n",
              "    </button>\n",
              "\n",
              "  <style>\n",
              "    .colab-df-container {\n",
              "      display:flex;\n",
              "      gap: 12px;\n",
              "    }\n",
              "\n",
              "    .colab-df-convert {\n",
              "      background-color: #E8F0FE;\n",
              "      border: none;\n",
              "      border-radius: 50%;\n",
              "      cursor: pointer;\n",
              "      display: none;\n",
              "      fill: #1967D2;\n",
              "      height: 32px;\n",
              "      padding: 0 0 0 0;\n",
              "      width: 32px;\n",
              "    }\n",
              "\n",
              "    .colab-df-convert:hover {\n",
              "      background-color: #E2EBFA;\n",
              "      box-shadow: 0px 1px 2px rgba(60, 64, 67, 0.3), 0px 1px 3px 1px rgba(60, 64, 67, 0.15);\n",
              "      fill: #174EA6;\n",
              "    }\n",
              "\n",
              "    .colab-df-buttons div {\n",
              "      margin-bottom: 4px;\n",
              "    }\n",
              "\n",
              "    [theme=dark] .colab-df-convert {\n",
              "      background-color: #3B4455;\n",
              "      fill: #D2E3FC;\n",
              "    }\n",
              "\n",
              "    [theme=dark] .colab-df-convert:hover {\n",
              "      background-color: #434B5C;\n",
              "      box-shadow: 0px 1px 3px 1px rgba(0, 0, 0, 0.15);\n",
              "      filter: drop-shadow(0px 1px 2px rgba(0, 0, 0, 0.3));\n",
              "      fill: #FFFFFF;\n",
              "    }\n",
              "  </style>\n",
              "\n",
              "    <script>\n",
              "      const buttonEl =\n",
              "        document.querySelector('#df-b437b494-4ba6-4388-ae95-272e4abe8a54 button.colab-df-convert');\n",
              "      buttonEl.style.display =\n",
              "        google.colab.kernel.accessAllowed ? 'block' : 'none';\n",
              "\n",
              "      async function convertToInteractive(key) {\n",
              "        const element = document.querySelector('#df-b437b494-4ba6-4388-ae95-272e4abe8a54');\n",
              "        const dataTable =\n",
              "          await google.colab.kernel.invokeFunction('convertToInteractive',\n",
              "                                                    [key], {});\n",
              "        if (!dataTable) return;\n",
              "\n",
              "        const docLinkHtml = 'Like what you see? Visit the ' +\n",
              "          '<a target=\"_blank\" href=https://colab.research.google.com/notebooks/data_table.ipynb>data table notebook</a>'\n",
              "          + ' to learn more about interactive tables.';\n",
              "        element.innerHTML = '';\n",
              "        dataTable['output_type'] = 'display_data';\n",
              "        await google.colab.output.renderOutput(dataTable, element);\n",
              "        const docLink = document.createElement('div');\n",
              "        docLink.innerHTML = docLinkHtml;\n",
              "        element.appendChild(docLink);\n",
              "      }\n",
              "    </script>\n",
              "  </div>\n",
              "\n",
              "\n",
              "<div id=\"df-28391ed8-0f4b-4d2f-b56d-1f7cc47e1ed2\">\n",
              "  <button class=\"colab-df-quickchart\" onclick=\"quickchart('df-28391ed8-0f4b-4d2f-b56d-1f7cc47e1ed2')\"\n",
              "            title=\"Suggest charts.\"\n",
              "            style=\"display:none;\">\n",
              "\n",
              "<svg xmlns=\"http://www.w3.org/2000/svg\" height=\"24px\"viewBox=\"0 0 24 24\"\n",
              "     width=\"24px\">\n",
              "    <g>\n",
              "        <path d=\"M19 3H5c-1.1 0-2 .9-2 2v14c0 1.1.9 2 2 2h14c1.1 0 2-.9 2-2V5c0-1.1-.9-2-2-2zM9 17H7v-7h2v7zm4 0h-2V7h2v10zm4 0h-2v-4h2v4z\"/>\n",
              "    </g>\n",
              "</svg>\n",
              "  </button>\n",
              "\n",
              "<style>\n",
              "  .colab-df-quickchart {\n",
              "      --bg-color: #E8F0FE;\n",
              "      --fill-color: #1967D2;\n",
              "      --hover-bg-color: #E2EBFA;\n",
              "      --hover-fill-color: #174EA6;\n",
              "      --disabled-fill-color: #AAA;\n",
              "      --disabled-bg-color: #DDD;\n",
              "  }\n",
              "\n",
              "  [theme=dark] .colab-df-quickchart {\n",
              "      --bg-color: #3B4455;\n",
              "      --fill-color: #D2E3FC;\n",
              "      --hover-bg-color: #434B5C;\n",
              "      --hover-fill-color: #FFFFFF;\n",
              "      --disabled-bg-color: #3B4455;\n",
              "      --disabled-fill-color: #666;\n",
              "  }\n",
              "\n",
              "  .colab-df-quickchart {\n",
              "    background-color: var(--bg-color);\n",
              "    border: none;\n",
              "    border-radius: 50%;\n",
              "    cursor: pointer;\n",
              "    display: none;\n",
              "    fill: var(--fill-color);\n",
              "    height: 32px;\n",
              "    padding: 0;\n",
              "    width: 32px;\n",
              "  }\n",
              "\n",
              "  .colab-df-quickchart:hover {\n",
              "    background-color: var(--hover-bg-color);\n",
              "    box-shadow: 0 1px 2px rgba(60, 64, 67, 0.3), 0 1px 3px 1px rgba(60, 64, 67, 0.15);\n",
              "    fill: var(--button-hover-fill-color);\n",
              "  }\n",
              "\n",
              "  .colab-df-quickchart-complete:disabled,\n",
              "  .colab-df-quickchart-complete:disabled:hover {\n",
              "    background-color: var(--disabled-bg-color);\n",
              "    fill: var(--disabled-fill-color);\n",
              "    box-shadow: none;\n",
              "  }\n",
              "\n",
              "  .colab-df-spinner {\n",
              "    border: 2px solid var(--fill-color);\n",
              "    border-color: transparent;\n",
              "    border-bottom-color: var(--fill-color);\n",
              "    animation:\n",
              "      spin 1s steps(1) infinite;\n",
              "  }\n",
              "\n",
              "  @keyframes spin {\n",
              "    0% {\n",
              "      border-color: transparent;\n",
              "      border-bottom-color: var(--fill-color);\n",
              "      border-left-color: var(--fill-color);\n",
              "    }\n",
              "    20% {\n",
              "      border-color: transparent;\n",
              "      border-left-color: var(--fill-color);\n",
              "      border-top-color: var(--fill-color);\n",
              "    }\n",
              "    30% {\n",
              "      border-color: transparent;\n",
              "      border-left-color: var(--fill-color);\n",
              "      border-top-color: var(--fill-color);\n",
              "      border-right-color: var(--fill-color);\n",
              "    }\n",
              "    40% {\n",
              "      border-color: transparent;\n",
              "      border-right-color: var(--fill-color);\n",
              "      border-top-color: var(--fill-color);\n",
              "    }\n",
              "    60% {\n",
              "      border-color: transparent;\n",
              "      border-right-color: var(--fill-color);\n",
              "    }\n",
              "    80% {\n",
              "      border-color: transparent;\n",
              "      border-right-color: var(--fill-color);\n",
              "      border-bottom-color: var(--fill-color);\n",
              "    }\n",
              "    90% {\n",
              "      border-color: transparent;\n",
              "      border-bottom-color: var(--fill-color);\n",
              "    }\n",
              "  }\n",
              "</style>\n",
              "\n",
              "  <script>\n",
              "    async function quickchart(key) {\n",
              "      const quickchartButtonEl =\n",
              "        document.querySelector('#' + key + ' button');\n",
              "      quickchartButtonEl.disabled = true;  // To prevent multiple clicks.\n",
              "      quickchartButtonEl.classList.add('colab-df-spinner');\n",
              "      try {\n",
              "        const charts = await google.colab.kernel.invokeFunction(\n",
              "            'suggestCharts', [key], {});\n",
              "      } catch (error) {\n",
              "        console.error('Error during call to suggestCharts:', error);\n",
              "      }\n",
              "      quickchartButtonEl.classList.remove('colab-df-spinner');\n",
              "      quickchartButtonEl.classList.add('colab-df-quickchart-complete');\n",
              "    }\n",
              "    (() => {\n",
              "      let quickchartButtonEl =\n",
              "        document.querySelector('#df-28391ed8-0f4b-4d2f-b56d-1f7cc47e1ed2 button');\n",
              "      quickchartButtonEl.style.display =\n",
              "        google.colab.kernel.accessAllowed ? 'block' : 'none';\n",
              "    })();\n",
              "  </script>\n",
              "</div>\n",
              "    </div>\n",
              "  </div>\n"
            ]
          },
          "metadata": {},
          "execution_count": 9
        }
      ],
      "source": [
        "# Scale numerical columns using StandardScaler\n",
        "scaler = StandardScaler()\n",
        "encoded_df[numeric_cols] = scaler.fit_transform(encoded_df[numeric_cols])\n",
        "encoded_df.head()"
      ]
    },
    {
      "cell_type": "code",
      "execution_count": 10,
      "metadata": {
        "id": "96JqGf3EXXJa"
      },
      "outputs": [],
      "source": [
        "# Assign the target variable 'heart_disease' to y\n",
        "y = encoded_df['heart_disease_Yes']\n",
        "\n",
        "# Assign the remaining columns (features) to X\n",
        "X = encoded_df.drop(columns=['heart_disease_Yes', 'heart_disease_No'])"
      ]
    },
    {
      "cell_type": "code",
      "execution_count": 11,
      "metadata": {
        "id": "QKQuV7fvXaxi"
      },
      "outputs": [],
      "source": [
        "# Split the preprocessed data into a training and testing dataset\n",
        "X_train, X_test, y_train, y_test = train_test_split(X, y, random_state=78)"
      ]
    },
    {
      "cell_type": "code",
      "execution_count": 12,
      "metadata": {
        "colab": {
          "base_uri": "https://localhost:8080/"
        },
        "id": "VdL-3N8CXfnU",
        "outputId": "2d91086e-9172-49ae-ebca-4abe233e9b9f"
      },
      "outputs": [
        {
          "output_type": "execute_result",
          "data": {
            "text/plain": [
              "0    41653\n",
              "1    18082\n",
              "Name: heart_disease_Yes, dtype: int64"
            ]
          },
          "metadata": {},
          "execution_count": 12
        }
      ],
      "source": [
        "# Checking the value counts of the y variable\n",
        "y_train.value_counts()"
      ]
    },
    {
      "cell_type": "code",
      "execution_count": 13,
      "metadata": {
        "id": "VW13AIKtXivZ"
      },
      "outputs": [],
      "source": [
        "# Fit a random over sampler model to the training data to balance out the classes fully\n",
        "ROS = RandomOverSampler(random_state=78)\n",
        "X_train_resampled, y_train_resampled = ROS.fit_resample(X_train, y_train)"
      ]
    },
    {
      "cell_type": "code",
      "execution_count": 14,
      "metadata": {
        "colab": {
          "base_uri": "https://localhost:8080/"
        },
        "id": "go8WgNHXXt7D",
        "outputId": "10d12af1-3de3-409d-d574-000940f5c3fd"
      },
      "outputs": [
        {
          "output_type": "execute_result",
          "data": {
            "text/plain": [
              "1    41653\n",
              "0    41653\n",
              "Name: heart_disease_Yes, dtype: int64"
            ]
          },
          "metadata": {},
          "execution_count": 14
        }
      ],
      "source": [
        "# Re-check the value counts to ensure oversampling has worked\n",
        "y_train_resampled.value_counts()"
      ]
    },
    {
      "cell_type": "markdown",
      "metadata": {
        "id": "wGWCAxmOzx87"
      },
      "source": [
        "# Model 1: Logistic Regression"
      ]
    },
    {
      "cell_type": "markdown",
      "metadata": {
        "id": "8mrRZirKz3ZY"
      },
      "source": [
        "# Model 2: Support Vector Machine"
      ]
    },
    {
      "cell_type": "code",
      "execution_count": 14,
      "metadata": {
        "id": "O47DOvIbYSg5"
      },
      "outputs": [],
      "source": []
    },
    {
      "cell_type": "markdown",
      "metadata": {
        "id": "6ncF6uW9z_sj"
      },
      "source": [
        "# Model 3: Decision Tree"
      ]
    },
    {
      "cell_type": "markdown",
      "source": [
        "**The Decision Tree Classifier** is a machine learning algorithm that creates a tree-like structure to make decisions based on input features.\n",
        "Each node in the tree represents a decision point based on a specific feature and a threshold value.\n",
        "The tree branches out into two or more child nodes based on the feature values, creating a hierarchical structure.\n",
        "The leaf nodes of the tree represent the predicted class labels.\n",
        "\n",
        "It is known **simplicity and interpretability** and it is used for both classification and regression tasks."
      ],
      "metadata": {
        "id": "5en-0BIbYo50"
      }
    },
    {
      "cell_type": "code",
      "execution_count": 15,
      "metadata": {
        "id": "5lbwoRfr0szl"
      },
      "outputs": [],
      "source": [
        "# Import additional depedencies\n",
        "\n",
        "from sklearn.tree import DecisionTreeClassifier\n",
        "from sklearn.metrics import accuracy_score, confusion_matrix, classification_report"
      ]
    },
    {
      "cell_type": "markdown",
      "source": [
        "**Model Creation**: In the code below, a Decision Tree Classifier is created with random_state=42. The random_state parameter ensures that the model's behavior remains consistent across runs for reproducibility."
      ],
      "metadata": {
        "id": "wbCwDC__aDKg"
      }
    },
    {
      "cell_type": "code",
      "execution_count": 16,
      "metadata": {
        "id": "fdf5j7OpY0nY"
      },
      "outputs": [],
      "source": [
        "# Creating Decision Tree Classifier\n",
        "\n",
        "clf = DecisionTreeClassifier(random_state=42)"
      ]
    },
    {
      "cell_type": "markdown",
      "source": [
        "**Model Training**: The model is trained using the training data (X_train_resampled and y_train_resampled) with the fit method. During training, the Decision Tree algorithm learns to make decisions by selecting the best features and thresholds that result in the most accurate predictions on the training data."
      ],
      "metadata": {
        "id": "XQgYQPTgaL67"
      }
    },
    {
      "cell_type": "code",
      "execution_count": 17,
      "metadata": {
        "colab": {
          "base_uri": "https://localhost:8080/",
          "height": 75
        },
        "id": "44axPIFqY7Nf",
        "outputId": "cf748e38-a639-466e-c018-3621de8dc62f"
      },
      "outputs": [
        {
          "output_type": "execute_result",
          "data": {
            "text/plain": [
              "DecisionTreeClassifier(random_state=42)"
            ],
            "text/html": [
              "<style>#sk-container-id-1 {color: black;background-color: white;}#sk-container-id-1 pre{padding: 0;}#sk-container-id-1 div.sk-toggleable {background-color: white;}#sk-container-id-1 label.sk-toggleable__label {cursor: pointer;display: block;width: 100%;margin-bottom: 0;padding: 0.3em;box-sizing: border-box;text-align: center;}#sk-container-id-1 label.sk-toggleable__label-arrow:before {content: \"▸\";float: left;margin-right: 0.25em;color: #696969;}#sk-container-id-1 label.sk-toggleable__label-arrow:hover:before {color: black;}#sk-container-id-1 div.sk-estimator:hover label.sk-toggleable__label-arrow:before {color: black;}#sk-container-id-1 div.sk-toggleable__content {max-height: 0;max-width: 0;overflow: hidden;text-align: left;background-color: #f0f8ff;}#sk-container-id-1 div.sk-toggleable__content pre {margin: 0.2em;color: black;border-radius: 0.25em;background-color: #f0f8ff;}#sk-container-id-1 input.sk-toggleable__control:checked~div.sk-toggleable__content {max-height: 200px;max-width: 100%;overflow: auto;}#sk-container-id-1 input.sk-toggleable__control:checked~label.sk-toggleable__label-arrow:before {content: \"▾\";}#sk-container-id-1 div.sk-estimator input.sk-toggleable__control:checked~label.sk-toggleable__label {background-color: #d4ebff;}#sk-container-id-1 div.sk-label input.sk-toggleable__control:checked~label.sk-toggleable__label {background-color: #d4ebff;}#sk-container-id-1 input.sk-hidden--visually {border: 0;clip: rect(1px 1px 1px 1px);clip: rect(1px, 1px, 1px, 1px);height: 1px;margin: -1px;overflow: hidden;padding: 0;position: absolute;width: 1px;}#sk-container-id-1 div.sk-estimator {font-family: monospace;background-color: #f0f8ff;border: 1px dotted black;border-radius: 0.25em;box-sizing: border-box;margin-bottom: 0.5em;}#sk-container-id-1 div.sk-estimator:hover {background-color: #d4ebff;}#sk-container-id-1 div.sk-parallel-item::after {content: \"\";width: 100%;border-bottom: 1px solid gray;flex-grow: 1;}#sk-container-id-1 div.sk-label:hover label.sk-toggleable__label {background-color: #d4ebff;}#sk-container-id-1 div.sk-serial::before {content: \"\";position: absolute;border-left: 1px solid gray;box-sizing: border-box;top: 0;bottom: 0;left: 50%;z-index: 0;}#sk-container-id-1 div.sk-serial {display: flex;flex-direction: column;align-items: center;background-color: white;padding-right: 0.2em;padding-left: 0.2em;position: relative;}#sk-container-id-1 div.sk-item {position: relative;z-index: 1;}#sk-container-id-1 div.sk-parallel {display: flex;align-items: stretch;justify-content: center;background-color: white;position: relative;}#sk-container-id-1 div.sk-item::before, #sk-container-id-1 div.sk-parallel-item::before {content: \"\";position: absolute;border-left: 1px solid gray;box-sizing: border-box;top: 0;bottom: 0;left: 50%;z-index: -1;}#sk-container-id-1 div.sk-parallel-item {display: flex;flex-direction: column;z-index: 1;position: relative;background-color: white;}#sk-container-id-1 div.sk-parallel-item:first-child::after {align-self: flex-end;width: 50%;}#sk-container-id-1 div.sk-parallel-item:last-child::after {align-self: flex-start;width: 50%;}#sk-container-id-1 div.sk-parallel-item:only-child::after {width: 0;}#sk-container-id-1 div.sk-dashed-wrapped {border: 1px dashed gray;margin: 0 0.4em 0.5em 0.4em;box-sizing: border-box;padding-bottom: 0.4em;background-color: white;}#sk-container-id-1 div.sk-label label {font-family: monospace;font-weight: bold;display: inline-block;line-height: 1.2em;}#sk-container-id-1 div.sk-label-container {text-align: center;}#sk-container-id-1 div.sk-container {/* jupyter's `normalize.less` sets `[hidden] { display: none; }` but bootstrap.min.css set `[hidden] { display: none !important; }` so we also need the `!important` here to be able to override the default hidden behavior on the sphinx rendered scikit-learn.org. See: https://github.com/scikit-learn/scikit-learn/issues/21755 */display: inline-block !important;position: relative;}#sk-container-id-1 div.sk-text-repr-fallback {display: none;}</style><div id=\"sk-container-id-1\" class=\"sk-top-container\"><div class=\"sk-text-repr-fallback\"><pre>DecisionTreeClassifier(random_state=42)</pre><b>In a Jupyter environment, please rerun this cell to show the HTML representation or trust the notebook. <br />On GitHub, the HTML representation is unable to render, please try loading this page with nbviewer.org.</b></div><div class=\"sk-container\" hidden><div class=\"sk-item\"><div class=\"sk-estimator sk-toggleable\"><input class=\"sk-toggleable__control sk-hidden--visually\" id=\"sk-estimator-id-1\" type=\"checkbox\" checked><label for=\"sk-estimator-id-1\" class=\"sk-toggleable__label sk-toggleable__label-arrow\">DecisionTreeClassifier</label><div class=\"sk-toggleable__content\"><pre>DecisionTreeClassifier(random_state=42)</pre></div></div></div></div></div>"
            ]
          },
          "metadata": {},
          "execution_count": 17
        }
      ],
      "source": [
        "# Fit the model to the training data\n",
        "clf.fit(X_train_resampled, y_train_resampled)"
      ]
    },
    {
      "cell_type": "markdown",
      "source": [
        "**Making Predictions**: After training, the model is used to make predictions on the test dataset (X_test) with the predict method. The predicted labels are stored in the y_pred variable"
      ],
      "metadata": {
        "id": "nAYpq4lca6Fb"
      }
    },
    {
      "cell_type": "code",
      "execution_count": 18,
      "metadata": {
        "id": "MptuKyiOZWQm"
      },
      "outputs": [],
      "source": [
        "# Predicting on the test data\n",
        "y_pred = clf.predict(X_test)"
      ]
    },
    {
      "cell_type": "markdown",
      "source": [
        "**Model Evaluation**:\n",
        "\n",
        "**Accuracy:**\n",
        "The accuracy_score function calculates accuracy, which is the proportion of correctly predicted samples in the test dataset. It's a commonly used metric for binary and multiclass classification tasks.\n",
        "\n",
        "**Confusion Matrix:**\n",
        "The confusion matrix, generated by the confusion_matrix function, provides a detailed view of the model's performance.\n",
        "It consists of four components:\n",
        "True Positives (TP): The number of correctly predicted positive samples.\n",
        "True Negatives (TN): The number of correctly predicted negative samples.\n",
        "False Positives (FP): The number of negative"
      ],
      "metadata": {
        "id": "QfeXY-itbGLd"
      }
    },
    {
      "cell_type": "code",
      "execution_count": 19,
      "metadata": {
        "id": "fHpX3Pv0ZovQ"
      },
      "outputs": [],
      "source": [
        "# Evaluate the model\n",
        "accuracy = accuracy_score(y_test, y_pred)\n",
        "conf_matrix = confusion_matrix(y_test, y_pred)\n",
        "class_report = classification_report(y_test, y_pred)"
      ]
    },
    {
      "cell_type": "markdown",
      "source": [
        "**Results Printing**: The code then prints out the evaluation results, including accuracy, the confusion matrix, and the classification report.\n",
        "\n",
        "*Classification Accuracy*: 0.8935 (approximately 89.35%)\n",
        "\n",
        "This is the overall accuracy of the model, which represents the proportion of correctly predicted samples in the test dataset. In this case, it means that approximately 89.35% of the test samples were correctly classified by the model.\n",
        "\n",
        "*The confusion matrix* provides a detailed breakdown of the model's predictions:\n",
        "True Positives (TP): 5016 cases were correctly predicted as positive.\n",
        "True Negatives (TN): 12776 cases were correctly predicted as negative.\n",
        "False Positives (FP): 1137 cases were incorrectly predicted as positive (Type I error).\n",
        "False Negatives (FN): 983 cases were incorrectly predicted as negative (Type II error).\n",
        "\n",
        "*Precision (for class 0 and class 1):* Precision measures the proportion of true positive predictions out of all positive predictions. For class 0, it is approximately 0.93, and for class 1, it is approximately 0.82. This indicates that when the model predicts class 0, it is correct about 93% of the time, and when it predicts class 1, it is correct about 82% of the time.\n",
        "\n",
        "*Recall (for class 0 and class 1):* Recall, also known as sensitivity, measures the proportion of true positive predictions out of all actual positives. For class 0, it is approximately 0.92, and for class 1, it is approximately 0.84. This indicates that the model correctly identifies about 92% of the actual class 0 samples and about 84% of the actual class 1 samples.\n",
        "\n",
        "F1-Score (for class 0 and class 1): The F1-score is the harmonic mean of precision and recall. It provides a balance between precision and recall. For class 0, it is approximately 0.92, and for class 1, it is approximately 0.83. Higher F1-scores indicate better performance in terms of both precision and recall.\n",
        "\n",
        "Support (for class 0 and class 1): Support indicates the number of true instances for each class in the test dataset. There are 13,913 instances of class 0 and 5,999 instances of class 1 in the test data.\n",
        "\n",
        "Macro Average: The macro average takes the average of precision, recall, and F1-score across all classes. In this case, it's approximately 0.87, indicating the overall performance across both classes.\n",
        "\n",
        "Weighted Average: The weighted average considers the support (number of instances) for each class when calculating the average. It provides a more accurate representation of performance, considering class imbalances. In this case, it's approximately 0.89, reflecting the overall weighted performance across both classes."
      ],
      "metadata": {
        "id": "3tet6frlb1fp"
      }
    },
    {
      "cell_type": "code",
      "execution_count": 20,
      "metadata": {
        "colab": {
          "base_uri": "https://localhost:8080/"
        },
        "id": "Grumh8AIZstA",
        "outputId": "5cfcc062-1faf-46a3-842e-955129a36ff8"
      },
      "outputs": [
        {
          "output_type": "stream",
          "name": "stdout",
          "text": [
            "Accuracy: 0.8935315387705905\n",
            "Confusion Matrix:\n",
            " [[12776  1137]\n",
            " [  983  5016]]\n",
            "Classification Report:\n",
            "               precision    recall  f1-score   support\n",
            "\n",
            "           0       0.93      0.92      0.92     13913\n",
            "           1       0.82      0.84      0.83      5999\n",
            "\n",
            "    accuracy                           0.89     19912\n",
            "   macro avg       0.87      0.88      0.87     19912\n",
            "weighted avg       0.89      0.89      0.89     19912\n",
            "\n"
          ]
        }
      ],
      "source": [
        "# Print the results\n",
        "print(\"Accuracy:\", accuracy)\n",
        "print(\"Confusion Matrix:\\n\", conf_matrix)\n",
        "print(\"Classification Report:\\n\", class_report)"
      ]
    },
    {
      "cell_type": "markdown",
      "metadata": {
        "id": "1M2_yezMbSb3"
      },
      "source": [
        "**OPTIMISATION 1**"
      ]
    },
    {
      "cell_type": "markdown",
      "source": [
        "The **optimization** process in this case involved tuning the hyperparameters of the Decision Tree model to improve its performance on the test data. Here's how the optimization process occurred:\n",
        "\n",
        "*Manual Hyperparameter Tuning*:\n",
        "\n",
        "In the optimisation model, the **hyperparameters** max_depth, min_samples_split, and min_samples_leaf were explicitly set to specific values. This is known as manual hyperparameter tuning.\n",
        "By setting a maximum depth, the depth of the tree can be limited, which can help avoid overfitting. A tree that is too deep may memorize the CVD training data and perform poorly on new data.\n",
        "By setting minimum samples for splitting and leaf nodes, the granularity of the splits are controlled, preventing the tree from making very small and potentially noisy splits."
      ],
      "metadata": {
        "id": "sL_bUTxrhU5Z"
      }
    },
    {
      "cell_type": "code",
      "execution_count": 21,
      "metadata": {
        "id": "kzVNghwNbW48"
      },
      "outputs": [],
      "source": [
        "# Create a Decision Tree Classifier with custom hyperparameters\n",
        "clf = DecisionTreeClassifier(\n",
        "    random_state=42,  # for reproducibility\n",
        "    max_depth=10,    # set the maximum depth of the tree (you can experiment with different values)\n",
        "    min_samples_split=2,  # minimum samples required to split an internal node\n",
        "    min_samples_leaf=1    # minimum number of samples required to be a leaf node\n",
        ")"
      ]
    },
    {
      "cell_type": "code",
      "execution_count": 22,
      "metadata": {
        "colab": {
          "base_uri": "https://localhost:8080/",
          "height": 75
        },
        "id": "WeQO_NBjZDqV",
        "outputId": "3709dc0c-f9e9-4110-a631-3a27d679282a"
      },
      "outputs": [
        {
          "output_type": "execute_result",
          "data": {
            "text/plain": [
              "DecisionTreeClassifier(max_depth=10, random_state=42)"
            ],
            "text/html": [
              "<style>#sk-container-id-2 {color: black;background-color: white;}#sk-container-id-2 pre{padding: 0;}#sk-container-id-2 div.sk-toggleable {background-color: white;}#sk-container-id-2 label.sk-toggleable__label {cursor: pointer;display: block;width: 100%;margin-bottom: 0;padding: 0.3em;box-sizing: border-box;text-align: center;}#sk-container-id-2 label.sk-toggleable__label-arrow:before {content: \"▸\";float: left;margin-right: 0.25em;color: #696969;}#sk-container-id-2 label.sk-toggleable__label-arrow:hover:before {color: black;}#sk-container-id-2 div.sk-estimator:hover label.sk-toggleable__label-arrow:before {color: black;}#sk-container-id-2 div.sk-toggleable__content {max-height: 0;max-width: 0;overflow: hidden;text-align: left;background-color: #f0f8ff;}#sk-container-id-2 div.sk-toggleable__content pre {margin: 0.2em;color: black;border-radius: 0.25em;background-color: #f0f8ff;}#sk-container-id-2 input.sk-toggleable__control:checked~div.sk-toggleable__content {max-height: 200px;max-width: 100%;overflow: auto;}#sk-container-id-2 input.sk-toggleable__control:checked~label.sk-toggleable__label-arrow:before {content: \"▾\";}#sk-container-id-2 div.sk-estimator input.sk-toggleable__control:checked~label.sk-toggleable__label {background-color: #d4ebff;}#sk-container-id-2 div.sk-label input.sk-toggleable__control:checked~label.sk-toggleable__label {background-color: #d4ebff;}#sk-container-id-2 input.sk-hidden--visually {border: 0;clip: rect(1px 1px 1px 1px);clip: rect(1px, 1px, 1px, 1px);height: 1px;margin: -1px;overflow: hidden;padding: 0;position: absolute;width: 1px;}#sk-container-id-2 div.sk-estimator {font-family: monospace;background-color: #f0f8ff;border: 1px dotted black;border-radius: 0.25em;box-sizing: border-box;margin-bottom: 0.5em;}#sk-container-id-2 div.sk-estimator:hover {background-color: #d4ebff;}#sk-container-id-2 div.sk-parallel-item::after {content: \"\";width: 100%;border-bottom: 1px solid gray;flex-grow: 1;}#sk-container-id-2 div.sk-label:hover label.sk-toggleable__label {background-color: #d4ebff;}#sk-container-id-2 div.sk-serial::before {content: \"\";position: absolute;border-left: 1px solid gray;box-sizing: border-box;top: 0;bottom: 0;left: 50%;z-index: 0;}#sk-container-id-2 div.sk-serial {display: flex;flex-direction: column;align-items: center;background-color: white;padding-right: 0.2em;padding-left: 0.2em;position: relative;}#sk-container-id-2 div.sk-item {position: relative;z-index: 1;}#sk-container-id-2 div.sk-parallel {display: flex;align-items: stretch;justify-content: center;background-color: white;position: relative;}#sk-container-id-2 div.sk-item::before, #sk-container-id-2 div.sk-parallel-item::before {content: \"\";position: absolute;border-left: 1px solid gray;box-sizing: border-box;top: 0;bottom: 0;left: 50%;z-index: -1;}#sk-container-id-2 div.sk-parallel-item {display: flex;flex-direction: column;z-index: 1;position: relative;background-color: white;}#sk-container-id-2 div.sk-parallel-item:first-child::after {align-self: flex-end;width: 50%;}#sk-container-id-2 div.sk-parallel-item:last-child::after {align-self: flex-start;width: 50%;}#sk-container-id-2 div.sk-parallel-item:only-child::after {width: 0;}#sk-container-id-2 div.sk-dashed-wrapped {border: 1px dashed gray;margin: 0 0.4em 0.5em 0.4em;box-sizing: border-box;padding-bottom: 0.4em;background-color: white;}#sk-container-id-2 div.sk-label label {font-family: monospace;font-weight: bold;display: inline-block;line-height: 1.2em;}#sk-container-id-2 div.sk-label-container {text-align: center;}#sk-container-id-2 div.sk-container {/* jupyter's `normalize.less` sets `[hidden] { display: none; }` but bootstrap.min.css set `[hidden] { display: none !important; }` so we also need the `!important` here to be able to override the default hidden behavior on the sphinx rendered scikit-learn.org. See: https://github.com/scikit-learn/scikit-learn/issues/21755 */display: inline-block !important;position: relative;}#sk-container-id-2 div.sk-text-repr-fallback {display: none;}</style><div id=\"sk-container-id-2\" class=\"sk-top-container\"><div class=\"sk-text-repr-fallback\"><pre>DecisionTreeClassifier(max_depth=10, random_state=42)</pre><b>In a Jupyter environment, please rerun this cell to show the HTML representation or trust the notebook. <br />On GitHub, the HTML representation is unable to render, please try loading this page with nbviewer.org.</b></div><div class=\"sk-container\" hidden><div class=\"sk-item\"><div class=\"sk-estimator sk-toggleable\"><input class=\"sk-toggleable__control sk-hidden--visually\" id=\"sk-estimator-id-2\" type=\"checkbox\" checked><label for=\"sk-estimator-id-2\" class=\"sk-toggleable__label sk-toggleable__label-arrow\">DecisionTreeClassifier</label><div class=\"sk-toggleable__content\"><pre>DecisionTreeClassifier(max_depth=10, random_state=42)</pre></div></div></div></div></div>"
            ]
          },
          "metadata": {},
          "execution_count": 22
        }
      ],
      "source": [
        "# Fit the model to the training data\n",
        "clf.fit(X_train_resampled, y_train_resampled)\n"
      ]
    },
    {
      "cell_type": "code",
      "execution_count": 23,
      "metadata": {
        "id": "DuW3B8tNbisL"
      },
      "outputs": [],
      "source": [
        "# Predicting on the test data\n",
        "y_pred = clf.predict(X_test)"
      ]
    },
    {
      "cell_type": "code",
      "execution_count": 24,
      "metadata": {
        "id": "oqHjGwfNbr93"
      },
      "outputs": [],
      "source": [
        "# Evaluate the model\n",
        "accuracy = accuracy_score(y_test, y_pred)\n",
        "conf_matrix = confusion_matrix(y_test, y_pred)\n",
        "class_report = classification_report(y_test, y_pred)"
      ]
    },
    {
      "cell_type": "markdown",
      "source": [
        "**Results:**\n",
        "\n",
        "The optimized model (second model) achieved a **higher accuracy** (92.84%) compared to the first model (89.35%).\n",
        "The optimized model also had excellent recall for class 0 (1.00) and a higher precision for class 1 (1.00), indicating it correctly predicted all instances of class 0 and improved precision for class 1."
      ],
      "metadata": {
        "id": "Zd8nKZkbieob"
      }
    },
    {
      "cell_type": "code",
      "execution_count": 25,
      "metadata": {
        "colab": {
          "base_uri": "https://localhost:8080/"
        },
        "id": "Ni-CeAiDb3Wf",
        "outputId": "5d90639d-810c-4564-d4eb-0e82f47a01e4"
      },
      "outputs": [
        {
          "output_type": "stream",
          "name": "stdout",
          "text": [
            "Accuracy: 0.9283848935315387\n",
            "Confusion Matrix:\n",
            " [[13913     0]\n",
            " [ 1426  4573]]\n",
            "Classification Report:\n",
            "               precision    recall  f1-score   support\n",
            "\n",
            "           0       0.91      1.00      0.95     13913\n",
            "           1       1.00      0.76      0.87      5999\n",
            "\n",
            "    accuracy                           0.93     19912\n",
            "   macro avg       0.95      0.88      0.91     19912\n",
            "weighted avg       0.94      0.93      0.93     19912\n",
            "\n"
          ]
        }
      ],
      "source": [
        "# Print the results\n",
        "print(\"Accuracy:\", accuracy)\n",
        "print(\"Confusion Matrix:\\n\", conf_matrix)\n",
        "print(\"Classification Report:\\n\", class_report)"
      ]
    },
    {
      "cell_type": "markdown",
      "source": [
        "The second Decision Tree Classifier was optimized by manually setting hyperparameters to control the tree's depth and node splitting criteria. This optimization process resulted in a model that performed better, achieving a higher accuracy and demonstrating improved precision and recall for the classes compared to the first model. By fine-tuning these hyperparameters, the model became more effective in handling the given dataset and making accurate predictions."
      ],
      "metadata": {
        "id": "fWTLRFQjilDk"
      }
    },
    {
      "cell_type": "markdown",
      "metadata": {
        "id": "ypnnFN5Y0gcO"
      },
      "source": [
        "# Model 4: Random Forest"
      ]
    },
    {
      "cell_type": "markdown",
      "source": [
        "**A Random Forest** is an ensemble learning method, which means it combines the predictions of multiple individual models to make more accurate predictions collectively. In this case, those individual models are decision trees.\n",
        "\n",
        "\n",
        "The following hyperparameters were used:\n",
        "\n",
        "*n_estimators=100*: This specifies the number of decision trees (estimators) in the ensemble. In this case, 100 decision trees are used.\n",
        "\n",
        "*random_state=42*: The random state is set for reproducibility."
      ],
      "metadata": {
        "id": "QmOmvb3KjydX"
      }
    },
    {
      "cell_type": "code",
      "execution_count": 26,
      "metadata": {
        "id": "COAWr2oz0tUB"
      },
      "outputs": [],
      "source": [
        "# Create a Random Forest Classifier\n",
        "rf = RandomForestClassifier(n_estimators=100, random_state=42)"
      ]
    },
    {
      "cell_type": "markdown",
      "source": [
        "The Random Forest model (rf) is trained on the training data using the fit method."
      ],
      "metadata": {
        "id": "yH0VMOgdkSzx"
      }
    },
    {
      "cell_type": "code",
      "execution_count": 27,
      "metadata": {
        "colab": {
          "base_uri": "https://localhost:8080/",
          "height": 75
        },
        "id": "G5A4cibndMrY",
        "outputId": "caf35720-822a-4867-a527-200fa888af6e"
      },
      "outputs": [
        {
          "output_type": "execute_result",
          "data": {
            "text/plain": [
              "RandomForestClassifier(random_state=42)"
            ],
            "text/html": [
              "<style>#sk-container-id-3 {color: black;background-color: white;}#sk-container-id-3 pre{padding: 0;}#sk-container-id-3 div.sk-toggleable {background-color: white;}#sk-container-id-3 label.sk-toggleable__label {cursor: pointer;display: block;width: 100%;margin-bottom: 0;padding: 0.3em;box-sizing: border-box;text-align: center;}#sk-container-id-3 label.sk-toggleable__label-arrow:before {content: \"▸\";float: left;margin-right: 0.25em;color: #696969;}#sk-container-id-3 label.sk-toggleable__label-arrow:hover:before {color: black;}#sk-container-id-3 div.sk-estimator:hover label.sk-toggleable__label-arrow:before {color: black;}#sk-container-id-3 div.sk-toggleable__content {max-height: 0;max-width: 0;overflow: hidden;text-align: left;background-color: #f0f8ff;}#sk-container-id-3 div.sk-toggleable__content pre {margin: 0.2em;color: black;border-radius: 0.25em;background-color: #f0f8ff;}#sk-container-id-3 input.sk-toggleable__control:checked~div.sk-toggleable__content {max-height: 200px;max-width: 100%;overflow: auto;}#sk-container-id-3 input.sk-toggleable__control:checked~label.sk-toggleable__label-arrow:before {content: \"▾\";}#sk-container-id-3 div.sk-estimator input.sk-toggleable__control:checked~label.sk-toggleable__label {background-color: #d4ebff;}#sk-container-id-3 div.sk-label input.sk-toggleable__control:checked~label.sk-toggleable__label {background-color: #d4ebff;}#sk-container-id-3 input.sk-hidden--visually {border: 0;clip: rect(1px 1px 1px 1px);clip: rect(1px, 1px, 1px, 1px);height: 1px;margin: -1px;overflow: hidden;padding: 0;position: absolute;width: 1px;}#sk-container-id-3 div.sk-estimator {font-family: monospace;background-color: #f0f8ff;border: 1px dotted black;border-radius: 0.25em;box-sizing: border-box;margin-bottom: 0.5em;}#sk-container-id-3 div.sk-estimator:hover {background-color: #d4ebff;}#sk-container-id-3 div.sk-parallel-item::after {content: \"\";width: 100%;border-bottom: 1px solid gray;flex-grow: 1;}#sk-container-id-3 div.sk-label:hover label.sk-toggleable__label {background-color: #d4ebff;}#sk-container-id-3 div.sk-serial::before {content: \"\";position: absolute;border-left: 1px solid gray;box-sizing: border-box;top: 0;bottom: 0;left: 50%;z-index: 0;}#sk-container-id-3 div.sk-serial {display: flex;flex-direction: column;align-items: center;background-color: white;padding-right: 0.2em;padding-left: 0.2em;position: relative;}#sk-container-id-3 div.sk-item {position: relative;z-index: 1;}#sk-container-id-3 div.sk-parallel {display: flex;align-items: stretch;justify-content: center;background-color: white;position: relative;}#sk-container-id-3 div.sk-item::before, #sk-container-id-3 div.sk-parallel-item::before {content: \"\";position: absolute;border-left: 1px solid gray;box-sizing: border-box;top: 0;bottom: 0;left: 50%;z-index: -1;}#sk-container-id-3 div.sk-parallel-item {display: flex;flex-direction: column;z-index: 1;position: relative;background-color: white;}#sk-container-id-3 div.sk-parallel-item:first-child::after {align-self: flex-end;width: 50%;}#sk-container-id-3 div.sk-parallel-item:last-child::after {align-self: flex-start;width: 50%;}#sk-container-id-3 div.sk-parallel-item:only-child::after {width: 0;}#sk-container-id-3 div.sk-dashed-wrapped {border: 1px dashed gray;margin: 0 0.4em 0.5em 0.4em;box-sizing: border-box;padding-bottom: 0.4em;background-color: white;}#sk-container-id-3 div.sk-label label {font-family: monospace;font-weight: bold;display: inline-block;line-height: 1.2em;}#sk-container-id-3 div.sk-label-container {text-align: center;}#sk-container-id-3 div.sk-container {/* jupyter's `normalize.less` sets `[hidden] { display: none; }` but bootstrap.min.css set `[hidden] { display: none !important; }` so we also need the `!important` here to be able to override the default hidden behavior on the sphinx rendered scikit-learn.org. See: https://github.com/scikit-learn/scikit-learn/issues/21755 */display: inline-block !important;position: relative;}#sk-container-id-3 div.sk-text-repr-fallback {display: none;}</style><div id=\"sk-container-id-3\" class=\"sk-top-container\"><div class=\"sk-text-repr-fallback\"><pre>RandomForestClassifier(random_state=42)</pre><b>In a Jupyter environment, please rerun this cell to show the HTML representation or trust the notebook. <br />On GitHub, the HTML representation is unable to render, please try loading this page with nbviewer.org.</b></div><div class=\"sk-container\" hidden><div class=\"sk-item\"><div class=\"sk-estimator sk-toggleable\"><input class=\"sk-toggleable__control sk-hidden--visually\" id=\"sk-estimator-id-3\" type=\"checkbox\" checked><label for=\"sk-estimator-id-3\" class=\"sk-toggleable__label sk-toggleable__label-arrow\">RandomForestClassifier</label><div class=\"sk-toggleable__content\"><pre>RandomForestClassifier(random_state=42)</pre></div></div></div></div></div>"
            ]
          },
          "metadata": {},
          "execution_count": 27
        }
      ],
      "source": [
        "# Fit the model to the training data\n",
        "rf.fit(X_train_resampled, y_train_resampled)"
      ]
    },
    {
      "cell_type": "markdown",
      "source": [
        "Predictions are made on the test data using the predict method, and the predicted labels are stored in y_pred."
      ],
      "metadata": {
        "id": "vxkte5X2kYUm"
      }
    },
    {
      "cell_type": "code",
      "execution_count": 28,
      "metadata": {
        "id": "t4EO7A5UfMEZ"
      },
      "outputs": [],
      "source": [
        "# Predicting on the test data\n",
        "y_pred = rf.predict(X_test)"
      ]
    },
    {
      "cell_type": "code",
      "execution_count": 29,
      "metadata": {
        "id": "8oyKyH6Df4Dt"
      },
      "outputs": [],
      "source": [
        "# Evaluate the Random Forest model\n",
        "accuracy = accuracy_score(y_test, y_pred)\n",
        "conf_matrix = confusion_matrix(y_test, y_pred)\n",
        "class_report = classification_report(y_test, y_pred)"
      ]
    },
    {
      "cell_type": "markdown",
      "source": [
        "**Classification Report**: The Random Forest Classifier achieved an accuracy of approximately 92.80%, which indicates that about 92.80% of the test samples were correctly classified.\n",
        "\n",
        "The confusion matrix shows that the model correctly predicted 13,557 instances of class 0 (True Negatives) and 4,922 instances of class 1 (True Positives).\n",
        "It had 356 False Positives (predicting class 1 when it was actually class 0) and 1,077 False Negatives (predicting class 0 when it was actually class 1).\n",
        "\n",
        "For class 0 (no heart disease), the model achieved a precision of 0.93 and recall of 0.97. This means it correctly predicted 93% of the instances as class 0 out of all instances it predicted as class 0, and it captured 97% of the actual class 0 instances.\n",
        "For class 1 (heart disease), the model achieved a precision of 0.93 and recall of 0.82, indicating that it correctly predicted 93% of the instances as class 1 out of all instances it predicted as class 1, and it captured 82% of the actual class 1 instances.\n",
        "Additional Information:\n",
        "\n",
        "The macro average F1-score is approximately 0.91, indicating strong overall performance across both classes.\n",
        "The weighted average F1-score is approximately 0.93, reflecting the overall weighted performance across both classes, considering class imbalances."
      ],
      "metadata": {
        "id": "YhW5hrW-kjSx"
      }
    },
    {
      "cell_type": "code",
      "execution_count": 30,
      "metadata": {
        "colab": {
          "base_uri": "https://localhost:8080/"
        },
        "id": "wf3DIqSlf6r_",
        "outputId": "1b79a2d2-b1bb-45ff-df23-bf717e226746"
      },
      "outputs": [
        {
          "output_type": "stream",
          "name": "stdout",
          "text": [
            "Accuracy: 0.9280333467255926\n",
            "Confusion Matrix:\n",
            " [[13557   356]\n",
            " [ 1077  4922]]\n",
            "Classification Report:\n",
            "               precision    recall  f1-score   support\n",
            "\n",
            "           0       0.93      0.97      0.95     13913\n",
            "           1       0.93      0.82      0.87      5999\n",
            "\n",
            "    accuracy                           0.93     19912\n",
            "   macro avg       0.93      0.90      0.91     19912\n",
            "weighted avg       0.93      0.93      0.93     19912\n",
            "\n"
          ]
        }
      ],
      "source": [
        "# Print the results\n",
        "print(\"Accuracy:\", accuracy)\n",
        "print(\"Confusion Matrix:\\n\", conf_matrix)\n",
        "print(\"Classification Report:\\n\", class_report)"
      ]
    },
    {
      "cell_type": "markdown",
      "source": [
        "The Random Forest Classifier for **feature importance** provides a method to assess the significance of each feature (ie. general heath and several food consumptions) in predicting the target variable (in this case, the presence of cardiovascular disease) based on the ensemble of decision trees.\n"
      ],
      "metadata": {
        "id": "sCaJ_FLQnLVW"
      }
    },
    {
      "cell_type": "code",
      "execution_count": 31,
      "metadata": {
        "id": "qS-sxL1UlALc"
      },
      "outputs": [],
      "source": [
        "# Calculate feature importance\n",
        "feature_importance = rf.feature_importances_"
      ]
    },
    {
      "cell_type": "code",
      "execution_count": 32,
      "metadata": {
        "id": "FDospQ5Iktuq"
      },
      "outputs": [],
      "source": [
        "# Create a DataFrame to associate feature names with their importance scores\n",
        "importance_df = pd.DataFrame({'Feature': X.columns, 'Importance': feature_importance})"
      ]
    },
    {
      "cell_type": "code",
      "execution_count": 33,
      "metadata": {
        "id": "D0i0wiINlQdC"
      },
      "outputs": [],
      "source": [
        "# Sort the features by importance\n",
        "importance_df = importance_df.sort_values(by='Importance', ascending=False)"
      ]
    },
    {
      "cell_type": "code",
      "execution_count": 34,
      "metadata": {
        "colab": {
          "base_uri": "https://localhost:8080/"
        },
        "id": "VOBK4CoJlWCq",
        "outputId": "2b64549c-bfe3-4064-a5d5-49772314c273"
      },
      "outputs": [
        {
          "output_type": "stream",
          "name": "stdout",
          "text": [
            "                            Feature  Importance\n",
            "0                         height_cm    0.168849\n",
            "4                 fruit_consumption    0.155208\n",
            "2                               bmi    0.103543\n",
            "1                         weight_kg    0.102074\n",
            "3               alcohol_consumption    0.069646\n",
            "6           friedpotato_consumption    0.058505\n",
            "5      green_vegetables_consumption    0.054695\n",
            "27                     arthritis_No    0.020196\n",
            "26                     diabetes_Yes    0.020141\n",
            "43                 age_category_80+    0.019500\n",
            "25                      diabetes_No    0.018765\n",
            "8               general_health_Fair    0.018438\n",
            "28                    arthritis_Yes    0.013832\n",
            "10              general_health_Poor    0.012223\n",
            "11         general_health_Very Good    0.011168\n",
            "7          general_health_Excellent    0.010467\n",
            "29                       sex_Female    0.010109\n",
            "30                         sex_Male    0.009722\n",
            "42               age_category_75-79    0.009370\n",
            "44               smoking_history_No    0.009234\n",
            "41               age_category_70-74    0.007997\n",
            "45              smoking_history_Yes    0.007992\n",
            "9               general_health_Good    0.006928\n",
            "17                      exercise_No    0.006832\n",
            "16     checkup_Within the past year    0.006192\n",
            "18                     exercise_Yes    0.006027\n",
            "40               age_category_65-69    0.005747\n",
            "22                 other_cancer_Yes    0.005329\n",
            "21                  other_cancer_No    0.005035\n",
            "24                   depression_Yes    0.004765\n",
            "19                   skin_cancer_No    0.004736\n",
            "20                  skin_cancer_Yes    0.004728\n",
            "39               age_category_60-64    0.004723\n",
            "23                    depression_No    0.004699\n",
            "38               age_category_55-59    0.004106\n",
            "37               age_category_50-54    0.003179\n",
            "14  checkup_Within the past 2 years    0.002550\n",
            "36               age_category_45-49    0.002373\n",
            "35               age_category_40-44    0.002163\n",
            "34               age_category_35-39    0.001891\n",
            "33               age_category_30-34    0.001426\n",
            "31               age_category_18-24    0.001284\n",
            "15  checkup_Within the past 5 years    0.001272\n",
            "32               age_category_25-29    0.001206\n",
            "12      checkup_5 or more years ago    0.000929\n",
            "13                    checkup_Never    0.000205\n"
          ]
        }
      ],
      "source": [
        "# Print or visualize the feature importance\n",
        "print(importance_df)\n"
      ]
    },
    {
      "cell_type": "code",
      "execution_count": 35,
      "metadata": {
        "id": "pCR-wkiBlo3y"
      },
      "outputs": [],
      "source": [
        "import matplotlib.pyplot as plt"
      ]
    },
    {
      "cell_type": "markdown",
      "source": [
        "The top three important features for predicting cardiovascular disease (CVD) are identified as height, fruit consumption, and BMI (Body Mass Index).\n",
        "\n"
      ],
      "metadata": {
        "id": "owfpmNXrsdNJ"
      }
    },
    {
      "cell_type": "code",
      "execution_count": 36,
      "metadata": {
        "id": "AT-EfS6hm2Q8"
      },
      "outputs": [],
      "source": [
        "# Display only the top N most important features\n",
        "top_n = 10  # Adjust the number of top features to display\n",
        "top_importance_df = importance_df.head(top_n)\n"
      ]
    },
    {
      "cell_type": "code",
      "execution_count": 37,
      "metadata": {
        "colab": {
          "base_uri": "https://localhost:8080/",
          "height": 607
        },
        "id": "AMJZniVZlby_",
        "outputId": "e6fca54c-e412-4093-dbc1-6e85e9afb344"
      },
      "outputs": [
        {
          "output_type": "display_data",
          "data": {
            "text/plain": [
              "<Figure size 1000x600 with 1 Axes>"
            ],
            "image/png": "[encoded data removed]"
          },
          "metadata": {}
        }
      ],
      "source": [
        "# Plot the feature importance\n",
        "y_pos = range(len(top_importance_df))\n",
        "plt.figure(figsize=(10, 6))\n",
        "plt.barh(y_pos, top_importance_df['Importance'])\n",
        "plt.yticks(y_pos, top_importance_df['Feature'])\n",
        "plt.xlabel('Feature Importance')\n",
        "plt.title('Top {} Random Forest Feature Importance'.format(top_n))\n",
        "plt.gca().invert_yaxis()\n",
        "plt.tight_layout()\n",
        "plt.show()\n"
      ]
    },
    {
      "cell_type": "markdown",
      "source": [
        "While the feature importance analysis provides valuable insights, several important considerations highlight the need for further investigation:\n",
        "\n",
        "1. Correlation vs. Causation: Feature importance does not establish causation. While height, fruit consumption, and BMI may be important predictors, they may not be the direct causes of CVD.\n",
        "\n",
        "2. Domain Expertise: Medical and domain experts should validate the findings. They can provide insights into the biological and clinical relevance of these features and their relationships with CVD.\n",
        "\n",
        "3. Data Quality: The results are based on the quality and representativeness of the dataset.\n",
        "\n"
      ],
      "metadata": {
        "id": "m98sNQIzshdM"
      }
    },
    {
      "cell_type": "markdown",
      "metadata": {
        "id": "c3Xs3qhs_wNm"
      },
      "source": [
        "**OPTIMISATION 1**"
      ]
    },
    {
      "cell_type": "code",
      "execution_count": 38,
      "metadata": {
        "id": "AVF8Sb6MASzQ"
      },
      "outputs": [],
      "source": [
        "# Create a Random Forest Classifier\n",
        "rf_classifier = RandomForestClassifier(random_state=42)\n"
      ]
    },
    {
      "cell_type": "markdown",
      "source": [
        "Distribution of hyperparameters was defined in the param_dist dictionary. These hyperparameters include:\n",
        "\n",
        "n_estimators: The number of trees in the forest (100, 200, or 300).\n",
        "\n",
        "max_depth: The maximum depth of each tree (None, 10, 20, or 30).\n",
        "\n",
        "min_samples_split: The minimum number of samples required to split a node (2, 5, or 10).\n",
        "\n",
        "min_samples_leaf: The minimum number of samples required to be a leaf node (1, 2, or 4).\n",
        "\n",
        "max_features: The number of features to consider for the best split ('auto,' 'sqrt,' or 'log2')."
      ],
      "metadata": {
        "id": "saSSIwZ3un_Q"
      }
    },
    {
      "cell_type": "code",
      "source": [
        "# Define a distribution of hyperparameters for RandomizedSearchCV\n",
        "param_dist = {\n",
        "    'n_estimators': [100, 200, 300],          # Number of trees in the forest\n",
        "    'max_depth': [None, 10, 20, 30],         # Maximum depth of each tree\n",
        "    'min_samples_split': [2, 5, 10],        # Minimum samples required to split a node\n",
        "    'min_samples_leaf': [1, 2, 4],          # Minimum samples required to be a leaf node\n",
        "    'max_features': ['auto', 'sqrt', 'log2'] # Number of features to consider for the best split\n",
        "}"
      ],
      "metadata": {
        "id": "CnKPSyVoTF0T"
      },
      "execution_count": 39,
      "outputs": []
    },
    {
      "cell_type": "code",
      "source": [
        "from sklearn.model_selection import train_test_split, RandomizedSearchCV"
      ],
      "metadata": {
        "id": "aj_ZSFXPTQFf"
      },
      "execution_count": 41,
      "outputs": []
    },
    {
      "cell_type": "markdown",
      "source": [
        "A RandomizedSearchCV object named random_search to search for the best hyperparameters using random sampling. This process involves:\n",
        "\n",
        "Using cross-validation (cv=5) to evaluate the model's performance.\n",
        "Specifying the number of iterations (n_iter=10) to randomly sample hyperparameters.\n",
        "Setting n_jobs=-1 to utilize all available CPU cores for parallel processing.\n",
        "Defining scoring='accuracy' as the evaluation metric.\n",
        "Setting a random state (random_state=42) for reproducibility."
      ],
      "metadata": {
        "id": "DXa3tHF_vRAY"
      }
    },
    {
      "cell_type": "code",
      "source": [
        "# Create RandomizedSearchCV to search for the best hyperparameters\n",
        "random_search = RandomizedSearchCV(estimator=rf_classifier, param_distributions=param_dist, n_iter=10, cv=5, n_jobs=-1, verbose=2, scoring='accuracy', random_state=42)\n"
      ],
      "metadata": {
        "id": "7fADONIUTNra"
      },
      "execution_count": 42,
      "outputs": []
    },
    {
      "cell_type": "code",
      "source": [
        "# Fit the model to the training data while searching for the best hyperparameters\n",
        "random_search.fit(X_train_resampled, y_train_resampled)\n"
      ],
      "metadata": {
        "colab": {
          "base_uri": "https://localhost:8080/",
          "height": 378
        },
        "id": "ZCo0thiTTXJ4",
        "outputId": "b4ab6a84-2be2-4691-8f54-8ed99e40d04c"
      },
      "execution_count": 43,
      "outputs": [
        {
          "output_type": "stream",
          "name": "stdout",
          "text": [
            "Fitting 5 folds for each of 10 candidates, totalling 50 fits\n"
          ]
        },
        {
          "output_type": "stream",
          "name": "stderr",
          "text": [
            "/usr/local/lib/python3.10/dist-packages/sklearn/ensemble/_forest.py:424: FutureWarning: `max_features='auto'` has been deprecated in 1.1 and will be removed in 1.3. To keep the past behaviour, explicitly set `max_features='sqrt'` or remove this parameter as it is also the default value for RandomForestClassifiers and ExtraTreesClassifiers.\n",
            "  warn(\n"
          ]
        },
        {
          "output_type": "execute_result",
          "data": {
            "text/plain": [
              "RandomizedSearchCV(cv=5, estimator=RandomForestClassifier(random_state=42),\n",
              "                   n_jobs=-1,\n",
              "                   param_distributions={'max_depth': [None, 10, 20, 30],\n",
              "                                        'max_features': ['auto', 'sqrt',\n",
              "                                                         'log2'],\n",
              "                                        'min_samples_leaf': [1, 2, 4],\n",
              "                                        'min_samples_split': [2, 5, 10],\n",
              "                                        'n_estimators': [100, 200, 300]},\n",
              "                   random_state=42, scoring='accuracy', verbose=2)"
            ],
            "text/html": [
              "<style>#sk-container-id-4 {color: black;background-color: white;}#sk-container-id-4 pre{padding: 0;}#sk-container-id-4 div.sk-toggleable {background-color: white;}#sk-container-id-4 label.sk-toggleable__label {cursor: pointer;display: block;width: 100%;margin-bottom: 0;padding: 0.3em;box-sizing: border-box;text-align: center;}#sk-container-id-4 label.sk-toggleable__label-arrow:before {content: \"▸\";float: left;margin-right: 0.25em;color: #696969;}#sk-container-id-4 label.sk-toggleable__label-arrow:hover:before {color: black;}#sk-container-id-4 div.sk-estimator:hover label.sk-toggleable__label-arrow:before {color: black;}#sk-container-id-4 div.sk-toggleable__content {max-height: 0;max-width: 0;overflow: hidden;text-align: left;background-color: #f0f8ff;}#sk-container-id-4 div.sk-toggleable__content pre {margin: 0.2em;color: black;border-radius: 0.25em;background-color: #f0f8ff;}#sk-container-id-4 input.sk-toggleable__control:checked~div.sk-toggleable__content {max-height: 200px;max-width: 100%;overflow: auto;}#sk-container-id-4 input.sk-toggleable__control:checked~label.sk-toggleable__label-arrow:before {content: \"▾\";}#sk-container-id-4 div.sk-estimator input.sk-toggleable__control:checked~label.sk-toggleable__label {background-color: #d4ebff;}#sk-container-id-4 div.sk-label input.sk-toggleable__control:checked~label.sk-toggleable__label {background-color: #d4ebff;}#sk-container-id-4 input.sk-hidden--visually {border: 0;clip: rect(1px 1px 1px 1px);clip: rect(1px, 1px, 1px, 1px);height: 1px;margin: -1px;overflow: hidden;padding: 0;position: absolute;width: 1px;}#sk-container-id-4 div.sk-estimator {font-family: monospace;background-color: #f0f8ff;border: 1px dotted black;border-radius: 0.25em;box-sizing: border-box;margin-bottom: 0.5em;}#sk-container-id-4 div.sk-estimator:hover {background-color: #d4ebff;}#sk-container-id-4 div.sk-parallel-item::after {content: \"\";width: 100%;border-bottom: 1px solid gray;flex-grow: 1;}#sk-container-id-4 div.sk-label:hover label.sk-toggleable__label {background-color: #d4ebff;}#sk-container-id-4 div.sk-serial::before {content: \"\";position: absolute;border-left: 1px solid gray;box-sizing: border-box;top: 0;bottom: 0;left: 50%;z-index: 0;}#sk-container-id-4 div.sk-serial {display: flex;flex-direction: column;align-items: center;background-color: white;padding-right: 0.2em;padding-left: 0.2em;position: relative;}#sk-container-id-4 div.sk-item {position: relative;z-index: 1;}#sk-container-id-4 div.sk-parallel {display: flex;align-items: stretch;justify-content: center;background-color: white;position: relative;}#sk-container-id-4 div.sk-item::before, #sk-container-id-4 div.sk-parallel-item::before {content: \"\";position: absolute;border-left: 1px solid gray;box-sizing: border-box;top: 0;bottom: 0;left: 50%;z-index: -1;}#sk-container-id-4 div.sk-parallel-item {display: flex;flex-direction: column;z-index: 1;position: relative;background-color: white;}#sk-container-id-4 div.sk-parallel-item:first-child::after {align-self: flex-end;width: 50%;}#sk-container-id-4 div.sk-parallel-item:last-child::after {align-self: flex-start;width: 50%;}#sk-container-id-4 div.sk-parallel-item:only-child::after {width: 0;}#sk-container-id-4 div.sk-dashed-wrapped {border: 1px dashed gray;margin: 0 0.4em 0.5em 0.4em;box-sizing: border-box;padding-bottom: 0.4em;background-color: white;}#sk-container-id-4 div.sk-label label {font-family: monospace;font-weight: bold;display: inline-block;line-height: 1.2em;}#sk-container-id-4 div.sk-label-container {text-align: center;}#sk-container-id-4 div.sk-container {/* jupyter's `normalize.less` sets `[hidden] { display: none; }` but bootstrap.min.css set `[hidden] { display: none !important; }` so we also need the `!important` here to be able to override the default hidden behavior on the sphinx rendered scikit-learn.org. See: https://github.com/scikit-learn/scikit-learn/issues/21755 */display: inline-block !important;position: relative;}#sk-container-id-4 div.sk-text-repr-fallback {display: none;}</style><div id=\"sk-container-id-4\" class=\"sk-top-container\"><div class=\"sk-text-repr-fallback\"><pre>RandomizedSearchCV(cv=5, estimator=RandomForestClassifier(random_state=42),\n",
              "                   n_jobs=-1,\n",
              "                   param_distributions={&#x27;max_depth&#x27;: [None, 10, 20, 30],\n",
              "                                        &#x27;max_features&#x27;: [&#x27;auto&#x27;, &#x27;sqrt&#x27;,\n",
              "                                                         &#x27;log2&#x27;],\n",
              "                                        &#x27;min_samples_leaf&#x27;: [1, 2, 4],\n",
              "                                        &#x27;min_samples_split&#x27;: [2, 5, 10],\n",
              "                                        &#x27;n_estimators&#x27;: [100, 200, 300]},\n",
              "                   random_state=42, scoring=&#x27;accuracy&#x27;, verbose=2)</pre><b>In a Jupyter environment, please rerun this cell to show the HTML representation or trust the notebook. <br />On GitHub, the HTML representation is unable to render, please try loading this page with nbviewer.org.</b></div><div class=\"sk-container\" hidden><div class=\"sk-item sk-dashed-wrapped\"><div class=\"sk-label-container\"><div class=\"sk-label sk-toggleable\"><input class=\"sk-toggleable__control sk-hidden--visually\" id=\"sk-estimator-id-4\" type=\"checkbox\" ><label for=\"sk-estimator-id-4\" class=\"sk-toggleable__label sk-toggleable__label-arrow\">RandomizedSearchCV</label><div class=\"sk-toggleable__content\"><pre>RandomizedSearchCV(cv=5, estimator=RandomForestClassifier(random_state=42),\n",
              "                   n_jobs=-1,\n",
              "                   param_distributions={&#x27;max_depth&#x27;: [None, 10, 20, 30],\n",
              "                                        &#x27;max_features&#x27;: [&#x27;auto&#x27;, &#x27;sqrt&#x27;,\n",
              "                                                         &#x27;log2&#x27;],\n",
              "                                        &#x27;min_samples_leaf&#x27;: [1, 2, 4],\n",
              "                                        &#x27;min_samples_split&#x27;: [2, 5, 10],\n",
              "                                        &#x27;n_estimators&#x27;: [100, 200, 300]},\n",
              "                   random_state=42, scoring=&#x27;accuracy&#x27;, verbose=2)</pre></div></div></div><div class=\"sk-parallel\"><div class=\"sk-parallel-item\"><div class=\"sk-item\"><div class=\"sk-label-container\"><div class=\"sk-label sk-toggleable\"><input class=\"sk-toggleable__control sk-hidden--visually\" id=\"sk-estimator-id-5\" type=\"checkbox\" ><label for=\"sk-estimator-id-5\" class=\"sk-toggleable__label sk-toggleable__label-arrow\">estimator: RandomForestClassifier</label><div class=\"sk-toggleable__content\"><pre>RandomForestClassifier(random_state=42)</pre></div></div></div><div class=\"sk-serial\"><div class=\"sk-item\"><div class=\"sk-estimator sk-toggleable\"><input class=\"sk-toggleable__control sk-hidden--visually\" id=\"sk-estimator-id-6\" type=\"checkbox\" ><label for=\"sk-estimator-id-6\" class=\"sk-toggleable__label sk-toggleable__label-arrow\">RandomForestClassifier</label><div class=\"sk-toggleable__content\"><pre>RandomForestClassifier(random_state=42)</pre></div></div></div></div></div></div></div></div></div></div>"
            ]
          },
          "metadata": {},
          "execution_count": 43
        }
      ]
    },
    {
      "cell_type": "markdown",
      "source": [
        "The final Random Forest model (final_rf_classifier) using the best hyperparameters obtained from the search was created.\n",
        "\n"
      ],
      "metadata": {
        "id": "1jHhmO5vvt6W"
      }
    },
    {
      "cell_type": "code",
      "source": [
        "# Get the best hyperparameters\n",
        "best_params = random_search.best_params_"
      ],
      "metadata": {
        "id": "6S6-lVcJVudl"
      },
      "execution_count": 44,
      "outputs": []
    },
    {
      "cell_type": "code",
      "source": [
        "# Use the best hyperparameters to create the final Random Forest model\n",
        "final_rf_classifier = RandomForestClassifier(random_state=42, **best_params)\n"
      ],
      "metadata": {
        "id": "9yoCPYbWV0qn"
      },
      "execution_count": 45,
      "outputs": []
    },
    {
      "cell_type": "code",
      "source": [
        "# Fit the final model to the training data\n",
        "final_rf_classifier.fit(X_train_resampled, y_train_resampled)"
      ],
      "metadata": {
        "colab": {
          "base_uri": "https://localhost:8080/",
          "height": 132
        },
        "id": "Bt17qTchV6Aw",
        "outputId": "7df1d328-0043-4a13-8c26-e3e8c3a86e30"
      },
      "execution_count": 46,
      "outputs": [
        {
          "output_type": "stream",
          "name": "stderr",
          "text": [
            "/usr/local/lib/python3.10/dist-packages/sklearn/ensemble/_forest.py:424: FutureWarning: `max_features='auto'` has been deprecated in 1.1 and will be removed in 1.3. To keep the past behaviour, explicitly set `max_features='sqrt'` or remove this parameter as it is also the default value for RandomForestClassifiers and ExtraTreesClassifiers.\n",
            "  warn(\n"
          ]
        },
        {
          "output_type": "execute_result",
          "data": {
            "text/plain": [
              "RandomForestClassifier(max_features='auto', min_samples_leaf=2, random_state=42)"
            ],
            "text/html": [
              "<style>#sk-container-id-5 {color: black;background-color: white;}#sk-container-id-5 pre{padding: 0;}#sk-container-id-5 div.sk-toggleable {background-color: white;}#sk-container-id-5 label.sk-toggleable__label {cursor: pointer;display: block;width: 100%;margin-bottom: 0;padding: 0.3em;box-sizing: border-box;text-align: center;}#sk-container-id-5 label.sk-toggleable__label-arrow:before {content: \"▸\";float: left;margin-right: 0.25em;color: #696969;}#sk-container-id-5 label.sk-toggleable__label-arrow:hover:before {color: black;}#sk-container-id-5 div.sk-estimator:hover label.sk-toggleable__label-arrow:before {color: black;}#sk-container-id-5 div.sk-toggleable__content {max-height: 0;max-width: 0;overflow: hidden;text-align: left;background-color: #f0f8ff;}#sk-container-id-5 div.sk-toggleable__content pre {margin: 0.2em;color: black;border-radius: 0.25em;background-color: #f0f8ff;}#sk-container-id-5 input.sk-toggleable__control:checked~div.sk-toggleable__content {max-height: 200px;max-width: 100%;overflow: auto;}#sk-container-id-5 input.sk-toggleable__control:checked~label.sk-toggleable__label-arrow:before {content: \"▾\";}#sk-container-id-5 div.sk-estimator input.sk-toggleable__control:checked~label.sk-toggleable__label {background-color: #d4ebff;}#sk-container-id-5 div.sk-label input.sk-toggleable__control:checked~label.sk-toggleable__label {background-color: #d4ebff;}#sk-container-id-5 input.sk-hidden--visually {border: 0;clip: rect(1px 1px 1px 1px);clip: rect(1px, 1px, 1px, 1px);height: 1px;margin: -1px;overflow: hidden;padding: 0;position: absolute;width: 1px;}#sk-container-id-5 div.sk-estimator {font-family: monospace;background-color: #f0f8ff;border: 1px dotted black;border-radius: 0.25em;box-sizing: border-box;margin-bottom: 0.5em;}#sk-container-id-5 div.sk-estimator:hover {background-color: #d4ebff;}#sk-container-id-5 div.sk-parallel-item::after {content: \"\";width: 100%;border-bottom: 1px solid gray;flex-grow: 1;}#sk-container-id-5 div.sk-label:hover label.sk-toggleable__label {background-color: #d4ebff;}#sk-container-id-5 div.sk-serial::before {content: \"\";position: absolute;border-left: 1px solid gray;box-sizing: border-box;top: 0;bottom: 0;left: 50%;z-index: 0;}#sk-container-id-5 div.sk-serial {display: flex;flex-direction: column;align-items: center;background-color: white;padding-right: 0.2em;padding-left: 0.2em;position: relative;}#sk-container-id-5 div.sk-item {position: relative;z-index: 1;}#sk-container-id-5 div.sk-parallel {display: flex;align-items: stretch;justify-content: center;background-color: white;position: relative;}#sk-container-id-5 div.sk-item::before, #sk-container-id-5 div.sk-parallel-item::before {content: \"\";position: absolute;border-left: 1px solid gray;box-sizing: border-box;top: 0;bottom: 0;left: 50%;z-index: -1;}#sk-container-id-5 div.sk-parallel-item {display: flex;flex-direction: column;z-index: 1;position: relative;background-color: white;}#sk-container-id-5 div.sk-parallel-item:first-child::after {align-self: flex-end;width: 50%;}#sk-container-id-5 div.sk-parallel-item:last-child::after {align-self: flex-start;width: 50%;}#sk-container-id-5 div.sk-parallel-item:only-child::after {width: 0;}#sk-container-id-5 div.sk-dashed-wrapped {border: 1px dashed gray;margin: 0 0.4em 0.5em 0.4em;box-sizing: border-box;padding-bottom: 0.4em;background-color: white;}#sk-container-id-5 div.sk-label label {font-family: monospace;font-weight: bold;display: inline-block;line-height: 1.2em;}#sk-container-id-5 div.sk-label-container {text-align: center;}#sk-container-id-5 div.sk-container {/* jupyter's `normalize.less` sets `[hidden] { display: none; }` but bootstrap.min.css set `[hidden] { display: none !important; }` so we also need the `!important` here to be able to override the default hidden behavior on the sphinx rendered scikit-learn.org. See: https://github.com/scikit-learn/scikit-learn/issues/21755 */display: inline-block !important;position: relative;}#sk-container-id-5 div.sk-text-repr-fallback {display: none;}</style><div id=\"sk-container-id-5\" class=\"sk-top-container\"><div class=\"sk-text-repr-fallback\"><pre>RandomForestClassifier(max_features=&#x27;auto&#x27;, min_samples_leaf=2, random_state=42)</pre><b>In a Jupyter environment, please rerun this cell to show the HTML representation or trust the notebook. <br />On GitHub, the HTML representation is unable to render, please try loading this page with nbviewer.org.</b></div><div class=\"sk-container\" hidden><div class=\"sk-item\"><div class=\"sk-estimator sk-toggleable\"><input class=\"sk-toggleable__control sk-hidden--visually\" id=\"sk-estimator-id-7\" type=\"checkbox\" checked><label for=\"sk-estimator-id-7\" class=\"sk-toggleable__label sk-toggleable__label-arrow\">RandomForestClassifier</label><div class=\"sk-toggleable__content\"><pre>RandomForestClassifier(max_features=&#x27;auto&#x27;, min_samples_leaf=2, random_state=42)</pre></div></div></div></div></div>"
            ]
          },
          "metadata": {},
          "execution_count": 46
        }
      ]
    },
    {
      "cell_type": "code",
      "source": [
        "# Predicting on the test data using the final model\n",
        "y_pred = final_rf_classifier.predict(X_test)"
      ],
      "metadata": {
        "id": "GxJfh4rTWGZg"
      },
      "execution_count": 47,
      "outputs": []
    },
    {
      "cell_type": "code",
      "source": [
        "# Evaluate the final model\n",
        "accuracy = accuracy_score(y_test, y_pred)\n",
        "class_report = classification_report(y_test, y_pred)"
      ],
      "metadata": {
        "id": "GPOZOqMHWK-a"
      },
      "execution_count": 48,
      "outputs": []
    },
    {
      "cell_type": "markdown",
      "source": [
        "The accuracy of the optimized Random Forest Classifier is approximately 92.64%. This indicates that the model correctly predicted the class labels for about 92.64% of the samples in the test dataset.\n",
        "\n",
        "Classification Report:\n",
        "\n",
        "The classification report provides additional performance metrics beyond accuracy:\n",
        "\n",
        "Precision measures the proportion of true positive predictions out of all positive predictions. For class 0, precision is 0.93, and for class 1, it's 0.92. This indicates that the model has a high precision for both classes, meaning it makes relatively few false positive errors.\n",
        "\n",
        "Recall (or sensitivity) measures the proportion of true positive predictions out of all actual positives. For class 0, recall is 0.97, and for class 1, it's 0.83. This suggests that the model is better at identifying true negatives (class 0) than true positives (class 1).\n",
        "\n",
        "F1-score is the harmonic mean of precision and recall. It provides a balance between precision and recall. For class 0, the F1-score is 0.95, and for class 1, it's 0.87. A high F1-score indicates a good balance between precision and recall.\n",
        "\n",
        "Support indicates the number of samples in each class.\n",
        "\n",
        "Macro Avg and Weighted Avg:\n",
        "\n",
        "The macro average (macro avg) computes the average of metrics across both classes without considering class imbalance. In this case, the macro avg F1-score is approximately 0.91.\n",
        "The weighted average (weighted avg) computes the average of metrics, weighted by the number of samples in each class. This accounts for class imbalance, and the weighted avg F1-score is also approximately 0.93."
      ],
      "metadata": {
        "id": "iJ6uE5NTwiC-"
      }
    },
    {
      "cell_type": "code",
      "source": [
        "# Print the results\n",
        "print(\"Best Hyperparameters:\", best_params)\n",
        "print(\"Accuracy:\", accuracy)\n",
        "print(\"Classification Report:\\n\", class_report)"
      ],
      "metadata": {
        "colab": {
          "base_uri": "https://localhost:8080/"
        },
        "id": "IEO98bEdWMcZ",
        "outputId": "fef31800-ad49-40b2-a7af-fb5bd88f9bdf"
      },
      "execution_count": 49,
      "outputs": [
        {
          "output_type": "stream",
          "name": "stdout",
          "text": [
            "Best Hyperparameters: {'n_estimators': 100, 'min_samples_split': 2, 'min_samples_leaf': 2, 'max_features': 'auto', 'max_depth': None}\n",
            "Accuracy: 0.9264262756126959\n",
            "Classification Report:\n",
            "               precision    recall  f1-score   support\n",
            "\n",
            "           0       0.93      0.97      0.95     13913\n",
            "           1       0.92      0.83      0.87      5999\n",
            "\n",
            "    accuracy                           0.93     19912\n",
            "   macro avg       0.92      0.90      0.91     19912\n",
            "weighted avg       0.93      0.93      0.93     19912\n",
            "\n"
          ]
        }
      ]
    },
    {
      "cell_type": "markdown",
      "source": [
        "Comparison with the Initial Random Forest Model:\n",
        "\n",
        "The optimized Random Forest model shows an improvement in accuracy (92.64%) compared to the initial model (92.84%). While the difference in accuracy is relatively small, optimization is still beneficial.\n",
        "\n",
        "Precision for class 0 is similar in both models, but precision for class 1 improved from 0.82 (initial model) to 0.92 (optimized model). This indicates a reduction in false positive errors for class 1 in the optimized model.\n",
        "\n",
        "Recall for class 1 decreased slightly from 0.84 (initial model) to 0.83 (optimized model). This means that the optimized model is slightly less effective at identifying true positives for class 1, but the increase in precision suggests a trade-off that may be acceptable depending on the specific application.\n",
        "\n",
        "The F1-score for class 1 increased from 0.83 (initial model) to 0.87 (optimized model), indicating better overall performance for class 1.\n",
        "\n",
        "The macro avg F1-score remained fairly consistent, while the weighted avg F1-score increased slightly from 0.93 (initial model) to 0.93 (optimized model).\n",
        "\n",
        "Overall, the optimized Random Forest model demonstrates improved precision, comparable recall, and a slightly better F1-score for class 1, which suggests that it is better at minimizing false positive errors and achieving a balance between precision and recall for both classes. While the accuracy difference is small, these changes can have practical implications depending on the specific use case and the importance of minimizing different types of errors."
      ],
      "metadata": {
        "id": "DytjebLOwpwh"
      }
    },
    {
      "cell_type": "markdown",
      "metadata": {
        "id": "QliTLSqQ0lYl"
      },
      "source": [
        "# Model 5: Neural Network"
      ]
    },
    {
      "cell_type": "code",
      "execution_count": 37,
      "metadata": {
        "id": "MCoi7vle0rYf"
      },
      "outputs": [],
      "source": []
    }
  ],
  "metadata": {
    "colab": {
      "provenance": []
    },
    "kernelspec": {
      "display_name": "Python 3",
      "name": "python3"
    },
    "language_info": {
      "name": "python"
    }
  },
  "nbformat": 4,
  "nbformat_minor": 0
}