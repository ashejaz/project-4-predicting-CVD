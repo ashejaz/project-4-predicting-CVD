{
  "nbformat": 4,
  "nbformat_minor": 0,
  "metadata": {
    "colab": {
      "provenance": []
    },
    "kernelspec": {
      "name": "python3",
      "display_name": "Python 3"
    },
    "language_info": {
      "name": "python"
    }
  },
  "cells": [
    {
      "cell_type": "markdown",
      "source": [
        "In this script, the prediction models from cvd_prediction_models have been revisited for further optimisations. Four out of the five initial prediction models were successfully optimised."
      ],
      "metadata": {
        "id": "f3psj5mgSG94"
      }
    },
    {
      "cell_type": "code",
      "execution_count": null,
      "metadata": {
        "id": "MmRH0TZoPv6s",
        "colab": {
          "base_uri": "https://localhost:8080/"
        },
        "outputId": "e54ab774-1ddf-4f84-b6e9-39921c55e73d"
      },
      "outputs": [
        {
          "output_type": "stream",
          "name": "stdout",
          "text": [
            "\u001b[?25l     \u001b[90m━━━━━━━━━━━━━━━━━━━━━━━━━━━━━━━━━━━━━━━━\u001b[0m \u001b[32m0.0/127.9 kB\u001b[0m \u001b[31m?\u001b[0m eta \u001b[36m-:--:--\u001b[0m\r\u001b[2K     \u001b[91m━━━━━━━━━\u001b[0m\u001b[90m╺\u001b[0m\u001b[90m━━━━━━━━━━━━━━━━━━━━━━━━━━━━\u001b[0m \u001b[32m30.7/127.9 kB\u001b[0m \u001b[31m785.7 kB/s\u001b[0m eta \u001b[36m0:00:01\u001b[0m\r\u001b[2K     \u001b[91m━━━━━━━━━━━━━━━━━━━━━━━━━━━━━━━━━━━━━\u001b[0m\u001b[90m╺\u001b[0m\u001b[90m━\u001b[0m \u001b[32m122.9/127.9 kB\u001b[0m \u001b[31m1.8 MB/s\u001b[0m eta \u001b[36m0:00:01\u001b[0m\r\u001b[2K     \u001b[90m━━━━━━━━━━━━━━━━━━━━━━━━━━━━━━━━━━━━━━━\u001b[0m \u001b[32m127.9/127.9 kB\u001b[0m \u001b[31m1.6 MB/s\u001b[0m eta \u001b[36m0:00:00\u001b[0m\n",
            "\u001b[?25h\u001b[?25l     \u001b[90m━━━━━━━━━━━━━━━━━━━━━━━━━━━━━━━━━━━━━━━━\u001b[0m \u001b[32m0.0/950.8 kB\u001b[0m \u001b[31m?\u001b[0m eta \u001b[36m-:--:--\u001b[0m\r\u001b[2K     \u001b[91m━━━━━━━━━━━━━━━━━━━━━━━━━━━━━━━━━━━━━\u001b[0m\u001b[91m╸\u001b[0m \u001b[32m942.1/950.8 kB\u001b[0m \u001b[31m33.1 MB/s\u001b[0m eta \u001b[36m0:00:01\u001b[0m\r\u001b[2K     \u001b[90m━━━━━━━━━━━━━━━━━━━━━━━━━━━━━━━━━━━━━━\u001b[0m \u001b[32m950.8/950.8 kB\u001b[0m \u001b[31m20.2 MB/s\u001b[0m eta \u001b[36m0:00:00\u001b[0m\n",
            "\u001b[?25hUsing TensorFlow backend\n"
          ]
        }
      ],
      "source": [
        "# Import dependencies\n",
        "import pandas as pd\n",
        "import tensorflow as tf\n",
        "import numpy as np\n",
        "import plotly.graph_objs as go\n",
        "\n",
        "from sklearn.preprocessing import StandardScaler\n",
        "from sklearn.model_selection import train_test_split\n",
        "from imblearn.over_sampling import RandomOverSampler\n",
        "from sklearn.svm import SVC\n",
        "from sklearn.metrics import confusion_matrix, accuracy_score, classification_report\n",
        "from sklearn import tree\n",
        "from sklearn.tree import DecisionTreeClassifier\n",
        "from sklearn.ensemble import RandomForestClassifier\n",
        "from sklearn.model_selection import train_test_split, GridSearchCV\n",
        "from sklearn.model_selection import train_test_split, RandomizedSearchCV\n",
        "from google.colab import files\n",
        "\n",
        "!pip install -q -U keras-tuner\n",
        "import keras_tuner as kt"
      ]
    },
    {
      "cell_type": "code",
      "source": [
        "# Read in the cardiovascular dataset from Google Sheets\n",
        "cvd_df = pd.read_csv(\"https://docs.google.com/spreadsheets/d/e/2PACX-1vSDchXr1EhgCSsxlxJ3lWPhh1kT5EJS3yv4DJ2YLeMIC3y4uq-Pp4EQknrs9zAiaI3ulne2Jyi6gR6G/pub?gid=602879552&single=true&output=csv\")\n",
        "cvd_df.head()"
      ],
      "metadata": {
        "colab": {
          "base_uri": "https://localhost:8080/",
          "height": 400
        },
        "id": "gSzNQrPfRBZs",
        "outputId": "eaabc1c2-ea15-4010-d240-8bdd45c6f3e2"
      },
      "execution_count": null,
      "outputs": [
        {
          "output_type": "execute_result",
          "data": {
            "text/plain": [
              "  general_health                  checkup exercise heart_disease skin_cancer  \\\n",
              "0           Poor  Within the past 2 years       No            No          No   \n",
              "1      Very Good     Within the past year       No           Yes          No   \n",
              "2      Very Good     Within the past year      Yes            No          No   \n",
              "3           Poor     Within the past year      Yes           Yes          No   \n",
              "4           Good     Within the past year       No            No          No   \n",
              "\n",
              "  other_cancer depression diabetes arthritis     sex age_category  height_cm  \\\n",
              "0           No         No       No       Yes  Female        70-74        150   \n",
              "1           No         No      Yes        No  Female        70-74        165   \n",
              "2           No         No      Yes        No  Female        60-64        163   \n",
              "3           No         No      Yes        No    Male        75-79        180   \n",
              "4           No         No       No        No    Male          80+        191   \n",
              "\n",
              "   weight_kg    bmi smoking_history  alcohol_consumption  fruit_consumption  \\\n",
              "0      32.66  14.54             Yes                    0                 30   \n",
              "1      77.11  28.29              No                    0                 30   \n",
              "2      88.45  33.47              No                    4                 12   \n",
              "3      93.44  28.73              No                    0                 30   \n",
              "4      88.45  24.37             Yes                    0                  8   \n",
              "\n",
              "   green_vegetables_consumption  friedpotato_consumption  \n",
              "0                            16                       12  \n",
              "1                             0                        4  \n",
              "2                             3                       16  \n",
              "3                            30                        8  \n",
              "4                             4                        0  "
            ],
            "text/html": [
              "\n",
              "  <div id=\"df-9f11a4d8-4c33-4422-b1cb-51a2f093bb3a\" class=\"colab-df-container\">\n",
              "    <div>\n",
              "<style scoped>\n",
              "    .dataframe tbody tr th:only-of-type {\n",
              "        vertical-align: middle;\n",
              "    }\n",
              "\n",
              "    .dataframe tbody tr th {\n",
              "        vertical-align: top;\n",
              "    }\n",
              "\n",
              "    .dataframe thead th {\n",
              "        text-align: right;\n",
              "    }\n",
              "</style>\n",
              "<table border=\"1\" class=\"dataframe\">\n",
              "  <thead>\n",
              "    <tr style=\"text-align: right;\">\n",
              "      <th></th>\n",
              "      <th>general_health</th>\n",
              "      <th>checkup</th>\n",
              "      <th>exercise</th>\n",
              "      <th>heart_disease</th>\n",
              "      <th>skin_cancer</th>\n",
              "      <th>other_cancer</th>\n",
              "      <th>depression</th>\n",
              "      <th>diabetes</th>\n",
              "      <th>arthritis</th>\n",
              "      <th>sex</th>\n",
              "      <th>age_category</th>\n",
              "      <th>height_cm</th>\n",
              "      <th>weight_kg</th>\n",
              "      <th>bmi</th>\n",
              "      <th>smoking_history</th>\n",
              "      <th>alcohol_consumption</th>\n",
              "      <th>fruit_consumption</th>\n",
              "      <th>green_vegetables_consumption</th>\n",
              "      <th>friedpotato_consumption</th>\n",
              "    </tr>\n",
              "  </thead>\n",
              "  <tbody>\n",
              "    <tr>\n",
              "      <th>0</th>\n",
              "      <td>Poor</td>\n",
              "      <td>Within the past 2 years</td>\n",
              "      <td>No</td>\n",
              "      <td>No</td>\n",
              "      <td>No</td>\n",
              "      <td>No</td>\n",
              "      <td>No</td>\n",
              "      <td>No</td>\n",
              "      <td>Yes</td>\n",
              "      <td>Female</td>\n",
              "      <td>70-74</td>\n",
              "      <td>150</td>\n",
              "      <td>32.66</td>\n",
              "      <td>14.54</td>\n",
              "      <td>Yes</td>\n",
              "      <td>0</td>\n",
              "      <td>30</td>\n",
              "      <td>16</td>\n",
              "      <td>12</td>\n",
              "    </tr>\n",
              "    <tr>\n",
              "      <th>1</th>\n",
              "      <td>Very Good</td>\n",
              "      <td>Within the past year</td>\n",
              "      <td>No</td>\n",
              "      <td>Yes</td>\n",
              "      <td>No</td>\n",
              "      <td>No</td>\n",
              "      <td>No</td>\n",
              "      <td>Yes</td>\n",
              "      <td>No</td>\n",
              "      <td>Female</td>\n",
              "      <td>70-74</td>\n",
              "      <td>165</td>\n",
              "      <td>77.11</td>\n",
              "      <td>28.29</td>\n",
              "      <td>No</td>\n",
              "      <td>0</td>\n",
              "      <td>30</td>\n",
              "      <td>0</td>\n",
              "      <td>4</td>\n",
              "    </tr>\n",
              "    <tr>\n",
              "      <th>2</th>\n",
              "      <td>Very Good</td>\n",
              "      <td>Within the past year</td>\n",
              "      <td>Yes</td>\n",
              "      <td>No</td>\n",
              "      <td>No</td>\n",
              "      <td>No</td>\n",
              "      <td>No</td>\n",
              "      <td>Yes</td>\n",
              "      <td>No</td>\n",
              "      <td>Female</td>\n",
              "      <td>60-64</td>\n",
              "      <td>163</td>\n",
              "      <td>88.45</td>\n",
              "      <td>33.47</td>\n",
              "      <td>No</td>\n",
              "      <td>4</td>\n",
              "      <td>12</td>\n",
              "      <td>3</td>\n",
              "      <td>16</td>\n",
              "    </tr>\n",
              "    <tr>\n",
              "      <th>3</th>\n",
              "      <td>Poor</td>\n",
              "      <td>Within the past year</td>\n",
              "      <td>Yes</td>\n",
              "      <td>Yes</td>\n",
              "      <td>No</td>\n",
              "      <td>No</td>\n",
              "      <td>No</td>\n",
              "      <td>Yes</td>\n",
              "      <td>No</td>\n",
              "      <td>Male</td>\n",
              "      <td>75-79</td>\n",
              "      <td>180</td>\n",
              "      <td>93.44</td>\n",
              "      <td>28.73</td>\n",
              "      <td>No</td>\n",
              "      <td>0</td>\n",
              "      <td>30</td>\n",
              "      <td>30</td>\n",
              "      <td>8</td>\n",
              "    </tr>\n",
              "    <tr>\n",
              "      <th>4</th>\n",
              "      <td>Good</td>\n",
              "      <td>Within the past year</td>\n",
              "      <td>No</td>\n",
              "      <td>No</td>\n",
              "      <td>No</td>\n",
              "      <td>No</td>\n",
              "      <td>No</td>\n",
              "      <td>No</td>\n",
              "      <td>No</td>\n",
              "      <td>Male</td>\n",
              "      <td>80+</td>\n",
              "      <td>191</td>\n",
              "      <td>88.45</td>\n",
              "      <td>24.37</td>\n",
              "      <td>Yes</td>\n",
              "      <td>0</td>\n",
              "      <td>8</td>\n",
              "      <td>4</td>\n",
              "      <td>0</td>\n",
              "    </tr>\n",
              "  </tbody>\n",
              "</table>\n",
              "</div>\n",
              "    <div class=\"colab-df-buttons\">\n",
              "\n",
              "  <div class=\"colab-df-container\">\n",
              "    <button class=\"colab-df-convert\" onclick=\"convertToInteractive('df-9f11a4d8-4c33-4422-b1cb-51a2f093bb3a')\"\n",
              "            title=\"Convert this dataframe to an interactive table.\"\n",
              "            style=\"display:none;\">\n",
              "\n",
              "  <svg xmlns=\"http://www.w3.org/2000/svg\" height=\"24px\" viewBox=\"0 -960 960 960\">\n",
              "    <path d=\"M120-120v-720h720v720H120Zm60-500h600v-160H180v160Zm220 220h160v-160H400v160Zm0 220h160v-160H400v160ZM180-400h160v-160H180v160Zm440 0h160v-160H620v160ZM180-180h160v-160H180v160Zm440 0h160v-160H620v160Z\"/>\n",
              "  </svg>\n",
              "    </button>\n",
              "\n",
              "  <style>\n",
              "    .colab-df-container {\n",
              "      display:flex;\n",
              "      gap: 12px;\n",
              "    }\n",
              "\n",
              "    .colab-df-convert {\n",
              "      background-color: #E8F0FE;\n",
              "      border: none;\n",
              "      border-radius: 50%;\n",
              "      cursor: pointer;\n",
              "      display: none;\n",
              "      fill: #1967D2;\n",
              "      height: 32px;\n",
              "      padding: 0 0 0 0;\n",
              "      width: 32px;\n",
              "    }\n",
              "\n",
              "    .colab-df-convert:hover {\n",
              "      background-color: #E2EBFA;\n",
              "      box-shadow: 0px 1px 2px rgba(60, 64, 67, 0.3), 0px 1px 3px 1px rgba(60, 64, 67, 0.15);\n",
              "      fill: #174EA6;\n",
              "    }\n",
              "\n",
              "    .colab-df-buttons div {\n",
              "      margin-bottom: 4px;\n",
              "    }\n",
              "\n",
              "    [theme=dark] .colab-df-convert {\n",
              "      background-color: #3B4455;\n",
              "      fill: #D2E3FC;\n",
              "    }\n",
              "\n",
              "    [theme=dark] .colab-df-convert:hover {\n",
              "      background-color: #434B5C;\n",
              "      box-shadow: 0px 1px 3px 1px rgba(0, 0, 0, 0.15);\n",
              "      filter: drop-shadow(0px 1px 2px rgba(0, 0, 0, 0.3));\n",
              "      fill: #FFFFFF;\n",
              "    }\n",
              "  </style>\n",
              "\n",
              "    <script>\n",
              "      const buttonEl =\n",
              "        document.querySelector('#df-9f11a4d8-4c33-4422-b1cb-51a2f093bb3a button.colab-df-convert');\n",
              "      buttonEl.style.display =\n",
              "        google.colab.kernel.accessAllowed ? 'block' : 'none';\n",
              "\n",
              "      async function convertToInteractive(key) {\n",
              "        const element = document.querySelector('#df-9f11a4d8-4c33-4422-b1cb-51a2f093bb3a');\n",
              "        const dataTable =\n",
              "          await google.colab.kernel.invokeFunction('convertToInteractive',\n",
              "                                                    [key], {});\n",
              "        if (!dataTable) return;\n",
              "\n",
              "        const docLinkHtml = 'Like what you see? Visit the ' +\n",
              "          '<a target=\"_blank\" href=https://colab.research.google.com/notebooks/data_table.ipynb>data table notebook</a>'\n",
              "          + ' to learn more about interactive tables.';\n",
              "        element.innerHTML = '';\n",
              "        dataTable['output_type'] = 'display_data';\n",
              "        await google.colab.output.renderOutput(dataTable, element);\n",
              "        const docLink = document.createElement('div');\n",
              "        docLink.innerHTML = docLinkHtml;\n",
              "        element.appendChild(docLink);\n",
              "      }\n",
              "    </script>\n",
              "  </div>\n",
              "\n",
              "\n",
              "<div id=\"df-d47af40b-6311-4dd3-b01e-a5668aa45ecf\">\n",
              "  <button class=\"colab-df-quickchart\" onclick=\"quickchart('df-d47af40b-6311-4dd3-b01e-a5668aa45ecf')\"\n",
              "            title=\"Suggest charts.\"\n",
              "            style=\"display:none;\">\n",
              "\n",
              "<svg xmlns=\"http://www.w3.org/2000/svg\" height=\"24px\"viewBox=\"0 0 24 24\"\n",
              "     width=\"24px\">\n",
              "    <g>\n",
              "        <path d=\"M19 3H5c-1.1 0-2 .9-2 2v14c0 1.1.9 2 2 2h14c1.1 0 2-.9 2-2V5c0-1.1-.9-2-2-2zM9 17H7v-7h2v7zm4 0h-2V7h2v10zm4 0h-2v-4h2v4z\"/>\n",
              "    </g>\n",
              "</svg>\n",
              "  </button>\n",
              "\n",
              "<style>\n",
              "  .colab-df-quickchart {\n",
              "      --bg-color: #E8F0FE;\n",
              "      --fill-color: #1967D2;\n",
              "      --hover-bg-color: #E2EBFA;\n",
              "      --hover-fill-color: #174EA6;\n",
              "      --disabled-fill-color: #AAA;\n",
              "      --disabled-bg-color: #DDD;\n",
              "  }\n",
              "\n",
              "  [theme=dark] .colab-df-quickchart {\n",
              "      --bg-color: #3B4455;\n",
              "      --fill-color: #D2E3FC;\n",
              "      --hover-bg-color: #434B5C;\n",
              "      --hover-fill-color: #FFFFFF;\n",
              "      --disabled-bg-color: #3B4455;\n",
              "      --disabled-fill-color: #666;\n",
              "  }\n",
              "\n",
              "  .colab-df-quickchart {\n",
              "    background-color: var(--bg-color);\n",
              "    border: none;\n",
              "    border-radius: 50%;\n",
              "    cursor: pointer;\n",
              "    display: none;\n",
              "    fill: var(--fill-color);\n",
              "    height: 32px;\n",
              "    padding: 0;\n",
              "    width: 32px;\n",
              "  }\n",
              "\n",
              "  .colab-df-quickchart:hover {\n",
              "    background-color: var(--hover-bg-color);\n",
              "    box-shadow: 0 1px 2px rgba(60, 64, 67, 0.3), 0 1px 3px 1px rgba(60, 64, 67, 0.15);\n",
              "    fill: var(--button-hover-fill-color);\n",
              "  }\n",
              "\n",
              "  .colab-df-quickchart-complete:disabled,\n",
              "  .colab-df-quickchart-complete:disabled:hover {\n",
              "    background-color: var(--disabled-bg-color);\n",
              "    fill: var(--disabled-fill-color);\n",
              "    box-shadow: none;\n",
              "  }\n",
              "\n",
              "  .colab-df-spinner {\n",
              "    border: 2px solid var(--fill-color);\n",
              "    border-color: transparent;\n",
              "    border-bottom-color: var(--fill-color);\n",
              "    animation:\n",
              "      spin 1s steps(1) infinite;\n",
              "  }\n",
              "\n",
              "  @keyframes spin {\n",
              "    0% {\n",
              "      border-color: transparent;\n",
              "      border-bottom-color: var(--fill-color);\n",
              "      border-left-color: var(--fill-color);\n",
              "    }\n",
              "    20% {\n",
              "      border-color: transparent;\n",
              "      border-left-color: var(--fill-color);\n",
              "      border-top-color: var(--fill-color);\n",
              "    }\n",
              "    30% {\n",
              "      border-color: transparent;\n",
              "      border-left-color: var(--fill-color);\n",
              "      border-top-color: var(--fill-color);\n",
              "      border-right-color: var(--fill-color);\n",
              "    }\n",
              "    40% {\n",
              "      border-color: transparent;\n",
              "      border-right-color: var(--fill-color);\n",
              "      border-top-color: var(--fill-color);\n",
              "    }\n",
              "    60% {\n",
              "      border-color: transparent;\n",
              "      border-right-color: var(--fill-color);\n",
              "    }\n",
              "    80% {\n",
              "      border-color: transparent;\n",
              "      border-right-color: var(--fill-color);\n",
              "      border-bottom-color: var(--fill-color);\n",
              "    }\n",
              "    90% {\n",
              "      border-color: transparent;\n",
              "      border-bottom-color: var(--fill-color);\n",
              "    }\n",
              "  }\n",
              "</style>\n",
              "\n",
              "  <script>\n",
              "    async function quickchart(key) {\n",
              "      const quickchartButtonEl =\n",
              "        document.querySelector('#' + key + ' button');\n",
              "      quickchartButtonEl.disabled = true;  // To prevent multiple clicks.\n",
              "      quickchartButtonEl.classList.add('colab-df-spinner');\n",
              "      try {\n",
              "        const charts = await google.colab.kernel.invokeFunction(\n",
              "            'suggestCharts', [key], {});\n",
              "      } catch (error) {\n",
              "        console.error('Error during call to suggestCharts:', error);\n",
              "      }\n",
              "      quickchartButtonEl.classList.remove('colab-df-spinner');\n",
              "      quickchartButtonEl.classList.add('colab-df-quickchart-complete');\n",
              "    }\n",
              "    (() => {\n",
              "      let quickchartButtonEl =\n",
              "        document.querySelector('#df-d47af40b-6311-4dd3-b01e-a5668aa45ecf button');\n",
              "      quickchartButtonEl.style.display =\n",
              "        google.colab.kernel.accessAllowed ? 'block' : 'none';\n",
              "    })();\n",
              "  </script>\n",
              "</div>\n",
              "    </div>\n",
              "  </div>\n"
            ]
          },
          "metadata": {},
          "execution_count": 2
        }
      ]
    },
    {
      "cell_type": "markdown",
      "source": [
        "# Data Preprocessing"
      ],
      "metadata": {
        "id": "rYuE9ImkcNUI"
      }
    },
    {
      "cell_type": "code",
      "source": [
        "# Define categorical columns for encoding and numeric columns for scaling\n",
        "categorical_cols = cvd_df.dtypes[cvd_df.dtypes == 'object'].index.tolist()\n",
        "\n",
        "numeric_cols = cvd_df.select_dtypes(include=['int64', 'float64']).columns.tolist()\n",
        "\n",
        "# Calculate mean and standard deviation for numeric columns\n",
        "means = cvd_df[numeric_cols].mean()\n",
        "stds = cvd_df[numeric_cols].std()\n",
        "\n",
        "# Define the number of standard deviations for the threshold\n",
        "threshold_std = 1\n",
        "\n",
        "# Identify outliers for numeric columns based on standard deviations\n",
        "outliers = ((cvd_df[numeric_cols] - means).abs() > threshold_std * stds).any(axis=1)\n",
        "\n",
        "# Filter rows where 'heart_disease' is 'No' and not an outlier\n",
        "filtered_rows = (~outliers) | (cvd_df['heart_disease'] == 'Yes')\n",
        "\n",
        "# Create the filtered DataFrame\n",
        "cvd_df_filtered = cvd_df[filtered_rows]\n",
        "\n",
        "# Check value counts of target variable\n",
        "cvd_df_filtered['heart_disease'].value_counts()"
      ],
      "metadata": {
        "colab": {
          "base_uri": "https://localhost:8080/"
        },
        "id": "dSpQSwZyRFDF",
        "outputId": "b6af2ec8-cad3-426e-e72b-54119e2e62ed"
      },
      "execution_count": null,
      "outputs": [
        {
          "output_type": "execute_result",
          "data": {
            "text/plain": [
              "No     55566\n",
              "Yes    24081\n",
              "Name: heart_disease, dtype: int64"
            ]
          },
          "metadata": {},
          "execution_count": 3
        }
      ]
    },
    {
      "cell_type": "code",
      "source": [
        "# Encode categorical columns using get_dummies\n",
        "encoded_df = pd.get_dummies(cvd_df_filtered, columns=categorical_cols, drop_first=False)\n",
        "\n",
        "# Scale numerical columns using StandardScaler\n",
        "scaler = StandardScaler()\n",
        "encoded_df[numeric_cols] = scaler.fit_transform(encoded_df[numeric_cols])\n",
        "encoded_df.head()"
      ],
      "metadata": {
        "colab": {
          "base_uri": "https://localhost:8080/",
          "height": 273
        },
        "id": "mOvFzz9XRd0W",
        "outputId": "015c8102-7e5f-4f4f-b16f-e2ee5e6190aa"
      },
      "execution_count": null,
      "outputs": [
        {
          "output_type": "execute_result",
          "data": {
            "text/plain": [
              "   height_cm  weight_kg       bmi  alcohol_consumption  fruit_consumption  \\\n",
              "1  -0.832260  -0.393566 -0.000590            -0.556508           0.413674   \n",
              "3   1.184427   0.704890  0.095604            -0.556508           0.413674   \n",
              "6   0.512198  -0.881918 -1.213951            -0.556508          -0.472114   \n",
              "8  -1.101152  -0.698954 -0.182048            -0.556508          -0.725196   \n",
              "9  -1.101152   0.583139  1.394228            -0.556508          -0.725196   \n",
              "\n",
              "   green_vegetables_consumption  friedpotato_consumption  \\\n",
              "1                     -1.250370                -0.166917   \n",
              "3                      1.515171                 0.547281   \n",
              "6                     -0.512893                -0.881115   \n",
              "8                     -0.144154                -0.166917   \n",
              "9                     -0.144154                -0.702566   \n",
              "\n",
              "   general_health_Excellent  general_health_Fair  general_health_Good  ...  \\\n",
              "1                         0                    0                    0  ...   \n",
              "3                         0                    0                    0  ...   \n",
              "6                         0                    1                    0  ...   \n",
              "8                         0                    1                    0  ...   \n",
              "9                         0                    1                    0  ...   \n",
              "\n",
              "   age_category_45-49  age_category_50-54  age_category_55-59  \\\n",
              "1                   0                   0                   0   \n",
              "3                   0                   0                   0   \n",
              "6                   0                   0                   0   \n",
              "8                   0                   0                   0   \n",
              "9                   0                   0                   0   \n",
              "\n",
              "   age_category_60-64  age_category_65-69  age_category_70-74  \\\n",
              "1                   0                   0                   1   \n",
              "3                   0                   0                   0   \n",
              "6                   1                   0                   0   \n",
              "8                   0                   1                   0   \n",
              "9                   0                   0                   1   \n",
              "\n",
              "   age_category_75-79  age_category_80+  smoking_history_No  \\\n",
              "1                   0                 0                   1   \n",
              "3                   1                 0                   1   \n",
              "6                   0                 0                   0   \n",
              "8                   0                 0                   0   \n",
              "9                   0                 0                   1   \n",
              "\n",
              "   smoking_history_Yes  \n",
              "1                    0  \n",
              "3                    0  \n",
              "6                    1  \n",
              "8                    1  \n",
              "9                    0  \n",
              "\n",
              "[5 rows x 48 columns]"
            ],
            "text/html": [
              "\n",
              "  <div id=\"df-97ed714a-1540-4916-a366-a5a28f62ba47\" class=\"colab-df-container\">\n",
              "    <div>\n",
              "<style scoped>\n",
              "    .dataframe tbody tr th:only-of-type {\n",
              "        vertical-align: middle;\n",
              "    }\n",
              "\n",
              "    .dataframe tbody tr th {\n",
              "        vertical-align: top;\n",
              "    }\n",
              "\n",
              "    .dataframe thead th {\n",
              "        text-align: right;\n",
              "    }\n",
              "</style>\n",
              "<table border=\"1\" class=\"dataframe\">\n",
              "  <thead>\n",
              "    <tr style=\"text-align: right;\">\n",
              "      <th></th>\n",
              "      <th>height_cm</th>\n",
              "      <th>weight_kg</th>\n",
              "      <th>bmi</th>\n",
              "      <th>alcohol_consumption</th>\n",
              "      <th>fruit_consumption</th>\n",
              "      <th>green_vegetables_consumption</th>\n",
              "      <th>friedpotato_consumption</th>\n",
              "      <th>general_health_Excellent</th>\n",
              "      <th>general_health_Fair</th>\n",
              "      <th>general_health_Good</th>\n",
              "      <th>...</th>\n",
              "      <th>age_category_45-49</th>\n",
              "      <th>age_category_50-54</th>\n",
              "      <th>age_category_55-59</th>\n",
              "      <th>age_category_60-64</th>\n",
              "      <th>age_category_65-69</th>\n",
              "      <th>age_category_70-74</th>\n",
              "      <th>age_category_75-79</th>\n",
              "      <th>age_category_80+</th>\n",
              "      <th>smoking_history_No</th>\n",
              "      <th>smoking_history_Yes</th>\n",
              "    </tr>\n",
              "  </thead>\n",
              "  <tbody>\n",
              "    <tr>\n",
              "      <th>1</th>\n",
              "      <td>-0.832260</td>\n",
              "      <td>-0.393566</td>\n",
              "      <td>-0.000590</td>\n",
              "      <td>-0.556508</td>\n",
              "      <td>0.413674</td>\n",
              "      <td>-1.250370</td>\n",
              "      <td>-0.166917</td>\n",
              "      <td>0</td>\n",
              "      <td>0</td>\n",
              "      <td>0</td>\n",
              "      <td>...</td>\n",
              "      <td>0</td>\n",
              "      <td>0</td>\n",
              "      <td>0</td>\n",
              "      <td>0</td>\n",
              "      <td>0</td>\n",
              "      <td>1</td>\n",
              "      <td>0</td>\n",
              "      <td>0</td>\n",
              "      <td>1</td>\n",
              "      <td>0</td>\n",
              "    </tr>\n",
              "    <tr>\n",
              "      <th>3</th>\n",
              "      <td>1.184427</td>\n",
              "      <td>0.704890</td>\n",
              "      <td>0.095604</td>\n",
              "      <td>-0.556508</td>\n",
              "      <td>0.413674</td>\n",
              "      <td>1.515171</td>\n",
              "      <td>0.547281</td>\n",
              "      <td>0</td>\n",
              "      <td>0</td>\n",
              "      <td>0</td>\n",
              "      <td>...</td>\n",
              "      <td>0</td>\n",
              "      <td>0</td>\n",
              "      <td>0</td>\n",
              "      <td>0</td>\n",
              "      <td>0</td>\n",
              "      <td>0</td>\n",
              "      <td>1</td>\n",
              "      <td>0</td>\n",
              "      <td>1</td>\n",
              "      <td>0</td>\n",
              "    </tr>\n",
              "    <tr>\n",
              "      <th>6</th>\n",
              "      <td>0.512198</td>\n",
              "      <td>-0.881918</td>\n",
              "      <td>-1.213951</td>\n",
              "      <td>-0.556508</td>\n",
              "      <td>-0.472114</td>\n",
              "      <td>-0.512893</td>\n",
              "      <td>-0.881115</td>\n",
              "      <td>0</td>\n",
              "      <td>1</td>\n",
              "      <td>0</td>\n",
              "      <td>...</td>\n",
              "      <td>0</td>\n",
              "      <td>0</td>\n",
              "      <td>0</td>\n",
              "      <td>1</td>\n",
              "      <td>0</td>\n",
              "      <td>0</td>\n",
              "      <td>0</td>\n",
              "      <td>0</td>\n",
              "      <td>0</td>\n",
              "      <td>1</td>\n",
              "    </tr>\n",
              "    <tr>\n",
              "      <th>8</th>\n",
              "      <td>-1.101152</td>\n",
              "      <td>-0.698954</td>\n",
              "      <td>-0.182048</td>\n",
              "      <td>-0.556508</td>\n",
              "      <td>-0.725196</td>\n",
              "      <td>-0.144154</td>\n",
              "      <td>-0.166917</td>\n",
              "      <td>0</td>\n",
              "      <td>1</td>\n",
              "      <td>0</td>\n",
              "      <td>...</td>\n",
              "      <td>0</td>\n",
              "      <td>0</td>\n",
              "      <td>0</td>\n",
              "      <td>0</td>\n",
              "      <td>1</td>\n",
              "      <td>0</td>\n",
              "      <td>0</td>\n",
              "      <td>0</td>\n",
              "      <td>0</td>\n",
              "      <td>1</td>\n",
              "    </tr>\n",
              "    <tr>\n",
              "      <th>9</th>\n",
              "      <td>-1.101152</td>\n",
              "      <td>0.583139</td>\n",
              "      <td>1.394228</td>\n",
              "      <td>-0.556508</td>\n",
              "      <td>-0.725196</td>\n",
              "      <td>-0.144154</td>\n",
              "      <td>-0.702566</td>\n",
              "      <td>0</td>\n",
              "      <td>1</td>\n",
              "      <td>0</td>\n",
              "      <td>...</td>\n",
              "      <td>0</td>\n",
              "      <td>0</td>\n",
              "      <td>0</td>\n",
              "      <td>0</td>\n",
              "      <td>0</td>\n",
              "      <td>1</td>\n",
              "      <td>0</td>\n",
              "      <td>0</td>\n",
              "      <td>1</td>\n",
              "      <td>0</td>\n",
              "    </tr>\n",
              "  </tbody>\n",
              "</table>\n",
              "<p>5 rows × 48 columns</p>\n",
              "</div>\n",
              "    <div class=\"colab-df-buttons\">\n",
              "\n",
              "  <div class=\"colab-df-container\">\n",
              "    <button class=\"colab-df-convert\" onclick=\"convertToInteractive('df-97ed714a-1540-4916-a366-a5a28f62ba47')\"\n",
              "            title=\"Convert this dataframe to an interactive table.\"\n",
              "            style=\"display:none;\">\n",
              "\n",
              "  <svg xmlns=\"http://www.w3.org/2000/svg\" height=\"24px\" viewBox=\"0 -960 960 960\">\n",
              "    <path d=\"M120-120v-720h720v720H120Zm60-500h600v-160H180v160Zm220 220h160v-160H400v160Zm0 220h160v-160H400v160ZM180-400h160v-160H180v160Zm440 0h160v-160H620v160ZM180-180h160v-160H180v160Zm440 0h160v-160H620v160Z\"/>\n",
              "  </svg>\n",
              "    </button>\n",
              "\n",
              "  <style>\n",
              "    .colab-df-container {\n",
              "      display:flex;\n",
              "      gap: 12px;\n",
              "    }\n",
              "\n",
              "    .colab-df-convert {\n",
              "      background-color: #E8F0FE;\n",
              "      border: none;\n",
              "      border-radius: 50%;\n",
              "      cursor: pointer;\n",
              "      display: none;\n",
              "      fill: #1967D2;\n",
              "      height: 32px;\n",
              "      padding: 0 0 0 0;\n",
              "      width: 32px;\n",
              "    }\n",
              "\n",
              "    .colab-df-convert:hover {\n",
              "      background-color: #E2EBFA;\n",
              "      box-shadow: 0px 1px 2px rgba(60, 64, 67, 0.3), 0px 1px 3px 1px rgba(60, 64, 67, 0.15);\n",
              "      fill: #174EA6;\n",
              "    }\n",
              "\n",
              "    .colab-df-buttons div {\n",
              "      margin-bottom: 4px;\n",
              "    }\n",
              "\n",
              "    [theme=dark] .colab-df-convert {\n",
              "      background-color: #3B4455;\n",
              "      fill: #D2E3FC;\n",
              "    }\n",
              "\n",
              "    [theme=dark] .colab-df-convert:hover {\n",
              "      background-color: #434B5C;\n",
              "      box-shadow: 0px 1px 3px 1px rgba(0, 0, 0, 0.15);\n",
              "      filter: drop-shadow(0px 1px 2px rgba(0, 0, 0, 0.3));\n",
              "      fill: #FFFFFF;\n",
              "    }\n",
              "  </style>\n",
              "\n",
              "    <script>\n",
              "      const buttonEl =\n",
              "        document.querySelector('#df-97ed714a-1540-4916-a366-a5a28f62ba47 button.colab-df-convert');\n",
              "      buttonEl.style.display =\n",
              "        google.colab.kernel.accessAllowed ? 'block' : 'none';\n",
              "\n",
              "      async function convertToInteractive(key) {\n",
              "        const element = document.querySelector('#df-97ed714a-1540-4916-a366-a5a28f62ba47');\n",
              "        const dataTable =\n",
              "          await google.colab.kernel.invokeFunction('convertToInteractive',\n",
              "                                                    [key], {});\n",
              "        if (!dataTable) return;\n",
              "\n",
              "        const docLinkHtml = 'Like what you see? Visit the ' +\n",
              "          '<a target=\"_blank\" href=https://colab.research.google.com/notebooks/data_table.ipynb>data table notebook</a>'\n",
              "          + ' to learn more about interactive tables.';\n",
              "        element.innerHTML = '';\n",
              "        dataTable['output_type'] = 'display_data';\n",
              "        await google.colab.output.renderOutput(dataTable, element);\n",
              "        const docLink = document.createElement('div');\n",
              "        docLink.innerHTML = docLinkHtml;\n",
              "        element.appendChild(docLink);\n",
              "      }\n",
              "    </script>\n",
              "  </div>\n",
              "\n",
              "\n",
              "<div id=\"df-f2586293-9988-4f84-8124-502677b9e8e7\">\n",
              "  <button class=\"colab-df-quickchart\" onclick=\"quickchart('df-f2586293-9988-4f84-8124-502677b9e8e7')\"\n",
              "            title=\"Suggest charts.\"\n",
              "            style=\"display:none;\">\n",
              "\n",
              "<svg xmlns=\"http://www.w3.org/2000/svg\" height=\"24px\"viewBox=\"0 0 24 24\"\n",
              "     width=\"24px\">\n",
              "    <g>\n",
              "        <path d=\"M19 3H5c-1.1 0-2 .9-2 2v14c0 1.1.9 2 2 2h14c1.1 0 2-.9 2-2V5c0-1.1-.9-2-2-2zM9 17H7v-7h2v7zm4 0h-2V7h2v10zm4 0h-2v-4h2v4z\"/>\n",
              "    </g>\n",
              "</svg>\n",
              "  </button>\n",
              "\n",
              "<style>\n",
              "  .colab-df-quickchart {\n",
              "      --bg-color: #E8F0FE;\n",
              "      --fill-color: #1967D2;\n",
              "      --hover-bg-color: #E2EBFA;\n",
              "      --hover-fill-color: #174EA6;\n",
              "      --disabled-fill-color: #AAA;\n",
              "      --disabled-bg-color: #DDD;\n",
              "  }\n",
              "\n",
              "  [theme=dark] .colab-df-quickchart {\n",
              "      --bg-color: #3B4455;\n",
              "      --fill-color: #D2E3FC;\n",
              "      --hover-bg-color: #434B5C;\n",
              "      --hover-fill-color: #FFFFFF;\n",
              "      --disabled-bg-color: #3B4455;\n",
              "      --disabled-fill-color: #666;\n",
              "  }\n",
              "\n",
              "  .colab-df-quickchart {\n",
              "    background-color: var(--bg-color);\n",
              "    border: none;\n",
              "    border-radius: 50%;\n",
              "    cursor: pointer;\n",
              "    display: none;\n",
              "    fill: var(--fill-color);\n",
              "    height: 32px;\n",
              "    padding: 0;\n",
              "    width: 32px;\n",
              "  }\n",
              "\n",
              "  .colab-df-quickchart:hover {\n",
              "    background-color: var(--hover-bg-color);\n",
              "    box-shadow: 0 1px 2px rgba(60, 64, 67, 0.3), 0 1px 3px 1px rgba(60, 64, 67, 0.15);\n",
              "    fill: var(--button-hover-fill-color);\n",
              "  }\n",
              "\n",
              "  .colab-df-quickchart-complete:disabled,\n",
              "  .colab-df-quickchart-complete:disabled:hover {\n",
              "    background-color: var(--disabled-bg-color);\n",
              "    fill: var(--disabled-fill-color);\n",
              "    box-shadow: none;\n",
              "  }\n",
              "\n",
              "  .colab-df-spinner {\n",
              "    border: 2px solid var(--fill-color);\n",
              "    border-color: transparent;\n",
              "    border-bottom-color: var(--fill-color);\n",
              "    animation:\n",
              "      spin 1s steps(1) infinite;\n",
              "  }\n",
              "\n",
              "  @keyframes spin {\n",
              "    0% {\n",
              "      border-color: transparent;\n",
              "      border-bottom-color: var(--fill-color);\n",
              "      border-left-color: var(--fill-color);\n",
              "    }\n",
              "    20% {\n",
              "      border-color: transparent;\n",
              "      border-left-color: var(--fill-color);\n",
              "      border-top-color: var(--fill-color);\n",
              "    }\n",
              "    30% {\n",
              "      border-color: transparent;\n",
              "      border-left-color: var(--fill-color);\n",
              "      border-top-color: var(--fill-color);\n",
              "      border-right-color: var(--fill-color);\n",
              "    }\n",
              "    40% {\n",
              "      border-color: transparent;\n",
              "      border-right-color: var(--fill-color);\n",
              "      border-top-color: var(--fill-color);\n",
              "    }\n",
              "    60% {\n",
              "      border-color: transparent;\n",
              "      border-right-color: var(--fill-color);\n",
              "    }\n",
              "    80% {\n",
              "      border-color: transparent;\n",
              "      border-right-color: var(--fill-color);\n",
              "      border-bottom-color: var(--fill-color);\n",
              "    }\n",
              "    90% {\n",
              "      border-color: transparent;\n",
              "      border-bottom-color: var(--fill-color);\n",
              "    }\n",
              "  }\n",
              "</style>\n",
              "\n",
              "  <script>\n",
              "    async function quickchart(key) {\n",
              "      const quickchartButtonEl =\n",
              "        document.querySelector('#' + key + ' button');\n",
              "      quickchartButtonEl.disabled = true;  // To prevent multiple clicks.\n",
              "      quickchartButtonEl.classList.add('colab-df-spinner');\n",
              "      try {\n",
              "        const charts = await google.colab.kernel.invokeFunction(\n",
              "            'suggestCharts', [key], {});\n",
              "      } catch (error) {\n",
              "        console.error('Error during call to suggestCharts:', error);\n",
              "      }\n",
              "      quickchartButtonEl.classList.remove('colab-df-spinner');\n",
              "      quickchartButtonEl.classList.add('colab-df-quickchart-complete');\n",
              "    }\n",
              "    (() => {\n",
              "      let quickchartButtonEl =\n",
              "        document.querySelector('#df-f2586293-9988-4f84-8124-502677b9e8e7 button');\n",
              "      quickchartButtonEl.style.display =\n",
              "        google.colab.kernel.accessAllowed ? 'block' : 'none';\n",
              "    })();\n",
              "  </script>\n",
              "</div>\n",
              "    </div>\n",
              "  </div>\n"
            ]
          },
          "metadata": {},
          "execution_count": 4
        }
      ]
    },
    {
      "cell_type": "code",
      "source": [
        "# Assign the target variable 'heart_disease' to y\n",
        "y = encoded_df['heart_disease_Yes']\n",
        "\n",
        "# Assign the remaining columns (features) to X\n",
        "X = encoded_df.drop(columns=['heart_disease_Yes', 'heart_disease_No'])\n",
        "\n",
        "# Split the preprocessed data into a training and testing dataset\n",
        "X_train, X_test, y_train, y_test = train_test_split(X, y, random_state=78)\n",
        "\n",
        "# Fit a random over sampler model to the training data to balance out the classes fully\n",
        "ROS = RandomOverSampler(random_state=78)\n",
        "X_train_resampled, y_train_resampled = ROS.fit_resample(X_train, y_train)\n",
        "\n",
        "# Check the value counts to ensure oversampling has worked\n",
        "y_train_resampled.value_counts()"
      ],
      "metadata": {
        "colab": {
          "base_uri": "https://localhost:8080/"
        },
        "id": "q557ITpCRnbE",
        "outputId": "edaa650c-548c-4c5e-87b8-34d28642edb8"
      },
      "execution_count": null,
      "outputs": [
        {
          "output_type": "execute_result",
          "data": {
            "text/plain": [
              "1    41653\n",
              "0    41653\n",
              "Name: heart_disease_Yes, dtype: int64"
            ]
          },
          "metadata": {},
          "execution_count": 5
        }
      ]
    },
    {
      "cell_type": "markdown",
      "source": [
        "# Model 1: Logistic Regression Optimisation"
      ],
      "metadata": {
        "id": "9BL0TJjWSu3s"
      }
    },
    {
      "cell_type": "markdown",
      "source": [
        "Hyperparameter tuning was considered for optimising the logistic regression model. The solver adopted in the initial model was called 'saga', this solver is known to work well with larger datasets. Two other solvers were considered for optimisation:\n",
        "\n",
        "*   lbfgs - this solver did not optimise the model as it is designed....\n",
        "*   sag - this solver was not used as it is an outdated version of saga and therefore, saga was more suited."
      ],
      "metadata": {
        "id": "EM5dpsPES27d"
      }
    },
    {
      "cell_type": "markdown",
      "source": [
        "# Model 2: Support Vector Machine Optimisation"
      ],
      "metadata": {
        "id": "8mrRZirKz3ZY"
      }
    },
    {
      "cell_type": "markdown",
      "source": [
        "The overall accuracy for the SVM model before optimisation was 79% and the model achieved a weighted precision of 81%. One way to attempt to optimise this model would be by altering it's kernal hyperparamer which may be better suited to our dataset structure."
      ],
      "metadata": {
        "id": "F8clfxVjUJuW"
      }
    },
    {
      "cell_type": "code",
      "source": [
        "# Initialise model and fit to the training data\n",
        "model = SVC(kernel='rbf')\n",
        "model.fit(X_train_resampled, y_train_resampled)"
      ],
      "metadata": {
        "id": "5GbWvDaxTzzD",
        "colab": {
          "base_uri": "https://localhost:8080/",
          "height": 75
        },
        "outputId": "80b79258-c4ce-4490-db1b-d679279a6413"
      },
      "execution_count": null,
      "outputs": [
        {
          "output_type": "execute_result",
          "data": {
            "text/plain": [
              "SVC()"
            ],
            "text/html": [
              "<style>#sk-container-id-1 {color: black;background-color: white;}#sk-container-id-1 pre{padding: 0;}#sk-container-id-1 div.sk-toggleable {background-color: white;}#sk-container-id-1 label.sk-toggleable__label {cursor: pointer;display: block;width: 100%;margin-bottom: 0;padding: 0.3em;box-sizing: border-box;text-align: center;}#sk-container-id-1 label.sk-toggleable__label-arrow:before {content: \"▸\";float: left;margin-right: 0.25em;color: #696969;}#sk-container-id-1 label.sk-toggleable__label-arrow:hover:before {color: black;}#sk-container-id-1 div.sk-estimator:hover label.sk-toggleable__label-arrow:before {color: black;}#sk-container-id-1 div.sk-toggleable__content {max-height: 0;max-width: 0;overflow: hidden;text-align: left;background-color: #f0f8ff;}#sk-container-id-1 div.sk-toggleable__content pre {margin: 0.2em;color: black;border-radius: 0.25em;background-color: #f0f8ff;}#sk-container-id-1 input.sk-toggleable__control:checked~div.sk-toggleable__content {max-height: 200px;max-width: 100%;overflow: auto;}#sk-container-id-1 input.sk-toggleable__control:checked~label.sk-toggleable__label-arrow:before {content: \"▾\";}#sk-container-id-1 div.sk-estimator input.sk-toggleable__control:checked~label.sk-toggleable__label {background-color: #d4ebff;}#sk-container-id-1 div.sk-label input.sk-toggleable__control:checked~label.sk-toggleable__label {background-color: #d4ebff;}#sk-container-id-1 input.sk-hidden--visually {border: 0;clip: rect(1px 1px 1px 1px);clip: rect(1px, 1px, 1px, 1px);height: 1px;margin: -1px;overflow: hidden;padding: 0;position: absolute;width: 1px;}#sk-container-id-1 div.sk-estimator {font-family: monospace;background-color: #f0f8ff;border: 1px dotted black;border-radius: 0.25em;box-sizing: border-box;margin-bottom: 0.5em;}#sk-container-id-1 div.sk-estimator:hover {background-color: #d4ebff;}#sk-container-id-1 div.sk-parallel-item::after {content: \"\";width: 100%;border-bottom: 1px solid gray;flex-grow: 1;}#sk-container-id-1 div.sk-label:hover label.sk-toggleable__label {background-color: #d4ebff;}#sk-container-id-1 div.sk-serial::before {content: \"\";position: absolute;border-left: 1px solid gray;box-sizing: border-box;top: 0;bottom: 0;left: 50%;z-index: 0;}#sk-container-id-1 div.sk-serial {display: flex;flex-direction: column;align-items: center;background-color: white;padding-right: 0.2em;padding-left: 0.2em;position: relative;}#sk-container-id-1 div.sk-item {position: relative;z-index: 1;}#sk-container-id-1 div.sk-parallel {display: flex;align-items: stretch;justify-content: center;background-color: white;position: relative;}#sk-container-id-1 div.sk-item::before, #sk-container-id-1 div.sk-parallel-item::before {content: \"\";position: absolute;border-left: 1px solid gray;box-sizing: border-box;top: 0;bottom: 0;left: 50%;z-index: -1;}#sk-container-id-1 div.sk-parallel-item {display: flex;flex-direction: column;z-index: 1;position: relative;background-color: white;}#sk-container-id-1 div.sk-parallel-item:first-child::after {align-self: flex-end;width: 50%;}#sk-container-id-1 div.sk-parallel-item:last-child::after {align-self: flex-start;width: 50%;}#sk-container-id-1 div.sk-parallel-item:only-child::after {width: 0;}#sk-container-id-1 div.sk-dashed-wrapped {border: 1px dashed gray;margin: 0 0.4em 0.5em 0.4em;box-sizing: border-box;padding-bottom: 0.4em;background-color: white;}#sk-container-id-1 div.sk-label label {font-family: monospace;font-weight: bold;display: inline-block;line-height: 1.2em;}#sk-container-id-1 div.sk-label-container {text-align: center;}#sk-container-id-1 div.sk-container {/* jupyter's `normalize.less` sets `[hidden] { display: none; }` but bootstrap.min.css set `[hidden] { display: none !important; }` so we also need the `!important` here to be able to override the default hidden behavior on the sphinx rendered scikit-learn.org. See: https://github.com/scikit-learn/scikit-learn/issues/21755 */display: inline-block !important;position: relative;}#sk-container-id-1 div.sk-text-repr-fallback {display: none;}</style><div id=\"sk-container-id-1\" class=\"sk-top-container\"><div class=\"sk-text-repr-fallback\"><pre>SVC()</pre><b>In a Jupyter environment, please rerun this cell to show the HTML representation or trust the notebook. <br />On GitHub, the HTML representation is unable to render, please try loading this page with nbviewer.org.</b></div><div class=\"sk-container\" hidden><div class=\"sk-item\"><div class=\"sk-estimator sk-toggleable\"><input class=\"sk-toggleable__control sk-hidden--visually\" id=\"sk-estimator-id-1\" type=\"checkbox\" checked><label for=\"sk-estimator-id-1\" class=\"sk-toggleable__label sk-toggleable__label-arrow\">SVC</label><div class=\"sk-toggleable__content\"><pre>SVC()</pre></div></div></div></div></div>"
            ]
          },
          "metadata": {},
          "execution_count": 6
        }
      ]
    },
    {
      "cell_type": "code",
      "source": [
        "# Validate with the test data\n",
        "model.score(X_test, y_test)"
      ],
      "metadata": {
        "id": "VWdv5vvpUM--",
        "colab": {
          "base_uri": "https://localhost:8080/"
        },
        "outputId": "f94011ce-8fea-4098-b1f7-c1dfea6e6cb1"
      },
      "execution_count": null,
      "outputs": [
        {
          "output_type": "execute_result",
          "data": {
            "text/plain": [
              "0.8918742466854158"
            ]
          },
          "metadata": {},
          "execution_count": 7
        }
      ]
    },
    {
      "cell_type": "code",
      "source": [
        "# Save model's predicitons for the test data\n",
        "training_predictions = model.predict(X_test)\n",
        "\n",
        "# Create a confusion matrix\n",
        "training_matrix = confusion_matrix(y_test, training_predictions)\n",
        "\n",
        "pd.DataFrame(training_matrix, index=[\"Actual 0\", \"Actual 1\"], columns=[\"Predicted 0\", \"Predicted 1\"])"
      ],
      "metadata": {
        "id": "aZlOaNRQUOzm",
        "colab": {
          "base_uri": "https://localhost:8080/",
          "height": 112
        },
        "outputId": "7e1407b1-7d0f-458f-e1d8-c7ae62abcba5"
      },
      "execution_count": null,
      "outputs": [
        {
          "output_type": "execute_result",
          "data": {
            "text/plain": [
              "          Predicted 0  Predicted 1\n",
              "Actual 0        12745         1168\n",
              "Actual 1          985         5014"
            ],
            "text/html": [
              "\n",
              "  <div id=\"df-c2810220-42aa-4836-9b6e-849385156861\" class=\"colab-df-container\">\n",
              "    <div>\n",
              "<style scoped>\n",
              "    .dataframe tbody tr th:only-of-type {\n",
              "        vertical-align: middle;\n",
              "    }\n",
              "\n",
              "    .dataframe tbody tr th {\n",
              "        vertical-align: top;\n",
              "    }\n",
              "\n",
              "    .dataframe thead th {\n",
              "        text-align: right;\n",
              "    }\n",
              "</style>\n",
              "<table border=\"1\" class=\"dataframe\">\n",
              "  <thead>\n",
              "    <tr style=\"text-align: right;\">\n",
              "      <th></th>\n",
              "      <th>Predicted 0</th>\n",
              "      <th>Predicted 1</th>\n",
              "    </tr>\n",
              "  </thead>\n",
              "  <tbody>\n",
              "    <tr>\n",
              "      <th>Actual 0</th>\n",
              "      <td>12745</td>\n",
              "      <td>1168</td>\n",
              "    </tr>\n",
              "    <tr>\n",
              "      <th>Actual 1</th>\n",
              "      <td>985</td>\n",
              "      <td>5014</td>\n",
              "    </tr>\n",
              "  </tbody>\n",
              "</table>\n",
              "</div>\n",
              "    <div class=\"colab-df-buttons\">\n",
              "\n",
              "  <div class=\"colab-df-container\">\n",
              "    <button class=\"colab-df-convert\" onclick=\"convertToInteractive('df-c2810220-42aa-4836-9b6e-849385156861')\"\n",
              "            title=\"Convert this dataframe to an interactive table.\"\n",
              "            style=\"display:none;\">\n",
              "\n",
              "  <svg xmlns=\"http://www.w3.org/2000/svg\" height=\"24px\" viewBox=\"0 -960 960 960\">\n",
              "    <path d=\"M120-120v-720h720v720H120Zm60-500h600v-160H180v160Zm220 220h160v-160H400v160Zm0 220h160v-160H400v160ZM180-400h160v-160H180v160Zm440 0h160v-160H620v160ZM180-180h160v-160H180v160Zm440 0h160v-160H620v160Z\"/>\n",
              "  </svg>\n",
              "    </button>\n",
              "\n",
              "  <style>\n",
              "    .colab-df-container {\n",
              "      display:flex;\n",
              "      gap: 12px;\n",
              "    }\n",
              "\n",
              "    .colab-df-convert {\n",
              "      background-color: #E8F0FE;\n",
              "      border: none;\n",
              "      border-radius: 50%;\n",
              "      cursor: pointer;\n",
              "      display: none;\n",
              "      fill: #1967D2;\n",
              "      height: 32px;\n",
              "      padding: 0 0 0 0;\n",
              "      width: 32px;\n",
              "    }\n",
              "\n",
              "    .colab-df-convert:hover {\n",
              "      background-color: #E2EBFA;\n",
              "      box-shadow: 0px 1px 2px rgba(60, 64, 67, 0.3), 0px 1px 3px 1px rgba(60, 64, 67, 0.15);\n",
              "      fill: #174EA6;\n",
              "    }\n",
              "\n",
              "    .colab-df-buttons div {\n",
              "      margin-bottom: 4px;\n",
              "    }\n",
              "\n",
              "    [theme=dark] .colab-df-convert {\n",
              "      background-color: #3B4455;\n",
              "      fill: #D2E3FC;\n",
              "    }\n",
              "\n",
              "    [theme=dark] .colab-df-convert:hover {\n",
              "      background-color: #434B5C;\n",
              "      box-shadow: 0px 1px 3px 1px rgba(0, 0, 0, 0.15);\n",
              "      filter: drop-shadow(0px 1px 2px rgba(0, 0, 0, 0.3));\n",
              "      fill: #FFFFFF;\n",
              "    }\n",
              "  </style>\n",
              "\n",
              "    <script>\n",
              "      const buttonEl =\n",
              "        document.querySelector('#df-c2810220-42aa-4836-9b6e-849385156861 button.colab-df-convert');\n",
              "      buttonEl.style.display =\n",
              "        google.colab.kernel.accessAllowed ? 'block' : 'none';\n",
              "\n",
              "      async function convertToInteractive(key) {\n",
              "        const element = document.querySelector('#df-c2810220-42aa-4836-9b6e-849385156861');\n",
              "        const dataTable =\n",
              "          await google.colab.kernel.invokeFunction('convertToInteractive',\n",
              "                                                    [key], {});\n",
              "        if (!dataTable) return;\n",
              "\n",
              "        const docLinkHtml = 'Like what you see? Visit the ' +\n",
              "          '<a target=\"_blank\" href=https://colab.research.google.com/notebooks/data_table.ipynb>data table notebook</a>'\n",
              "          + ' to learn more about interactive tables.';\n",
              "        element.innerHTML = '';\n",
              "        dataTable['output_type'] = 'display_data';\n",
              "        await google.colab.output.renderOutput(dataTable, element);\n",
              "        const docLink = document.createElement('div');\n",
              "        docLink.innerHTML = docLinkHtml;\n",
              "        element.appendChild(docLink);\n",
              "      }\n",
              "    </script>\n",
              "  </div>\n",
              "\n",
              "\n",
              "<div id=\"df-bb675339-2b52-417a-b3ea-47fbd7edffc2\">\n",
              "  <button class=\"colab-df-quickchart\" onclick=\"quickchart('df-bb675339-2b52-417a-b3ea-47fbd7edffc2')\"\n",
              "            title=\"Suggest charts.\"\n",
              "            style=\"display:none;\">\n",
              "\n",
              "<svg xmlns=\"http://www.w3.org/2000/svg\" height=\"24px\"viewBox=\"0 0 24 24\"\n",
              "     width=\"24px\">\n",
              "    <g>\n",
              "        <path d=\"M19 3H5c-1.1 0-2 .9-2 2v14c0 1.1.9 2 2 2h14c1.1 0 2-.9 2-2V5c0-1.1-.9-2-2-2zM9 17H7v-7h2v7zm4 0h-2V7h2v10zm4 0h-2v-4h2v4z\"/>\n",
              "    </g>\n",
              "</svg>\n",
              "  </button>\n",
              "\n",
              "<style>\n",
              "  .colab-df-quickchart {\n",
              "      --bg-color: #E8F0FE;\n",
              "      --fill-color: #1967D2;\n",
              "      --hover-bg-color: #E2EBFA;\n",
              "      --hover-fill-color: #174EA6;\n",
              "      --disabled-fill-color: #AAA;\n",
              "      --disabled-bg-color: #DDD;\n",
              "  }\n",
              "\n",
              "  [theme=dark] .colab-df-quickchart {\n",
              "      --bg-color: #3B4455;\n",
              "      --fill-color: #D2E3FC;\n",
              "      --hover-bg-color: #434B5C;\n",
              "      --hover-fill-color: #FFFFFF;\n",
              "      --disabled-bg-color: #3B4455;\n",
              "      --disabled-fill-color: #666;\n",
              "  }\n",
              "\n",
              "  .colab-df-quickchart {\n",
              "    background-color: var(--bg-color);\n",
              "    border: none;\n",
              "    border-radius: 50%;\n",
              "    cursor: pointer;\n",
              "    display: none;\n",
              "    fill: var(--fill-color);\n",
              "    height: 32px;\n",
              "    padding: 0;\n",
              "    width: 32px;\n",
              "  }\n",
              "\n",
              "  .colab-df-quickchart:hover {\n",
              "    background-color: var(--hover-bg-color);\n",
              "    box-shadow: 0 1px 2px rgba(60, 64, 67, 0.3), 0 1px 3px 1px rgba(60, 64, 67, 0.15);\n",
              "    fill: var(--button-hover-fill-color);\n",
              "  }\n",
              "\n",
              "  .colab-df-quickchart-complete:disabled,\n",
              "  .colab-df-quickchart-complete:disabled:hover {\n",
              "    background-color: var(--disabled-bg-color);\n",
              "    fill: var(--disabled-fill-color);\n",
              "    box-shadow: none;\n",
              "  }\n",
              "\n",
              "  .colab-df-spinner {\n",
              "    border: 2px solid var(--fill-color);\n",
              "    border-color: transparent;\n",
              "    border-bottom-color: var(--fill-color);\n",
              "    animation:\n",
              "      spin 1s steps(1) infinite;\n",
              "  }\n",
              "\n",
              "  @keyframes spin {\n",
              "    0% {\n",
              "      border-color: transparent;\n",
              "      border-bottom-color: var(--fill-color);\n",
              "      border-left-color: var(--fill-color);\n",
              "    }\n",
              "    20% {\n",
              "      border-color: transparent;\n",
              "      border-left-color: var(--fill-color);\n",
              "      border-top-color: var(--fill-color);\n",
              "    }\n",
              "    30% {\n",
              "      border-color: transparent;\n",
              "      border-left-color: var(--fill-color);\n",
              "      border-top-color: var(--fill-color);\n",
              "      border-right-color: var(--fill-color);\n",
              "    }\n",
              "    40% {\n",
              "      border-color: transparent;\n",
              "      border-right-color: var(--fill-color);\n",
              "      border-top-color: var(--fill-color);\n",
              "    }\n",
              "    60% {\n",
              "      border-color: transparent;\n",
              "      border-right-color: var(--fill-color);\n",
              "    }\n",
              "    80% {\n",
              "      border-color: transparent;\n",
              "      border-right-color: var(--fill-color);\n",
              "      border-bottom-color: var(--fill-color);\n",
              "    }\n",
              "    90% {\n",
              "      border-color: transparent;\n",
              "      border-bottom-color: var(--fill-color);\n",
              "    }\n",
              "  }\n",
              "</style>\n",
              "\n",
              "  <script>\n",
              "    async function quickchart(key) {\n",
              "      const quickchartButtonEl =\n",
              "        document.querySelector('#' + key + ' button');\n",
              "      quickchartButtonEl.disabled = true;  // To prevent multiple clicks.\n",
              "      quickchartButtonEl.classList.add('colab-df-spinner');\n",
              "      try {\n",
              "        const charts = await google.colab.kernel.invokeFunction(\n",
              "            'suggestCharts', [key], {});\n",
              "      } catch (error) {\n",
              "        console.error('Error during call to suggestCharts:', error);\n",
              "      }\n",
              "      quickchartButtonEl.classList.remove('colab-df-spinner');\n",
              "      quickchartButtonEl.classList.add('colab-df-quickchart-complete');\n",
              "    }\n",
              "    (() => {\n",
              "      let quickchartButtonEl =\n",
              "        document.querySelector('#df-bb675339-2b52-417a-b3ea-47fbd7edffc2 button');\n",
              "      quickchartButtonEl.style.display =\n",
              "        google.colab.kernel.accessAllowed ? 'block' : 'none';\n",
              "    })();\n",
              "  </script>\n",
              "</div>\n",
              "    </div>\n",
              "  </div>\n"
            ]
          },
          "metadata": {},
          "execution_count": 8
        }
      ]
    },
    {
      "cell_type": "markdown",
      "source": [
        "The findings from the above confusion matrix are very have shown that there are now much less false negative and false positive cases. This matrix has informed that our optimised SVM model has:\n",
        "*   Correctly predicted 1,900 more individuals who did not have heart disease than in the unoptimised model.\n",
        "*   Correctly predicted 186 more individuals who did have heart disease than in the unoptimised model.\n",
        "\n",
        "To showcase the reduction breakdown in false positives and false negatives\n",
        "*   186 less individuals who actually had heart disease were predicted as not having one in comparison with the unoptimised model.\n",
        "*   1,900 less individuals who did not actually have heart disease were predicted as having one in comparison with the unoptimised model.\n",
        "\n",
        "The model's ability to minimise false positives and false negatives has improved. It is also still the case that the model is more likely to predict someone who does not have heart disease as having one than the contary."
      ],
      "metadata": {
        "id": "j9w9W63nUR4a"
      }
    },
    {
      "cell_type": "code",
      "source": [
        "# Target prediciton categories\n",
        "target_names = [\"No Heart Disease\", \"Heart Disease\"]\n",
        "\n",
        "# Print a classification report\n",
        "print(classification_report(y_test, training_predictions,\n",
        "                            target_names=target_names))"
      ],
      "metadata": {
        "id": "MWxlmZaSUV2S",
        "colab": {
          "base_uri": "https://localhost:8080/"
        },
        "outputId": "495895b7-a304-44df-c122-429381b65d70"
      },
      "execution_count": null,
      "outputs": [
        {
          "output_type": "stream",
          "name": "stdout",
          "text": [
            "                  precision    recall  f1-score   support\n",
            "\n",
            "No Heart Disease       0.93      0.92      0.92     13913\n",
            "   Heart Disease       0.81      0.84      0.82      5999\n",
            "\n",
            "        accuracy                           0.89     19912\n",
            "       macro avg       0.87      0.88      0.87     19912\n",
            "    weighted avg       0.89      0.89      0.89     19912\n",
            "\n"
          ]
        }
      ]
    },
    {
      "cell_type": "markdown",
      "source": [
        "Precision represents the ratio of correctly predicted positive observaions to the total predicted positive observations:\n",
        "* The precision was 2% higher for No Heart Disease in comparison with the unoptimised model, suggesting that the false positive rate has reduced slightly\n",
        "* The precision was 20% for Heart Disease in comparison with the unoptimised model, suggesting that the false positive rate was higher for those with a heart disease\n",
        "\n",
        "Recall represents the ratio of positive obervations to all predicted observations of that class:\n",
        "* The recall was 14% higher for No Heart Disease in comparison with the unoptimised model, suggesting a significant improvement in the models ability to minimise false negative rates for those without a heart disease\n",
        "* The recall was 4% higher for Heart Disease in comparison with the unoptimised model, suggesting that the false negative rate has reduced further than in the initial model for those with a heart disease\n",
        "\n",
        "Considering the average of the precision and recall, the overall model has a f1 score has increased by 10% than our unoptimised model which shows the model has significantly imrpoved at avoiding false negatives and positives. This has provided assurance that with further tweaking (perhaps during preprocessing) there is potential or this model to become reliable."
      ],
      "metadata": {
        "id": "Nec60_BvUZx5"
      }
    },
    {
      "cell_type": "markdown",
      "source": [
        "# Model 3: Decision Tree Optimisation"
      ],
      "metadata": {
        "id": "oebtW6SiUfR6"
      }
    },
    {
      "cell_type": "markdown",
      "source": [
        "The **optimization** process in this case involved tuning the hyperparameters of the Decision Tree model to improve its performance on the test data. Here's how the optimization process occurred:\n",
        "\n",
        "*Manual Hyperparameter Tuning*:\n",
        "\n",
        "In the optimisation model, the **hyperparameters** max_depth, min_samples_split, and min_samples_leaf were explicitly set to specific values. This is known as manual hyperparameter tuning.\n",
        "By setting a maximum depth, the depth of the tree can be limited, which can help avoid overfitting. A tree that is too deep may memorize the CVD training data and perform poorly on new data.\n",
        "By setting minimum samples for splitting and leaf nodes, the granularity of the splits are controlled, preventing the tree from making very small and potentially noisy splits."
      ],
      "metadata": {
        "id": "bgPty_ICbfUs"
      }
    },
    {
      "cell_type": "code",
      "source": [
        "# Create a Decision Tree Classifier with custom hyperparameters\n",
        "clf = DecisionTreeClassifier(\n",
        "    random_state=42,\n",
        "    max_depth=10,\n",
        "    min_samples_split=2,\n",
        "    min_samples_leaf=1\n",
        ")"
      ],
      "metadata": {
        "id": "WDDymgZjWehl"
      },
      "execution_count": null,
      "outputs": []
    },
    {
      "cell_type": "code",
      "source": [
        "# Fit the model to the training data\n",
        "clf.fit(X_train_resampled, y_train_resampled)\n"
      ],
      "metadata": {
        "colab": {
          "base_uri": "https://localhost:8080/",
          "height": 75
        },
        "id": "MjWbRsuxWkDw",
        "outputId": "f48678d9-3c1b-42d4-ab60-0ee39728fa85"
      },
      "execution_count": null,
      "outputs": [
        {
          "output_type": "execute_result",
          "data": {
            "text/plain": [
              "DecisionTreeClassifier(max_depth=10, random_state=42)"
            ],
            "text/html": [
              "<style>#sk-container-id-2 {color: black;background-color: white;}#sk-container-id-2 pre{padding: 0;}#sk-container-id-2 div.sk-toggleable {background-color: white;}#sk-container-id-2 label.sk-toggleable__label {cursor: pointer;display: block;width: 100%;margin-bottom: 0;padding: 0.3em;box-sizing: border-box;text-align: center;}#sk-container-id-2 label.sk-toggleable__label-arrow:before {content: \"▸\";float: left;margin-right: 0.25em;color: #696969;}#sk-container-id-2 label.sk-toggleable__label-arrow:hover:before {color: black;}#sk-container-id-2 div.sk-estimator:hover label.sk-toggleable__label-arrow:before {color: black;}#sk-container-id-2 div.sk-toggleable__content {max-height: 0;max-width: 0;overflow: hidden;text-align: left;background-color: #f0f8ff;}#sk-container-id-2 div.sk-toggleable__content pre {margin: 0.2em;color: black;border-radius: 0.25em;background-color: #f0f8ff;}#sk-container-id-2 input.sk-toggleable__control:checked~div.sk-toggleable__content {max-height: 200px;max-width: 100%;overflow: auto;}#sk-container-id-2 input.sk-toggleable__control:checked~label.sk-toggleable__label-arrow:before {content: \"▾\";}#sk-container-id-2 div.sk-estimator input.sk-toggleable__control:checked~label.sk-toggleable__label {background-color: #d4ebff;}#sk-container-id-2 div.sk-label input.sk-toggleable__control:checked~label.sk-toggleable__label {background-color: #d4ebff;}#sk-container-id-2 input.sk-hidden--visually {border: 0;clip: rect(1px 1px 1px 1px);clip: rect(1px, 1px, 1px, 1px);height: 1px;margin: -1px;overflow: hidden;padding: 0;position: absolute;width: 1px;}#sk-container-id-2 div.sk-estimator {font-family: monospace;background-color: #f0f8ff;border: 1px dotted black;border-radius: 0.25em;box-sizing: border-box;margin-bottom: 0.5em;}#sk-container-id-2 div.sk-estimator:hover {background-color: #d4ebff;}#sk-container-id-2 div.sk-parallel-item::after {content: \"\";width: 100%;border-bottom: 1px solid gray;flex-grow: 1;}#sk-container-id-2 div.sk-label:hover label.sk-toggleable__label {background-color: #d4ebff;}#sk-container-id-2 div.sk-serial::before {content: \"\";position: absolute;border-left: 1px solid gray;box-sizing: border-box;top: 0;bottom: 0;left: 50%;z-index: 0;}#sk-container-id-2 div.sk-serial {display: flex;flex-direction: column;align-items: center;background-color: white;padding-right: 0.2em;padding-left: 0.2em;position: relative;}#sk-container-id-2 div.sk-item {position: relative;z-index: 1;}#sk-container-id-2 div.sk-parallel {display: flex;align-items: stretch;justify-content: center;background-color: white;position: relative;}#sk-container-id-2 div.sk-item::before, #sk-container-id-2 div.sk-parallel-item::before {content: \"\";position: absolute;border-left: 1px solid gray;box-sizing: border-box;top: 0;bottom: 0;left: 50%;z-index: -1;}#sk-container-id-2 div.sk-parallel-item {display: flex;flex-direction: column;z-index: 1;position: relative;background-color: white;}#sk-container-id-2 div.sk-parallel-item:first-child::after {align-self: flex-end;width: 50%;}#sk-container-id-2 div.sk-parallel-item:last-child::after {align-self: flex-start;width: 50%;}#sk-container-id-2 div.sk-parallel-item:only-child::after {width: 0;}#sk-container-id-2 div.sk-dashed-wrapped {border: 1px dashed gray;margin: 0 0.4em 0.5em 0.4em;box-sizing: border-box;padding-bottom: 0.4em;background-color: white;}#sk-container-id-2 div.sk-label label {font-family: monospace;font-weight: bold;display: inline-block;line-height: 1.2em;}#sk-container-id-2 div.sk-label-container {text-align: center;}#sk-container-id-2 div.sk-container {/* jupyter's `normalize.less` sets `[hidden] { display: none; }` but bootstrap.min.css set `[hidden] { display: none !important; }` so we also need the `!important` here to be able to override the default hidden behavior on the sphinx rendered scikit-learn.org. See: https://github.com/scikit-learn/scikit-learn/issues/21755 */display: inline-block !important;position: relative;}#sk-container-id-2 div.sk-text-repr-fallback {display: none;}</style><div id=\"sk-container-id-2\" class=\"sk-top-container\"><div class=\"sk-text-repr-fallback\"><pre>DecisionTreeClassifier(max_depth=10, random_state=42)</pre><b>In a Jupyter environment, please rerun this cell to show the HTML representation or trust the notebook. <br />On GitHub, the HTML representation is unable to render, please try loading this page with nbviewer.org.</b></div><div class=\"sk-container\" hidden><div class=\"sk-item\"><div class=\"sk-estimator sk-toggleable\"><input class=\"sk-toggleable__control sk-hidden--visually\" id=\"sk-estimator-id-2\" type=\"checkbox\" checked><label for=\"sk-estimator-id-2\" class=\"sk-toggleable__label sk-toggleable__label-arrow\">DecisionTreeClassifier</label><div class=\"sk-toggleable__content\"><pre>DecisionTreeClassifier(max_depth=10, random_state=42)</pre></div></div></div></div></div>"
            ]
          },
          "metadata": {},
          "execution_count": 11
        }
      ]
    },
    {
      "cell_type": "code",
      "source": [
        "# Predicting on the test data\n",
        "y_pred = clf.predict(X_test)"
      ],
      "metadata": {
        "id": "u_xW7ClJWnXw"
      },
      "execution_count": null,
      "outputs": []
    },
    {
      "cell_type": "code",
      "source": [
        "# Evaluate the model\n",
        "accuracy = accuracy_score(y_test, y_pred)\n",
        "conf_matrix = confusion_matrix(y_test, y_pred)\n",
        "class_report = classification_report(y_test, y_pred)"
      ],
      "metadata": {
        "id": "Drzv4vfPWq9M"
      },
      "execution_count": null,
      "outputs": []
    },
    {
      "cell_type": "markdown",
      "source": [
        "**Results:**\n",
        "\n",
        "The optimized model (second model) achieved a **higher accuracy** (92.84%) compared to the first model (89.35%).\n",
        "The optimized model also had excellent recall for class 0 (1.00) and a higher precision for class 1 (1.00), indicating it correctly predicted all instances of class 0 and improved precision for class 1."
      ],
      "metadata": {
        "id": "Wt4FG3x3bwB1"
      }
    },
    {
      "cell_type": "code",
      "source": [
        "# Print the results\n",
        "print(\"Accuracy:\", accuracy)\n",
        "print(\"Confusion Matrix:\\n\", conf_matrix)\n",
        "print(\"Classification Report:\\n\", class_report)"
      ],
      "metadata": {
        "colab": {
          "base_uri": "https://localhost:8080/"
        },
        "id": "jXuVlKdTWu9k",
        "outputId": "5b18eb39-9ea6-4694-d8b0-205ee6ab8510"
      },
      "execution_count": null,
      "outputs": [
        {
          "output_type": "stream",
          "name": "stdout",
          "text": [
            "Accuracy: 0.9283848935315387\n",
            "Confusion Matrix:\n",
            " [[13913     0]\n",
            " [ 1426  4573]]\n",
            "Classification Report:\n",
            "               precision    recall  f1-score   support\n",
            "\n",
            "           0       0.91      1.00      0.95     13913\n",
            "           1       1.00      0.76      0.87      5999\n",
            "\n",
            "    accuracy                           0.93     19912\n",
            "   macro avg       0.95      0.88      0.91     19912\n",
            "weighted avg       0.94      0.93      0.93     19912\n",
            "\n"
          ]
        }
      ]
    },
    {
      "cell_type": "markdown",
      "source": [
        "# Model 4: Random Forest Optimisation"
      ],
      "metadata": {
        "id": "1g69Qd7eUj5y"
      }
    },
    {
      "cell_type": "markdown",
      "source": [
        "Distribution of hyperparameters was defined in the param_dist dictionary. These hyperparameters include:\n",
        "\n",
        "n_estimators: The number of trees in the forest (100, 200, or 300).\n",
        "\n",
        "max_depth: The maximum depth of each tree (None, 10, 20, or 30).\n",
        "\n",
        "min_samples_split: The minimum number of samples required to split a node (2, 5, or 10).\n",
        "\n",
        "min_samples_leaf: The minimum number of samples required to be a leaf node (1, 2, or 4).\n",
        "\n",
        "max_features: The number of features to consider for the best split ('auto,' 'sqrt,' or 'log2')."
      ],
      "metadata": {
        "id": "axBuWxSwb-58"
      }
    },
    {
      "cell_type": "code",
      "execution_count": null,
      "metadata": {
        "id": "AVF8Sb6MASzQ"
      },
      "outputs": [],
      "source": [
        "# Create a Random Forest Classifier\n",
        "rf_classifier = RandomForestClassifier(random_state=42)\n"
      ]
    },
    {
      "cell_type": "code",
      "source": [
        "# Define a distribution of hyperparameters for RandomizedSearchCV\n",
        "param_dist = {\n",
        "    'n_estimators': [100, 200, 300],          # Number of trees in the forest\n",
        "    'max_depth': [None, 10, 20, 30],         # Maximum depth of each tree\n",
        "    'min_samples_split': [2, 5, 10],        # Minimum samples required to split a node\n",
        "    'min_samples_leaf': [1, 2, 4],          # Minimum samples required to be a leaf node\n",
        "    'max_features': ['auto', 'sqrt', 'log2'] # Number of features to consider for the best split\n",
        "}"
      ],
      "metadata": {
        "id": "jwESEFrUW6gm"
      },
      "execution_count": null,
      "outputs": []
    },
    {
      "cell_type": "markdown",
      "source": [
        "A RandomizedSearchCV object named random_search to search for the best hyperparameters using random sampling. This process involves:\n",
        "\n",
        "Using cross-validation (cv=5) to evaluate the model's performance.\n",
        "Specifying the number of iterations (n_iter=10) to randomly sample hyperparameters.\n",
        "Setting n_jobs=-1 to utilize all available CPU cores for parallel processing.\n",
        "Defining scoring='accuracy' as the evaluation metric.\n",
        "Setting a random state (random_state=42) for reproducibility."
      ],
      "metadata": {
        "id": "Y4BrO36tcN6Q"
      }
    },
    {
      "cell_type": "code",
      "source": [
        "# Create RandomizedSearchCV to search for the best hyperparameters\n",
        "random_search = RandomizedSearchCV(estimator=rf_classifier, param_distributions=param_dist, n_iter=10, cv=5, n_jobs=-1, verbose=2, scoring='accuracy', random_state=42)\n"
      ],
      "metadata": {
        "id": "bnXyH2hzW9Fy"
      },
      "execution_count": null,
      "outputs": []
    },
    {
      "cell_type": "code",
      "source": [
        "# Fit the model to the training data while searching for the best hyperparameters\n",
        "random_search.fit(X_train_resampled, y_train_resampled)\n"
      ],
      "metadata": {
        "colab": {
          "base_uri": "https://localhost:8080/",
          "height": 190
        },
        "id": "u49Q0uVJXAhq",
        "outputId": "77a84453-d535-4589-fca8-2221a7ef2b84"
      },
      "execution_count": null,
      "outputs": [
        {
          "output_type": "stream",
          "name": "stdout",
          "text": [
            "Fitting 5 folds for each of 10 candidates, totalling 50 fits\n"
          ]
        },
        {
          "output_type": "stream",
          "name": "stderr",
          "text": [
            "/usr/local/lib/python3.10/dist-packages/sklearn/ensemble/_forest.py:424: FutureWarning: `max_features='auto'` has been deprecated in 1.1 and will be removed in 1.3. To keep the past behaviour, explicitly set `max_features='sqrt'` or remove this parameter as it is also the default value for RandomForestClassifiers and ExtraTreesClassifiers.\n",
            "  warn(\n"
          ]
        },
        {
          "output_type": "execute_result",
          "data": {
            "text/plain": [
              "RandomizedSearchCV(cv=5, estimator=RandomForestClassifier(random_state=42),\n",
              "                   n_jobs=-1,\n",
              "                   param_distributions={'max_depth': [None, 10, 20, 30],\n",
              "                                        'max_features': ['auto', 'sqrt',\n",
              "                                                         'log2'],\n",
              "                                        'min_samples_leaf': [1, 2, 4],\n",
              "                                        'min_samples_split': [2, 5, 10],\n",
              "                                        'n_estimators': [100, 200, 300]},\n",
              "                   random_state=42, scoring='accuracy', verbose=2)"
            ],
            "text/html": [
              "<style>#sk-container-id-3 {color: black;background-color: white;}#sk-container-id-3 pre{padding: 0;}#sk-container-id-3 div.sk-toggleable {background-color: white;}#sk-container-id-3 label.sk-toggleable__label {cursor: pointer;display: block;width: 100%;margin-bottom: 0;padding: 0.3em;box-sizing: border-box;text-align: center;}#sk-container-id-3 label.sk-toggleable__label-arrow:before {content: \"▸\";float: left;margin-right: 0.25em;color: #696969;}#sk-container-id-3 label.sk-toggleable__label-arrow:hover:before {color: black;}#sk-container-id-3 div.sk-estimator:hover label.sk-toggleable__label-arrow:before {color: black;}#sk-container-id-3 div.sk-toggleable__content {max-height: 0;max-width: 0;overflow: hidden;text-align: left;background-color: #f0f8ff;}#sk-container-id-3 div.sk-toggleable__content pre {margin: 0.2em;color: black;border-radius: 0.25em;background-color: #f0f8ff;}#sk-container-id-3 input.sk-toggleable__control:checked~div.sk-toggleable__content {max-height: 200px;max-width: 100%;overflow: auto;}#sk-container-id-3 input.sk-toggleable__control:checked~label.sk-toggleable__label-arrow:before {content: \"▾\";}#sk-container-id-3 div.sk-estimator input.sk-toggleable__control:checked~label.sk-toggleable__label {background-color: #d4ebff;}#sk-container-id-3 div.sk-label input.sk-toggleable__control:checked~label.sk-toggleable__label {background-color: #d4ebff;}#sk-container-id-3 input.sk-hidden--visually {border: 0;clip: rect(1px 1px 1px 1px);clip: rect(1px, 1px, 1px, 1px);height: 1px;margin: -1px;overflow: hidden;padding: 0;position: absolute;width: 1px;}#sk-container-id-3 div.sk-estimator {font-family: monospace;background-color: #f0f8ff;border: 1px dotted black;border-radius: 0.25em;box-sizing: border-box;margin-bottom: 0.5em;}#sk-container-id-3 div.sk-estimator:hover {background-color: #d4ebff;}#sk-container-id-3 div.sk-parallel-item::after {content: \"\";width: 100%;border-bottom: 1px solid gray;flex-grow: 1;}#sk-container-id-3 div.sk-label:hover label.sk-toggleable__label {background-color: #d4ebff;}#sk-container-id-3 div.sk-serial::before {content: \"\";position: absolute;border-left: 1px solid gray;box-sizing: border-box;top: 0;bottom: 0;left: 50%;z-index: 0;}#sk-container-id-3 div.sk-serial {display: flex;flex-direction: column;align-items: center;background-color: white;padding-right: 0.2em;padding-left: 0.2em;position: relative;}#sk-container-id-3 div.sk-item {position: relative;z-index: 1;}#sk-container-id-3 div.sk-parallel {display: flex;align-items: stretch;justify-content: center;background-color: white;position: relative;}#sk-container-id-3 div.sk-item::before, #sk-container-id-3 div.sk-parallel-item::before {content: \"\";position: absolute;border-left: 1px solid gray;box-sizing: border-box;top: 0;bottom: 0;left: 50%;z-index: -1;}#sk-container-id-3 div.sk-parallel-item {display: flex;flex-direction: column;z-index: 1;position: relative;background-color: white;}#sk-container-id-3 div.sk-parallel-item:first-child::after {align-self: flex-end;width: 50%;}#sk-container-id-3 div.sk-parallel-item:last-child::after {align-self: flex-start;width: 50%;}#sk-container-id-3 div.sk-parallel-item:only-child::after {width: 0;}#sk-container-id-3 div.sk-dashed-wrapped {border: 1px dashed gray;margin: 0 0.4em 0.5em 0.4em;box-sizing: border-box;padding-bottom: 0.4em;background-color: white;}#sk-container-id-3 div.sk-label label {font-family: monospace;font-weight: bold;display: inline-block;line-height: 1.2em;}#sk-container-id-3 div.sk-label-container {text-align: center;}#sk-container-id-3 div.sk-container {/* jupyter's `normalize.less` sets `[hidden] { display: none; }` but bootstrap.min.css set `[hidden] { display: none !important; }` so we also need the `!important` here to be able to override the default hidden behavior on the sphinx rendered scikit-learn.org. See: https://github.com/scikit-learn/scikit-learn/issues/21755 */display: inline-block !important;position: relative;}#sk-container-id-3 div.sk-text-repr-fallback {display: none;}</style><div id=\"sk-container-id-3\" class=\"sk-top-container\"><div class=\"sk-text-repr-fallback\"><pre>RandomizedSearchCV(cv=5, estimator=RandomForestClassifier(random_state=42),\n",
              "                   n_jobs=-1,\n",
              "                   param_distributions={&#x27;max_depth&#x27;: [None, 10, 20, 30],\n",
              "                                        &#x27;max_features&#x27;: [&#x27;auto&#x27;, &#x27;sqrt&#x27;,\n",
              "                                                         &#x27;log2&#x27;],\n",
              "                                        &#x27;min_samples_leaf&#x27;: [1, 2, 4],\n",
              "                                        &#x27;min_samples_split&#x27;: [2, 5, 10],\n",
              "                                        &#x27;n_estimators&#x27;: [100, 200, 300]},\n",
              "                   random_state=42, scoring=&#x27;accuracy&#x27;, verbose=2)</pre><b>In a Jupyter environment, please rerun this cell to show the HTML representation or trust the notebook. <br />On GitHub, the HTML representation is unable to render, please try loading this page with nbviewer.org.</b></div><div class=\"sk-container\" hidden><div class=\"sk-item sk-dashed-wrapped\"><div class=\"sk-label-container\"><div class=\"sk-label sk-toggleable\"><input class=\"sk-toggleable__control sk-hidden--visually\" id=\"sk-estimator-id-3\" type=\"checkbox\" ><label for=\"sk-estimator-id-3\" class=\"sk-toggleable__label sk-toggleable__label-arrow\">RandomizedSearchCV</label><div class=\"sk-toggleable__content\"><pre>RandomizedSearchCV(cv=5, estimator=RandomForestClassifier(random_state=42),\n",
              "                   n_jobs=-1,\n",
              "                   param_distributions={&#x27;max_depth&#x27;: [None, 10, 20, 30],\n",
              "                                        &#x27;max_features&#x27;: [&#x27;auto&#x27;, &#x27;sqrt&#x27;,\n",
              "                                                         &#x27;log2&#x27;],\n",
              "                                        &#x27;min_samples_leaf&#x27;: [1, 2, 4],\n",
              "                                        &#x27;min_samples_split&#x27;: [2, 5, 10],\n",
              "                                        &#x27;n_estimators&#x27;: [100, 200, 300]},\n",
              "                   random_state=42, scoring=&#x27;accuracy&#x27;, verbose=2)</pre></div></div></div><div class=\"sk-parallel\"><div class=\"sk-parallel-item\"><div class=\"sk-item\"><div class=\"sk-label-container\"><div class=\"sk-label sk-toggleable\"><input class=\"sk-toggleable__control sk-hidden--visually\" id=\"sk-estimator-id-4\" type=\"checkbox\" ><label for=\"sk-estimator-id-4\" class=\"sk-toggleable__label sk-toggleable__label-arrow\">estimator: RandomForestClassifier</label><div class=\"sk-toggleable__content\"><pre>RandomForestClassifier(random_state=42)</pre></div></div></div><div class=\"sk-serial\"><div class=\"sk-item\"><div class=\"sk-estimator sk-toggleable\"><input class=\"sk-toggleable__control sk-hidden--visually\" id=\"sk-estimator-id-5\" type=\"checkbox\" ><label for=\"sk-estimator-id-5\" class=\"sk-toggleable__label sk-toggleable__label-arrow\">RandomForestClassifier</label><div class=\"sk-toggleable__content\"><pre>RandomForestClassifier(random_state=42)</pre></div></div></div></div></div></div></div></div></div></div>"
            ]
          },
          "metadata": {},
          "execution_count": 18
        }
      ]
    },
    {
      "cell_type": "markdown",
      "source": [
        "The final Random Forest model (final_rf_classifier) using the best hyperparameters obtained from the search was created.\n",
        "\n"
      ],
      "metadata": {
        "id": "-KPQztBWcS7B"
      }
    },
    {
      "cell_type": "code",
      "source": [
        "# Get the best hyperparameters\n",
        "best_params = random_search.best_params_"
      ],
      "metadata": {
        "id": "ANp27srDXDDt"
      },
      "execution_count": null,
      "outputs": []
    },
    {
      "cell_type": "code",
      "source": [
        "# Use the best hyperparameters to create the final Random Forest model\n",
        "final_rf_classifier = RandomForestClassifier(random_state=42, **best_params)\n"
      ],
      "metadata": {
        "id": "4XGEKx_8XGwP"
      },
      "execution_count": null,
      "outputs": []
    },
    {
      "cell_type": "code",
      "source": [
        "# Fit the final model to the training data\n",
        "final_rf_classifier.fit(X_train_resampled, y_train_resampled)"
      ],
      "metadata": {
        "colab": {
          "base_uri": "https://localhost:8080/",
          "height": 129
        },
        "id": "A4GzpBdsXIwY",
        "outputId": "4aaa14ff-c8ac-4ab6-86a2-687e4b1f42ef"
      },
      "execution_count": null,
      "outputs": [
        {
          "output_type": "stream",
          "name": "stderr",
          "text": [
            "/usr/local/lib/python3.10/dist-packages/sklearn/ensemble/_forest.py:424: FutureWarning: `max_features='auto'` has been deprecated in 1.1 and will be removed in 1.3. To keep the past behaviour, explicitly set `max_features='sqrt'` or remove this parameter as it is also the default value for RandomForestClassifiers and ExtraTreesClassifiers.\n",
            "  warn(\n"
          ]
        },
        {
          "output_type": "execute_result",
          "data": {
            "text/plain": [
              "RandomForestClassifier(max_features='auto', min_samples_leaf=2, random_state=42)"
            ],
            "text/html": [
              "<style>#sk-container-id-4 {color: black;background-color: white;}#sk-container-id-4 pre{padding: 0;}#sk-container-id-4 div.sk-toggleable {background-color: white;}#sk-container-id-4 label.sk-toggleable__label {cursor: pointer;display: block;width: 100%;margin-bottom: 0;padding: 0.3em;box-sizing: border-box;text-align: center;}#sk-container-id-4 label.sk-toggleable__label-arrow:before {content: \"▸\";float: left;margin-right: 0.25em;color: #696969;}#sk-container-id-4 label.sk-toggleable__label-arrow:hover:before {color: black;}#sk-container-id-4 div.sk-estimator:hover label.sk-toggleable__label-arrow:before {color: black;}#sk-container-id-4 div.sk-toggleable__content {max-height: 0;max-width: 0;overflow: hidden;text-align: left;background-color: #f0f8ff;}#sk-container-id-4 div.sk-toggleable__content pre {margin: 0.2em;color: black;border-radius: 0.25em;background-color: #f0f8ff;}#sk-container-id-4 input.sk-toggleable__control:checked~div.sk-toggleable__content {max-height: 200px;max-width: 100%;overflow: auto;}#sk-container-id-4 input.sk-toggleable__control:checked~label.sk-toggleable__label-arrow:before {content: \"▾\";}#sk-container-id-4 div.sk-estimator input.sk-toggleable__control:checked~label.sk-toggleable__label {background-color: #d4ebff;}#sk-container-id-4 div.sk-label input.sk-toggleable__control:checked~label.sk-toggleable__label {background-color: #d4ebff;}#sk-container-id-4 input.sk-hidden--visually {border: 0;clip: rect(1px 1px 1px 1px);clip: rect(1px, 1px, 1px, 1px);height: 1px;margin: -1px;overflow: hidden;padding: 0;position: absolute;width: 1px;}#sk-container-id-4 div.sk-estimator {font-family: monospace;background-color: #f0f8ff;border: 1px dotted black;border-radius: 0.25em;box-sizing: border-box;margin-bottom: 0.5em;}#sk-container-id-4 div.sk-estimator:hover {background-color: #d4ebff;}#sk-container-id-4 div.sk-parallel-item::after {content: \"\";width: 100%;border-bottom: 1px solid gray;flex-grow: 1;}#sk-container-id-4 div.sk-label:hover label.sk-toggleable__label {background-color: #d4ebff;}#sk-container-id-4 div.sk-serial::before {content: \"\";position: absolute;border-left: 1px solid gray;box-sizing: border-box;top: 0;bottom: 0;left: 50%;z-index: 0;}#sk-container-id-4 div.sk-serial {display: flex;flex-direction: column;align-items: center;background-color: white;padding-right: 0.2em;padding-left: 0.2em;position: relative;}#sk-container-id-4 div.sk-item {position: relative;z-index: 1;}#sk-container-id-4 div.sk-parallel {display: flex;align-items: stretch;justify-content: center;background-color: white;position: relative;}#sk-container-id-4 div.sk-item::before, #sk-container-id-4 div.sk-parallel-item::before {content: \"\";position: absolute;border-left: 1px solid gray;box-sizing: border-box;top: 0;bottom: 0;left: 50%;z-index: -1;}#sk-container-id-4 div.sk-parallel-item {display: flex;flex-direction: column;z-index: 1;position: relative;background-color: white;}#sk-container-id-4 div.sk-parallel-item:first-child::after {align-self: flex-end;width: 50%;}#sk-container-id-4 div.sk-parallel-item:last-child::after {align-self: flex-start;width: 50%;}#sk-container-id-4 div.sk-parallel-item:only-child::after {width: 0;}#sk-container-id-4 div.sk-dashed-wrapped {border: 1px dashed gray;margin: 0 0.4em 0.5em 0.4em;box-sizing: border-box;padding-bottom: 0.4em;background-color: white;}#sk-container-id-4 div.sk-label label {font-family: monospace;font-weight: bold;display: inline-block;line-height: 1.2em;}#sk-container-id-4 div.sk-label-container {text-align: center;}#sk-container-id-4 div.sk-container {/* jupyter's `normalize.less` sets `[hidden] { display: none; }` but bootstrap.min.css set `[hidden] { display: none !important; }` so we also need the `!important` here to be able to override the default hidden behavior on the sphinx rendered scikit-learn.org. See: https://github.com/scikit-learn/scikit-learn/issues/21755 */display: inline-block !important;position: relative;}#sk-container-id-4 div.sk-text-repr-fallback {display: none;}</style><div id=\"sk-container-id-4\" class=\"sk-top-container\"><div class=\"sk-text-repr-fallback\"><pre>RandomForestClassifier(max_features=&#x27;auto&#x27;, min_samples_leaf=2, random_state=42)</pre><b>In a Jupyter environment, please rerun this cell to show the HTML representation or trust the notebook. <br />On GitHub, the HTML representation is unable to render, please try loading this page with nbviewer.org.</b></div><div class=\"sk-container\" hidden><div class=\"sk-item\"><div class=\"sk-estimator sk-toggleable\"><input class=\"sk-toggleable__control sk-hidden--visually\" id=\"sk-estimator-id-6\" type=\"checkbox\" checked><label for=\"sk-estimator-id-6\" class=\"sk-toggleable__label sk-toggleable__label-arrow\">RandomForestClassifier</label><div class=\"sk-toggleable__content\"><pre>RandomForestClassifier(max_features=&#x27;auto&#x27;, min_samples_leaf=2, random_state=42)</pre></div></div></div></div></div>"
            ]
          },
          "metadata": {},
          "execution_count": 21
        }
      ]
    },
    {
      "cell_type": "code",
      "source": [
        "# Predicting on the test data using the final model\n",
        "y_pred = final_rf_classifier.predict(X_test)"
      ],
      "metadata": {
        "id": "KOCn3ecyXL3E"
      },
      "execution_count": null,
      "outputs": []
    },
    {
      "cell_type": "code",
      "source": [
        "# Evaluate the final model\n",
        "accuracy = accuracy_score(y_test, y_pred)\n",
        "class_report = classification_report(y_test, y_pred)"
      ],
      "metadata": {
        "id": "ivoCqztIXOlp"
      },
      "execution_count": null,
      "outputs": []
    },
    {
      "cell_type": "markdown",
      "source": [
        "The accuracy of the optimized Random Forest Classifier is approximately 92.64%. This indicates that the model correctly predicted the class labels for about 92.64% of the samples in the test dataset.\n",
        "\n",
        "**Classification Report**:\n",
        "\n",
        "The classification report provides additional performance metrics beyond accuracy:\n",
        "\n",
        "Precision measures the proportion of true positive predictions out of all positive predictions. For class 0, precision is 0.93, and for class 1, it's 0.92. This indicates that the model has a high precision for both classes, meaning it makes relatively few false positive errors.\n",
        "\n",
        "Recall (or sensitivity) measures the proportion of true positive predictions out of all actual positives. For class 0, recall is 0.97, and for class 1, it's 0.83. This suggests that the model is better at identifying true negatives (class 0) than true positives (class 1).\n",
        "\n",
        "F1-score is the harmonic mean of precision and recall. It provides a balance between precision and recall. For class 0, the F1-score is 0.95, and for class 1, it's 0.87. A high F1-score indicates a good balance between precision and recall.\n",
        "\n",
        "Support indicates the number of samples in each class.\n",
        "\n",
        "Macro Avg and Weighted Avg:\n",
        "\n",
        "The macro average (macro avg) computes the average of metrics across both classes without considering class imbalance. In this case, the macro avg F1-score is approximately 0.91.\n",
        "The weighted average (weighted avg) computes the average of metrics, weighted by the number of samples in each class. This accounts for class imbalance, and the weighted avg F1-score is also approximately 0.93."
      ],
      "metadata": {
        "id": "-HQycTkuccOT"
      }
    },
    {
      "cell_type": "code",
      "source": [
        "# Print the results\n",
        "print(\"Best Hyperparameters:\", best_params)\n",
        "print(\"Accuracy:\", accuracy)\n",
        "print(\"Classification Report:\\n\", class_report)"
      ],
      "metadata": {
        "colab": {
          "base_uri": "https://localhost:8080/"
        },
        "id": "HIUppyHCXQ6E",
        "outputId": "537087be-92fa-4b22-d72f-5769117ed383"
      },
      "execution_count": null,
      "outputs": [
        {
          "output_type": "stream",
          "name": "stdout",
          "text": [
            "Best Hyperparameters: {'n_estimators': 100, 'min_samples_split': 2, 'min_samples_leaf': 2, 'max_features': 'auto', 'max_depth': None}\n",
            "Accuracy: 0.9264262756126959\n",
            "Classification Report:\n",
            "               precision    recall  f1-score   support\n",
            "\n",
            "           0       0.93      0.97      0.95     13913\n",
            "           1       0.92      0.83      0.87      5999\n",
            "\n",
            "    accuracy                           0.93     19912\n",
            "   macro avg       0.92      0.90      0.91     19912\n",
            "weighted avg       0.93      0.93      0.93     19912\n",
            "\n"
          ]
        }
      ]
    },
    {
      "cell_type": "markdown",
      "source": [
        "# Model 5: Neural Network Optimisation"
      ],
      "metadata": {
        "id": "SrRCqHYjUmdi"
      }
    },
    {
      "cell_type": "markdown",
      "source": [
        "### Optimisation 1"
      ],
      "metadata": {
        "id": "tJWCGkIPcbXK"
      }
    },
    {
      "cell_type": "code",
      "source": [
        "# Create a method that creates a new Sequential model with hyperparameter options\n",
        "def create_model(hp):\n",
        "    nn = tf.keras.models.Sequential()\n",
        "    number_input_features = X_train_resampled.shape[1]\n",
        "    # Allow kerastuner to decide which activation function to use in hidden layers\n",
        "    activation = hp.Choice('activation',['relu','tanh'])\n",
        "    # Allow kerastuner to decide number of neurons in first layer\n",
        "    nn.add(tf.keras.layers.Dense(units=hp.Int('first_units',\n",
        "        min_value=1,\n",
        "        max_value=30,\n",
        "        step=5), activation=activation, input_dim=number_input_features))\n",
        "    # Allow kerastuner to decide number of hidden layers and neurons in hidden layers\n",
        "    for i in range(hp.Int('num_layers', 1, 5)):\n",
        "        nn.add(tf.keras.layers.Dense(units=hp.Int('units_' + str(i),\n",
        "            min_value=1,\n",
        "            max_value=30,\n",
        "            step=5),\n",
        "            activation=activation))\n",
        "\n",
        "    nn.add(tf.keras.layers.Dense(units=1, activation=\"sigmoid\"))\n",
        "    # Compile the model\n",
        "    nn.compile(loss=\"binary_crossentropy\", optimizer='adam', metrics=[\"accuracy\"])\n",
        "\n",
        "    return nn"
      ],
      "metadata": {
        "id": "cojSBNPcR0eF"
      },
      "execution_count": null,
      "outputs": []
    },
    {
      "cell_type": "code",
      "source": [
        "# Create a `Hyperband()` tuner instance\n",
        "tuner = kt.Hyperband(\n",
        "    create_model,\n",
        "    objective=\"val_accuracy\",\n",
        "    max_epochs=20,\n",
        "    hyperband_iterations=2)"
      ],
      "metadata": {
        "id": "ci-Yb09gThZ0"
      },
      "execution_count": null,
      "outputs": []
    },
    {
      "cell_type": "code",
      "source": [
        "# Run the kerastuner search for best hyperparameters\n",
        "tuner.search(X_train_resampled,y_train_resampled,epochs=20,validation_data=(X_test,y_test))"
      ],
      "metadata": {
        "id": "ZgJiC5lKTpK2",
        "colab": {
          "base_uri": "https://localhost:8080/"
        },
        "outputId": "375ba132-eb7d-4af9-895c-2694fe514d1f"
      },
      "execution_count": null,
      "outputs": [
        {
          "output_type": "stream",
          "name": "stdout",
          "text": [
            "Trial 60 Complete [00h 02m 06s]\n",
            "val_accuracy: 0.9128665924072266\n",
            "\n",
            "Best val_accuracy So Far: 0.9196464419364929\n",
            "Total elapsed time: 01h 06m 18s\n"
          ]
        }
      ]
    },
    {
      "cell_type": "code",
      "source": [
        "# Get top 3 model hyperparameters and print the values\n",
        "top_hyper = tuner.get_best_hyperparameters(3)\n",
        "for param in top_hyper:\n",
        "  print(param.values)"
      ],
      "metadata": {
        "colab": {
          "base_uri": "https://localhost:8080/"
        },
        "id": "d9qn_9_ET1p8",
        "outputId": "296ea109-895c-42da-f115-5234c5512157"
      },
      "execution_count": null,
      "outputs": [
        {
          "output_type": "stream",
          "name": "stdout",
          "text": [
            "{'activation': 'relu', 'first_units': 26, 'num_layers': 5, 'units_0': 26, 'units_1': 1, 'units_2': 11, 'units_3': 26, 'units_4': 11, 'tuner/epochs': 20, 'tuner/initial_epoch': 0, 'tuner/bracket': 0, 'tuner/round': 0}\n",
            "{'activation': 'relu', 'first_units': 16, 'num_layers': 5, 'units_0': 26, 'units_1': 1, 'units_2': 26, 'units_3': 6, 'units_4': 11, 'tuner/epochs': 20, 'tuner/initial_epoch': 7, 'tuner/bracket': 1, 'tuner/round': 1, 'tuner/trial_id': '0049'}\n",
            "{'activation': 'relu', 'first_units': 26, 'num_layers': 3, 'units_0': 21, 'units_1': 6, 'units_2': 21, 'units_3': 16, 'units_4': 11, 'tuner/epochs': 20, 'tuner/initial_epoch': 7, 'tuner/bracket': 2, 'tuner/round': 2, 'tuner/trial_id': '0012'}\n"
          ]
        }
      ]
    },
    {
      "cell_type": "code",
      "source": [
        "# Evaluate the top 3 models against the test dataset\n",
        "top_model = tuner.get_best_models(3)\n",
        "for model in top_model:\n",
        "  model_loss, model_accuracy = model.evaluate(X_test,y_test,verbose=2)"
      ],
      "metadata": {
        "colab": {
          "base_uri": "https://localhost:8080/"
        },
        "id": "xXv0yfeAh_m6",
        "outputId": "e11308ec-4c53-4df6-8938-db9128e9040d"
      },
      "execution_count": null,
      "outputs": [
        {
          "output_type": "stream",
          "name": "stdout",
          "text": [
            "623/623 - 1s - loss: 0.2055 - accuracy: 0.9196 - 992ms/epoch - 2ms/step\n",
            "623/623 - 1s - loss: 0.2065 - accuracy: 0.9185 - 988ms/epoch - 2ms/step\n",
            "623/623 - 1s - loss: 0.2079 - accuracy: 0.9167 - 928ms/epoch - 1ms/step\n"
          ]
        }
      ]
    },
    {
      "cell_type": "markdown",
      "source": [
        "{'activation': 'relu', 'first_units': 26, 'num_layers': 5, 'units_0': 21, 'units_1': 16, 'units_2': 1, 'units_3': 16, 'units_4': 21, 'tuner/epochs': 20, 'tuner/initial_epoch': 7, 'tuner/bracket': 2, 'tuner/round': 2, 'tuner/trial_id': '0044'}"
      ],
      "metadata": {
        "id": "OLiAvcAgihW1"
      }
    },
    {
      "cell_type": "code",
      "source": [
        "# Get the best hyperparameters\n",
        "best_hyperparameters = top_hyper[0].values\n",
        "\n",
        "best_hyperparameters"
      ],
      "metadata": {
        "colab": {
          "base_uri": "https://localhost:8080/"
        },
        "id": "ZbXhPKjGiJAG",
        "outputId": "9e380ba3-0ea2-483f-edb5-768deb1b49f4"
      },
      "execution_count": null,
      "outputs": [
        {
          "output_type": "execute_result",
          "data": {
            "text/plain": [
              "{'activation': 'relu',\n",
              " 'first_units': 26,\n",
              " 'num_layers': 5,\n",
              " 'units_0': 26,\n",
              " 'units_1': 1,\n",
              " 'units_2': 11,\n",
              " 'units_3': 26,\n",
              " 'units_4': 11,\n",
              " 'tuner/epochs': 20,\n",
              " 'tuner/initial_epoch': 0,\n",
              " 'tuner/bracket': 0,\n",
              " 'tuner/round': 0}"
            ]
          },
          "metadata": {},
          "execution_count": 30
        }
      ]
    },
    {
      "cell_type": "code",
      "source": [
        "# Hardcoding output for best hyperparameters to access later\n",
        "best_hyperparameters = {'activation': 'relu',\n",
        " 'first_units': 26,\n",
        " 'num_layers': 5,\n",
        " 'units_0': 21,\n",
        " 'units_1': 16,\n",
        " 'units_2': 1,\n",
        " 'units_3': 16,\n",
        " 'units_4': 21,\n",
        " 'tuner/epochs': 20,\n",
        " 'tuner/initial_epoch': 7,\n",
        " 'tuner/bracket': 2,\n",
        " 'tuner/round': 2,\n",
        " 'tuner/trial_id': '0044'}"
      ],
      "metadata": {
        "id": "wImwE--Pew9e"
      },
      "execution_count": null,
      "outputs": []
    },
    {
      "cell_type": "code",
      "source": [
        "# Defining new model for the best model\n",
        "def build_best_model(input_shape, activation, num_layers, units):\n",
        "    best_nn = tf.keras.models.Sequential()\n",
        "\n",
        "    # Input layer\n",
        "    best_nn.add(tf.keras.layers.Input(shape=(input_shape,)))\n",
        "\n",
        "    # Hidden layers\n",
        "    for _ in range(num_layers):\n",
        "        best_nn.add(tf.keras.layers.Dense(units, activation=activation))\n",
        "\n",
        "    # Output layer (assuming binary classification with sigmoid activation)\n",
        "    best_nn.add(tf.keras.layers.Dense(1, activation=\"sigmoid\"))\n",
        "\n",
        "    # Compile the model\n",
        "    best_nn.compile(\n",
        "        loss=\"binary_crossentropy\",\n",
        "        optimizer=\"adam\",\n",
        "        metrics=[\"accuracy\"]\n",
        "    )\n",
        "\n",
        "    return best_nn"
      ],
      "metadata": {
        "id": "WaGP3cmAk3-S"
      },
      "execution_count": null,
      "outputs": []
    },
    {
      "cell_type": "code",
      "source": [
        "# Defining best hyperparameters\n",
        "input_shape = X_train_resampled.shape[1]\n",
        "activation = best_hyperparameters['activation']\n",
        "num_layers = best_hyperparameters['num_layers']\n",
        "# Calculate the total number of units across all layers\n",
        "total_units = sum([best_hyperparameters[f'units_{i}'] for i in range(num_layers)])\n",
        "# Implement early stopping to reduce overfitting\n",
        "early_stopping = tf.keras.callbacks.EarlyStopping(\n",
        "    monitor='val_loss',\n",
        "    patience=10,\n",
        "    restore_best_weights=True\n",
        ")"
      ],
      "metadata": {
        "id": "M1FRID12luQx"
      },
      "execution_count": null,
      "outputs": []
    },
    {
      "cell_type": "code",
      "source": [
        "# Build the best model for retraining\n",
        "best_model = build_best_model(input_shape, activation, num_layers, total_units)"
      ],
      "metadata": {
        "id": "BoMnu7cgmjoX"
      },
      "execution_count": null,
      "outputs": []
    },
    {
      "cell_type": "code",
      "source": [
        "# Retrain the best model on the full training dataset (including both original and resampled data)\n",
        "best_model.fit(X_train_resampled, y_train_resampled, epochs=20, validation_data=(X_test, y_test), callbacks=[early_stopping])"
      ],
      "metadata": {
        "colab": {
          "base_uri": "https://localhost:8080/"
        },
        "id": "txTNKPdSm5_h",
        "outputId": "b3769cbe-7a7c-42a0-ed18-367994adf7e1"
      },
      "execution_count": null,
      "outputs": [
        {
          "output_type": "stream",
          "name": "stdout",
          "text": [
            "Epoch 1/20\n",
            "2604/2604 [==============================] - 10s 3ms/step - loss: 0.2973 - accuracy: 0.8609 - val_loss: 0.2445 - val_accuracy: 0.8929\n",
            "Epoch 2/20\n",
            "2604/2604 [==============================] - 8s 3ms/step - loss: 0.2596 - accuracy: 0.8796 - val_loss: 0.2576 - val_accuracy: 0.9005\n",
            "Epoch 3/20\n",
            "2604/2604 [==============================] - 7s 3ms/step - loss: 0.2436 - accuracy: 0.8873 - val_loss: 0.2511 - val_accuracy: 0.8853\n",
            "Epoch 4/20\n",
            "2604/2604 [==============================] - 8s 3ms/step - loss: 0.2349 - accuracy: 0.8909 - val_loss: 0.2353 - val_accuracy: 0.8987\n",
            "Epoch 5/20\n",
            "2604/2604 [==============================] - 6s 2ms/step - loss: 0.2280 - accuracy: 0.8953 - val_loss: 0.2269 - val_accuracy: 0.9011\n",
            "Epoch 6/20\n",
            "2604/2604 [==============================] - 8s 3ms/step - loss: 0.2213 - accuracy: 0.8976 - val_loss: 0.2419 - val_accuracy: 0.8937\n",
            "Epoch 7/20\n",
            "2604/2604 [==============================] - 7s 3ms/step - loss: 0.2157 - accuracy: 0.8991 - val_loss: 0.2386 - val_accuracy: 0.8954\n",
            "Epoch 8/20\n",
            "2604/2604 [==============================] - 8s 3ms/step - loss: 0.2096 - accuracy: 0.9022 - val_loss: 0.2323 - val_accuracy: 0.8989\n",
            "Epoch 9/20\n",
            "2604/2604 [==============================] - 7s 3ms/step - loss: 0.2022 - accuracy: 0.9066 - val_loss: 0.2315 - val_accuracy: 0.9023\n",
            "Epoch 10/20\n",
            "2604/2604 [==============================] - 8s 3ms/step - loss: 0.1963 - accuracy: 0.9102 - val_loss: 0.2389 - val_accuracy: 0.8932\n",
            "Epoch 11/20\n",
            "2604/2604 [==============================] - 8s 3ms/step - loss: 0.1886 - accuracy: 0.9138 - val_loss: 0.2335 - val_accuracy: 0.9032\n",
            "Epoch 12/20\n",
            "2604/2604 [==============================] - 6s 2ms/step - loss: 0.1818 - accuracy: 0.9166 - val_loss: 0.2721 - val_accuracy: 0.8954\n",
            "Epoch 13/20\n",
            "2604/2604 [==============================] - 8s 3ms/step - loss: 0.1745 - accuracy: 0.9216 - val_loss: 0.2581 - val_accuracy: 0.8903\n",
            "Epoch 14/20\n",
            "2604/2604 [==============================] - 6s 2ms/step - loss: 0.1678 - accuracy: 0.9238 - val_loss: 0.2589 - val_accuracy: 0.8966\n",
            "Epoch 15/20\n",
            "2604/2604 [==============================] - 8s 3ms/step - loss: 0.1628 - accuracy: 0.9274 - val_loss: 0.2610 - val_accuracy: 0.8929\n"
          ]
        },
        {
          "output_type": "execute_result",
          "data": {
            "text/plain": [
              "<keras.src.callbacks.History at 0x7b6ed0f1a410>"
            ]
          },
          "metadata": {},
          "execution_count": 35
        }
      ]
    },
    {
      "cell_type": "markdown",
      "source": [
        "The training accuracy appears to be increasing and the training loss is decreasing suggesting that the model is learning well on the training data. However, the validation accuracy and loss are unstable and are not improving as the model learns. This, along with the fact that early stopping was triggered suggests that overfitting may still be occuring."
      ],
      "metadata": {
        "id": "65YNzLQguAJy"
      }
    },
    {
      "cell_type": "code",
      "source": [
        "# Evaluate the model using the test data\n",
        "model_loss, model_accuracy = best_model.evaluate(X_test, y_test, verbose=2)\n",
        "print(f\"Loss: {model_loss}, Accuracy: {model_accuracy}\")"
      ],
      "metadata": {
        "id": "q8g3UA-DnQGe",
        "colab": {
          "base_uri": "https://localhost:8080/"
        },
        "outputId": "ea3c66a7-dd38-4c1b-e498-992b218dc0be"
      },
      "execution_count": null,
      "outputs": [
        {
          "output_type": "stream",
          "name": "stdout",
          "text": [
            "623/623 - 1s - loss: 0.2269 - accuracy: 0.9011 - 806ms/epoch - 1ms/step\n",
            "Loss: 0.22688905894756317, Accuracy: 0.9010646939277649\n"
          ]
        }
      ]
    },
    {
      "cell_type": "code",
      "source": [
        "# Print model summary\n",
        "best_model.summary()"
      ],
      "metadata": {
        "id": "r9GAvAD4dD5e",
        "colab": {
          "base_uri": "https://localhost:8080/"
        },
        "outputId": "0eece011-da70-4d28-9d44-7363892d4817"
      },
      "execution_count": null,
      "outputs": [
        {
          "output_type": "stream",
          "name": "stdout",
          "text": [
            "Model: \"sequential_1\"\n",
            "_________________________________________________________________\n",
            " Layer (type)                Output Shape              Param #   \n",
            "=================================================================\n",
            " dense_5 (Dense)             (None, 75)                3525      \n",
            "                                                                 \n",
            " dense_6 (Dense)             (None, 75)                5700      \n",
            "                                                                 \n",
            " dense_7 (Dense)             (None, 75)                5700      \n",
            "                                                                 \n",
            " dense_8 (Dense)             (None, 75)                5700      \n",
            "                                                                 \n",
            " dense_9 (Dense)             (None, 75)                5700      \n",
            "                                                                 \n",
            " dense_10 (Dense)            (None, 1)                 76        \n",
            "                                                                 \n",
            "=================================================================\n",
            "Total params: 26401 (103.13 KB)\n",
            "Trainable params: 26401 (103.13 KB)\n",
            "Non-trainable params: 0 (0.00 Byte)\n",
            "_________________________________________________________________\n"
          ]
        }
      ]
    },
    {
      "cell_type": "markdown",
      "source": [
        "The complexity of this model (5 layers) may be contributing to the overfitting. In the next optimisation, the 3rd best model found by kerastuner will be utilised as it contains only 2 layers."
      ],
      "metadata": {
        "id": "KoFHU63Qvvpi"
      }
    },
    {
      "cell_type": "code",
      "source": [
        "# Make predictions using the trained model\n",
        "# Setting threshold of 0.5 since our model utilises sigmoid activation on a binary classification problem\n",
        "y_pred = (best_model.predict(X_test) > 0.5).astype(np.int32)\n",
        "\n",
        "# Print the classification report\n",
        "print(classification_report(y_test, y_pred))"
      ],
      "metadata": {
        "id": "Q1n1FgpAkWXY",
        "colab": {
          "base_uri": "https://localhost:8080/"
        },
        "outputId": "73d3e513-df67-4b69-d4b7-9633876c3cf0"
      },
      "execution_count": null,
      "outputs": [
        {
          "output_type": "stream",
          "name": "stdout",
          "text": [
            "623/623 [==============================] - 1s 1ms/step\n",
            "              precision    recall  f1-score   support\n",
            "\n",
            "           0       0.93      0.92      0.93     13913\n",
            "           1       0.83      0.85      0.84      5999\n",
            "\n",
            "    accuracy                           0.90     19912\n",
            "   macro avg       0.88      0.89      0.88     19912\n",
            "weighted avg       0.90      0.90      0.90     19912\n",
            "\n"
          ]
        }
      ]
    },
    {
      "cell_type": "markdown",
      "source": [
        "**OPTIMISATION 2**"
      ],
      "metadata": {
        "id": "CNDlbdYG47Rd"
      }
    },
    {
      "cell_type": "code",
      "source": [
        "# Defining hyperparameters - the 3rd best performing according to kerastuner with only 2 layers to reduce complexity\n",
        "hyperparameters = {\n",
        "    'activation': 'relu',\n",
        "    'first_units': 26,\n",
        "    'num_layers': 2,\n",
        "    'units_0': 16,\n",
        "    'units_1': 6,\n",
        "    'units_2': 11,\n",
        "    'units_3': 6,\n",
        "    'units_4': 26,\n",
        "    'tuner/epochs': 20,\n",
        "    'tuner/initial_epoch': 0,\n",
        "    'tuner/bracket': 0,\n",
        "    'tuner/round': 0}"
      ],
      "metadata": {
        "id": "oMooZbK75AxZ"
      },
      "execution_count": null,
      "outputs": []
    },
    {
      "cell_type": "code",
      "source": [
        "# Defining new model for the best model\n",
        "def build_best_model(input_shape, activation, num_layers, units):\n",
        "    best_nn = tf.keras.models.Sequential()\n",
        "\n",
        "    # Input layer\n",
        "    best_nn.add(tf.keras.layers.Input(shape=(input_shape,)))\n",
        "\n",
        "    # Hidden layers\n",
        "    for _ in range(num_layers):\n",
        "        best_nn.add(tf.keras.layers.Dense(units, activation=activation))\n",
        "\n",
        "    # Output layer (assuming binary classification with sigmoid activation)\n",
        "    best_nn.add(tf.keras.layers.Dense(1, activation=\"sigmoid\"))\n",
        "\n",
        "    # Compile the model\n",
        "    best_nn.compile(\n",
        "        loss=\"binary_crossentropy\",\n",
        "        optimizer=\"adam\",\n",
        "        metrics=[\"accuracy\"]\n",
        "    )\n",
        "\n",
        "    return best_nn"
      ],
      "metadata": {
        "id": "f4gB5tsb4tFI"
      },
      "execution_count": null,
      "outputs": []
    },
    {
      "cell_type": "code",
      "source": [
        "# Defining best hyperparameters\n",
        "input_shape = X_train_resampled.shape[1]\n",
        "activation = hyperparameters['activation']\n",
        "num_layers = hyperparameters['num_layers']\n",
        "# Calculate the total number of units across all layers\n",
        "total_units = sum([hyperparameters[f'units_{i}'] for i in range(num_layers)])\n",
        "# Implement early stopping to prevent overfitting\n",
        "early_stopping = tf.keras.callbacks.EarlyStopping(\n",
        "    monitor='val_loss',\n",
        "    patience=10,\n",
        "    restore_best_weights=True\n",
        ")\n"
      ],
      "metadata": {
        "id": "pqa2Ag4M5PhM"
      },
      "execution_count": null,
      "outputs": []
    },
    {
      "cell_type": "code",
      "source": [
        "# Build the best model for retraining\n",
        "best_model_2 = build_best_model(input_shape, activation, num_layers, total_units)\n",
        "\n"
      ],
      "metadata": {
        "id": "FYz-43ug5Tzp"
      },
      "execution_count": null,
      "outputs": []
    },
    {
      "cell_type": "code",
      "source": [
        "# Retrain the best model on the full training dataset (including both original and resampled data)\n",
        "best_model_2.fit(X_train_resampled, y_train_resampled, epochs=20, validation_data=(X_test, y_test), callbacks=[early_stopping])"
      ],
      "metadata": {
        "id": "qlu_8ERg5Xd_",
        "colab": {
          "base_uri": "https://localhost:8080/"
        },
        "outputId": "2d8a0fe9-a7ff-4211-b3b8-ae67968102e5"
      },
      "execution_count": null,
      "outputs": [
        {
          "output_type": "stream",
          "name": "stdout",
          "text": [
            "Epoch 1/20\n",
            "2604/2604 [==============================] - 7s 2ms/step - loss: 0.3327 - accuracy: 0.8476 - val_loss: 0.2696 - val_accuracy: 0.8835\n",
            "Epoch 2/20\n",
            "2604/2604 [==============================] - 5s 2ms/step - loss: 0.2912 - accuracy: 0.8679 - val_loss: 0.2747 - val_accuracy: 0.8801\n",
            "Epoch 3/20\n",
            "2604/2604 [==============================] - 6s 2ms/step - loss: 0.2806 - accuracy: 0.8714 - val_loss: 0.2615 - val_accuracy: 0.8861\n",
            "Epoch 4/20\n",
            "2604/2604 [==============================] - 5s 2ms/step - loss: 0.2694 - accuracy: 0.8746 - val_loss: 0.2571 - val_accuracy: 0.8877\n",
            "Epoch 5/20\n",
            "2604/2604 [==============================] - 6s 2ms/step - loss: 0.2608 - accuracy: 0.8787 - val_loss: 0.2466 - val_accuracy: 0.8954\n",
            "Epoch 6/20\n",
            "2604/2604 [==============================] - 6s 2ms/step - loss: 0.2563 - accuracy: 0.8806 - val_loss: 0.2714 - val_accuracy: 0.8744\n",
            "Epoch 7/20\n",
            "2604/2604 [==============================] - 12s 4ms/step - loss: 0.2537 - accuracy: 0.8820 - val_loss: 0.2543 - val_accuracy: 0.8872\n",
            "Epoch 8/20\n",
            "2604/2604 [==============================] - 14s 5ms/step - loss: 0.2513 - accuracy: 0.8836 - val_loss: 0.2605 - val_accuracy: 0.8819\n",
            "Epoch 9/20\n",
            "2604/2604 [==============================] - 8s 3ms/step - loss: 0.2489 - accuracy: 0.8859 - val_loss: 0.2379 - val_accuracy: 0.8997\n",
            "Epoch 10/20\n",
            "2604/2604 [==============================] - 7s 3ms/step - loss: 0.2471 - accuracy: 0.8856 - val_loss: 0.2284 - val_accuracy: 0.9041\n",
            "Epoch 11/20\n",
            "2604/2604 [==============================] - 5s 2ms/step - loss: 0.2445 - accuracy: 0.8874 - val_loss: 0.2317 - val_accuracy: 0.9024\n",
            "Epoch 12/20\n",
            "2604/2604 [==============================] - 6s 2ms/step - loss: 0.2432 - accuracy: 0.8877 - val_loss: 0.2241 - val_accuracy: 0.9062\n",
            "Epoch 13/20\n",
            "2604/2604 [==============================] - 5s 2ms/step - loss: 0.2422 - accuracy: 0.8880 - val_loss: 0.2437 - val_accuracy: 0.8935\n",
            "Epoch 14/20\n",
            "2604/2604 [==============================] - 6s 2ms/step - loss: 0.2409 - accuracy: 0.8889 - val_loss: 0.2245 - val_accuracy: 0.9053\n",
            "Epoch 15/20\n",
            "2604/2604 [==============================] - 6s 2ms/step - loss: 0.2400 - accuracy: 0.8890 - val_loss: 0.2365 - val_accuracy: 0.8974\n",
            "Epoch 16/20\n",
            "2604/2604 [==============================] - 6s 2ms/step - loss: 0.2385 - accuracy: 0.8898 - val_loss: 0.2351 - val_accuracy: 0.8982\n",
            "Epoch 17/20\n",
            "2604/2604 [==============================] - 7s 3ms/step - loss: 0.2380 - accuracy: 0.8894 - val_loss: 0.2198 - val_accuracy: 0.9086\n",
            "Epoch 18/20\n",
            "2604/2604 [==============================] - 5s 2ms/step - loss: 0.2366 - accuracy: 0.8914 - val_loss: 0.2423 - val_accuracy: 0.8915\n",
            "Epoch 19/20\n",
            "2604/2604 [==============================] - 7s 3ms/step - loss: 0.2361 - accuracy: 0.8914 - val_loss: 0.2289 - val_accuracy: 0.8995\n",
            "Epoch 20/20\n",
            "2604/2604 [==============================] - 6s 2ms/step - loss: 0.2346 - accuracy: 0.8914 - val_loss: 0.2313 - val_accuracy: 0.9000\n"
          ]
        },
        {
          "output_type": "execute_result",
          "data": {
            "text/plain": [
              "<keras.src.callbacks.History at 0x7b6ea5d8f6a0>"
            ]
          },
          "metadata": {},
          "execution_count": 43
        }
      ]
    },
    {
      "cell_type": "code",
      "source": [
        "# Evaluate the model using the test data\n",
        "model_loss, model_accuracy = best_model_2.evaluate(X_test, y_test, verbose=2)\n",
        "print(f\"Loss: {model_loss}, Accuracy: {model_accuracy}\")"
      ],
      "metadata": {
        "id": "OcJfsxdl5dKb",
        "colab": {
          "base_uri": "https://localhost:8080/"
        },
        "outputId": "2c0a64ae-1b13-45f2-9a25-edba8fb2b2cf"
      },
      "execution_count": null,
      "outputs": [
        {
          "output_type": "stream",
          "name": "stdout",
          "text": [
            "623/623 - 1s - loss: 0.2313 - accuracy: 0.9000 - 723ms/epoch - 1ms/step\n",
            "Loss: 0.23126213252544403, Accuracy: 0.8999598026275635\n"
          ]
        }
      ]
    },
    {
      "cell_type": "code",
      "source": [
        "# Print model summary\n",
        "best_model_2.summary()"
      ],
      "metadata": {
        "id": "_iGm8_fp57m8",
        "colab": {
          "base_uri": "https://localhost:8080/"
        },
        "outputId": "d6701873-375f-4d10-b4b2-fab648e18aef"
      },
      "execution_count": null,
      "outputs": [
        {
          "output_type": "stream",
          "name": "stdout",
          "text": [
            "Model: \"sequential_2\"\n",
            "_________________________________________________________________\n",
            " Layer (type)                Output Shape              Param #   \n",
            "=================================================================\n",
            " dense_11 (Dense)            (None, 22)                1034      \n",
            "                                                                 \n",
            " dense_12 (Dense)            (None, 22)                506       \n",
            "                                                                 \n",
            " dense_13 (Dense)            (None, 1)                 23        \n",
            "                                                                 \n",
            "=================================================================\n",
            "Total params: 1563 (6.11 KB)\n",
            "Trainable params: 1563 (6.11 KB)\n",
            "Non-trainable params: 0 (0.00 Byte)\n",
            "_________________________________________________________________\n"
          ]
        }
      ]
    },
    {
      "cell_type": "code",
      "source": [
        "best_model_2.save('cvd_nn_model2.h5')\n",
        "files.download(\"cvd_nn_model2.h5\")"
      ],
      "metadata": {
        "colab": {
          "base_uri": "https://localhost:8080/",
          "height": 72
        },
        "id": "jyjSnrXBdNhT",
        "outputId": "c96584c7-d32c-4d71-d793-012418e97c17"
      },
      "execution_count": null,
      "outputs": [
        {
          "output_type": "stream",
          "name": "stderr",
          "text": [
            "/usr/local/lib/python3.10/dist-packages/keras/src/engine/training.py:3000: UserWarning: You are saving your model as an HDF5 file via `model.save()`. This file format is considered legacy. We recommend using instead the native Keras format, e.g. `model.save('my_model.keras')`.\n",
            "  saving_api.save_model(\n"
          ]
        },
        {
          "output_type": "display_data",
          "data": {
            "text/plain": [
              "<IPython.core.display.Javascript object>"
            ],
            "application/javascript": [
              "\n",
              "    async function download(id, filename, size) {\n",
              "      if (!google.colab.kernel.accessAllowed) {\n",
              "        return;\n",
              "      }\n",
              "      const div = document.createElement('div');\n",
              "      const label = document.createElement('label');\n",
              "      label.textContent = `Downloading \"${filename}\": `;\n",
              "      div.appendChild(label);\n",
              "      const progress = document.createElement('progress');\n",
              "      progress.max = size;\n",
              "      div.appendChild(progress);\n",
              "      document.body.appendChild(div);\n",
              "\n",
              "      const buffers = [];\n",
              "      let downloaded = 0;\n",
              "\n",
              "      const channel = await google.colab.kernel.comms.open(id);\n",
              "      // Send a message to notify the kernel that we're ready.\n",
              "      channel.send({})\n",
              "\n",
              "      for await (const message of channel.messages) {\n",
              "        // Send a message to notify the kernel that we're ready.\n",
              "        channel.send({})\n",
              "        if (message.buffers) {\n",
              "          for (const buffer of message.buffers) {\n",
              "            buffers.push(buffer);\n",
              "            downloaded += buffer.byteLength;\n",
              "            progress.value = downloaded;\n",
              "          }\n",
              "        }\n",
              "      }\n",
              "      const blob = new Blob(buffers, {type: 'application/binary'});\n",
              "      const a = document.createElement('a');\n",
              "      a.href = window.URL.createObjectURL(blob);\n",
              "      a.download = filename;\n",
              "      div.appendChild(a);\n",
              "      a.click();\n",
              "      div.remove();\n",
              "    }\n",
              "  "
            ]
          },
          "metadata": {}
        },
        {
          "output_type": "display_data",
          "data": {
            "text/plain": [
              "<IPython.core.display.Javascript object>"
            ],
            "application/javascript": [
              "download(\"download_a05eacad-db09-4bfd-b669-19c32e5cb066\", \"cvd_nn_model2.h5\", 370472)"
            ]
          },
          "metadata": {}
        }
      ]
    }
  ]
}